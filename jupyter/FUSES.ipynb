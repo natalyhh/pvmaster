{
 "cells": [
  {
   "cell_type": "code",
   "execution_count": 1,
   "id": "512b1745",
   "metadata": {},
   "outputs": [],
   "source": [
    "from types import CodeType\n",
    "import pandas as pd\n",
    "import numpy as np\n",
    "import matplotlib.pyplot as plt\n",
    "import glob\n",
    "import datetime\n",
    "import pytz\n",
    "import pvlib\n",
    "\n",
    "figs_path = \"/Users/nataly/opt/AnacondaProjects/SAPIENS/INVERTER/figs/\"\n",
    "inv_path = \"/Users/nataly/opt/AnacondaProjects/SAPIENS/INVERTER/\"\n",
    "gti_path = \"/Users/nataly/opt/AnacondaProjects/SAPIENS/BSRNminGTI/\"\n",
    "ghi_path = \"/Users/nataly/opt/AnacondaProjects/SAPIENS/BSRNmin/\"\n",
    "\n",
    "tzBRA = 'Etc/GMT+3'\n",
    "tzETC = 'Etc/GMT-0'\n",
    "                   \n",
    "dcac = ['P_in1', \n",
    "        'P_grid'\n",
    "        'I_in1']\n",
    "\n",
    "GHIsensor = ['GHIP_SMP11',\n",
    "             'F_GHIP_SMP11']\n",
    "\n",
    "GTIsensor = ['TGIP_SMP11_VENT',\n",
    "             'F_TGIP_SMP11_VENT']\n"
   ]
  },
  {
   "cell_type": "code",
   "execution_count": 4,
   "id": "bc592a6c",
   "metadata": {},
   "outputs": [],
   "source": [
    "tzBRA = 'Etc/GMT+3'\n",
    "tzETC = 'Etc/GMT-0'\n",
    "                   \n",
    "dcac = ['P_in1', \n",
    "        'P_grid',\n",
    "        'I_in1']\n",
    "\n",
    "GHIsensor = ['GHIP_SMP11',\n",
    "             'F_GHIP_SMP11']\n",
    "\n",
    "GTIsensor = ['TGIP_SMP11_VENT',\n",
    "             'F_TGIP_SMP11_VENT']\n",
    "\n",
    "   \n",
    "\n",
    "#months = ['2018-01','2018-02','2018-03', '2018-04','2018-05','2018-06','2018-07','2018-08', '2018-09','2018-10','2018-11','2018-12',\n",
    "#          '2019-01','2019-02','2019-03', '2019-04','2019-05','2019-06','2019-07','2019-08', '2019-09','2019-10','2019-11','2019-12',\n",
    "#          '2020-01','2020-02','2020-03', '2020-04','2020-05','2020-06','2020-07','2020-08', '2020-09','2020-10','2020-11','2020-12',\n",
    "#          '2021-01']\n",
    "\n",
    "## The procedure below was needed because on 27/11/18, the inverter datalogger was synchronized with the meteostation, thus changing from GMT-3 to GMT-00. \n",
    "# This will allow direct comparison with irradiance timestamps.\n",
    "\n",
    "dfCDT  = pd.read_csv(inv_path + 'CDT.csv') \n",
    "dfCDT['TIMESTAMP'] = dfCDT['TIMESTAMP'].astype(np.datetime64)\n",
    "dfCDT = dfCDT.drop_duplicates(subset=['TIMESTAMP'])\n",
    "dfCDT = dfCDT.set_index('TIMESTAMP')\n",
    "#dfCDT = dfCDT.index.drop_duplicates()\n",
    "dfCDTnosync = dfCDT[dfCDT.index < '2018-11-27 00:00:00']  # this part is in BRT (GMT - 3)\n",
    "dfCDTnosync.index = dfCDTnosync.index.tz_localize(tzBRA)\n",
    "dfCDTnosync.index = dfCDTnosync.index.tz_convert(tzETC)\n",
    "dfCDTsync = dfCDT[dfCDT.index > '2018-11-28 00:00:00']  #  # this part is in  (GMT - 0)\n",
    "dfCDTsync.index = dfCDTsync.index.tz_localize(tzETC)\n",
    "dfCDTsync = [dfCDTnosync, dfCDTsync]\n",
    "dfCDTsync = pd.concat(dfCDTsync)\n",
    "dfPCDT = dfCDTsync[dcac]\n",
    "dfPCDT = dfPCDT.loc['2018-01-01 00:00:00':'2021-01-01 00:00:00']\n",
    "dfPCDT = dfPCDT.rename(columns={\"P_in1\": \"Pdccdt\", \"I_in1\": \"Idccdt\", \"P_grid\": \"Paccdt\"})\n",
    "dfPCDT.shape\n",
    "\n",
    "dfCDTA  = pd.read_csv(inv_path + 'CDTA.csv') \n",
    "dfCDTA['TIMESTAMP'] = dfCDTA['TIMESTAMP'].astype(np.datetime64)\n",
    "dfCDTA = dfCDTA.drop_duplicates(subset=['TIMESTAMP'])\n",
    "dfCDTA = dfCDTA.set_index('TIMESTAMP')\n",
    "dfCDTAnosync = dfCDTA[dfCDTA.index < '2018-11-27 00:00:00']  # this part is in BRT (GMT - 3)\n",
    "dfCDTAnosync.index = dfCDTAnosync.index.tz_localize(tzBRA)\n",
    "dfCDTAnosync.index = dfCDTAnosync.index.tz_convert(tzETC)\n",
    "dfCDTAsync = dfCDTA[dfCDTA.index > '2018-11-28 00:00:00']  #  # this part is in  (GMT - 0)\n",
    "dfCDTAsync.index = dfCDTAsync.index.tz_localize(tzETC)\n",
    "dfCDTAsync = [dfCDTAnosync, dfCDTAsync]\n",
    "dfCDTAsync = pd.concat(dfCDTAsync)\n",
    "dfPCDTA = dfCDTAsync[dcac]\n",
    "dfPCDTA = dfPCDTA.loc['2018-01-01 00:00:00':'2021-01-01 00:00:00']\n",
    "dfPCDTA = dfPCDTA.rename(columns={\"P_in1\": \"Pdccdta\", \"I_in1\": \"Idccdta\",\"P_grid\": \"Paccdta\"})\n",
    "dfPCDTA.shape\n",
    "\n",
    "\n",
    "\n",
    "dfPSI  = pd.read_csv(inv_path + 'PSI.csv') \n",
    "dfPSI['TIMESTAMP'] = dfPSI['TIMESTAMP'].astype(np.datetime64)\n",
    "dfPSI = dfPSI.drop_duplicates(subset=['TIMESTAMP'])\n",
    "dfPSI = dfPSI.set_index('TIMESTAMP')\n",
    "#dfPSI = dfPSI.index.drop_duplicates()\n",
    "dfPSInosync = dfPSI[dfPSI.index < '2018-11-27 00:00:00']  # this part is in BRT (GMT - 3)\n",
    "dfPSInosync.index = dfPSInosync.index.tz_localize(tzBRA)\n",
    "dfPSInosync.index = dfPSInosync.index.tz_convert(tzETC)\n",
    "dfPSIsync = dfPSI[dfPSI.index > '2018-11-28 00:00:00']  #  # this part is in  (GMT - 0)\n",
    "dfPSIsync.index = dfPSIsync.index.tz_localize(tzETC)\n",
    "dfPSIsync = [dfPSInosync, dfPSIsync]\n",
    "dfPSIsync = pd.concat(dfPSIsync)\n",
    "dfPPSI = dfPSIsync[dcac]\n",
    "dfPPSI = dfPPSI.loc['2018-01-01 00:00:00':'2021-01-01 00:00:00']\n",
    "dfPPSI = dfPPSI.rename(columns={\"P_in1\": \"Pdcpsi\", \"I_in1\": \"Idcpsi\",\"P_grid\": \"Pacpsi\"})\n",
    "dfPPSI.shape\n",
    "\n",
    "\n",
    "\n",
    "pvsi = pd.merge(dfPCDT,dfPCDTA, how = 'left',left_index = True, right_index = True)\n",
    "pvsi = pd.merge(pvsi,dfPPSI, how = 'left',left_index = True, right_index = True)"
   ]
  },
  {
   "cell_type": "code",
   "execution_count": 5,
   "id": "611d3810",
   "metadata": {},
   "outputs": [
    {
     "data": {
      "text/html": [
       "<div>\n",
       "<style scoped>\n",
       "    .dataframe tbody tr th:only-of-type {\n",
       "        vertical-align: middle;\n",
       "    }\n",
       "\n",
       "    .dataframe tbody tr th {\n",
       "        vertical-align: top;\n",
       "    }\n",
       "\n",
       "    .dataframe thead th {\n",
       "        text-align: right;\n",
       "    }\n",
       "</style>\n",
       "<table border=\"1\" class=\"dataframe\">\n",
       "  <thead>\n",
       "    <tr style=\"text-align: right;\">\n",
       "      <th></th>\n",
       "      <th>Pdccdt</th>\n",
       "      <th>Paccdt</th>\n",
       "      <th>Idccdt</th>\n",
       "      <th>Pdccdta</th>\n",
       "      <th>Paccdta</th>\n",
       "      <th>Idccdta</th>\n",
       "      <th>Pdcpsi</th>\n",
       "      <th>Pacpsi</th>\n",
       "      <th>Idcpsi</th>\n",
       "    </tr>\n",
       "    <tr>\n",
       "      <th>TIMESTAMP</th>\n",
       "      <th></th>\n",
       "      <th></th>\n",
       "      <th></th>\n",
       "      <th></th>\n",
       "      <th></th>\n",
       "      <th></th>\n",
       "      <th></th>\n",
       "      <th></th>\n",
       "      <th></th>\n",
       "    </tr>\n",
       "  </thead>\n",
       "  <tbody>\n",
       "    <tr>\n",
       "      <th>2018-01-01 00:00:00+00:00</th>\n",
       "      <td>0.0</td>\n",
       "      <td>0.0</td>\n",
       "      <td>0.0</td>\n",
       "      <td>0.0</td>\n",
       "      <td>0.0</td>\n",
       "      <td>0.0</td>\n",
       "      <td>0.0</td>\n",
       "      <td>0.0</td>\n",
       "      <td>0.0</td>\n",
       "    </tr>\n",
       "    <tr>\n",
       "      <th>2018-01-01 00:01:00+00:00</th>\n",
       "      <td>0.0</td>\n",
       "      <td>0.0</td>\n",
       "      <td>0.0</td>\n",
       "      <td>0.0</td>\n",
       "      <td>0.0</td>\n",
       "      <td>0.0</td>\n",
       "      <td>0.0</td>\n",
       "      <td>0.0</td>\n",
       "      <td>0.0</td>\n",
       "    </tr>\n",
       "    <tr>\n",
       "      <th>2018-01-01 00:02:00+00:00</th>\n",
       "      <td>0.0</td>\n",
       "      <td>0.0</td>\n",
       "      <td>0.0</td>\n",
       "      <td>0.0</td>\n",
       "      <td>0.0</td>\n",
       "      <td>0.0</td>\n",
       "      <td>0.0</td>\n",
       "      <td>0.0</td>\n",
       "      <td>0.0</td>\n",
       "    </tr>\n",
       "    <tr>\n",
       "      <th>2018-01-01 00:03:00+00:00</th>\n",
       "      <td>0.0</td>\n",
       "      <td>0.0</td>\n",
       "      <td>0.0</td>\n",
       "      <td>0.0</td>\n",
       "      <td>0.0</td>\n",
       "      <td>0.0</td>\n",
       "      <td>0.0</td>\n",
       "      <td>0.0</td>\n",
       "      <td>0.0</td>\n",
       "    </tr>\n",
       "    <tr>\n",
       "      <th>2018-01-01 00:04:00+00:00</th>\n",
       "      <td>0.0</td>\n",
       "      <td>0.0</td>\n",
       "      <td>0.0</td>\n",
       "      <td>0.0</td>\n",
       "      <td>0.0</td>\n",
       "      <td>0.0</td>\n",
       "      <td>0.0</td>\n",
       "      <td>0.0</td>\n",
       "      <td>0.0</td>\n",
       "    </tr>\n",
       "    <tr>\n",
       "      <th>...</th>\n",
       "      <td>...</td>\n",
       "      <td>...</td>\n",
       "      <td>...</td>\n",
       "      <td>...</td>\n",
       "      <td>...</td>\n",
       "      <td>...</td>\n",
       "      <td>...</td>\n",
       "      <td>...</td>\n",
       "      <td>...</td>\n",
       "    </tr>\n",
       "    <tr>\n",
       "      <th>2020-12-31 23:55:00+00:00</th>\n",
       "      <td>0.0</td>\n",
       "      <td>0.0</td>\n",
       "      <td>0.0</td>\n",
       "      <td>0.0</td>\n",
       "      <td>0.0</td>\n",
       "      <td>0.0</td>\n",
       "      <td>0.0</td>\n",
       "      <td>0.0</td>\n",
       "      <td>0.0</td>\n",
       "    </tr>\n",
       "    <tr>\n",
       "      <th>2020-12-31 23:56:00+00:00</th>\n",
       "      <td>0.0</td>\n",
       "      <td>0.0</td>\n",
       "      <td>0.0</td>\n",
       "      <td>0.0</td>\n",
       "      <td>0.0</td>\n",
       "      <td>0.0</td>\n",
       "      <td>0.0</td>\n",
       "      <td>0.0</td>\n",
       "      <td>0.0</td>\n",
       "    </tr>\n",
       "    <tr>\n",
       "      <th>2020-12-31 23:57:00+00:00</th>\n",
       "      <td>0.0</td>\n",
       "      <td>0.0</td>\n",
       "      <td>0.0</td>\n",
       "      <td>0.0</td>\n",
       "      <td>0.0</td>\n",
       "      <td>0.0</td>\n",
       "      <td>0.0</td>\n",
       "      <td>0.0</td>\n",
       "      <td>0.0</td>\n",
       "    </tr>\n",
       "    <tr>\n",
       "      <th>2020-12-31 23:58:00+00:00</th>\n",
       "      <td>0.0</td>\n",
       "      <td>0.0</td>\n",
       "      <td>0.0</td>\n",
       "      <td>0.0</td>\n",
       "      <td>0.0</td>\n",
       "      <td>0.0</td>\n",
       "      <td>0.0</td>\n",
       "      <td>0.0</td>\n",
       "      <td>0.0</td>\n",
       "    </tr>\n",
       "    <tr>\n",
       "      <th>2020-12-31 23:59:00+00:00</th>\n",
       "      <td>0.0</td>\n",
       "      <td>0.0</td>\n",
       "      <td>0.0</td>\n",
       "      <td>0.0</td>\n",
       "      <td>0.0</td>\n",
       "      <td>0.0</td>\n",
       "      <td>0.0</td>\n",
       "      <td>0.0</td>\n",
       "      <td>0.0</td>\n",
       "    </tr>\n",
       "  </tbody>\n",
       "</table>\n",
       "<p>1512270 rows × 9 columns</p>\n",
       "</div>"
      ],
      "text/plain": [
       "                           Pdccdt  Paccdt  Idccdt  Pdccdta  Paccdta  Idccdta  \\\n",
       "TIMESTAMP                                                                      \n",
       "2018-01-01 00:00:00+00:00     0.0     0.0     0.0      0.0      0.0      0.0   \n",
       "2018-01-01 00:01:00+00:00     0.0     0.0     0.0      0.0      0.0      0.0   \n",
       "2018-01-01 00:02:00+00:00     0.0     0.0     0.0      0.0      0.0      0.0   \n",
       "2018-01-01 00:03:00+00:00     0.0     0.0     0.0      0.0      0.0      0.0   \n",
       "2018-01-01 00:04:00+00:00     0.0     0.0     0.0      0.0      0.0      0.0   \n",
       "...                           ...     ...     ...      ...      ...      ...   \n",
       "2020-12-31 23:55:00+00:00     0.0     0.0     0.0      0.0      0.0      0.0   \n",
       "2020-12-31 23:56:00+00:00     0.0     0.0     0.0      0.0      0.0      0.0   \n",
       "2020-12-31 23:57:00+00:00     0.0     0.0     0.0      0.0      0.0      0.0   \n",
       "2020-12-31 23:58:00+00:00     0.0     0.0     0.0      0.0      0.0      0.0   \n",
       "2020-12-31 23:59:00+00:00     0.0     0.0     0.0      0.0      0.0      0.0   \n",
       "\n",
       "                           Pdcpsi  Pacpsi  Idcpsi  \n",
       "TIMESTAMP                                          \n",
       "2018-01-01 00:00:00+00:00     0.0     0.0     0.0  \n",
       "2018-01-01 00:01:00+00:00     0.0     0.0     0.0  \n",
       "2018-01-01 00:02:00+00:00     0.0     0.0     0.0  \n",
       "2018-01-01 00:03:00+00:00     0.0     0.0     0.0  \n",
       "2018-01-01 00:04:00+00:00     0.0     0.0     0.0  \n",
       "...                           ...     ...     ...  \n",
       "2020-12-31 23:55:00+00:00     0.0     0.0     0.0  \n",
       "2020-12-31 23:56:00+00:00     0.0     0.0     0.0  \n",
       "2020-12-31 23:57:00+00:00     0.0     0.0     0.0  \n",
       "2020-12-31 23:58:00+00:00     0.0     0.0     0.0  \n",
       "2020-12-31 23:59:00+00:00     0.0     0.0     0.0  \n",
       "\n",
       "[1512270 rows x 9 columns]"
      ]
     },
     "execution_count": 5,
     "metadata": {},
     "output_type": "execute_result"
    }
   ],
   "source": [
    "pvsi"
   ]
  },
  {
   "cell_type": "code",
   "execution_count": 6,
   "id": "a6d6e118",
   "metadata": {},
   "outputs": [],
   "source": [
    "dfgti18 = pd.read_pickle(gti_path + '2018' +'gtiFLAG.pkl')\n",
    "dfgti19 = pd.read_pickle(gti_path + '2019' +'gtiFLAG.pkl')\n",
    "dfgti20 = pd.read_pickle(gti_path + '2020' +'gtiFLAG.pkl')\n",
    "dfgtis = [dfgti18[GTIsensor], dfgti19[GTIsensor], dfgti20[GTIsensor]]\n",
    "dfgtis = pd.concat(dfgtis)\n",
    "dfgtis = dfgtis[dfgtis.F_TGIP_SMP11_VENT < 4]\n",
    "\n",
    "dfghi18 = pd.read_pickle(ghi_path + '2018' +'ghiFLAG.pkl')\n",
    "dfghi19 = pd.read_pickle(ghi_path + '2019' +'ghiFLAG.pkl')\n",
    "dfghi20 = pd.read_pickle(ghi_path + '2020' +'ghiFLAG.pkl')\n",
    "dfghis = [dfghi18[GHIsensor], dfghi19[GHIsensor], dfghi20[GHIsensor]]\n",
    "dfghis = pd.concat(dfghis)\n",
    "dfghis = dfghis[dfghis.F_GHIP_SMP11 < 4]\n",
    "\n",
    "\n",
    "dfirad = pd.merge(dfgtis,dfghis, how = 'inner',left_index = True, right_index = True)\n",
    "\n",
    "pxir = pd.merge(pvsi,dfirad, how = 'inner',left_index = True, right_index = True)\n"
   ]
  },
  {
   "cell_type": "code",
   "execution_count": 8,
   "id": "30b327e3",
   "metadata": {},
   "outputs": [
    {
     "data": {
      "text/plain": [
       "<AxesSubplot:>"
      ]
     },
     "execution_count": 8,
     "metadata": {},
     "output_type": "execute_result"
    },
    {
     "data": {
      "image/png": "[encoded data removed]",
      "text/plain": [
       "<Figure size 432x288 with 1 Axes>"
      ]
     },
     "metadata": {
      "needs_background": "light"
     },
     "output_type": "display_data"
    }
   ],
   "source": [
    "pxir.Idccdta.hist()"
   ]
  },
  {
   "cell_type": "code",
   "execution_count": 11,
   "id": "06466797",
   "metadata": {},
   "outputs": [
    {
     "data": {
      "text/plain": [
       "count    1.504513e+06\n",
       "mean     1.256454e+00\n",
       "std      1.998649e+00\n",
       "min      0.000000e+00\n",
       "25%      0.000000e+00\n",
       "50%      0.000000e+00\n",
       "75%      1.862961e+00\n",
       "max      9.766766e+00\n",
       "Name: Idccdta, dtype: float64"
      ]
     },
     "execution_count": 11,
     "metadata": {},
     "output_type": "execute_result"
    }
   ],
   "source": [
    "pxir.Idccdta.describe()"
   ]
  },
  {
   "cell_type": "code",
   "execution_count": 12,
   "id": "f83453a6",
   "metadata": {},
   "outputs": [
    {
     "data": {
      "text/plain": [
       "9.766766"
      ]
     },
     "execution_count": 12,
     "metadata": {},
     "output_type": "execute_result"
    }
   ],
   "source": [
    "pxir.Idccdta.max()"
   ]
  },
  {
   "cell_type": "code",
   "execution_count": null,
   "id": "8642c1ba",
   "metadata": {},
   "outputs": [],
   "source": []
  },
  {
   "cell_type": "code",
   "execution_count": 9,
   "id": "fcbfb1e8",
   "metadata": {
    "scrolled": false
   },
   "outputs": [
    {
     "data": {
      "text/plain": [
       "<AxesSubplot:>"
      ]
     },
     "execution_count": 9,
     "metadata": {},
     "output_type": "execute_result"
    },
    {
     "data": {
      "image/png": "[encoded data removed]",
      "text/plain": [
       "<Figure size 432x288 with 1 Axes>"
      ]
     },
     "metadata": {
      "needs_background": "light"
     },
     "output_type": "display_data"
    }
   ],
   "source": [
    "pxir.Idccdt.hist()"
   ]
  },
  {
   "cell_type": "code",
   "execution_count": 13,
   "id": "49711073",
   "metadata": {},
   "outputs": [
    {
     "data": {
      "text/plain": [
       "count    1.504513e+06\n",
       "mean     1.226333e+00\n",
       "std      1.964123e+00\n",
       "min      0.000000e+00\n",
       "25%      0.000000e+00\n",
       "50%      0.000000e+00\n",
       "75%      1.757265e+00\n",
       "max      9.758335e+00\n",
       "Name: Idccdt, dtype: float64"
      ]
     },
     "execution_count": 13,
     "metadata": {},
     "output_type": "execute_result"
    }
   ],
   "source": [
    "pxir.Idccdt.describe()"
   ]
  },
  {
   "cell_type": "code",
   "execution_count": null,
   "id": "347ec377",
   "metadata": {},
   "outputs": [],
   "source": []
  },
  {
   "cell_type": "code",
   "execution_count": 10,
   "id": "4c8c51c6",
   "metadata": {
    "scrolled": false
   },
   "outputs": [
    {
     "data": {
      "text/plain": [
       "<AxesSubplot:>"
      ]
     },
     "execution_count": 10,
     "metadata": {},
     "output_type": "execute_result"
    },
    {
     "data": {
      "image/png": "[encoded data removed]",
      "text/plain": [
       "<Figure size 432x288 with 1 Axes>"
      ]
     },
     "metadata": {
      "needs_background": "light"
     },
     "output_type": "display_data"
    }
   ],
   "source": [
    "pxir.Idcpsi.hist()"
   ]
  },
  {
   "cell_type": "code",
   "execution_count": 14,
   "id": "d0276d3f",
   "metadata": {},
   "outputs": [
    {
     "data": {
      "text/plain": [
       "count    1.503821e+06\n",
       "mean     1.427087e+00\n",
       "std      2.379278e+00\n",
       "min      0.000000e+00\n",
       "25%      0.000000e+00\n",
       "50%      0.000000e+00\n",
       "75%      1.884035e+00\n",
       "max      1.171618e+01\n",
       "Name: Idcpsi, dtype: float64"
      ]
     },
     "execution_count": 14,
     "metadata": {},
     "output_type": "execute_result"
    }
   ],
   "source": [
    "pxir.Idcpsi.describe()"
   ]
  },
  {
   "cell_type": "code",
   "execution_count": null,
   "id": "4bbd1c70",
   "metadata": {},
   "outputs": [],
   "source": []
  },
  {
   "cell_type": "code",
   "execution_count": null,
   "id": "abd9812c",
   "metadata": {},
   "outputs": [],
   "source": []
  }
 ],
 "metadata": {
  "kernelspec": {
   "display_name": "Python 3",
   "language": "python",
   "name": "python3"
  },
  "language_info": {
   "codemirror_mode": {
    "name": "ipython",
    "version": 3
   },
   "file_extension": ".py",
   "mimetype": "text/x-python",
   "name": "python",
   "nbconvert_exporter": "python",
   "pygments_lexer": "ipython3",
   "version": "3.8.8"
  }
 },
 "nbformat": 4,
 "nbformat_minor": 5
}
