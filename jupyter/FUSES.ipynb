{
 "cells": [
  {
   "cell_type": "code",
   "execution_count": 1,
   "id": "7e078058",
   "metadata": {},
   "outputs": [],
   "source": [
    "from types import CodeType\n",
    "import pandas as pd\n",
    "import numpy as np\n",
    "import matplotlib.pyplot as plt\n",
    "import glob\n",
    "import datetime\n",
    "import pytz\n",
    "import pvlib\n",
    "\n",
    "figs_path = \"/Users/nataly/opt/AnacondaProjects/SAPIENS/INVERTER/figs/\"\n",
    "inv_path = \"/Users/nataly/opt/AnacondaProjects/SAPIENS/INVERTER/\"\n",
    "gti_path = \"/Users/nataly/opt/AnacondaProjects/SAPIENS/BSRNminGTI/\"\n",
    "ghi_path = \"/Users/nataly/opt/AnacondaProjects/SAPIENS/BSRNmin/\"\n",
    "\n",
    "tzBRA = 'Etc/GMT+3'\n",
    "tzETC = 'Etc/GMT-0'\n",
    "                   \n",
    "dcac = ['P_in1', \n",
    "        'P_grid'\n",
    "        'I_in1']\n",
    "\n",
    "GHIsensor = ['GHIP_SMP11',\n",
    "             'F_GHIP_SMP11']\n",
    "\n",
    "GTIsensor = ['TGIP_SMP11_VENT',\n",
    "             'F_TGIP_SMP11_VENT']\n"
   ]
  },
  {
   "cell_type": "code",
   "execution_count": 29,
   "id": "df6f7116",
   "metadata": {},
   "outputs": [],
   "source": [
    "tzBRA = 'Etc/GMT+3'\n",
    "tzETC = 'Etc/GMT-0'\n",
    "                   \n",
    "dcac = ['P_in1', \n",
    "        'P_grid',\n",
    "        'I_in1']\n",
    "\n",
    "GHIsensor = ['GHIP_SMP11',\n",
    "             'F_GHIP_SMP11']\n",
    "\n",
    "GTIsensor = ['TGIP_SMP11_VENT',\n",
    "             'F_TGIP_SMP11_VENT']\n",
    "\n",
    "   \n",
    "\n",
    "#months = ['2018-01','2018-02','2018-03', '2018-04','2018-05','2018-06','2018-07','2018-08', '2018-09','2018-10','2018-11','2018-12',\n",
    "#          '2019-01','2019-02','2019-03', '2019-04','2019-05','2019-06','2019-07','2019-08', '2019-09','2019-10','2019-11','2019-12',\n",
    "#          '2020-01','2020-02','2020-03', '2020-04','2020-05','2020-06','2020-07','2020-08', '2020-09','2020-10','2020-11','2020-12',\n",
    "#          '2021-01']\n",
    "\n",
    "## The procedure below was needed because on 27/11/18, the inverter datalogger was synchronized with the meteostation, thus changing from GMT-3 to GMT-00. \n",
    "# This will allow direct comparison with irradiance timestamps.\n",
    "\n",
    "dfCDT  = pd.read_csv(inv_path + 'CDT.csv') \n",
    "dfCDT['TIMESTAMP'] = dfCDT['TIMESTAMP'].astype(np.datetime64)\n",
    "dfCDT = dfCDT.drop_duplicates(subset=['TIMESTAMP'])\n",
    "dfCDT = dfCDT.set_index('TIMESTAMP')\n",
    "#dfCDT = dfCDT.index.drop_duplicates()\n",
    "dfCDTnosync = dfCDT[dfCDT.index < '2018-11-27 00:00:00']  # this part is in BRT (GMT - 3)\n",
    "dfCDTnosync.index = dfCDTnosync.index.tz_localize(tzBRA)\n",
    "dfCDTnosync.index = dfCDTnosync.index.tz_convert(tzETC)\n",
    "dfCDTsync = dfCDT[dfCDT.index > '2018-11-28 00:00:00']  #  # this part is in  (GMT - 0)\n",
    "dfCDTsync.index = dfCDTsync.index.tz_localize(tzETC)\n",
    "dfCDTsync = [dfCDTnosync, dfCDTsync]\n",
    "dfCDTsync = pd.concat(dfCDTsync)\n",
    "dfPCDT = dfCDTsync[dcac]\n",
    "dfPCDT = dfPCDT.loc['2018-01-01 00:00:00':'2021-01-01 00:00:00']\n",
    "dfPCDT = dfPCDT.rename(columns={\"P_in1\": \"Pdccdt\", \"I_in1\": \"Idccdt\", \"P_grid\": \"Paccdt\"})\n",
    "dfPCDT.shape\n",
    "\n",
    "dfCDTA  = pd.read_csv(inv_path + 'CDTA.csv') \n",
    "dfCDTA['TIMESTAMP'] = dfCDTA['TIMESTAMP'].astype(np.datetime64)\n",
    "dfCDTA = dfCDTA.drop_duplicates(subset=['TIMESTAMP'])\n",
    "dfCDTA = dfCDTA.set_index('TIMESTAMP')\n",
    "dfCDTAnosync = dfCDTA[dfCDTA.index < '2018-11-27 00:00:00']  # this part is in BRT (GMT - 3)\n",
    "dfCDTAnosync.index = dfCDTAnosync.index.tz_localize(tzBRA)\n",
    "dfCDTAnosync.index = dfCDTAnosync.index.tz_convert(tzETC)\n",
    "dfCDTAsync = dfCDTA[dfCDTA.index > '2018-11-28 00:00:00']  #  # this part is in  (GMT - 0)\n",
    "dfCDTAsync.index = dfCDTAsync.index.tz_localize(tzETC)\n",
    "dfCDTAsync = [dfCDTAnosync, dfCDTAsync]\n",
    "dfCDTAsync = pd.concat(dfCDTAsync)\n",
    "dfPCDTA = dfCDTAsync[dcac]\n",
    "dfPCDTA = dfPCDTA.loc['2018-01-01 00:00:00':'2021-01-01 00:00:00']\n",
    "dfPCDTA = dfPCDTA.rename(columns={\"P_in1\": \"Pdccdta\", \"I_in1\": \"Idccdta\",\"P_grid\": \"Paccdta\"})\n",
    "dfPCDTA.shape\n",
    "\n",
    "\n",
    "\n",
    "dfPSI  = pd.read_csv(inv_path + 'PSI.csv') \n",
    "dfPSI['TIMESTAMP'] = dfPSI['TIMESTAMP'].astype(np.datetime64)\n",
    "dfPSI = dfPSI.drop_duplicates(subset=['TIMESTAMP'])\n",
    "dfPSI = dfPSI.set_index('TIMESTAMP')\n",
    "#dfPSI = dfPSI.index.drop_duplicates()\n",
    "dfPSInosync = dfPSI[dfPSI.index < '2018-11-27 00:00:00']  # this part is in BRT (GMT - 3)\n",
    "dfPSInosync.index = dfPSInosync.index.tz_localize(tzBRA)\n",
    "dfPSInosync.index = dfPSInosync.index.tz_convert(tzETC)\n",
    "dfPSIsync = dfPSI[dfPSI.index > '2018-11-28 00:00:00']  #  # this part is in  (GMT - 0)\n",
    "dfPSIsync.index = dfPSIsync.index.tz_localize(tzETC)\n",
    "dfPSIsync = [dfPSInosync, dfPSIsync]\n",
    "dfPSIsync = pd.concat(dfPSIsync)\n",
    "dfPPSI = dfPSIsync[dcac]\n",
    "dfPPSI = dfPPSI.loc['2018-01-01 00:00:00':'2021-01-01 00:00:00']\n",
    "dfPPSI = dfPPSI.rename(columns={\"P_in1\": \"Pdcpsi\", \"I_in1\": \"Idcpsi\",\"P_grid\": \"Pacpsi\"})\n",
    "dfPPSI.shape\n",
    "\n",
    "\n",
    "\n",
    "pvsi = pd.merge(dfPCDT,dfPCDTA, how = 'left',left_index = True, right_index = True)\n",
    "pvsi = pd.merge(pvsi,dfPPSI, how = 'left',left_index = True, right_index = True)"
   ]
  },
  {
   "cell_type": "code",
   "execution_count": 5,
   "id": "e599e2eb",
   "metadata": {},
   "outputs": [
    {
     "data": {
      "text/html": [
       "<div>\n",
       "<style scoped>\n",
       "    .dataframe tbody tr th:only-of-type {\n",
       "        vertical-align: middle;\n",
       "    }\n",
       "\n",
       "    .dataframe tbody tr th {\n",
       "        vertical-align: top;\n",
       "    }\n",
       "\n",
       "    .dataframe thead th {\n",
       "        text-align: right;\n",
       "    }\n",
       "</style>\n",
       "<table border=\"1\" class=\"dataframe\">\n",
       "  <thead>\n",
       "    <tr style=\"text-align: right;\">\n",
       "      <th></th>\n",
       "      <th>Pdccdt</th>\n",
       "      <th>Paccdt</th>\n",
       "      <th>Idccdt</th>\n",
       "      <th>Pdccdta</th>\n",
       "      <th>Paccdta</th>\n",
       "      <th>Idccdta</th>\n",
       "      <th>Pdcpsi</th>\n",
       "      <th>Pacpsi</th>\n",
       "      <th>Idcpsi</th>\n",
       "    </tr>\n",
       "    <tr>\n",
       "      <th>TIMESTAMP</th>\n",
       "      <th></th>\n",
       "      <th></th>\n",
       "      <th></th>\n",
       "      <th></th>\n",
       "      <th></th>\n",
       "      <th></th>\n",
       "      <th></th>\n",
       "      <th></th>\n",
       "      <th></th>\n",
       "    </tr>\n",
       "  </thead>\n",
       "  <tbody>\n",
       "    <tr>\n",
       "      <th>2018-01-01 00:00:00+00:00</th>\n",
       "      <td>0.0</td>\n",
       "      <td>0.0</td>\n",
       "      <td>0.0</td>\n",
       "      <td>0.0</td>\n",
       "      <td>0.0</td>\n",
       "      <td>0.0</td>\n",
       "      <td>0.0</td>\n",
       "      <td>0.0</td>\n",
       "      <td>0.0</td>\n",
       "    </tr>\n",
       "    <tr>\n",
       "      <th>2018-01-01 00:01:00+00:00</th>\n",
       "      <td>0.0</td>\n",
       "      <td>0.0</td>\n",
       "      <td>0.0</td>\n",
       "      <td>0.0</td>\n",
       "      <td>0.0</td>\n",
       "      <td>0.0</td>\n",
       "      <td>0.0</td>\n",
       "      <td>0.0</td>\n",
       "      <td>0.0</td>\n",
       "    </tr>\n",
       "    <tr>\n",
       "      <th>2018-01-01 00:02:00+00:00</th>\n",
       "      <td>0.0</td>\n",
       "      <td>0.0</td>\n",
       "      <td>0.0</td>\n",
       "      <td>0.0</td>\n",
       "      <td>0.0</td>\n",
       "      <td>0.0</td>\n",
       "      <td>0.0</td>\n",
       "      <td>0.0</td>\n",
       "      <td>0.0</td>\n",
       "    </tr>\n",
       "    <tr>\n",
       "      <th>2018-01-01 00:03:00+00:00</th>\n",
       "      <td>0.0</td>\n",
       "      <td>0.0</td>\n",
       "      <td>0.0</td>\n",
       "      <td>0.0</td>\n",
       "      <td>0.0</td>\n",
       "      <td>0.0</td>\n",
       "      <td>0.0</td>\n",
       "      <td>0.0</td>\n",
       "      <td>0.0</td>\n",
       "    </tr>\n",
       "    <tr>\n",
       "      <th>2018-01-01 00:04:00+00:00</th>\n",
       "      <td>0.0</td>\n",
       "      <td>0.0</td>\n",
       "      <td>0.0</td>\n",
       "      <td>0.0</td>\n",
       "      <td>0.0</td>\n",
       "      <td>0.0</td>\n",
       "      <td>0.0</td>\n",
       "      <td>0.0</td>\n",
       "      <td>0.0</td>\n",
       "    </tr>\n",
       "    <tr>\n",
       "      <th>...</th>\n",
       "      <td>...</td>\n",
       "      <td>...</td>\n",
       "      <td>...</td>\n",
       "      <td>...</td>\n",
       "      <td>...</td>\n",
       "      <td>...</td>\n",
       "      <td>...</td>\n",
       "      <td>...</td>\n",
       "      <td>...</td>\n",
       "    </tr>\n",
       "    <tr>\n",
       "      <th>2020-12-31 23:55:00+00:00</th>\n",
       "      <td>0.0</td>\n",
       "      <td>0.0</td>\n",
       "      <td>0.0</td>\n",
       "      <td>0.0</td>\n",
       "      <td>0.0</td>\n",
       "      <td>0.0</td>\n",
       "      <td>0.0</td>\n",
       "      <td>0.0</td>\n",
       "      <td>0.0</td>\n",
       "    </tr>\n",
       "    <tr>\n",
       "      <th>2020-12-31 23:56:00+00:00</th>\n",
       "      <td>0.0</td>\n",
       "      <td>0.0</td>\n",
       "      <td>0.0</td>\n",
       "      <td>0.0</td>\n",
       "      <td>0.0</td>\n",
       "      <td>0.0</td>\n",
       "      <td>0.0</td>\n",
       "      <td>0.0</td>\n",
       "      <td>0.0</td>\n",
       "    </tr>\n",
       "    <tr>\n",
       "      <th>2020-12-31 23:57:00+00:00</th>\n",
       "      <td>0.0</td>\n",
       "      <td>0.0</td>\n",
       "      <td>0.0</td>\n",
       "      <td>0.0</td>\n",
       "      <td>0.0</td>\n",
       "      <td>0.0</td>\n",
       "      <td>0.0</td>\n",
       "      <td>0.0</td>\n",
       "      <td>0.0</td>\n",
       "    </tr>\n",
       "    <tr>\n",
       "      <th>2020-12-31 23:58:00+00:00</th>\n",
       "      <td>0.0</td>\n",
       "      <td>0.0</td>\n",
       "      <td>0.0</td>\n",
       "      <td>0.0</td>\n",
       "      <td>0.0</td>\n",
       "      <td>0.0</td>\n",
       "      <td>0.0</td>\n",
       "      <td>0.0</td>\n",
       "      <td>0.0</td>\n",
       "    </tr>\n",
       "    <tr>\n",
       "      <th>2020-12-31 23:59:00+00:00</th>\n",
       "      <td>0.0</td>\n",
       "      <td>0.0</td>\n",
       "      <td>0.0</td>\n",
       "      <td>0.0</td>\n",
       "      <td>0.0</td>\n",
       "      <td>0.0</td>\n",
       "      <td>0.0</td>\n",
       "      <td>0.0</td>\n",
       "      <td>0.0</td>\n",
       "    </tr>\n",
       "  </tbody>\n",
       "</table>\n",
       "<p>1512270 rows × 9 columns</p>\n",
       "</div>"
      ],
      "text/plain": [
       "                           Pdccdt  Paccdt  Idccdt  Pdccdta  Paccdta  Idccdta  \\\n",
       "TIMESTAMP                                                                      \n",
       "2018-01-01 00:00:00+00:00     0.0     0.0     0.0      0.0      0.0      0.0   \n",
       "2018-01-01 00:01:00+00:00     0.0     0.0     0.0      0.0      0.0      0.0   \n",
       "2018-01-01 00:02:00+00:00     0.0     0.0     0.0      0.0      0.0      0.0   \n",
       "2018-01-01 00:03:00+00:00     0.0     0.0     0.0      0.0      0.0      0.0   \n",
       "2018-01-01 00:04:00+00:00     0.0     0.0     0.0      0.0      0.0      0.0   \n",
       "...                           ...     ...     ...      ...      ...      ...   \n",
       "2020-12-31 23:55:00+00:00     0.0     0.0     0.0      0.0      0.0      0.0   \n",
       "2020-12-31 23:56:00+00:00     0.0     0.0     0.0      0.0      0.0      0.0   \n",
       "2020-12-31 23:57:00+00:00     0.0     0.0     0.0      0.0      0.0      0.0   \n",
       "2020-12-31 23:58:00+00:00     0.0     0.0     0.0      0.0      0.0      0.0   \n",
       "2020-12-31 23:59:00+00:00     0.0     0.0     0.0      0.0      0.0      0.0   \n",
       "\n",
       "                           Pdcpsi  Pacpsi  Idcpsi  \n",
       "TIMESTAMP                                          \n",
       "2018-01-01 00:00:00+00:00     0.0     0.0     0.0  \n",
       "2018-01-01 00:01:00+00:00     0.0     0.0     0.0  \n",
       "2018-01-01 00:02:00+00:00     0.0     0.0     0.0  \n",
       "2018-01-01 00:03:00+00:00     0.0     0.0     0.0  \n",
       "2018-01-01 00:04:00+00:00     0.0     0.0     0.0  \n",
       "...                           ...     ...     ...  \n",
       "2020-12-31 23:55:00+00:00     0.0     0.0     0.0  \n",
       "2020-12-31 23:56:00+00:00     0.0     0.0     0.0  \n",
       "2020-12-31 23:57:00+00:00     0.0     0.0     0.0  \n",
       "2020-12-31 23:58:00+00:00     0.0     0.0     0.0  \n",
       "2020-12-31 23:59:00+00:00     0.0     0.0     0.0  \n",
       "\n",
       "[1512270 rows x 9 columns]"
      ]
     },
     "execution_count": 5,
     "metadata": {},
     "output_type": "execute_result"
    }
   ],
   "source": [
    "pvsi"
   ]
  },
  {
   "cell_type": "code",
   "execution_count": 31,
   "id": "875838ed",
   "metadata": {},
   "outputs": [],
   "source": [
    "dfgti18 = pd.read_pickle(gti_path + '2018' +'gtiFLAG.pkl')\n",
    "dfgti19 = pd.read_pickle(gti_path + '2019' +'gtiFLAG.pkl')\n",
    "dfgti20 = pd.read_pickle(gti_path + '2020' +'gtiFLAG.pkl')\n",
    "dfgtis = [dfgti18[GTIsensor], dfgti19[GTIsensor], dfgti20[GTIsensor]]\n",
    "dfgtis = pd.concat(dfgtis)\n",
    "dfgtis = dfgtis[dfgtis.F_TGIP_SMP11_VENT < 4]\n",
    "\n",
    "dfghi18 = pd.read_pickle(ghi_path + '2018' +'ghiFLAG.pkl')\n",
    "dfghi19 = pd.read_pickle(ghi_path + '2019' +'ghiFLAG.pkl')\n",
    "dfghi20 = pd.read_pickle(ghi_path + '2020' +'ghiFLAG.pkl')\n",
    "dfghis = [dfghi18[GHIsensor], dfghi19[GHIsensor], dfghi20[GHIsensor]]\n",
    "dfghis = pd.concat(dfghis)\n",
    "dfghis = dfghis[dfghis.F_GHIP_SMP11 < 4]\n",
    "\n",
    "\n",
    "dfirad = pd.merge(dfgtis,dfghis, how = 'inner',left_index = True, right_index = True)\n",
    "\n",
    "pxir = pd.merge(pvsi,dfirad, how = 'inner',left_index = True, right_index = True)\n"
   ]
  },
  {
   "cell_type": "code",
   "execution_count": 8,
   "id": "a207bcae",
   "metadata": {},
   "outputs": [
    {
     "data": {
      "text/plain": [
       "<AxesSubplot:>"
      ]
     },
     "execution_count": 8,
     "metadata": {},
     "output_type": "execute_result"
    },
    {
     "data": {
      "image/png": "[encoded data removed]",
      "text/plain": [
       "<Figure size 432x288 with 1 Axes>"
      ]
     },
     "metadata": {
      "needs_background": "light"
     },
     "output_type": "display_data"
    }
   ],
   "source": [
    "pxir.Idccdta.hist()"
   ]
  },
  {
   "cell_type": "code",
   "execution_count": 11,
   "id": "c8c877ec",
   "metadata": {
    "scrolled": true
   },
   "outputs": [
    {
     "data": {
      "text/plain": [
       "count    1.504513e+06\n",
       "mean     1.256454e+00\n",
       "std      1.998649e+00\n",
       "min      0.000000e+00\n",
       "25%      0.000000e+00\n",
       "50%      0.000000e+00\n",
       "75%      1.862961e+00\n",
       "max      9.766766e+00\n",
       "Name: Idccdta, dtype: float64"
      ]
     },
     "execution_count": 11,
     "metadata": {},
     "output_type": "execute_result"
    }
   ],
   "source": [
    "pxir.Idccdta.describe()"
   ]
  },
  {
   "cell_type": "code",
   "execution_count": 42,
   "id": "71ca539f",
   "metadata": {},
   "outputs": [],
   "source": [
    "pxir['Idccdta4'] = pxir.Idccdta/4"
   ]
  },
  {
   "cell_type": "code",
   "execution_count": 43,
   "id": "43a4ea13",
   "metadata": {},
   "outputs": [],
   "source": [
    "pxir['Idccdt4'] = pxir.Idccdt/4"
   ]
  },
  {
   "cell_type": "code",
   "execution_count": 34,
   "id": "179aeb7c",
   "metadata": {},
   "outputs": [
    {
     "data": {
      "text/plain": [
       "2.4416915"
      ]
     },
     "execution_count": 34,
     "metadata": {},
     "output_type": "execute_result"
    }
   ],
   "source": [
    "pxir.Idccdta4.max()"
   ]
  },
  {
   "cell_type": "code",
   "execution_count": 36,
   "id": "ffa68611",
   "metadata": {},
   "outputs": [
    {
     "data": {
      "text/plain": [
       "2.43958375"
      ]
     },
     "execution_count": 36,
     "metadata": {},
     "output_type": "execute_result"
    }
   ],
   "source": [
    "pxir.Idccdt4.max()"
   ]
  },
  {
   "cell_type": "code",
   "execution_count": 9,
   "id": "f3f4476e",
   "metadata": {
    "scrolled": false
   },
   "outputs": [
    {
     "data": {
      "text/plain": [
       "<AxesSubplot:>"
      ]
     },
     "execution_count": 9,
     "metadata": {},
     "output_type": "execute_result"
    },
    {
     "data": {
      "image/png": "[encoded data removed]",
      "text/plain": [
       "<Figure size 432x288 with 1 Axes>"
      ]
     },
     "metadata": {
      "needs_background": "light"
     },
     "output_type": "display_data"
    }
   ],
   "source": [
    "pxir.Idccdt.hist()"
   ]
  },
  {
   "cell_type": "code",
   "execution_count": 13,
   "id": "9e9971d2",
   "metadata": {},
   "outputs": [
    {
     "data": {
      "text/plain": [
       "count    1.504513e+06\n",
       "mean     1.226333e+00\n",
       "std      1.964123e+00\n",
       "min      0.000000e+00\n",
       "25%      0.000000e+00\n",
       "50%      0.000000e+00\n",
       "75%      1.757265e+00\n",
       "max      9.758335e+00\n",
       "Name: Idccdt, dtype: float64"
      ]
     },
     "execution_count": 13,
     "metadata": {},
     "output_type": "execute_result"
    }
   ],
   "source": [
    "pxir.Idccdt.describe()"
   ]
  },
  {
   "cell_type": "code",
   "execution_count": 37,
   "id": "7a512eeb",
   "metadata": {
    "scrolled": true
   },
   "outputs": [
    {
     "data": {
      "text/plain": [
       "<AxesSubplot:>"
      ]
     },
     "execution_count": 37,
     "metadata": {},
     "output_type": "execute_result"
    },
    {
     "data": {
      "image/png": "[encoded data removed]",
      "text/plain": [
       "<Figure size 432x288 with 1 Axes>"
      ]
     },
     "metadata": {
      "needs_background": "light"
     },
     "output_type": "display_data"
    }
   ],
   "source": [
    "pxir.Idccdt4.hist()"
   ]
  },
  {
   "cell_type": "code",
   "execution_count": 41,
   "id": "ddb2e7eb",
   "metadata": {},
   "outputs": [
    {
     "data": {
      "text/plain": [
       "2018-01-01 00:00:00+00:00    0.0\n",
       "2018-01-01 00:01:00+00:00    0.0\n",
       "2018-01-01 00:02:00+00:00    0.0\n",
       "2018-01-01 00:03:00+00:00    0.0\n",
       "2018-01-01 00:04:00+00:00    0.0\n",
       "                            ... \n",
       "2020-12-31 23:55:00+00:00    0.0\n",
       "2020-12-31 23:56:00+00:00    0.0\n",
       "2020-12-31 23:57:00+00:00    0.0\n",
       "2020-12-31 23:58:00+00:00    0.0\n",
       "2020-12-31 23:59:00+00:00    0.0\n",
       "Name: Idccdt, Length: 1504513, dtype: float64"
      ]
     },
     "execution_count": 41,
     "metadata": {},
     "output_type": "execute_result"
    }
   ],
   "source": [
    "pxir.Idccdt4"
   ]
  },
  {
   "cell_type": "code",
   "execution_count": null,
   "id": "afa5fe5b",
   "metadata": {},
   "outputs": [],
   "source": []
  },
  {
   "cell_type": "code",
   "execution_count": 10,
   "id": "3852efba",
   "metadata": {
    "scrolled": false
   },
   "outputs": [
    {
     "data": {
      "text/plain": [
       "<AxesSubplot:>"
      ]
     },
     "execution_count": 10,
     "metadata": {},
     "output_type": "execute_result"
    },
    {
     "data": {
      "image/png": "[encoded data removed]",
      "text/plain": [
       "<Figure size 432x288 with 1 Axes>"
      ]
     },
     "metadata": {
      "needs_background": "light"
     },
     "output_type": "display_data"
    }
   ],
   "source": [
    "pxir.Idcpsi.hist()"
   ]
  },
  {
   "cell_type": "code",
   "execution_count": 14,
   "id": "761ac8e7",
   "metadata": {},
   "outputs": [
    {
     "data": {
      "text/plain": [
       "count    1.503821e+06\n",
       "mean     1.427087e+00\n",
       "std      2.379278e+00\n",
       "min      0.000000e+00\n",
       "25%      0.000000e+00\n",
       "50%      0.000000e+00\n",
       "75%      1.884035e+00\n",
       "max      1.171618e+01\n",
       "Name: Idcpsi, dtype: float64"
      ]
     },
     "execution_count": 14,
     "metadata": {},
     "output_type": "execute_result"
    }
   ],
   "source": [
    "pxir.Idcpsi.describe()"
   ]
  },
  {
   "cell_type": "code",
   "execution_count": 15,
   "id": "a5fd4e1a",
   "metadata": {},
   "outputs": [],
   "source": [
    "oielist1 = [ '2018-01-11 15:54:00+00:00', '2018-12-15 14:35:00+00:00',  # ghi highest longest SiO2\n",
    "            '2018-01-11 15:54:00+00:00', '2018-12-15 14:35:00+00:00',  # ghi highest longest SMP11 / SMP22\n",
    "            '2018-12-15 14:35:00+00:00', '2018-12-15 14:29:00+00:00',  # ghi highest longest SPN1\n",
    "            '2019-02-12 12:53:00+00:00', '2019-01-12 14:11:00+00:00',  # ghi highest longest SiO2 - SMP11 - SMP22 - SPN1\n",
    "            '2019-01-16 15:17:00+00:00', # ghi second longest SPN1\n",
    "            '2020-12-24 16:10:00+00:00', '2020-12-25 13:27:00+00:00',  # ghi highest longest SiO2\n",
    "            '2020-12-24 16:10:00+00:00', '2020-01-07 15:22:00+00:00',  # ghi highest longest SMP11 / SMP22\n",
    "            '2020-11-12 14:59:00+00:00',  # ghi highest longest SPN1\n",
    "            '2018-02-14 15:35:00+00:00', '2018-02-16 15:02:00+00:00',  # gti highest longest SiO2 - SMP11\n",
    "            '2019-02-12 15:30:00+00:00', '2019-01-12 14:11:00+00:00',  # gti highest longest SiO2 - really high here\n",
    "            '2019-01-12 14:11:00+00:00', # gti highest and longest SMP11\n",
    "            '2020-11-12 15:01:00+00:00', '2020-11-12 15:01:00+00:00',  # gti highest longest SiO2\n",
    "            '2020-11-02 15:24:00+00:00', '2020-10-17 15:13:00+00:00',]   # gti highest longest SMP11 \n",
    "          \n",
    "\n",
    "#2020-11-19 12:42:00 - CdTe A\n",
    "#2020-01-10 14:52:00\t\n",
    "\n",
    "#2020-01-10 11:50:00\t- PSI\n",
    "#2020-01-10 14:50:00\t\n",
    "\n",
    "#2020-11-19 12:42:00 - CDTE \t\n",
    "#2020-11-19 15:42:00\t\n",
    "\n",
    "#### INTERRESTING EVENTS:\n",
    "\n",
    "oielist2 = ['2020-01-10 14:52:00+00:00',\t\n",
    "           '2020-01-10 14:50:00+00:00',\n",
    "           '2020-11-19 15:42:00+00:00']\t#inverter highest dc power peaks\n",
    "\t\n",
    "\n",
    "oielist3 = ['2019-02-05 14:25:00+00:00',\t\n",
    "           '2018-11-24 13:24:00+00:00',\n",
    "           '2019-03-14 15:07:00+00:00']\t#inverter worst eff    \n",
    "\n",
    "oielist4 = ['2020-11-19 15:42:00+00:00',\t\n",
    "           '2020-01-10 14:51:00+00:00',\n",
    "           '2019-09-23 16:15:00+00:00']   #inverter highest ac power peaks\t\n",
    "\n",
    "deltas = [5,30]\n",
    "max_out = 2750\n",
    "sc = 1361.1\n",
    "fusecdte = 4\n",
    "fusesi = 15\n"
   ]
  },
  {
   "cell_type": "code",
   "execution_count": 48,
   "id": "abd40902",
   "metadata": {},
   "outputs": [
    {
     "data": {
      "text/plain": [
       "<Figure size 1440x720 with 0 Axes>"
      ]
     },
     "metadata": {},
     "output_type": "display_data"
    },
    {
     "data": {
      "text/plain": [
       "<Figure size 1440x720 with 0 Axes>"
      ]
     },
     "metadata": {},
     "output_type": "display_data"
    },
    {
     "data": {
      "text/plain": [
       "<Figure size 1440x720 with 0 Axes>"
      ]
     },
     "metadata": {},
     "output_type": "display_data"
    },
    {
     "data": {
      "text/plain": [
       "<Figure size 1440x720 with 0 Axes>"
      ]
     },
     "metadata": {},
     "output_type": "display_data"
    },
    {
     "data": {
      "text/plain": [
       "<Figure size 1440x720 with 0 Axes>"
      ]
     },
     "metadata": {},
     "output_type": "display_data"
    },
    {
     "data": {
      "text/plain": [
       "<Figure size 1440x720 with 0 Axes>"
      ]
     },
     "metadata": {},
     "output_type": "display_data"
    },
    {
     "data": {
      "text/plain": [
       "<Figure size 1440x720 with 0 Axes>"
      ]
     },
     "metadata": {},
     "output_type": "display_data"
    },
    {
     "data": {
      "text/plain": [
       "<Figure size 1440x720 with 0 Axes>"
      ]
     },
     "metadata": {},
     "output_type": "display_data"
    },
    {
     "data": {
      "text/plain": [
       "<Figure size 1440x720 with 0 Axes>"
      ]
     },
     "metadata": {},
     "output_type": "display_data"
    }
   ],
   "source": [
    "### PLOTS -  P_DC I_DC P_AC GHI:\n",
    "\n",
    "\n",
    "for oie in oielist4:\n",
    "       for delta in deltas:\n",
    "              event = pd.to_datetime(oie)\n",
    "              start = event - datetime.timedelta(minutes=delta)\n",
    "              end = event + datetime.timedelta(minutes=delta)\n",
    "\n",
    "              fig, axes = plt.subplots(nrows=4,ncols=1, figsize=(20,10))\n",
    "\n",
    "              f1= pxir['Pdccdt'].loc[start:end].plot(ax=axes[0],color = 'green',label='DC Power - CdTe')\n",
    "              l1=axes[0].axhline(max_out,color='red',ls='--')\n",
    "              l1.set_label('Max Output')\n",
    "              axes[0].legend(loc='best')\n",
    "\n",
    "              f2= pxir['Paccdt'].loc[start:end].plot(ax=axes[1],label='AC Power - CdTe')\n",
    "              l2=axes[1].axhline(max_out,color='red',ls='--')\n",
    "              l2.set_label('Max Output')\n",
    "              axes[1].legend(loc='best')\n",
    "\n",
    "              f3 = pxir['Idccdt4'].loc[start:end].plot(ax=axes[2],color = 'orange',label='AVG String Current - CdTe')\n",
    "              l3=axes[2].axhline(fusecdte,color='red',ls='--')\n",
    "              l3.set_label('Max Fuse rating')\n",
    "              axes[2].legend(loc='best')\n",
    "\n",
    "              f4 = pxir['GHIP_SMP11'].loc[start:end].plot(ax=axes[3],color = 'salmon',label='GHI - SMP11')\n",
    "              l4=axes[3].axhline(sc,color='red',ls='--')\n",
    "              l4.set_label('Solar Constant')\n",
    "              axes[3].legend(loc='best')\n",
    "\n",
    "              figname =  figs_path + oie + 'd' + str(delta) + 'CdTe.jpeg'\n",
    "              fig.savefig(figname)\n",
    "              fig.clf()\n",
    "\n",
    "\n",
    "              fig, axes = plt.subplots(nrows=4,ncols=1, figsize=(20,10))\n",
    "\n",
    "              f1= pxir['Pdccdta'].loc[start:end].plot(ax=axes[0],color = 'green',label='DC Power - CdTe ARC')\n",
    "              l1=axes[0].axhline(max_out,color='red',ls='--')\n",
    "              l1.set_label('Max Output')\n",
    "              axes[0].legend(loc='best')\n",
    "\n",
    "              f2= pxir['Paccdta'].loc[start:end].plot(ax=axes[1],label='AC Power - CdTe ARC')\n",
    "              l2=axes[1].axhline(max_out,color='red',ls='--')\n",
    "              l2.set_label('Max Output')\n",
    "              axes[1].legend(loc='best')\n",
    "\n",
    "              f3 = pxir['Idccdta4'].loc[start:end].plot(ax=axes[2],color = 'orange',label='AVG String Current - CdTe ARC')\n",
    "              l3=axes[2].axhline(fusecdte,color='red',ls='--')\n",
    "              l3.set_label('Max Fuse Rating')\n",
    "              axes[2].legend(loc='best')\n",
    "\n",
    "              f4 = pxir['GHIP_SMP11'].loc[start:end].plot(ax=axes[3],color = 'salmon',label='GHI - SMP11')\n",
    "              l4=axes[3].axhline(sc,color='red',ls='--')\n",
    "              l4.set_label('Solar Constant')\n",
    "              axes[3].legend(loc='best')\n",
    "\n",
    "              figname =  figs_path + oie + 'd' + str(delta) + 'CdTeA.jpeg'\n",
    "              fig.savefig(figname)\n",
    "              fig.clf()\n",
    "\n",
    "              \n",
    "              fig, axes = plt.subplots(nrows=4,ncols=1, figsize=(20,10))\n",
    "\n",
    "              f1= pxir['Pdcpsi'].loc[start:end].plot(ax=axes[0],color = 'green',label='DC Power - mcSi')\n",
    "              l1=axes[0].axhline(max_out,color='red',ls='--')\n",
    "              l1.set_label('Max Output')\n",
    "              axes[0].legend(loc='best')\n",
    "\n",
    "              f2= pxir['Pacpsi'].loc[start:end].plot(ax=axes[1],label='AC Power - mcSi')\n",
    "              l2=axes[1].axhline(max_out,color='red',ls='--')\n",
    "              l2.set_label('Max Output')\n",
    "              axes[1].legend(loc='best')\n",
    "\n",
    "              f3 = pxir['Idccdt'].loc[start:end].plot(ax=axes[2],color = 'orange',label='String Current - mc Si')\n",
    "              l3=axes[2].axhline(fusesi,color='red',ls='--')\n",
    "              l3.set_label('Max Fuse Rating')\n",
    "              axes[2].legend(loc='best')\n",
    "\n",
    "\n",
    "              f4 = pxir['GHIP_SMP11'].loc[start:end].plot(ax=axes[3],color = 'salmon',label='GHI - SMP11')\n",
    "              l4=axes[3].axhline(sc,color='red',ls='--')\n",
    "              l4.set_label('Solar Constant')\n",
    "              axes[3].legend(loc='best')\n",
    "\n",
    "              figname =  figs_path + oie + 'd'+ str(delta) + 'PSI.jpeg'\n",
    "              fig.savefig(figname)\n",
    "              fig.clf()\n",
    "\n",
    "\n"
   ]
  },
  {
   "cell_type": "markdown",
   "id": "2d21d1ca",
   "metadata": {},
   "source": [
    "\n",
    "for oie in oielist4:\n",
    "       for delta in deltas:\n",
    "              event = pd.to_datetime(oie)\n",
    "              start = event - datetime.timedelta(minutes=delta)\n",
    "              end = event + datetime.timedelta(minutes=delta)\n",
    "\n",
    "              fig, axes = plt.subplots(nrows=4,ncols=1, figsize=(20,10))\n",
    "\n",
    "              f1= pxir['Pdccdt'].loc[start:end].plot(ax=axes[0],color = 'green',label='DC Power - CdTe')\n",
    "              l1=axes[0].axhline(max_out,color='red',ls='--')\n",
    "              l1.set_label('Max Output')\n",
    "              axes[0].legend(loc='best')\n",
    "\n",
    "              f2= pxir['Paccdt'].loc[start:end].plot(ax=axes[1],label='AC Power - CdTe')\n",
    "              l2=axes[1].axhline(max_out,color='red',ls='--')\n",
    "              l2.set_label('Max Output')\n",
    "              axes[1].legend(loc='best')\n",
    "\n",
    "              f3 = pxir['Idccdt'].loc[start:end].plot(ax=axes[2],color = 'purple',label='DC Current - CdTe')\n",
    "              l3=axes[2].axhline(fuse,color='red',ls='--')\n",
    "              l3.set_label('Current rating')\n",
    "              axes[2].legend(loc='best')\n",
    "\n",
    "              f4 = pxir['GHIP_SMP11'].loc[start:end].plot(ax=axes[3],color = 'salmon',label='GHI - SMP11')\n",
    "              l4=axes[3].axhline(sc,color='red',ls='--')\n",
    "              l4.set_label('Solar Constant')\n",
    "              axes[3].legend(loc='best')\n",
    "\n",
    "              figname =  figs_path + oie + 'd' + str(delta) + 'CdTe.jpeg'\n",
    "              fig.savefig(figname)\n",
    "              fig.clf()\n",
    "\n",
    "\n",
    "              fig, axes = plt.subplots(nrows=4,ncols=1, figsize=(20,10))\n",
    "\n",
    "              f1= pxir['Pdccdta'].loc[start:end].plot(ax=axes[0],color = 'green',label='DC Power - CdTe ARC')\n",
    "              l1=axes[0].axhline(max_out,color='red',ls='--')\n",
    "              l1.set_label('Max Output')\n",
    "              axes[0].legend(loc='best')\n",
    "\n",
    "              f2= pxir['Paccdta'].loc[start:end].plot(ax=axes[1],label='AC Power - CdTe ARC')\n",
    "              l2=axes[1].axhline(max_out,color='red',ls='--')\n",
    "              l2.set_label('Max Output')\n",
    "              axes[1].legend(loc='best')\n",
    "\n",
    "              f3 = pxir['Idccdta'].loc[start:end].plot(ax=axes[2],color = 'purple',label='DC Current - CdTe ARC')\n",
    "              l3=axes[2].axhline(fuse,color='red',ls='--')\n",
    "              l3.set_label('Current rating')\n",
    "              axes[2].legend(loc='best')\n",
    "\n",
    "              f4 = pxir['GHIP_SMP11'].loc[start:end].plot(ax=axes[3],color = 'salmon',label='GHI - SMP11')\n",
    "              l4=axes[3].axhline(sc,color='red',ls='--')\n",
    "              l4.set_label('Solar Constant')\n",
    "              axes[3].legend(loc='best')\n",
    "\n",
    "              figname =  figs_path + oie + 'd' + str(delta) + 'CdTeA.jpeg'\n",
    "              fig.savefig(figname)\n",
    "              fig.clf()\n",
    "\n",
    "              \n",
    "              fig, axes = plt.subplots(nrows=4,ncols=1, figsize=(20,10))\n",
    "\n",
    "              f1= pxir['Pdcpsi'].loc[start:end].plot(ax=axes[0],color = 'green',label='DC Power - mcSi')\n",
    "              l1=axes[0].axhline(max_out,color='red',ls='--')\n",
    "              l1.set_label('Max Output')\n",
    "              axes[0].legend(loc='best')\n",
    "\n",
    "              f2= pxir['Pacpsi'].loc[start:end].plot(ax=axes[1],label='AC Power - mcSi')\n",
    "              l2=axes[1].axhline(max_out,color='red',ls='--')\n",
    "              l2.set_label('Max Output')\n",
    "              axes[1].legend(loc='best')\n",
    "\n",
    "              f3 = pxir['Idccdt'].loc[start:end].plot(ax=axes[2],color = 'purple',label='DC Current - mc Si')\n",
    "              l3=axes[2].axhline(fuse,color='red',ls='--')\n",
    "              l3.set_label('Current rating')\n",
    "              axes[2].legend(loc='best')\n",
    "\n",
    "\n",
    "              f4 = pxir['GHIP_SMP11'].loc[start:end].plot(ax=axes[3],color = 'salmon',label='GHI - SMP11')\n",
    "              l4=axes[3].axhline(sc,color='red',ls='--')\n",
    "              l4.set_label('Solar Constant')\n",
    "              axes[3].legend(loc='best')\n",
    "\n",
    "              figname =  figs_path + oie + 'd'+ str(delta) + 'PSI.jpeg'\n",
    "              fig.savefig(figname)\n",
    "              fig.clf()\n",
    "\n"
   ]
  },
  {
   "cell_type": "code",
   "execution_count": null,
   "id": "80e443e0",
   "metadata": {},
   "outputs": [],
   "source": []
  },
  {
   "cell_type": "code",
   "execution_count": null,
   "id": "75dfbcd3",
   "metadata": {},
   "outputs": [],
   "source": []
  },
  {
   "cell_type": "code",
   "execution_count": null,
   "id": "9f6abe4b",
   "metadata": {},
   "outputs": [],
   "source": []
  },
  {
   "cell_type": "code",
   "execution_count": 49,
   "id": "9f1cfb64",
   "metadata": {},
   "outputs": [
    {
     "data": {
      "text/plain": [
       "<Figure size 1440x720 with 0 Axes>"
      ]
     },
     "metadata": {},
     "output_type": "display_data"
    },
    {
     "data": {
      "text/plain": [
       "<Figure size 1440x720 with 0 Axes>"
      ]
     },
     "metadata": {},
     "output_type": "display_data"
    },
    {
     "data": {
      "text/plain": [
       "<Figure size 1440x720 with 0 Axes>"
      ]
     },
     "metadata": {},
     "output_type": "display_data"
    },
    {
     "data": {
      "text/plain": [
       "<Figure size 1440x720 with 0 Axes>"
      ]
     },
     "metadata": {},
     "output_type": "display_data"
    },
    {
     "data": {
      "text/plain": [
       "<Figure size 1440x720 with 0 Axes>"
      ]
     },
     "metadata": {},
     "output_type": "display_data"
    },
    {
     "data": {
      "text/plain": [
       "<Figure size 1440x720 with 0 Axes>"
      ]
     },
     "metadata": {},
     "output_type": "display_data"
    }
   ],
   "source": [
    "deltas = [6]\n",
    "fusecdte = 4\n",
    "fusesi = 15\n",
    "\n",
    "oielist5 = ['2019-04-24 15:00:00+00:00',\n",
    "            '2019-01-20 15:00:00+00:00',]\n",
    "\n",
    "for oie in oielist5:\n",
    "       for delta in deltas:\n",
    "              event = pd.to_datetime(oie)\n",
    "              start = event - datetime.timedelta(minutes=delta)\n",
    "              end = event + datetime.timedelta(minutes=delta)\n",
    "\n",
    "              fig, axes = plt.subplots(nrows=4,ncols=1, figsize=(20,10))\n",
    "\n",
    "              f1= pxir['Pdccdt'].loc[start:end].plot(ax=axes[0],color = 'green',label='DC Power - CdTe')\n",
    "              l1=axes[0].axhline(max_out,color='red',ls='--')\n",
    "              l1.set_label('Max Output')\n",
    "              axes[0].legend(loc='best')\n",
    "\n",
    "              f2= pxir['Paccdt'].loc[start:end].plot(ax=axes[1],label='AC Power - CdTe')\n",
    "              l2=axes[1].axhline(max_out,color='red',ls='--')\n",
    "              l2.set_label('Max Output')\n",
    "              axes[1].legend(loc='best')\n",
    "\n",
    "              f3 = pxir['Idccdt4'].loc[start:end].plot(ax=axes[2],color = 'orange',label='AVG String Current - CdTe')\n",
    "              l3=axes[2].axhline(fusecdte,color='red',ls='--')\n",
    "              l3.set_label('Max Fuse rating')\n",
    "              axes[2].legend(loc='best')\n",
    "\n",
    "              f4 = pxir['GHIP_SMP11'].loc[start:end].plot(ax=axes[3],color = 'salmon',label='GHI - SMP11')\n",
    "              l4=axes[3].axhline(sc,color='red',ls='--')\n",
    "              l4.set_label('Solar Constant')\n",
    "              axes[3].legend(loc='best')\n",
    "\n",
    "              figname =  figs_path + oie + 'd' + str(delta) + 'CdTe.jpeg'\n",
    "              fig.savefig(figname)\n",
    "              fig.clf()\n",
    "\n",
    "\n",
    "              fig, axes = plt.subplots(nrows=4,ncols=1, figsize=(20,10))\n",
    "\n",
    "              f1= pxir['Pdccdta'].loc[start:end].plot(ax=axes[0],color = 'green',label='DC Power - CdTe ARC')\n",
    "              l1=axes[0].axhline(max_out,color='red',ls='--')\n",
    "              l1.set_label('Max Output')\n",
    "              axes[0].legend(loc='best')\n",
    "\n",
    "              f2= pxir['Paccdta'].loc[start:end].plot(ax=axes[1],label='AC Power - CdTe ARC')\n",
    "              l2=axes[1].axhline(max_out,color='red',ls='--')\n",
    "              l2.set_label('Max Output')\n",
    "              axes[1].legend(loc='best')\n",
    "\n",
    "              f3 = pxir['Idccdta4'].loc[start:end].plot(ax=axes[2],color = 'orange',label='AVG String Current - CdTe ARC')\n",
    "              l3=axes[2].axhline(fusecdte,color='red',ls='--')\n",
    "              l3.set_label('Max Fuse Rating')\n",
    "              axes[2].legend(loc='best')\n",
    "\n",
    "              f4 = pxir['GHIP_SMP11'].loc[start:end].plot(ax=axes[3],color = 'salmon',label='GHI - SMP11')\n",
    "              l4=axes[3].axhline(sc,color='red',ls='--')\n",
    "              l4.set_label('Solar Constant')\n",
    "              axes[3].legend(loc='best')\n",
    "\n",
    "              figname =  figs_path + oie + 'd' + str(delta) + 'CdTeA.jpeg'\n",
    "              fig.savefig(figname)\n",
    "              fig.clf()\n",
    "\n",
    "              \n",
    "              fig, axes = plt.subplots(nrows=4,ncols=1, figsize=(20,10))\n",
    "\n",
    "              f1= pxir['Pdcpsi'].loc[start:end].plot(ax=axes[0],color = 'green',label='DC Power - mcSi')\n",
    "              l1=axes[0].axhline(max_out,color='red',ls='--')\n",
    "              l1.set_label('Max Output')\n",
    "              axes[0].legend(loc='best')\n",
    "\n",
    "              f2= pxir['Pacpsi'].loc[start:end].plot(ax=axes[1],label='AC Power - mcSi')\n",
    "              l2=axes[1].axhline(max_out,color='red',ls='--')\n",
    "              l2.set_label('Max Output')\n",
    "              axes[1].legend(loc='best')\n",
    "\n",
    "              f3 = pxir['Idccdt'].loc[start:end].plot(ax=axes[2],color = 'orange',label='String Current - mc Si')\n",
    "              l3=axes[2].axhline(fusesi,color='red',ls='--')\n",
    "              l3.set_label('Max Fuse Rating')\n",
    "              axes[2].legend(loc='best')\n",
    "\n",
    "\n",
    "              f4 = pxir['GHIP_SMP11'].loc[start:end].plot(ax=axes[3],color = 'salmon',label='GHI - SMP11')\n",
    "              l4=axes[3].axhline(sc,color='red',ls='--')\n",
    "              l4.set_label('Solar Constant')\n",
    "              axes[3].legend(loc='best')\n",
    "\n",
    "              figname =  figs_path + oie + 'd'+ str(delta) + 'PSI.jpeg'\n",
    "              fig.savefig(figname)\n",
    "              fig.clf()\n"
   ]
  },
  {
   "cell_type": "code",
   "execution_count": 50,
   "id": "45f920c9",
   "metadata": {},
   "outputs": [
    {
     "data": {
      "text/plain": [
       "<Figure size 1440x720 with 0 Axes>"
      ]
     },
     "metadata": {},
     "output_type": "display_data"
    },
    {
     "data": {
      "text/plain": [
       "<Figure size 1440x720 with 0 Axes>"
      ]
     },
     "metadata": {},
     "output_type": "display_data"
    },
    {
     "data": {
      "text/plain": [
       "<Figure size 1440x720 with 0 Axes>"
      ]
     },
     "metadata": {},
     "output_type": "display_data"
    },
    {
     "data": {
      "text/plain": [
       "<Figure size 1440x720 with 0 Axes>"
      ]
     },
     "metadata": {},
     "output_type": "display_data"
    },
    {
     "data": {
      "text/plain": [
       "<Figure size 1440x720 with 0 Axes>"
      ]
     },
     "metadata": {},
     "output_type": "display_data"
    },
    {
     "data": {
      "text/plain": [
       "<Figure size 1440x720 with 0 Axes>"
      ]
     },
     "metadata": {},
     "output_type": "display_data"
    }
   ],
   "source": [
    "oielist6 = ['2019-09-23 15:00:00+00:00',\n",
    "            '2019-03-11 15:00:00+00:00',]\n",
    "\n",
    "for oie in oielist6:\n",
    "       for delta in deltas:\n",
    "              event = pd.to_datetime(oie)\n",
    "              start = event - datetime.timedelta(minutes=delta)\n",
    "              end = event + datetime.timedelta(minutes=delta)\n",
    "\n",
    "              fig, axes = plt.subplots(nrows=4,ncols=1, figsize=(20,10))\n",
    "\n",
    "              f1= pxir['Pdccdt'].loc[start:end].plot(ax=axes[0],color = 'green',label='DC Power - CdTe')\n",
    "              l1=axes[0].axhline(max_out,color='red',ls='--')\n",
    "              l1.set_label('Max Output')\n",
    "              axes[0].legend(loc='best')\n",
    "\n",
    "              f2= pxir['Paccdt'].loc[start:end].plot(ax=axes[1],label='AC Power - CdTe')\n",
    "              l2=axes[1].axhline(max_out,color='red',ls='--')\n",
    "              l2.set_label('Max Output')\n",
    "              axes[1].legend(loc='best')\n",
    "\n",
    "              f3 = pxir['Idccdt4'].loc[start:end].plot(ax=axes[2],color = 'orange',label='AVG String Current - CdTe')\n",
    "              l3=axes[2].axhline(fusecdte,color='red',ls='--')\n",
    "              l3.set_label('Max Fuse rating')\n",
    "              axes[2].legend(loc='best')\n",
    "\n",
    "              f4 = pxir['GHIP_SMP11'].loc[start:end].plot(ax=axes[3],color = 'salmon',label='GHI - SMP11')\n",
    "              l4=axes[3].axhline(sc,color='red',ls='--')\n",
    "              l4.set_label('Solar Constant')\n",
    "              axes[3].legend(loc='best')\n",
    "\n",
    "              figname =  figs_path + oie + 'd' + str(delta) + 'CdTe.jpeg'\n",
    "              fig.savefig(figname)\n",
    "              fig.clf()\n",
    "\n",
    "\n",
    "              fig, axes = plt.subplots(nrows=4,ncols=1, figsize=(20,10))\n",
    "\n",
    "              f1= pxir['Pdccdta'].loc[start:end].plot(ax=axes[0],color = 'green',label='DC Power - CdTe ARC')\n",
    "              l1=axes[0].axhline(max_out,color='red',ls='--')\n",
    "              l1.set_label('Max Output')\n",
    "              axes[0].legend(loc='best')\n",
    "\n",
    "              f2= pxir['Paccdta'].loc[start:end].plot(ax=axes[1],label='AC Power - CdTe ARC')\n",
    "              l2=axes[1].axhline(max_out,color='red',ls='--')\n",
    "              l2.set_label('Max Output')\n",
    "              axes[1].legend(loc='best')\n",
    "\n",
    "              f3 = pxir['Idccdta4'].loc[start:end].plot(ax=axes[2],color = 'orange',label='AVG String Current - CdTe ARC')\n",
    "              l3=axes[2].axhline(fusecdte,color='red',ls='--')\n",
    "              l3.set_label('Max Fuse Rating')\n",
    "              axes[2].legend(loc='best')\n",
    "\n",
    "              f4 = pxir['GHIP_SMP11'].loc[start:end].plot(ax=axes[3],color = 'salmon',label='GHI - SMP11')\n",
    "              l4=axes[3].axhline(sc,color='red',ls='--')\n",
    "              l4.set_label('Solar Constant')\n",
    "              axes[3].legend(loc='best')\n",
    "\n",
    "              figname =  figs_path + oie + 'd' + str(delta) + 'CdTeA.jpeg'\n",
    "              fig.savefig(figname)\n",
    "              fig.clf()\n",
    "\n",
    "              \n",
    "              fig, axes = plt.subplots(nrows=4,ncols=1, figsize=(20,10))\n",
    "\n",
    "              f1= pxir['Pdcpsi'].loc[start:end].plot(ax=axes[0],color = 'green',label='DC Power - mcSi')\n",
    "              l1=axes[0].axhline(max_out,color='red',ls='--')\n",
    "              l1.set_label('Max Output')\n",
    "              axes[0].legend(loc='best')\n",
    "\n",
    "              f2= pxir['Pacpsi'].loc[start:end].plot(ax=axes[1],label='AC Power - mcSi')\n",
    "              l2=axes[1].axhline(max_out,color='red',ls='--')\n",
    "              l2.set_label('Max Output')\n",
    "              axes[1].legend(loc='best')\n",
    "\n",
    "              f3 = pxir['Idccdt'].loc[start:end].plot(ax=axes[2],color = 'orange',label='String Current - mc Si')\n",
    "              l3=axes[2].axhline(fusesi,color='red',ls='--')\n",
    "              l3.set_label('Max Fuse Rating')\n",
    "              axes[2].legend(loc='best')\n",
    "\n",
    "\n",
    "              f4 = pxir['GHIP_SMP11'].loc[start:end].plot(ax=axes[3],color = 'salmon',label='GHI - SMP11')\n",
    "              l4=axes[3].axhline(sc,color='red',ls='--')\n",
    "              l4.set_label('Solar Constant')\n",
    "              axes[3].legend(loc='best')\n",
    "\n",
    "              figname =  figs_path + oie + 'd'+ str(delta) + 'PSI.jpeg'\n",
    "              fig.savefig(figname)\n",
    "              fig.clf()\n"
   ]
  },
  {
   "cell_type": "code",
   "execution_count": 51,
   "id": "6ddd1087",
   "metadata": {},
   "outputs": [
    {
     "data": {
      "text/plain": [
       "<Figure size 1440x720 with 0 Axes>"
      ]
     },
     "metadata": {},
     "output_type": "display_data"
    },
    {
     "data": {
      "text/plain": [
       "<Figure size 1440x720 with 0 Axes>"
      ]
     },
     "metadata": {},
     "output_type": "display_data"
    },
    {
     "data": {
      "text/plain": [
       "<Figure size 1440x720 with 0 Axes>"
      ]
     },
     "metadata": {},
     "output_type": "display_data"
    },
    {
     "data": {
      "text/plain": [
       "<Figure size 1440x720 with 0 Axes>"
      ]
     },
     "metadata": {},
     "output_type": "display_data"
    },
    {
     "data": {
      "text/plain": [
       "<Figure size 1440x720 with 0 Axes>"
      ]
     },
     "metadata": {},
     "output_type": "display_data"
    },
    {
     "data": {
      "text/plain": [
       "<Figure size 1440x720 with 0 Axes>"
      ]
     },
     "metadata": {},
     "output_type": "display_data"
    }
   ],
   "source": [
    "deltas = [1]\n",
    "fusecdte = 4\n",
    "fusesi = 15\n",
    "\n",
    "oielist5 = ['2019-04-24 15:00:00+00:00',\n",
    "            '2019-01-20 15:00:00+00:00',]\n",
    "\n",
    "for oie in oielist5:\n",
    "       for delta in deltas:\n",
    "              event = pd.to_datetime(oie)\n",
    "              start = event - datetime.timedelta(minutes=delta)\n",
    "              end = event + datetime.timedelta(minutes=delta)\n",
    "\n",
    "              fig, axes = plt.subplots(nrows=4,ncols=1, figsize=(20,10))\n",
    "\n",
    "              f1= pxir['Pdccdt'].loc[start:end].plot(ax=axes[0],color = 'green',label='DC Power - CdTe')\n",
    "              l1=axes[0].axhline(max_out,color='red',ls='--')\n",
    "              l1.set_label('Max Output')\n",
    "              axes[0].legend(loc='best')\n",
    "\n",
    "              f2= pxir['Paccdt'].loc[start:end].plot(ax=axes[1],label='AC Power - CdTe')\n",
    "              l2=axes[1].axhline(max_out,color='red',ls='--')\n",
    "              l2.set_label('Max Output')\n",
    "              axes[1].legend(loc='best')\n",
    "\n",
    "              f3 = pxir['Idccdt4'].loc[start:end].plot(ax=axes[2],color = 'orange',label='AVG String Current - CdTe')\n",
    "              l3=axes[2].axhline(fusecdte,color='red',ls='--')\n",
    "              l3.set_label('Max Fuse rating')\n",
    "              axes[2].legend(loc='best')\n",
    "\n",
    "              f4 = pxir['GHIP_SMP11'].loc[start:end].plot(ax=axes[3],color = 'salmon',label='GHI - SMP11')\n",
    "              l4=axes[3].axhline(sc,color='red',ls='--')\n",
    "              l4.set_label('Solar Constant')\n",
    "              axes[3].legend(loc='best')\n",
    "\n",
    "              figname =  figs_path + oie + 'd' + str(delta) + 'CdTe.jpeg'\n",
    "              fig.savefig(figname)\n",
    "              fig.clf()\n",
    "\n",
    "\n",
    "              fig, axes = plt.subplots(nrows=4,ncols=1, figsize=(20,10))\n",
    "\n",
    "              f1= pxir['Pdccdta'].loc[start:end].plot(ax=axes[0],color = 'green',label='DC Power - CdTe ARC')\n",
    "              l1=axes[0].axhline(max_out,color='red',ls='--')\n",
    "              l1.set_label('Max Output')\n",
    "              axes[0].legend(loc='best')\n",
    "\n",
    "              f2= pxir['Paccdta'].loc[start:end].plot(ax=axes[1],label='AC Power - CdTe ARC')\n",
    "              l2=axes[1].axhline(max_out,color='red',ls='--')\n",
    "              l2.set_label('Max Output')\n",
    "              axes[1].legend(loc='best')\n",
    "\n",
    "              f3 = pxir['Idccdta4'].loc[start:end].plot(ax=axes[2],color = 'orange',label='AVG String Current - CdTe ARC')\n",
    "              l3=axes[2].axhline(fusecdte,color='red',ls='--')\n",
    "              l3.set_label('Max Fuse Rating')\n",
    "              axes[2].legend(loc='best')\n",
    "\n",
    "              f4 = pxir['GHIP_SMP11'].loc[start:end].plot(ax=axes[3],color = 'salmon',label='GHI - SMP11')\n",
    "              l4=axes[3].axhline(sc,color='red',ls='--')\n",
    "              l4.set_label('Solar Constant')\n",
    "              axes[3].legend(loc='best')\n",
    "\n",
    "              figname =  figs_path + oie + 'd' + str(delta) + 'CdTeA.jpeg'\n",
    "              fig.savefig(figname)\n",
    "              fig.clf()\n",
    "\n",
    "              \n",
    "              fig, axes = plt.subplots(nrows=4,ncols=1, figsize=(20,10))\n",
    "\n",
    "              f1= pxir['Pdcpsi'].loc[start:end].plot(ax=axes[0],color = 'green',label='DC Power - mcSi')\n",
    "              l1=axes[0].axhline(max_out,color='red',ls='--')\n",
    "              l1.set_label('Max Output')\n",
    "              axes[0].legend(loc='best')\n",
    "\n",
    "              f2= pxir['Pacpsi'].loc[start:end].plot(ax=axes[1],label='AC Power - mcSi')\n",
    "              l2=axes[1].axhline(max_out,color='red',ls='--')\n",
    "              l2.set_label('Max Output')\n",
    "              axes[1].legend(loc='best')\n",
    "\n",
    "              f3 = pxir['Idccdt'].loc[start:end].plot(ax=axes[2],color = 'orange',label='String Current - mc Si')\n",
    "              l3=axes[2].axhline(fusesi,color='red',ls='--')\n",
    "              l3.set_label('Max Fuse Rating')\n",
    "              axes[2].legend(loc='best')\n",
    "\n",
    "\n",
    "              f4 = pxir['GHIP_SMP11'].loc[start:end].plot(ax=axes[3],color = 'salmon',label='GHI - SMP11')\n",
    "              l4=axes[3].axhline(sc,color='red',ls='--')\n",
    "              l4.set_label('Solar Constant')\n",
    "              axes[3].legend(loc='best')\n",
    "\n",
    "              figname =  figs_path + oie + 'd'+ str(delta) + 'PSI.jpeg'\n",
    "              fig.savefig(figname)\n",
    "              fig.clf()"
   ]
  },
  {
   "cell_type": "code",
   "execution_count": 53,
   "id": "c6bce5de",
   "metadata": {},
   "outputs": [
    {
     "data": {
      "text/plain": [
       "2.43958375"
      ]
     },
     "execution_count": 53,
     "metadata": {},
     "output_type": "execute_result"
    }
   ],
   "source": [
    "pxir['Idccdt4'].max()"
   ]
  },
  {
   "cell_type": "code",
   "execution_count": 56,
   "id": "5c5e0a78",
   "metadata": {},
   "outputs": [
    {
     "data": {
      "text/plain": [
       "2.4416915"
      ]
     },
     "execution_count": 56,
     "metadata": {},
     "output_type": "execute_result"
    }
   ],
   "source": [
    "pxir['Idccdta4'].max()"
   ]
  },
  {
   "cell_type": "code",
   "execution_count": 58,
   "id": "83845412",
   "metadata": {},
   "outputs": [
    {
     "data": {
      "text/plain": [
       "11.71618"
      ]
     },
     "execution_count": 58,
     "metadata": {},
     "output_type": "execute_result"
    }
   ],
   "source": [
    "pxir['Idcpsi'].max()"
   ]
  },
  {
   "cell_type": "code",
   "execution_count": 52,
   "id": "00c03691",
   "metadata": {
    "scrolled": true
   },
   "outputs": [
    {
     "data": {
      "text/plain": [
       "<Figure size 1440x720 with 0 Axes>"
      ]
     },
     "metadata": {},
     "output_type": "display_data"
    },
    {
     "data": {
      "text/plain": [
       "<Figure size 1440x720 with 0 Axes>"
      ]
     },
     "metadata": {},
     "output_type": "display_data"
    },
    {
     "data": {
      "text/plain": [
       "<Figure size 1440x720 with 0 Axes>"
      ]
     },
     "metadata": {},
     "output_type": "display_data"
    },
    {
     "data": {
      "text/plain": [
       "<Figure size 1440x720 with 0 Axes>"
      ]
     },
     "metadata": {},
     "output_type": "display_data"
    },
    {
     "data": {
      "text/plain": [
       "<Figure size 1440x720 with 0 Axes>"
      ]
     },
     "metadata": {},
     "output_type": "display_data"
    },
    {
     "data": {
      "text/plain": [
       "<Figure size 1440x720 with 0 Axes>"
      ]
     },
     "metadata": {},
     "output_type": "display_data"
    }
   ],
   "source": [
    "oielist6 = ['2019-09-23 14:35:00+00:00',\n",
    "            '2019-03-11 14:25:00+00:00',]\n",
    "\n",
    "deltas = [15]\n",
    "\n",
    "for oie in oielist6:\n",
    "       for delta in deltas:\n",
    "              event = pd.to_datetime(oie)\n",
    "              start = event - datetime.timedelta(minutes=delta)\n",
    "              end = event + datetime.timedelta(minutes=delta)\n",
    "\n",
    "              fig, axes = plt.subplots(nrows=4,ncols=1, figsize=(20,10))\n",
    "\n",
    "              f1= pxir['Pdccdt'].loc[start:end].plot(ax=axes[0],color = 'green',label='DC Power - CdTe')\n",
    "              l1=axes[0].axhline(max_out,color='red',ls='--')\n",
    "              l1.set_label('Max Output')\n",
    "              axes[0].legend(loc='best')\n",
    "\n",
    "              f2= pxir['Paccdt'].loc[start:end].plot(ax=axes[1],label='AC Power - CdTe')\n",
    "              l2=axes[1].axhline(max_out,color='red',ls='--')\n",
    "              l2.set_label('Max Output')\n",
    "              axes[1].legend(loc='best')\n",
    "\n",
    "              f3 = pxir['Idccdt4'].loc[start:end].plot(ax=axes[2],color = 'orange',label='AVG String Current - CdTe')\n",
    "              l3=axes[2].axhline(fusecdte,color='red',ls='--')\n",
    "              l3.set_label('Max Fuse rating')\n",
    "              axes[2].legend(loc='best')\n",
    "\n",
    "              f4 = pxir['GHIP_SMP11'].loc[start:end].plot(ax=axes[3],color = 'salmon',label='GHI - SMP11')\n",
    "              l4=axes[3].axhline(sc,color='red',ls='--')\n",
    "              l4.set_label('Solar Constant')\n",
    "              axes[3].legend(loc='best')\n",
    "\n",
    "              figname =  figs_path + oie + 'd' + str(delta) + 'CdTe.jpeg'\n",
    "              fig.savefig(figname)\n",
    "              fig.clf()\n",
    "\n",
    "\n",
    "              fig, axes = plt.subplots(nrows=4,ncols=1, figsize=(20,10))\n",
    "\n",
    "              f1= pxir['Pdccdta'].loc[start:end].plot(ax=axes[0],color = 'green',label='DC Power - CdTe ARC')\n",
    "              l1=axes[0].axhline(max_out,color='red',ls='--')\n",
    "              l1.set_label('Max Output')\n",
    "              axes[0].legend(loc='best')\n",
    "\n",
    "              f2= pxir['Paccdta'].loc[start:end].plot(ax=axes[1],label='AC Power - CdTe ARC')\n",
    "              l2=axes[1].axhline(max_out,color='red',ls='--')\n",
    "              l2.set_label('Max Output')\n",
    "              axes[1].legend(loc='best')\n",
    "\n",
    "              f3 = pxir['Idccdta4'].loc[start:end].plot(ax=axes[2],color = 'orange',label='AVG String Current - CdTe ARC')\n",
    "              l3=axes[2].axhline(fusecdte,color='red',ls='--')\n",
    "              l3.set_label('Max Fuse Rating')\n",
    "              axes[2].legend(loc='best')\n",
    "\n",
    "              f4 = pxir['GHIP_SMP11'].loc[start:end].plot(ax=axes[3],color = 'salmon',label='GHI - SMP11')\n",
    "              l4=axes[3].axhline(sc,color='red',ls='--')\n",
    "              l4.set_label('Solar Constant')\n",
    "              axes[3].legend(loc='best')\n",
    "\n",
    "              figname =  figs_path + oie + 'd' + str(delta) + 'CdTeA.jpeg'\n",
    "              fig.savefig(figname)\n",
    "              fig.clf()\n",
    "\n",
    "              \n",
    "              fig, axes = plt.subplots(nrows=4,ncols=1, figsize=(20,10))\n",
    "\n",
    "              f1= pxir['Pdcpsi'].loc[start:end].plot(ax=axes[0],color = 'green',label='DC Power - mcSi')\n",
    "              l1=axes[0].axhline(max_out,color='red',ls='--')\n",
    "              l1.set_label('Max Output')\n",
    "              axes[0].legend(loc='best')\n",
    "\n",
    "              f2= pxir['Pacpsi'].loc[start:end].plot(ax=axes[1],label='AC Power - mcSi')\n",
    "              l2=axes[1].axhline(max_out,color='red',ls='--')\n",
    "              l2.set_label('Max Output')\n",
    "              axes[1].legend(loc='best')\n",
    "\n",
    "              f3 = pxir['Idccdt'].loc[start:end].plot(ax=axes[2],color = 'orange',label='String Current - mc Si')\n",
    "              l3=axes[2].axhline(fusesi,color='red',ls='--')\n",
    "              l3.set_label('Max Fuse Rating')\n",
    "              axes[2].legend(loc='best')\n",
    "\n",
    "\n",
    "              f4 = pxir['GHIP_SMP11'].loc[start:end].plot(ax=axes[3],color = 'salmon',label='GHI - SMP11')\n",
    "              l4=axes[3].axhline(sc,color='red',ls='--')\n",
    "              l4.set_label('Solar Constant')\n",
    "              axes[3].legend(loc='best')\n",
    "\n",
    "              figname =  figs_path + oie + 'd'+ str(delta) + 'PSI.jpeg'\n",
    "              fig.savefig(figname)\n",
    "              fig.clf()\n"
   ]
  },
  {
   "cell_type": "code",
   "execution_count": 59,
   "id": "b2ac1eaa",
   "metadata": {},
   "outputs": [
    {
     "data": {
      "text/html": [
       "<div>\n",
       "<style scoped>\n",
       "    .dataframe tbody tr th:only-of-type {\n",
       "        vertical-align: middle;\n",
       "    }\n",
       "\n",
       "    .dataframe tbody tr th {\n",
       "        vertical-align: top;\n",
       "    }\n",
       "\n",
       "    .dataframe thead th {\n",
       "        text-align: right;\n",
       "    }\n",
       "</style>\n",
       "<table border=\"1\" class=\"dataframe\">\n",
       "  <thead>\n",
       "    <tr style=\"text-align: right;\">\n",
       "      <th></th>\n",
       "      <th>Pdccdt</th>\n",
       "      <th>Paccdt</th>\n",
       "      <th>Idccdt</th>\n",
       "      <th>Pdccdta</th>\n",
       "      <th>Paccdta</th>\n",
       "      <th>Idccdta</th>\n",
       "      <th>Pdcpsi</th>\n",
       "      <th>Pacpsi</th>\n",
       "      <th>Idcpsi</th>\n",
       "      <th>TGIP_SMP11_VENT</th>\n",
       "      <th>F_TGIP_SMP11_VENT</th>\n",
       "      <th>GHIP_SMP11</th>\n",
       "      <th>F_GHIP_SMP11</th>\n",
       "      <th>Idccdta4</th>\n",
       "      <th>Idccdt4</th>\n",
       "    </tr>\n",
       "  </thead>\n",
       "  <tbody>\n",
       "    <tr>\n",
       "      <th>2018-01-01 00:00:00+00:00</th>\n",
       "      <td>0.0</td>\n",
       "      <td>0.0</td>\n",
       "      <td>0.0</td>\n",
       "      <td>0.0</td>\n",
       "      <td>0.0</td>\n",
       "      <td>0.0</td>\n",
       "      <td>0.0</td>\n",
       "      <td>0.0</td>\n",
       "      <td>0.0</td>\n",
       "      <td>-0.823333</td>\n",
       "      <td>0</td>\n",
       "      <td>-2.200000</td>\n",
       "      <td>1</td>\n",
       "      <td>0.0</td>\n",
       "      <td>0.0</td>\n",
       "    </tr>\n",
       "    <tr>\n",
       "      <th>2018-01-01 00:01:00+00:00</th>\n",
       "      <td>0.0</td>\n",
       "      <td>0.0</td>\n",
       "      <td>0.0</td>\n",
       "      <td>0.0</td>\n",
       "      <td>0.0</td>\n",
       "      <td>0.0</td>\n",
       "      <td>0.0</td>\n",
       "      <td>0.0</td>\n",
       "      <td>0.0</td>\n",
       "      <td>-0.800000</td>\n",
       "      <td>0</td>\n",
       "      <td>-2.183333</td>\n",
       "      <td>1</td>\n",
       "      <td>0.0</td>\n",
       "      <td>0.0</td>\n",
       "    </tr>\n",
       "    <tr>\n",
       "      <th>2018-01-01 00:02:00+00:00</th>\n",
       "      <td>0.0</td>\n",
       "      <td>0.0</td>\n",
       "      <td>0.0</td>\n",
       "      <td>0.0</td>\n",
       "      <td>0.0</td>\n",
       "      <td>0.0</td>\n",
       "      <td>0.0</td>\n",
       "      <td>0.0</td>\n",
       "      <td>0.0</td>\n",
       "      <td>-0.800000</td>\n",
       "      <td>0</td>\n",
       "      <td>-2.185000</td>\n",
       "      <td>1</td>\n",
       "      <td>0.0</td>\n",
       "      <td>0.0</td>\n",
       "    </tr>\n",
       "    <tr>\n",
       "      <th>2018-01-01 00:03:00+00:00</th>\n",
       "      <td>0.0</td>\n",
       "      <td>0.0</td>\n",
       "      <td>0.0</td>\n",
       "      <td>0.0</td>\n",
       "      <td>0.0</td>\n",
       "      <td>0.0</td>\n",
       "      <td>0.0</td>\n",
       "      <td>0.0</td>\n",
       "      <td>0.0</td>\n",
       "      <td>-0.890000</td>\n",
       "      <td>0</td>\n",
       "      <td>-2.246667</td>\n",
       "      <td>1</td>\n",
       "      <td>0.0</td>\n",
       "      <td>0.0</td>\n",
       "    </tr>\n",
       "    <tr>\n",
       "      <th>2018-01-01 00:04:00+00:00</th>\n",
       "      <td>0.0</td>\n",
       "      <td>0.0</td>\n",
       "      <td>0.0</td>\n",
       "      <td>0.0</td>\n",
       "      <td>0.0</td>\n",
       "      <td>0.0</td>\n",
       "      <td>0.0</td>\n",
       "      <td>0.0</td>\n",
       "      <td>0.0</td>\n",
       "      <td>-1.105000</td>\n",
       "      <td>0</td>\n",
       "      <td>-2.650000</td>\n",
       "      <td>1</td>\n",
       "      <td>0.0</td>\n",
       "      <td>0.0</td>\n",
       "    </tr>\n",
       "    <tr>\n",
       "      <th>...</th>\n",
       "      <td>...</td>\n",
       "      <td>...</td>\n",
       "      <td>...</td>\n",
       "      <td>...</td>\n",
       "      <td>...</td>\n",
       "      <td>...</td>\n",
       "      <td>...</td>\n",
       "      <td>...</td>\n",
       "      <td>...</td>\n",
       "      <td>...</td>\n",
       "      <td>...</td>\n",
       "      <td>...</td>\n",
       "      <td>...</td>\n",
       "      <td>...</td>\n",
       "      <td>...</td>\n",
       "    </tr>\n",
       "    <tr>\n",
       "      <th>2020-12-31 23:55:00+00:00</th>\n",
       "      <td>0.0</td>\n",
       "      <td>0.0</td>\n",
       "      <td>0.0</td>\n",
       "      <td>0.0</td>\n",
       "      <td>0.0</td>\n",
       "      <td>0.0</td>\n",
       "      <td>0.0</td>\n",
       "      <td>0.0</td>\n",
       "      <td>0.0</td>\n",
       "      <td>-1.100000</td>\n",
       "      <td>0</td>\n",
       "      <td>-4.770000</td>\n",
       "      <td>3</td>\n",
       "      <td>0.0</td>\n",
       "      <td>0.0</td>\n",
       "    </tr>\n",
       "    <tr>\n",
       "      <th>2020-12-31 23:56:00+00:00</th>\n",
       "      <td>0.0</td>\n",
       "      <td>0.0</td>\n",
       "      <td>0.0</td>\n",
       "      <td>0.0</td>\n",
       "      <td>0.0</td>\n",
       "      <td>0.0</td>\n",
       "      <td>0.0</td>\n",
       "      <td>0.0</td>\n",
       "      <td>0.0</td>\n",
       "      <td>-1.100000</td>\n",
       "      <td>0</td>\n",
       "      <td>-4.776667</td>\n",
       "      <td>3</td>\n",
       "      <td>0.0</td>\n",
       "      <td>0.0</td>\n",
       "    </tr>\n",
       "    <tr>\n",
       "      <th>2020-12-31 23:57:00+00:00</th>\n",
       "      <td>0.0</td>\n",
       "      <td>0.0</td>\n",
       "      <td>0.0</td>\n",
       "      <td>0.0</td>\n",
       "      <td>0.0</td>\n",
       "      <td>0.0</td>\n",
       "      <td>0.0</td>\n",
       "      <td>0.0</td>\n",
       "      <td>0.0</td>\n",
       "      <td>-1.103333</td>\n",
       "      <td>0</td>\n",
       "      <td>-4.793333</td>\n",
       "      <td>3</td>\n",
       "      <td>0.0</td>\n",
       "      <td>0.0</td>\n",
       "    </tr>\n",
       "    <tr>\n",
       "      <th>2020-12-31 23:58:00+00:00</th>\n",
       "      <td>0.0</td>\n",
       "      <td>0.0</td>\n",
       "      <td>0.0</td>\n",
       "      <td>0.0</td>\n",
       "      <td>0.0</td>\n",
       "      <td>0.0</td>\n",
       "      <td>0.0</td>\n",
       "      <td>0.0</td>\n",
       "      <td>0.0</td>\n",
       "      <td>-1.100000</td>\n",
       "      <td>0</td>\n",
       "      <td>-4.800000</td>\n",
       "      <td>3</td>\n",
       "      <td>0.0</td>\n",
       "      <td>0.0</td>\n",
       "    </tr>\n",
       "    <tr>\n",
       "      <th>2020-12-31 23:59:00+00:00</th>\n",
       "      <td>0.0</td>\n",
       "      <td>0.0</td>\n",
       "      <td>0.0</td>\n",
       "      <td>0.0</td>\n",
       "      <td>0.0</td>\n",
       "      <td>0.0</td>\n",
       "      <td>0.0</td>\n",
       "      <td>0.0</td>\n",
       "      <td>0.0</td>\n",
       "      <td>-1.125000</td>\n",
       "      <td>0</td>\n",
       "      <td>-4.800000</td>\n",
       "      <td>3</td>\n",
       "      <td>0.0</td>\n",
       "      <td>0.0</td>\n",
       "    </tr>\n",
       "  </tbody>\n",
       "</table>\n",
       "<p>1504513 rows × 15 columns</p>\n",
       "</div>"
      ],
      "text/plain": [
       "                           Pdccdt  Paccdt  Idccdt  Pdccdta  Paccdta  Idccdta  \\\n",
       "2018-01-01 00:00:00+00:00     0.0     0.0     0.0      0.0      0.0      0.0   \n",
       "2018-01-01 00:01:00+00:00     0.0     0.0     0.0      0.0      0.0      0.0   \n",
       "2018-01-01 00:02:00+00:00     0.0     0.0     0.0      0.0      0.0      0.0   \n",
       "2018-01-01 00:03:00+00:00     0.0     0.0     0.0      0.0      0.0      0.0   \n",
       "2018-01-01 00:04:00+00:00     0.0     0.0     0.0      0.0      0.0      0.0   \n",
       "...                           ...     ...     ...      ...      ...      ...   \n",
       "2020-12-31 23:55:00+00:00     0.0     0.0     0.0      0.0      0.0      0.0   \n",
       "2020-12-31 23:56:00+00:00     0.0     0.0     0.0      0.0      0.0      0.0   \n",
       "2020-12-31 23:57:00+00:00     0.0     0.0     0.0      0.0      0.0      0.0   \n",
       "2020-12-31 23:58:00+00:00     0.0     0.0     0.0      0.0      0.0      0.0   \n",
       "2020-12-31 23:59:00+00:00     0.0     0.0     0.0      0.0      0.0      0.0   \n",
       "\n",
       "                           Pdcpsi  Pacpsi  Idcpsi  TGIP_SMP11_VENT  \\\n",
       "2018-01-01 00:00:00+00:00     0.0     0.0     0.0        -0.823333   \n",
       "2018-01-01 00:01:00+00:00     0.0     0.0     0.0        -0.800000   \n",
       "2018-01-01 00:02:00+00:00     0.0     0.0     0.0        -0.800000   \n",
       "2018-01-01 00:03:00+00:00     0.0     0.0     0.0        -0.890000   \n",
       "2018-01-01 00:04:00+00:00     0.0     0.0     0.0        -1.105000   \n",
       "...                           ...     ...     ...              ...   \n",
       "2020-12-31 23:55:00+00:00     0.0     0.0     0.0        -1.100000   \n",
       "2020-12-31 23:56:00+00:00     0.0     0.0     0.0        -1.100000   \n",
       "2020-12-31 23:57:00+00:00     0.0     0.0     0.0        -1.103333   \n",
       "2020-12-31 23:58:00+00:00     0.0     0.0     0.0        -1.100000   \n",
       "2020-12-31 23:59:00+00:00     0.0     0.0     0.0        -1.125000   \n",
       "\n",
       "                           F_TGIP_SMP11_VENT  GHIP_SMP11  F_GHIP_SMP11  \\\n",
       "2018-01-01 00:00:00+00:00                  0   -2.200000             1   \n",
       "2018-01-01 00:01:00+00:00                  0   -2.183333             1   \n",
       "2018-01-01 00:02:00+00:00                  0   -2.185000             1   \n",
       "2018-01-01 00:03:00+00:00                  0   -2.246667             1   \n",
       "2018-01-01 00:04:00+00:00                  0   -2.650000             1   \n",
       "...                                      ...         ...           ...   \n",
       "2020-12-31 23:55:00+00:00                  0   -4.770000             3   \n",
       "2020-12-31 23:56:00+00:00                  0   -4.776667             3   \n",
       "2020-12-31 23:57:00+00:00                  0   -4.793333             3   \n",
       "2020-12-31 23:58:00+00:00                  0   -4.800000             3   \n",
       "2020-12-31 23:59:00+00:00                  0   -4.800000             3   \n",
       "\n",
       "                           Idccdta4  Idccdt4  \n",
       "2018-01-01 00:00:00+00:00       0.0      0.0  \n",
       "2018-01-01 00:01:00+00:00       0.0      0.0  \n",
       "2018-01-01 00:02:00+00:00       0.0      0.0  \n",
       "2018-01-01 00:03:00+00:00       0.0      0.0  \n",
       "2018-01-01 00:04:00+00:00       0.0      0.0  \n",
       "...                             ...      ...  \n",
       "2020-12-31 23:55:00+00:00       0.0      0.0  \n",
       "2020-12-31 23:56:00+00:00       0.0      0.0  \n",
       "2020-12-31 23:57:00+00:00       0.0      0.0  \n",
       "2020-12-31 23:58:00+00:00       0.0      0.0  \n",
       "2020-12-31 23:59:00+00:00       0.0      0.0  \n",
       "\n",
       "[1504513 rows x 15 columns]"
      ]
     },
     "execution_count": 59,
     "metadata": {},
     "output_type": "execute_result"
    }
   ],
   "source": [
    "pxir"
   ]
  },
  {
   "cell_type": "code",
   "execution_count": 61,
   "id": "cd2cc151",
   "metadata": {},
   "outputs": [
    {
     "data": {
      "text/html": [
       "<div>\n",
       "<style scoped>\n",
       "    .dataframe tbody tr th:only-of-type {\n",
       "        vertical-align: middle;\n",
       "    }\n",
       "\n",
       "    .dataframe tbody tr th {\n",
       "        vertical-align: top;\n",
       "    }\n",
       "\n",
       "    .dataframe thead th {\n",
       "        text-align: right;\n",
       "    }\n",
       "</style>\n",
       "<table border=\"1\" class=\"dataframe\">\n",
       "  <thead>\n",
       "    <tr style=\"text-align: right;\">\n",
       "      <th></th>\n",
       "      <th>Pdccdt</th>\n",
       "      <th>Paccdt</th>\n",
       "      <th>Idccdt</th>\n",
       "      <th>Pdccdta</th>\n",
       "      <th>Paccdta</th>\n",
       "      <th>Idccdta</th>\n",
       "      <th>Pdcpsi</th>\n",
       "      <th>Pacpsi</th>\n",
       "      <th>Idcpsi</th>\n",
       "      <th>TGIP_SMP11_VENT</th>\n",
       "      <th>F_TGIP_SMP11_VENT</th>\n",
       "      <th>GHIP_SMP11</th>\n",
       "      <th>F_GHIP_SMP11</th>\n",
       "      <th>Idccdta4</th>\n",
       "      <th>Idccdt4</th>\n",
       "    </tr>\n",
       "  </thead>\n",
       "  <tbody>\n",
       "    <tr>\n",
       "      <th>2018-02-16 15:07:00+00:00</th>\n",
       "      <td>2723.936</td>\n",
       "      <td>2642.218</td>\n",
       "      <td>9.758335</td>\n",
       "      <td>2807.717</td>\n",
       "      <td>2709.319</td>\n",
       "      <td>9.554294</td>\n",
       "      <td>2381.143</td>\n",
       "      <td>2307.797</td>\n",
       "      <td>11.6053</td>\n",
       "      <td>923.222222</td>\n",
       "      <td>0</td>\n",
       "      <td>925.777778</td>\n",
       "      <td>0</td>\n",
       "      <td>2.388574</td>\n",
       "      <td>2.439584</td>\n",
       "    </tr>\n",
       "  </tbody>\n",
       "</table>\n",
       "</div>"
      ],
      "text/plain": [
       "                             Pdccdt    Paccdt    Idccdt   Pdccdta   Paccdta  \\\n",
       "2018-02-16 15:07:00+00:00  2723.936  2642.218  9.758335  2807.717  2709.319   \n",
       "\n",
       "                            Idccdta    Pdcpsi    Pacpsi   Idcpsi  \\\n",
       "2018-02-16 15:07:00+00:00  9.554294  2381.143  2307.797  11.6053   \n",
       "\n",
       "                           TGIP_SMP11_VENT  F_TGIP_SMP11_VENT  GHIP_SMP11  \\\n",
       "2018-02-16 15:07:00+00:00       923.222222                  0  925.777778   \n",
       "\n",
       "                           F_GHIP_SMP11  Idccdta4   Idccdt4  \n",
       "2018-02-16 15:07:00+00:00             0  2.388574  2.439584  "
      ]
     },
     "execution_count": 61,
     "metadata": {},
     "output_type": "execute_result"
    }
   ],
   "source": [
    "pxir[pxir.Idccdt == pxir.Idccdt.max()]"
   ]
  },
  {
   "cell_type": "code",
   "execution_count": 62,
   "id": "064cdaef",
   "metadata": {},
   "outputs": [
    {
     "data": {
      "text/html": [
       "<div>\n",
       "<style scoped>\n",
       "    .dataframe tbody tr th:only-of-type {\n",
       "        vertical-align: middle;\n",
       "    }\n",
       "\n",
       "    .dataframe tbody tr th {\n",
       "        vertical-align: top;\n",
       "    }\n",
       "\n",
       "    .dataframe thead th {\n",
       "        text-align: right;\n",
       "    }\n",
       "</style>\n",
       "<table border=\"1\" class=\"dataframe\">\n",
       "  <thead>\n",
       "    <tr style=\"text-align: right;\">\n",
       "      <th></th>\n",
       "      <th>Pdccdt</th>\n",
       "      <th>Paccdt</th>\n",
       "      <th>Idccdt</th>\n",
       "      <th>Pdccdta</th>\n",
       "      <th>Paccdta</th>\n",
       "      <th>Idccdta</th>\n",
       "      <th>Pdcpsi</th>\n",
       "      <th>Pacpsi</th>\n",
       "      <th>Idcpsi</th>\n",
       "      <th>TGIP_SMP11_VENT</th>\n",
       "      <th>F_TGIP_SMP11_VENT</th>\n",
       "      <th>GHIP_SMP11</th>\n",
       "      <th>F_GHIP_SMP11</th>\n",
       "      <th>Idccdta4</th>\n",
       "      <th>Idccdt4</th>\n",
       "    </tr>\n",
       "  </thead>\n",
       "  <tbody>\n",
       "    <tr>\n",
       "      <th>2018-01-15 16:10:00+00:00</th>\n",
       "      <td>0.0</td>\n",
       "      <td>0.0</td>\n",
       "      <td>0.0</td>\n",
       "      <td>2762.73</td>\n",
       "      <td>2679.848</td>\n",
       "      <td>9.766766</td>\n",
       "      <td>2348.882</td>\n",
       "      <td>2280.009</td>\n",
       "      <td>11.24899</td>\n",
       "      <td>1427.066667</td>\n",
       "      <td>0</td>\n",
       "      <td>1503.516667</td>\n",
       "      <td>0</td>\n",
       "      <td>2.441692</td>\n",
       "      <td>0.0</td>\n",
       "    </tr>\n",
       "  </tbody>\n",
       "</table>\n",
       "</div>"
      ],
      "text/plain": [
       "                           Pdccdt  Paccdt  Idccdt  Pdccdta   Paccdta  \\\n",
       "2018-01-15 16:10:00+00:00     0.0     0.0     0.0  2762.73  2679.848   \n",
       "\n",
       "                            Idccdta    Pdcpsi    Pacpsi    Idcpsi  \\\n",
       "2018-01-15 16:10:00+00:00  9.766766  2348.882  2280.009  11.24899   \n",
       "\n",
       "                           TGIP_SMP11_VENT  F_TGIP_SMP11_VENT   GHIP_SMP11  \\\n",
       "2018-01-15 16:10:00+00:00      1427.066667                  0  1503.516667   \n",
       "\n",
       "                           F_GHIP_SMP11  Idccdta4  Idccdt4  \n",
       "2018-01-15 16:10:00+00:00             0  2.441692      0.0  "
      ]
     },
     "execution_count": 62,
     "metadata": {},
     "output_type": "execute_result"
    }
   ],
   "source": [
    "pxir[pxir.Idccdta == pxir.Idccdta.max()]"
   ]
  },
  {
   "cell_type": "code",
   "execution_count": 63,
   "id": "00bd8baa",
   "metadata": {},
   "outputs": [
    {
     "data": {
      "text/html": [
       "<div>\n",
       "<style scoped>\n",
       "    .dataframe tbody tr th:only-of-type {\n",
       "        vertical-align: middle;\n",
       "    }\n",
       "\n",
       "    .dataframe tbody tr th {\n",
       "        vertical-align: top;\n",
       "    }\n",
       "\n",
       "    .dataframe thead th {\n",
       "        text-align: right;\n",
       "    }\n",
       "</style>\n",
       "<table border=\"1\" class=\"dataframe\">\n",
       "  <thead>\n",
       "    <tr style=\"text-align: right;\">\n",
       "      <th></th>\n",
       "      <th>Pdccdt</th>\n",
       "      <th>Paccdt</th>\n",
       "      <th>Idccdt</th>\n",
       "      <th>Pdccdta</th>\n",
       "      <th>Paccdta</th>\n",
       "      <th>Idccdta</th>\n",
       "      <th>Pdcpsi</th>\n",
       "      <th>Pacpsi</th>\n",
       "      <th>Idcpsi</th>\n",
       "      <th>TGIP_SMP11_VENT</th>\n",
       "      <th>F_TGIP_SMP11_VENT</th>\n",
       "      <th>GHIP_SMP11</th>\n",
       "      <th>F_GHIP_SMP11</th>\n",
       "      <th>Idccdta4</th>\n",
       "      <th>Idccdt4</th>\n",
       "    </tr>\n",
       "  </thead>\n",
       "  <tbody>\n",
       "    <tr>\n",
       "      <th>2018-01-15 15:30:00+00:00</th>\n",
       "      <td>2670.059</td>\n",
       "      <td>2597.988</td>\n",
       "      <td>9.199815</td>\n",
       "      <td>2726.088</td>\n",
       "      <td>2658.029</td>\n",
       "      <td>9.044946</td>\n",
       "      <td>2423.194</td>\n",
       "      <td>2350.498</td>\n",
       "      <td>11.71618</td>\n",
       "      <td>832.851667</td>\n",
       "      <td>0</td>\n",
       "      <td>880.4</td>\n",
       "      <td>0</td>\n",
       "      <td>2.261236</td>\n",
       "      <td>2.299954</td>\n",
       "    </tr>\n",
       "  </tbody>\n",
       "</table>\n",
       "</div>"
      ],
      "text/plain": [
       "                             Pdccdt    Paccdt    Idccdt   Pdccdta   Paccdta  \\\n",
       "2018-01-15 15:30:00+00:00  2670.059  2597.988  9.199815  2726.088  2658.029   \n",
       "\n",
       "                            Idccdta    Pdcpsi    Pacpsi    Idcpsi  \\\n",
       "2018-01-15 15:30:00+00:00  9.044946  2423.194  2350.498  11.71618   \n",
       "\n",
       "                           TGIP_SMP11_VENT  F_TGIP_SMP11_VENT  GHIP_SMP11  \\\n",
       "2018-01-15 15:30:00+00:00       832.851667                  0       880.4   \n",
       "\n",
       "                           F_GHIP_SMP11  Idccdta4   Idccdt4  \n",
       "2018-01-15 15:30:00+00:00             0  2.261236  2.299954  "
      ]
     },
     "execution_count": 63,
     "metadata": {},
     "output_type": "execute_result"
    }
   ],
   "source": [
    "pxir[pxir.Idcpsi == pxir.Idcpsi.max()]"
   ]
  },
  {
   "cell_type": "code",
   "execution_count": 64,
   "id": "367106d3",
   "metadata": {},
   "outputs": [
    {
     "data": {
      "text/html": [
       "<div>\n",
       "<style scoped>\n",
       "    .dataframe tbody tr th:only-of-type {\n",
       "        vertical-align: middle;\n",
       "    }\n",
       "\n",
       "    .dataframe tbody tr th {\n",
       "        vertical-align: top;\n",
       "    }\n",
       "\n",
       "    .dataframe thead th {\n",
       "        text-align: right;\n",
       "    }\n",
       "</style>\n",
       "<table border=\"1\" class=\"dataframe\">\n",
       "  <thead>\n",
       "    <tr style=\"text-align: right;\">\n",
       "      <th></th>\n",
       "      <th>Pdccdt</th>\n",
       "      <th>Paccdt</th>\n",
       "      <th>Idccdt</th>\n",
       "      <th>Pdccdta</th>\n",
       "      <th>Paccdta</th>\n",
       "      <th>Idccdta</th>\n",
       "      <th>Pdcpsi</th>\n",
       "      <th>Pacpsi</th>\n",
       "      <th>Idcpsi</th>\n",
       "      <th>TGIP_SMP11_VENT</th>\n",
       "      <th>F_TGIP_SMP11_VENT</th>\n",
       "      <th>GHIP_SMP11</th>\n",
       "      <th>F_GHIP_SMP11</th>\n",
       "      <th>Idccdta4</th>\n",
       "      <th>Idccdt4</th>\n",
       "    </tr>\n",
       "  </thead>\n",
       "  <tbody>\n",
       "    <tr>\n",
       "      <th>2020-11-19 15:42:00+00:00</th>\n",
       "      <td>2819.724</td>\n",
       "      <td>2737.014</td>\n",
       "      <td>9.013929</td>\n",
       "      <td>1478.049</td>\n",
       "      <td>1497.457</td>\n",
       "      <td>4.620766</td>\n",
       "      <td>1363.909</td>\n",
       "      <td>1322.992</td>\n",
       "      <td>5.131734</td>\n",
       "      <td>945.566667</td>\n",
       "      <td>0</td>\n",
       "      <td>1028.195</td>\n",
       "      <td>0</td>\n",
       "      <td>1.155192</td>\n",
       "      <td>2.253482</td>\n",
       "    </tr>\n",
       "  </tbody>\n",
       "</table>\n",
       "</div>"
      ],
      "text/plain": [
       "                             Pdccdt    Paccdt    Idccdt   Pdccdta   Paccdta  \\\n",
       "2020-11-19 15:42:00+00:00  2819.724  2737.014  9.013929  1478.049  1497.457   \n",
       "\n",
       "                            Idccdta    Pdcpsi    Pacpsi    Idcpsi  \\\n",
       "2020-11-19 15:42:00+00:00  4.620766  1363.909  1322.992  5.131734   \n",
       "\n",
       "                           TGIP_SMP11_VENT  F_TGIP_SMP11_VENT  GHIP_SMP11  \\\n",
       "2020-11-19 15:42:00+00:00       945.566667                  0    1028.195   \n",
       "\n",
       "                           F_GHIP_SMP11  Idccdta4   Idccdt4  \n",
       "2020-11-19 15:42:00+00:00             0  1.155192  2.253482  "
      ]
     },
     "execution_count": 64,
     "metadata": {},
     "output_type": "execute_result"
    }
   ],
   "source": [
    "pxir[pxir.Pdccdt == pxir.Pdccdt.max()]"
   ]
  },
  {
   "cell_type": "code",
   "execution_count": 65,
   "id": "59080bc8",
   "metadata": {},
   "outputs": [
    {
     "data": {
      "text/html": [
       "<div>\n",
       "<style scoped>\n",
       "    .dataframe tbody tr th:only-of-type {\n",
       "        vertical-align: middle;\n",
       "    }\n",
       "\n",
       "    .dataframe tbody tr th {\n",
       "        vertical-align: top;\n",
       "    }\n",
       "\n",
       "    .dataframe thead th {\n",
       "        text-align: right;\n",
       "    }\n",
       "</style>\n",
       "<table border=\"1\" class=\"dataframe\">\n",
       "  <thead>\n",
       "    <tr style=\"text-align: right;\">\n",
       "      <th></th>\n",
       "      <th>Pdccdt</th>\n",
       "      <th>Paccdt</th>\n",
       "      <th>Idccdt</th>\n",
       "      <th>Pdccdta</th>\n",
       "      <th>Paccdta</th>\n",
       "      <th>Idccdta</th>\n",
       "      <th>Pdcpsi</th>\n",
       "      <th>Pacpsi</th>\n",
       "      <th>Idcpsi</th>\n",
       "      <th>TGIP_SMP11_VENT</th>\n",
       "      <th>F_TGIP_SMP11_VENT</th>\n",
       "      <th>GHIP_SMP11</th>\n",
       "      <th>F_GHIP_SMP11</th>\n",
       "      <th>Idccdta4</th>\n",
       "      <th>Idccdt4</th>\n",
       "    </tr>\n",
       "  </thead>\n",
       "  <tbody>\n",
       "    <tr>\n",
       "      <th>2020-01-10 14:52:00+00:00</th>\n",
       "      <td>2573.56</td>\n",
       "      <td>2417.304</td>\n",
       "      <td>8.991018</td>\n",
       "      <td>2825.712</td>\n",
       "      <td>2733.352</td>\n",
       "      <td>8.402452</td>\n",
       "      <td>1398.141</td>\n",
       "      <td>1353.329</td>\n",
       "      <td>5.619251</td>\n",
       "      <td>1375.283333</td>\n",
       "      <td>0</td>\n",
       "      <td>1453.1</td>\n",
       "      <td>0</td>\n",
       "      <td>2.100613</td>\n",
       "      <td>2.247755</td>\n",
       "    </tr>\n",
       "  </tbody>\n",
       "</table>\n",
       "</div>"
      ],
      "text/plain": [
       "                            Pdccdt    Paccdt    Idccdt   Pdccdta   Paccdta  \\\n",
       "2020-01-10 14:52:00+00:00  2573.56  2417.304  8.991018  2825.712  2733.352   \n",
       "\n",
       "                            Idccdta    Pdcpsi    Pacpsi    Idcpsi  \\\n",
       "2020-01-10 14:52:00+00:00  8.402452  1398.141  1353.329  5.619251   \n",
       "\n",
       "                           TGIP_SMP11_VENT  F_TGIP_SMP11_VENT  GHIP_SMP11  \\\n",
       "2020-01-10 14:52:00+00:00      1375.283333                  0      1453.1   \n",
       "\n",
       "                           F_GHIP_SMP11  Idccdta4   Idccdt4  \n",
       "2020-01-10 14:52:00+00:00             0  2.100613  2.247755  "
      ]
     },
     "execution_count": 65,
     "metadata": {},
     "output_type": "execute_result"
    }
   ],
   "source": [
    "pxir[pxir.Pdccdta == pxir.Pdccdta.max()]"
   ]
  },
  {
   "cell_type": "code",
   "execution_count": 66,
   "id": "a4aa3fd6",
   "metadata": {},
   "outputs": [
    {
     "data": {
      "text/html": [
       "<div>\n",
       "<style scoped>\n",
       "    .dataframe tbody tr th:only-of-type {\n",
       "        vertical-align: middle;\n",
       "    }\n",
       "\n",
       "    .dataframe tbody tr th {\n",
       "        vertical-align: top;\n",
       "    }\n",
       "\n",
       "    .dataframe thead th {\n",
       "        text-align: right;\n",
       "    }\n",
       "</style>\n",
       "<table border=\"1\" class=\"dataframe\">\n",
       "  <thead>\n",
       "    <tr style=\"text-align: right;\">\n",
       "      <th></th>\n",
       "      <th>Pdccdt</th>\n",
       "      <th>Paccdt</th>\n",
       "      <th>Idccdt</th>\n",
       "      <th>Pdccdta</th>\n",
       "      <th>Paccdta</th>\n",
       "      <th>Idccdta</th>\n",
       "      <th>Pdcpsi</th>\n",
       "      <th>Pacpsi</th>\n",
       "      <th>Idcpsi</th>\n",
       "      <th>TGIP_SMP11_VENT</th>\n",
       "      <th>F_TGIP_SMP11_VENT</th>\n",
       "      <th>GHIP_SMP11</th>\n",
       "      <th>F_GHIP_SMP11</th>\n",
       "      <th>Idccdta4</th>\n",
       "      <th>Idccdt4</th>\n",
       "    </tr>\n",
       "  </thead>\n",
       "  <tbody>\n",
       "    <tr>\n",
       "      <th>2020-01-10 14:50:00+00:00</th>\n",
       "      <td>1675.123</td>\n",
       "      <td>1623.928</td>\n",
       "      <td>5.704953</td>\n",
       "      <td>2011.768</td>\n",
       "      <td>1953.818</td>\n",
       "      <td>5.95352</td>\n",
       "      <td>2825.304</td>\n",
       "      <td>2739.397</td>\n",
       "      <td>9.982695</td>\n",
       "      <td>1379.838333</td>\n",
       "      <td>0</td>\n",
       "      <td>1452.771667</td>\n",
       "      <td>0</td>\n",
       "      <td>1.48838</td>\n",
       "      <td>1.426238</td>\n",
       "    </tr>\n",
       "  </tbody>\n",
       "</table>\n",
       "</div>"
      ],
      "text/plain": [
       "                             Pdccdt    Paccdt    Idccdt   Pdccdta   Paccdta  \\\n",
       "2020-01-10 14:50:00+00:00  1675.123  1623.928  5.704953  2011.768  1953.818   \n",
       "\n",
       "                           Idccdta    Pdcpsi    Pacpsi    Idcpsi  \\\n",
       "2020-01-10 14:50:00+00:00  5.95352  2825.304  2739.397  9.982695   \n",
       "\n",
       "                           TGIP_SMP11_VENT  F_TGIP_SMP11_VENT   GHIP_SMP11  \\\n",
       "2020-01-10 14:50:00+00:00      1379.838333                  0  1452.771667   \n",
       "\n",
       "                           F_GHIP_SMP11  Idccdta4   Idccdt4  \n",
       "2020-01-10 14:50:00+00:00             0   1.48838  1.426238  "
      ]
     },
     "execution_count": 66,
     "metadata": {},
     "output_type": "execute_result"
    }
   ],
   "source": [
    "pxir[pxir.Pdcpsi == pxir.Pdcpsi.max()]"
   ]
  },
  {
   "cell_type": "code",
   "execution_count": 68,
   "id": "0fe976a8",
   "metadata": {},
   "outputs": [
    {
     "data": {
      "text/html": [
       "<div>\n",
       "<style scoped>\n",
       "    .dataframe tbody tr th:only-of-type {\n",
       "        vertical-align: middle;\n",
       "    }\n",
       "\n",
       "    .dataframe tbody tr th {\n",
       "        vertical-align: top;\n",
       "    }\n",
       "\n",
       "    .dataframe thead th {\n",
       "        text-align: right;\n",
       "    }\n",
       "</style>\n",
       "<table border=\"1\" class=\"dataframe\">\n",
       "  <thead>\n",
       "    <tr style=\"text-align: right;\">\n",
       "      <th></th>\n",
       "      <th>Pdccdt</th>\n",
       "      <th>Paccdt</th>\n",
       "      <th>Idccdt</th>\n",
       "      <th>Pdccdta</th>\n",
       "      <th>Paccdta</th>\n",
       "      <th>Idccdta</th>\n",
       "      <th>Pdcpsi</th>\n",
       "      <th>Pacpsi</th>\n",
       "      <th>Idcpsi</th>\n",
       "      <th>TGIP_SMP11_VENT</th>\n",
       "      <th>F_TGIP_SMP11_VENT</th>\n",
       "      <th>GHIP_SMP11</th>\n",
       "      <th>F_GHIP_SMP11</th>\n",
       "      <th>Idccdta4</th>\n",
       "      <th>Idccdt4</th>\n",
       "    </tr>\n",
       "  </thead>\n",
       "  <tbody>\n",
       "    <tr>\n",
       "      <th>2020-11-19 15:42:00+00:00</th>\n",
       "      <td>2819.724</td>\n",
       "      <td>2737.014</td>\n",
       "      <td>9.013929</td>\n",
       "      <td>1478.049</td>\n",
       "      <td>1497.457</td>\n",
       "      <td>4.620766</td>\n",
       "      <td>1363.909</td>\n",
       "      <td>1322.992</td>\n",
       "      <td>5.131734</td>\n",
       "      <td>945.566667</td>\n",
       "      <td>0</td>\n",
       "      <td>1028.195</td>\n",
       "      <td>0</td>\n",
       "      <td>1.155192</td>\n",
       "      <td>2.253482</td>\n",
       "    </tr>\n",
       "  </tbody>\n",
       "</table>\n",
       "</div>"
      ],
      "text/plain": [
       "                             Pdccdt    Paccdt    Idccdt   Pdccdta   Paccdta  \\\n",
       "2020-11-19 15:42:00+00:00  2819.724  2737.014  9.013929  1478.049  1497.457   \n",
       "\n",
       "                            Idccdta    Pdcpsi    Pacpsi    Idcpsi  \\\n",
       "2020-11-19 15:42:00+00:00  4.620766  1363.909  1322.992  5.131734   \n",
       "\n",
       "                           TGIP_SMP11_VENT  F_TGIP_SMP11_VENT  GHIP_SMP11  \\\n",
       "2020-11-19 15:42:00+00:00       945.566667                  0    1028.195   \n",
       "\n",
       "                           F_GHIP_SMP11  Idccdta4   Idccdt4  \n",
       "2020-11-19 15:42:00+00:00             0  1.155192  2.253482  "
      ]
     },
     "execution_count": 68,
     "metadata": {},
     "output_type": "execute_result"
    }
   ],
   "source": [
    "pxir[pxir.Paccdt == pxir.Paccdt.max()]"
   ]
  },
  {
   "cell_type": "code",
   "execution_count": 69,
   "id": "0c4d0048",
   "metadata": {},
   "outputs": [
    {
     "data": {
      "text/html": [
       "<div>\n",
       "<style scoped>\n",
       "    .dataframe tbody tr th:only-of-type {\n",
       "        vertical-align: middle;\n",
       "    }\n",
       "\n",
       "    .dataframe tbody tr th {\n",
       "        vertical-align: top;\n",
       "    }\n",
       "\n",
       "    .dataframe thead th {\n",
       "        text-align: right;\n",
       "    }\n",
       "</style>\n",
       "<table border=\"1\" class=\"dataframe\">\n",
       "  <thead>\n",
       "    <tr style=\"text-align: right;\">\n",
       "      <th></th>\n",
       "      <th>Pdccdt</th>\n",
       "      <th>Paccdt</th>\n",
       "      <th>Idccdt</th>\n",
       "      <th>Pdccdta</th>\n",
       "      <th>Paccdta</th>\n",
       "      <th>Idccdta</th>\n",
       "      <th>Pdcpsi</th>\n",
       "      <th>Pacpsi</th>\n",
       "      <th>Idcpsi</th>\n",
       "      <th>TGIP_SMP11_VENT</th>\n",
       "      <th>F_TGIP_SMP11_VENT</th>\n",
       "      <th>GHIP_SMP11</th>\n",
       "      <th>F_GHIP_SMP11</th>\n",
       "      <th>Idccdta4</th>\n",
       "      <th>Idccdt4</th>\n",
       "    </tr>\n",
       "  </thead>\n",
       "  <tbody>\n",
       "    <tr>\n",
       "      <th>2020-01-10 14:51:00+00:00</th>\n",
       "      <td>2196.619</td>\n",
       "      <td>2093.329</td>\n",
       "      <td>7.643565</td>\n",
       "      <td>2821.8</td>\n",
       "      <td>2741.889</td>\n",
       "      <td>8.54835</td>\n",
       "      <td>1439.206</td>\n",
       "      <td>1396.03</td>\n",
       "      <td>5.673828</td>\n",
       "      <td>883.845</td>\n",
       "      <td>0</td>\n",
       "      <td>929.178333</td>\n",
       "      <td>0</td>\n",
       "      <td>2.137087</td>\n",
       "      <td>1.910891</td>\n",
       "    </tr>\n",
       "  </tbody>\n",
       "</table>\n",
       "</div>"
      ],
      "text/plain": [
       "                             Pdccdt    Paccdt    Idccdt  Pdccdta   Paccdta  \\\n",
       "2020-01-10 14:51:00+00:00  2196.619  2093.329  7.643565   2821.8  2741.889   \n",
       "\n",
       "                           Idccdta    Pdcpsi   Pacpsi    Idcpsi  \\\n",
       "2020-01-10 14:51:00+00:00  8.54835  1439.206  1396.03  5.673828   \n",
       "\n",
       "                           TGIP_SMP11_VENT  F_TGIP_SMP11_VENT  GHIP_SMP11  \\\n",
       "2020-01-10 14:51:00+00:00          883.845                  0  929.178333   \n",
       "\n",
       "                           F_GHIP_SMP11  Idccdta4   Idccdt4  \n",
       "2020-01-10 14:51:00+00:00             0  2.137087  1.910891  "
      ]
     },
     "execution_count": 69,
     "metadata": {},
     "output_type": "execute_result"
    }
   ],
   "source": [
    "pxir[pxir.Paccdta == pxir.Paccdta.max()]"
   ]
  },
  {
   "cell_type": "code",
   "execution_count": 70,
   "id": "e7460371",
   "metadata": {},
   "outputs": [
    {
     "data": {
      "text/html": [
       "<div>\n",
       "<style scoped>\n",
       "    .dataframe tbody tr th:only-of-type {\n",
       "        vertical-align: middle;\n",
       "    }\n",
       "\n",
       "    .dataframe tbody tr th {\n",
       "        vertical-align: top;\n",
       "    }\n",
       "\n",
       "    .dataframe thead th {\n",
       "        text-align: right;\n",
       "    }\n",
       "</style>\n",
       "<table border=\"1\" class=\"dataframe\">\n",
       "  <thead>\n",
       "    <tr style=\"text-align: right;\">\n",
       "      <th></th>\n",
       "      <th>Pdccdt</th>\n",
       "      <th>Paccdt</th>\n",
       "      <th>Idccdt</th>\n",
       "      <th>Pdccdta</th>\n",
       "      <th>Paccdta</th>\n",
       "      <th>Idccdta</th>\n",
       "      <th>Pdcpsi</th>\n",
       "      <th>Pacpsi</th>\n",
       "      <th>Idcpsi</th>\n",
       "      <th>TGIP_SMP11_VENT</th>\n",
       "      <th>F_TGIP_SMP11_VENT</th>\n",
       "      <th>GHIP_SMP11</th>\n",
       "      <th>F_GHIP_SMP11</th>\n",
       "      <th>Idccdta4</th>\n",
       "      <th>Idccdt4</th>\n",
       "    </tr>\n",
       "  </thead>\n",
       "  <tbody>\n",
       "    <tr>\n",
       "      <th>2019-09-23 16:15:00+00:00</th>\n",
       "      <td>1536.584</td>\n",
       "      <td>1487.287</td>\n",
       "      <td>4.983242</td>\n",
       "      <td>2618.705</td>\n",
       "      <td>2536.982</td>\n",
       "      <td>8.034788</td>\n",
       "      <td>2821.756</td>\n",
       "      <td>2743.986</td>\n",
       "      <td>10.21678</td>\n",
       "      <td>946.183333</td>\n",
       "      <td>0</td>\n",
       "      <td>859.941667</td>\n",
       "      <td>0</td>\n",
       "      <td>2.008697</td>\n",
       "      <td>1.24581</td>\n",
       "    </tr>\n",
       "  </tbody>\n",
       "</table>\n",
       "</div>"
      ],
      "text/plain": [
       "                             Pdccdt    Paccdt    Idccdt   Pdccdta   Paccdta  \\\n",
       "2019-09-23 16:15:00+00:00  1536.584  1487.287  4.983242  2618.705  2536.982   \n",
       "\n",
       "                            Idccdta    Pdcpsi    Pacpsi    Idcpsi  \\\n",
       "2019-09-23 16:15:00+00:00  8.034788  2821.756  2743.986  10.21678   \n",
       "\n",
       "                           TGIP_SMP11_VENT  F_TGIP_SMP11_VENT  GHIP_SMP11  \\\n",
       "2019-09-23 16:15:00+00:00       946.183333                  0  859.941667   \n",
       "\n",
       "                           F_GHIP_SMP11  Idccdta4  Idccdt4  \n",
       "2019-09-23 16:15:00+00:00             0  2.008697  1.24581  "
      ]
     },
     "execution_count": 70,
     "metadata": {},
     "output_type": "execute_result"
    }
   ],
   "source": [
    "pxir[pxir.Pacpsi == pxir.Pacpsi.max()]"
   ]
  },
  {
   "cell_type": "code",
   "execution_count": 71,
   "id": "d0dcb658",
   "metadata": {},
   "outputs": [
    {
     "data": {
      "text/plain": [
       "'2019-03-11 14:25:00+00:00'"
      ]
     },
     "execution_count": 71,
     "metadata": {},
     "output_type": "execute_result"
    }
   ],
   "source": [
    "oie"
   ]
  },
  {
   "cell_type": "code",
   "execution_count": null,
   "id": "de205089",
   "metadata": {},
   "outputs": [],
   "source": []
  },
  {
   "cell_type": "code",
   "execution_count": null,
   "id": "7ceccf64",
   "metadata": {},
   "outputs": [],
   "source": []
  }
 ],
 "metadata": {
  "kernelspec": {
   "display_name": "Python 3",
   "language": "python",
   "name": "python3"
  },
  "language_info": {
   "codemirror_mode": {
    "name": "ipython",
    "version": 3
   },
   "file_extension": ".py",
   "mimetype": "text/x-python",
   "name": "python",
   "nbconvert_exporter": "python",
   "pygments_lexer": "ipython3",
   "version": "3.8.8"
  }
 },
 "nbformat": 4,
 "nbformat_minor": 5
}
