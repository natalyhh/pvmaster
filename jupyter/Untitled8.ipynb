{
 "cells": [
  {
   "cell_type": "code",
   "execution_count": 1,
   "id": "a14ea701",
   "metadata": {},
   "outputs": [],
   "source": [
    "\n",
    "from numba.core.extending import get_cython_function_address\n",
    "import pandas as pd\n",
    "import numpy as np\n",
    "import matplotlib.pyplot as plt\n",
    "import glob\n",
    "import datetime\n",
    "import pytz\n",
    "import pvlib\n",
    "\n",
    "# directory with clean and organized data per year for GHI, GTI, DIF, DNI\n",
    "main_path = \"/Users/nataly/opt/AnacondaProjects/SAPIENS/CLEAN/\" \n",
    "\n",
    "# directory to save BSRN test results\n",
    "BSRN_path = \"/Users/nataly/opt/AnacondaProjects/SAPIENS/BSRN/\" \n",
    "\n",
    "ghi =  ['GHIP_SI02pt100',\n",
    "        'GHIP_SMP11',\n",
    "        'GHIP_SMP22',\n",
    "        'GHIP_SPN1',\n",
    "        'GHIT_SMP22']\n",
    "\n",
    "fghi = ['F_GHIP_SI02pt100', \n",
    "        'F_GHIP_SMP11', \n",
    "        'F_GHIP_SMP22', \n",
    "        'F_GHIP_SPN1', \n",
    "        'F_GHIT_SMP22']\n",
    "\n",
    "gti = ['TGHIP_SI02pt100', \n",
    "       'TGHIP_SI02pt100_dirty',\n",
    "       'TGIP_SMP11_VENT']\n",
    "      \n",
    "dif = ['DfHIP_SPN1', \n",
    "       'DfHIRP_SMP11',\n",
    "       'DfHIT_SMP22',\n",
    "       'DIF_GLO_REF_SPN1']\n",
    "\n",
    "fdif = ['F_DfHIP_SPN1', \n",
    "        'F_DfHIRP_SMP11', \n",
    "        'F_DfHIT_SMP22',\n",
    "        'F_DIF_GLO_REF_SPN1']\n",
    "\n",
    "dni = ['DNI_SHP1']\n",
    "\n",
    "fdni = ['F_DNI_SHP1']\n",
    "\n",
    "months = ['2018-01', '2018-02', '2018-03', '2018-04', '2018-05', '2018-06', '2018-07', '2018-08', '2018-09', '2018-10', '2018-11', '2018-12',\n",
    "          '2019-01', '2019-02', '2019-03', '2019-04', '2019-05', '2019-06', '2019-07', '2019-08', '2019-09', '2019-10', '2019-11', '2019-12',\n",
    "          '2020-01', '2020-02', '2020-03', '2020-04', '2020-05', '2020-06', '2020-07', '2020-08', '2020-09', '2020-10', '2020-11', '2020-12',\n",
    "          '2021-01']\n",
    "\n",
    "years = ['2018', '2019', '2020', '2021']\n",
    "#years = ['2019', '2020', '2021']\n",
    "#years = ['2020', '2021']\n",
    "\n",
    "\n",
    "\n",
    "#BSRN TEST\n",
    "\n",
    "# latitude, longitude, name, altitude, timezone - data retrieved in ETC/GMT - as plotted = noon around 3 pm\n",
    "location = pvlib.location.Location(-27.430891, -48.441406, tz = 'Etc/GMT', altitude= 2.74, name = 'Florianopolis')  # check for daylight savings 'Etc/GMT-3' 'Brazil/East' 'America/Sao_Paulo'\n",
    "\n",
    "missing = pd.DataFrame(columns= ['days'], index = years) # count data record missing in a year, for each year. IN THE DATALOGGER. individual sensor may have empty entries not accounted for\n",
    "\n",
    "ghiFLAG = pd.DataFrame(columns = ['PPmax', 'PPmin', 'ERmax', 'ERmin', fghi])\n",
    "\n",
    "difFLAG = pd.DataFrame(columns = ['PPmax', 'PPmin', 'ERmax', 'ERmin', fdif])  \n",
    "\n",
    "dniFLAG = pd.DataFrame(columns = ['PPmax', 'PPmin', 'ERmax', 'ERmin', fdni])\n",
    "\n",
    "PPmin = -4  # minimum physically possible limit\n",
    "ERmin = -2  # minimum extremely rare limit\n",
    "\n",
    "flags = [-1, #NaN\n",
    "         -1, #-9999   - apparently did not appear?!?! TEST: create specific flag to track it.\n",
    "          3, # too low PP\n",
    "          1, # too low ER\n",
    "          2, # too high ER\n",
    "          4] # too high PP\n",
    "\n",
    "ghiflagcount = pd.DataFrame(columns= [ghi], index = [-1, 0, 1, 2, 3, 4], dtype = int) \n",
    "difflagcount = pd.DataFrame(columns= [dif], index = [-1, 0, 1, 2, 3, 4], dtype = int) \n",
    "dniflagcount = pd.DataFrame(columns= [dni], index = [-1, 0, 1, 2, 3, 4], dtype = int) \n",
    "\n",
    "\n",
    "#### end definitions"
   ]
  },
  {
   "cell_type": "code",
   "execution_count": 2,
   "id": "745339e0",
   "metadata": {},
   "outputs": [],
   "source": [
    "location = pvlib.location.Location(-27.430891, -48.441406, tz = 'Etc/GMT', altitude= 2.74, name = 'Florianopolis')  # check for daylight savings 'Etc/GMT-3' 'Brazil/East' 'America/Sao_Paulo'\n",
    "\n",
    "missing = pd.DataFrame(columns= ['days'], index = years) # count data record missing in a year, for each year. IN THE DATALOGGER. individual sensor may have empty entries not accounted for\n",
    "\n",
    "ghiFLAG = pd.DataFrame(columns = ['PPmax', 'PPmin', 'ERmax', 'ERmin', fghi])\n",
    "\n",
    "difFLAG = pd.DataFrame(columns = ['PPmax', 'PPmin', 'ERmax', 'ERmin', fdif])  \n",
    "\n",
    "dniFLAG = pd.DataFrame(columns = ['PPmax', 'PPmin', 'ERmax', 'ERmin', fdni])\n",
    "\n",
    "PPmin = -4  # minimum physically possible limit\n",
    "ERmin = -2  # minimum extremely rare limit\n",
    "\n",
    "flags = [-1, #NaN\n",
    "         -1, #-9999   - apparently did not appear?!?! TEST: create specific flag to track it.\n",
    "          3, # too low PP\n",
    "          1, # too low ER\n",
    "          2, # too high ER\n",
    "          4] # too high PP\n",
    "\n",
    "ghiflagcount = pd.DataFrame(columns= [ghi], index = [-1, 0, 1, 2, 3, 4], dtype = int) \n",
    "difflagcount = pd.DataFrame(columns= [dif], index = [-1, 0, 1, 2, 3, 4], dtype = int) \n",
    "dniflagcount = pd.DataFrame(columns= [dni], index = [-1, 0, 1, 2, 3, 4], dtype = int) "
   ]
  },
  {
   "cell_type": "code",
   "execution_count": 3,
   "id": "3b93f05c",
   "metadata": {},
   "outputs": [
    {
     "data": {
      "text/plain": [
       "['2018', '2019', '2020', '2021']"
      ]
     },
     "execution_count": 3,
     "metadata": {},
     "output_type": "execute_result"
    }
   ],
   "source": [
    "years"
   ]
  },
  {
   "cell_type": "code",
   "execution_count": 4,
   "id": "45599ae5",
   "metadata": {},
   "outputs": [],
   "source": [
    "year = years[0]"
   ]
  },
  {
   "cell_type": "code",
   "execution_count": 5,
   "id": "bfb19a38",
   "metadata": {},
   "outputs": [
    {
     "data": {
      "text/plain": [
       "'2018'"
      ]
     },
     "execution_count": 5,
     "metadata": {},
     "output_type": "execute_result"
    }
   ],
   "source": [
    "year"
   ]
  },
  {
   "cell_type": "code",
   "execution_count": 6,
   "id": "362f19c9",
   "metadata": {},
   "outputs": [
    {
     "ename": "TypeError",
     "evalue": "unhashable type: 'list'",
     "output_type": "error",
     "traceback": [
      "\u001b[0;31m---------------------------------------------------------------------------\u001b[0m",
      "\u001b[0;31mTypeError\u001b[0m                                 Traceback (most recent call last)",
      "\u001b[0;32mpandas/_libs/hashtable_class_helper.pxi\u001b[0m in \u001b[0;36mpandas._libs.hashtable.PyObjectHashTable.map_locations\u001b[0;34m()\u001b[0m\n",
      "\u001b[0;31mTypeError\u001b[0m: unhashable type: 'list'"
     ]
    },
    {
     "name": "stderr",
     "output_type": "stream",
     "text": [
      "Exception ignored in: 'pandas._libs.index.IndexEngine._call_map_locations'\n",
      "Traceback (most recent call last):\n",
      "  File \"pandas/_libs/hashtable_class_helper.pxi\", line 4588, in pandas._libs.hashtable.PyObjectHashTable.map_locations\n",
      "TypeError: unhashable type: 'list'\n"
     ]
    }
   ],
   "source": [
    "    dfghi = pd.read_pickle(main_path+year+'GHI.pkl')\n",
    "    #dfgti = pd.read_pickle(main_path+year+'GTI.pkl')\n",
    "    #dfdif = pd.read_pickle(main_path+year+'DIF.pkl')\n",
    "    #dfdni = pd.read_pickle(main_path+year+'DNI.pkl')\n",
    "\n",
    "    dfghi.index = dfghi.index.tz_localize(location.tz)\n",
    "    #dfgti.index = dfgti.index.tz_localize(location.tz)\n",
    "    #dfdif.index = dfdif.index.tz_localize(location.tz)\n",
    "    #dfdni.index = dfdni.index.tz_localize(location.tz)\n",
    "\n",
    "    naive_times = pd.date_range(start = dfghi.index.min(), end = dfghi.index.max(), freq='1s', tz = location.tz)\n",
    "    naive_times = pd.DatetimeIndex(naive_times)   # PROBLEM: WILL HAVE TO DEAL WITH MISSING VALUES\n",
    "\n",
    "    missing.loc[year] = (len(naive_times) - len(dfghi.index))/3600/24\n",
    "\n",
    "    eth = pvlib.irradiance.get_extra_radiation(naive_times, solar_constant = 1366.1, method = 'nrel').to_frame()\n",
    "    solpos = pvlib.solarposition.get_solarposition(naive_times, location.latitude, location.longitude, location.altitude, pressure = 101293, temperature = 25)\n",
    "\n",
    "    #cosSZA = pd.DataFrame(index = naive_times, columns=['caz'])\n",
    "    cosSZA = np.cos(np.deg2rad(solpos.azimuth)).to_frame()\n",
    "   \n",
    "    ghiFLAG['PPmax'] = eth[0]*1.5*(cosSZA.azimuth**(1.2)) + 100   # PPMAX TOO LOW! CHECK PROBLEMS WITH CALCULATION\n",
    "    ghiFLAG['PPmin'] = PPmin\n",
    "    ghiFLAG['ERmax'] = eth[0]*1.2*(cosSZA.azimuth**(1.2)) + 50\n",
    "    ghiFLAG['ERmin'] = ERmin\n"
   ]
  },
  {
   "cell_type": "code",
   "execution_count": 11,
   "id": "ee8b3930",
   "metadata": {},
   "outputs": [],
   "source": [
    "    ghiFLAG = pd.DataFrame(columns = ['PPmax', 'PPmin', 'ERmax', 'ERmin', \n",
    "                                  'F_GHIP_SI02pt100', 'F_GHIP_SMP11', \n",
    "                                  'F_GHIP_SMP22', 'F_GHIP_SPN1', 'F_GHIT_SMP22'])\n",
    "    \n",
    "    ghiFLAG['PPmax'] = eth[0]*1.5*(cosSZA.azimuth**(1.2)) + 100   # PPMAX TOO LOW! CHECK PROBLEMS WITH CALCULATION\n",
    "    ghiFLAG['PPmin'] = PPmin\n",
    "    ghiFLAG['ERmax'] = eth[0]*1.2*(cosSZA.azimuth**(1.2)) + 50\n",
    "    ghiFLAG['ERmin'] = ERmin\n"
   ]
  },
  {
   "cell_type": "code",
   "execution_count": 12,
   "id": "49266b66",
   "metadata": {},
   "outputs": [],
   "source": [
    "   ghiFLAG = pd.merge(ghiFLAG, dfghi, left_index = True, right_index = True, how = 'outer')"
   ]
  },
  {
   "cell_type": "code",
   "execution_count": 13,
   "id": "baa12698",
   "metadata": {},
   "outputs": [
    {
     "data": {
      "text/html": [
       "<div>\n",
       "<style scoped>\n",
       "    .dataframe tbody tr th:only-of-type {\n",
       "        vertical-align: middle;\n",
       "    }\n",
       "\n",
       "    .dataframe tbody tr th {\n",
       "        vertical-align: top;\n",
       "    }\n",
       "\n",
       "    .dataframe thead th {\n",
       "        text-align: right;\n",
       "    }\n",
       "</style>\n",
       "<table border=\"1\" class=\"dataframe\">\n",
       "  <thead>\n",
       "    <tr style=\"text-align: right;\">\n",
       "      <th></th>\n",
       "      <th>apparent_zenith</th>\n",
       "      <th>zenith</th>\n",
       "      <th>apparent_elevation</th>\n",
       "      <th>elevation</th>\n",
       "      <th>azimuth</th>\n",
       "      <th>equation_of_time</th>\n",
       "    </tr>\n",
       "  </thead>\n",
       "  <tbody>\n",
       "    <tr>\n",
       "      <th>2018-01-01 00:00:00+00:00</th>\n",
       "      <td>110.663146</td>\n",
       "      <td>110.663146</td>\n",
       "      <td>-20.663146</td>\n",
       "      <td>-20.663146</td>\n",
       "      <td>228.196556</td>\n",
       "      <td>-3.326452</td>\n",
       "    </tr>\n",
       "    <tr>\n",
       "      <th>2018-01-01 00:00:01+00:00</th>\n",
       "      <td>110.665902</td>\n",
       "      <td>110.665902</td>\n",
       "      <td>-20.665902</td>\n",
       "      <td>-20.665902</td>\n",
       "      <td>228.193709</td>\n",
       "      <td>-3.326457</td>\n",
       "    </tr>\n",
       "    <tr>\n",
       "      <th>2018-01-01 00:00:02+00:00</th>\n",
       "      <td>110.668658</td>\n",
       "      <td>110.668658</td>\n",
       "      <td>-20.668658</td>\n",
       "      <td>-20.668658</td>\n",
       "      <td>228.190861</td>\n",
       "      <td>-3.326462</td>\n",
       "    </tr>\n",
       "    <tr>\n",
       "      <th>2018-01-01 00:00:03+00:00</th>\n",
       "      <td>110.671415</td>\n",
       "      <td>110.671415</td>\n",
       "      <td>-20.671415</td>\n",
       "      <td>-20.671415</td>\n",
       "      <td>228.188013</td>\n",
       "      <td>-3.326468</td>\n",
       "    </tr>\n",
       "    <tr>\n",
       "      <th>2018-01-01 00:00:04+00:00</th>\n",
       "      <td>110.674171</td>\n",
       "      <td>110.674171</td>\n",
       "      <td>-20.674171</td>\n",
       "      <td>-20.674171</td>\n",
       "      <td>228.185165</td>\n",
       "      <td>-3.326473</td>\n",
       "    </tr>\n",
       "    <tr>\n",
       "      <th>...</th>\n",
       "      <td>...</td>\n",
       "      <td>...</td>\n",
       "      <td>...</td>\n",
       "      <td>...</td>\n",
       "      <td>...</td>\n",
       "      <td>...</td>\n",
       "    </tr>\n",
       "    <tr>\n",
       "      <th>2018-12-31 17:20:00+00:00</th>\n",
       "      <td>28.111393</td>\n",
       "      <td>28.119990</td>\n",
       "      <td>61.888607</td>\n",
       "      <td>61.880010</td>\n",
       "      <td>272.000620</td>\n",
       "      <td>-3.063584</td>\n",
       "    </tr>\n",
       "    <tr>\n",
       "      <th>2018-12-31 17:20:01+00:00</th>\n",
       "      <td>28.115087</td>\n",
       "      <td>28.123685</td>\n",
       "      <td>61.884913</td>\n",
       "      <td>61.876315</td>\n",
       "      <td>271.998461</td>\n",
       "      <td>-3.063589</td>\n",
       "    </tr>\n",
       "    <tr>\n",
       "      <th>2018-12-31 17:20:02+00:00</th>\n",
       "      <td>28.118781</td>\n",
       "      <td>28.127381</td>\n",
       "      <td>61.881219</td>\n",
       "      <td>61.872619</td>\n",
       "      <td>271.996303</td>\n",
       "      <td>-3.063595</td>\n",
       "    </tr>\n",
       "    <tr>\n",
       "      <th>2018-12-31 17:20:03+00:00</th>\n",
       "      <td>28.122475</td>\n",
       "      <td>28.131076</td>\n",
       "      <td>61.877525</td>\n",
       "      <td>61.868924</td>\n",
       "      <td>271.994146</td>\n",
       "      <td>-3.063600</td>\n",
       "    </tr>\n",
       "    <tr>\n",
       "      <th>2018-12-31 17:20:04+00:00</th>\n",
       "      <td>28.126169</td>\n",
       "      <td>28.134771</td>\n",
       "      <td>61.873831</td>\n",
       "      <td>61.865229</td>\n",
       "      <td>271.991988</td>\n",
       "      <td>-3.063606</td>\n",
       "    </tr>\n",
       "  </tbody>\n",
       "</table>\n",
       "<p>31512005 rows × 6 columns</p>\n",
       "</div>"
      ],
      "text/plain": [
       "                           apparent_zenith      zenith  apparent_elevation  \\\n",
       "2018-01-01 00:00:00+00:00       110.663146  110.663146          -20.663146   \n",
       "2018-01-01 00:00:01+00:00       110.665902  110.665902          -20.665902   \n",
       "2018-01-01 00:00:02+00:00       110.668658  110.668658          -20.668658   \n",
       "2018-01-01 00:00:03+00:00       110.671415  110.671415          -20.671415   \n",
       "2018-01-01 00:00:04+00:00       110.674171  110.674171          -20.674171   \n",
       "...                                    ...         ...                 ...   \n",
       "2018-12-31 17:20:00+00:00        28.111393   28.119990           61.888607   \n",
       "2018-12-31 17:20:01+00:00        28.115087   28.123685           61.884913   \n",
       "2018-12-31 17:20:02+00:00        28.118781   28.127381           61.881219   \n",
       "2018-12-31 17:20:03+00:00        28.122475   28.131076           61.877525   \n",
       "2018-12-31 17:20:04+00:00        28.126169   28.134771           61.873831   \n",
       "\n",
       "                           elevation     azimuth  equation_of_time  \n",
       "2018-01-01 00:00:00+00:00 -20.663146  228.196556         -3.326452  \n",
       "2018-01-01 00:00:01+00:00 -20.665902  228.193709         -3.326457  \n",
       "2018-01-01 00:00:02+00:00 -20.668658  228.190861         -3.326462  \n",
       "2018-01-01 00:00:03+00:00 -20.671415  228.188013         -3.326468  \n",
       "2018-01-01 00:00:04+00:00 -20.674171  228.185165         -3.326473  \n",
       "...                              ...         ...               ...  \n",
       "2018-12-31 17:20:00+00:00  61.880010  272.000620         -3.063584  \n",
       "2018-12-31 17:20:01+00:00  61.876315  271.998461         -3.063589  \n",
       "2018-12-31 17:20:02+00:00  61.872619  271.996303         -3.063595  \n",
       "2018-12-31 17:20:03+00:00  61.868924  271.994146         -3.063600  \n",
       "2018-12-31 17:20:04+00:00  61.865229  271.991988         -3.063606  \n",
       "\n",
       "[31512005 rows x 6 columns]"
      ]
     },
     "execution_count": 13,
     "metadata": {},
     "output_type": "execute_result"
    }
   ],
   "source": [
    "solpos"
   ]
  },
  {
   "cell_type": "code",
   "execution_count": 16,
   "id": "abc28ada",
   "metadata": {
    "scrolled": true
   },
   "outputs": [
    {
     "data": {
      "text/plain": [
       "(31512005, 1)"
      ]
     },
     "execution_count": 16,
     "metadata": {},
     "output_type": "execute_result"
    }
   ],
   "source": [
    "eth.shape"
   ]
  },
  {
   "cell_type": "code",
   "execution_count": 17,
   "id": "706b5554",
   "metadata": {},
   "outputs": [
    {
     "data": {
      "text/plain": [
       "(31690884, 14)"
      ]
     },
     "execution_count": 17,
     "metadata": {},
     "output_type": "execute_result"
    }
   ],
   "source": [
    "ghiFLAG.shape"
   ]
  },
  {
   "cell_type": "code",
   "execution_count": 29,
   "id": "6c830c46",
   "metadata": {},
   "outputs": [
    {
     "data": {
      "text/html": [
       "<div>\n",
       "<style scoped>\n",
       "    .dataframe tbody tr th:only-of-type {\n",
       "        vertical-align: middle;\n",
       "    }\n",
       "\n",
       "    .dataframe tbody tr th {\n",
       "        vertical-align: top;\n",
       "    }\n",
       "\n",
       "    .dataframe thead th {\n",
       "        text-align: right;\n",
       "    }\n",
       "</style>\n",
       "<table border=\"1\" class=\"dataframe\">\n",
       "  <thead>\n",
       "    <tr style=\"text-align: right;\">\n",
       "      <th></th>\n",
       "      <th>0</th>\n",
       "    </tr>\n",
       "  </thead>\n",
       "  <tbody>\n",
       "    <tr>\n",
       "      <th>2018-01-01 00:00:00+00:00</th>\n",
       "      <td>1412.893619</td>\n",
       "    </tr>\n",
       "    <tr>\n",
       "      <th>2018-01-01 00:00:01+00:00</th>\n",
       "      <td>1412.893619</td>\n",
       "    </tr>\n",
       "    <tr>\n",
       "      <th>2018-01-01 00:00:02+00:00</th>\n",
       "      <td>1412.893620</td>\n",
       "    </tr>\n",
       "    <tr>\n",
       "      <th>2018-01-01 00:00:03+00:00</th>\n",
       "      <td>1412.893620</td>\n",
       "    </tr>\n",
       "    <tr>\n",
       "      <th>2018-01-01 00:00:04+00:00</th>\n",
       "      <td>1412.893621</td>\n",
       "    </tr>\n",
       "    <tr>\n",
       "      <th>...</th>\n",
       "      <td>...</td>\n",
       "    </tr>\n",
       "    <tr>\n",
       "      <th>2018-12-31 17:20:00+00:00</th>\n",
       "      <td>1412.854349</td>\n",
       "    </tr>\n",
       "    <tr>\n",
       "      <th>2018-12-31 17:20:01+00:00</th>\n",
       "      <td>1412.854350</td>\n",
       "    </tr>\n",
       "    <tr>\n",
       "      <th>2018-12-31 17:20:02+00:00</th>\n",
       "      <td>1412.854350</td>\n",
       "    </tr>\n",
       "    <tr>\n",
       "      <th>2018-12-31 17:20:03+00:00</th>\n",
       "      <td>1412.854351</td>\n",
       "    </tr>\n",
       "    <tr>\n",
       "      <th>2018-12-31 17:20:04+00:00</th>\n",
       "      <td>1412.854351</td>\n",
       "    </tr>\n",
       "  </tbody>\n",
       "</table>\n",
       "<p>31512005 rows × 1 columns</p>\n",
       "</div>"
      ],
      "text/plain": [
       "                                     0\n",
       "2018-01-01 00:00:00+00:00  1412.893619\n",
       "2018-01-01 00:00:01+00:00  1412.893619\n",
       "2018-01-01 00:00:02+00:00  1412.893620\n",
       "2018-01-01 00:00:03+00:00  1412.893620\n",
       "2018-01-01 00:00:04+00:00  1412.893621\n",
       "...                                ...\n",
       "2018-12-31 17:20:00+00:00  1412.854349\n",
       "2018-12-31 17:20:01+00:00  1412.854350\n",
       "2018-12-31 17:20:02+00:00  1412.854350\n",
       "2018-12-31 17:20:03+00:00  1412.854351\n",
       "2018-12-31 17:20:04+00:00  1412.854351\n",
       "\n",
       "[31512005 rows x 1 columns]"
      ]
     },
     "execution_count": 29,
     "metadata": {},
     "output_type": "execute_result"
    }
   ],
   "source": [
    "eth\n"
   ]
  },
  {
   "cell_type": "code",
   "execution_count": 33,
   "id": "e10675a8",
   "metadata": {},
   "outputs": [],
   "source": [
    "eth.rename(columns= {0: \"eth\"}, inplace=True)"
   ]
  },
  {
   "cell_type": "code",
   "execution_count": 34,
   "id": "c0471ad3",
   "metadata": {},
   "outputs": [
    {
     "data": {
      "text/html": [
       "<div>\n",
       "<style scoped>\n",
       "    .dataframe tbody tr th:only-of-type {\n",
       "        vertical-align: middle;\n",
       "    }\n",
       "\n",
       "    .dataframe tbody tr th {\n",
       "        vertical-align: top;\n",
       "    }\n",
       "\n",
       "    .dataframe thead th {\n",
       "        text-align: right;\n",
       "    }\n",
       "</style>\n",
       "<table border=\"1\" class=\"dataframe\">\n",
       "  <thead>\n",
       "    <tr style=\"text-align: right;\">\n",
       "      <th></th>\n",
       "      <th>eth</th>\n",
       "    </tr>\n",
       "  </thead>\n",
       "  <tbody>\n",
       "    <tr>\n",
       "      <th>2018-01-01 00:00:00+00:00</th>\n",
       "      <td>1412.893619</td>\n",
       "    </tr>\n",
       "    <tr>\n",
       "      <th>2018-01-01 00:00:01+00:00</th>\n",
       "      <td>1412.893619</td>\n",
       "    </tr>\n",
       "    <tr>\n",
       "      <th>2018-01-01 00:00:02+00:00</th>\n",
       "      <td>1412.893620</td>\n",
       "    </tr>\n",
       "    <tr>\n",
       "      <th>2018-01-01 00:00:03+00:00</th>\n",
       "      <td>1412.893620</td>\n",
       "    </tr>\n",
       "    <tr>\n",
       "      <th>2018-01-01 00:00:04+00:00</th>\n",
       "      <td>1412.893621</td>\n",
       "    </tr>\n",
       "    <tr>\n",
       "      <th>...</th>\n",
       "      <td>...</td>\n",
       "    </tr>\n",
       "    <tr>\n",
       "      <th>2018-12-31 17:20:00+00:00</th>\n",
       "      <td>1412.854349</td>\n",
       "    </tr>\n",
       "    <tr>\n",
       "      <th>2018-12-31 17:20:01+00:00</th>\n",
       "      <td>1412.854350</td>\n",
       "    </tr>\n",
       "    <tr>\n",
       "      <th>2018-12-31 17:20:02+00:00</th>\n",
       "      <td>1412.854350</td>\n",
       "    </tr>\n",
       "    <tr>\n",
       "      <th>2018-12-31 17:20:03+00:00</th>\n",
       "      <td>1412.854351</td>\n",
       "    </tr>\n",
       "    <tr>\n",
       "      <th>2018-12-31 17:20:04+00:00</th>\n",
       "      <td>1412.854351</td>\n",
       "    </tr>\n",
       "  </tbody>\n",
       "</table>\n",
       "<p>31512005 rows × 1 columns</p>\n",
       "</div>"
      ],
      "text/plain": [
       "                                   eth\n",
       "2018-01-01 00:00:00+00:00  1412.893619\n",
       "2018-01-01 00:00:01+00:00  1412.893619\n",
       "2018-01-01 00:00:02+00:00  1412.893620\n",
       "2018-01-01 00:00:03+00:00  1412.893620\n",
       "2018-01-01 00:00:04+00:00  1412.893621\n",
       "...                                ...\n",
       "2018-12-31 17:20:00+00:00  1412.854349\n",
       "2018-12-31 17:20:01+00:00  1412.854350\n",
       "2018-12-31 17:20:02+00:00  1412.854350\n",
       "2018-12-31 17:20:03+00:00  1412.854351\n",
       "2018-12-31 17:20:04+00:00  1412.854351\n",
       "\n",
       "[31512005 rows x 1 columns]"
      ]
     },
     "execution_count": 34,
     "metadata": {},
     "output_type": "execute_result"
    }
   ],
   "source": [
    "eth"
   ]
  },
  {
   "cell_type": "code",
   "execution_count": null,
   "id": "21a342cf",
   "metadata": {},
   "outputs": [],
   "source": []
  },
  {
   "cell_type": "code",
   "execution_count": null,
   "id": "e07e7f48",
   "metadata": {},
   "outputs": [],
   "source": []
  },
  {
   "cell_type": "code",
   "execution_count": 19,
   "id": "94caea55",
   "metadata": {},
   "outputs": [
    {
     "data": {
      "text/html": [
       "<div>\n",
       "<style scoped>\n",
       "    .dataframe tbody tr th:only-of-type {\n",
       "        vertical-align: middle;\n",
       "    }\n",
       "\n",
       "    .dataframe tbody tr th {\n",
       "        vertical-align: top;\n",
       "    }\n",
       "\n",
       "    .dataframe thead th {\n",
       "        text-align: right;\n",
       "    }\n",
       "</style>\n",
       "<table border=\"1\" class=\"dataframe\">\n",
       "  <thead>\n",
       "    <tr style=\"text-align: right;\">\n",
       "      <th></th>\n",
       "      <th>PPmax</th>\n",
       "      <th>PPmin</th>\n",
       "      <th>ERmax</th>\n",
       "      <th>ERmin</th>\n",
       "      <th>F_GHIP_SI02pt100</th>\n",
       "      <th>F_GHIP_SMP11</th>\n",
       "      <th>F_GHIP_SMP22</th>\n",
       "      <th>F_GHIP_SPN1</th>\n",
       "      <th>F_GHIT_SMP22</th>\n",
       "      <th>GHIP_SI02pt100</th>\n",
       "      <th>GHIP_SMP11</th>\n",
       "      <th>GHIP_SMP22</th>\n",
       "      <th>GHIP_SPN1</th>\n",
       "      <th>GHIT_SMP22</th>\n",
       "    </tr>\n",
       "  </thead>\n",
       "  <tbody>\n",
       "    <tr>\n",
       "      <th>2018-01-01 00:00:00+00:00</th>\n",
       "      <td>NaN</td>\n",
       "      <td>-4</td>\n",
       "      <td>NaN</td>\n",
       "      <td>-2</td>\n",
       "      <td>NaN</td>\n",
       "      <td>NaN</td>\n",
       "      <td>NaN</td>\n",
       "      <td>NaN</td>\n",
       "      <td>NaN</td>\n",
       "      <td>-0.059</td>\n",
       "      <td>-2.2</td>\n",
       "      <td>0.3</td>\n",
       "      <td>0.825</td>\n",
       "      <td>0.0</td>\n",
       "    </tr>\n",
       "    <tr>\n",
       "      <th>2018-01-01 00:00:01+00:00</th>\n",
       "      <td>NaN</td>\n",
       "      <td>-4</td>\n",
       "      <td>NaN</td>\n",
       "      <td>-2</td>\n",
       "      <td>NaN</td>\n",
       "      <td>NaN</td>\n",
       "      <td>NaN</td>\n",
       "      <td>NaN</td>\n",
       "      <td>NaN</td>\n",
       "      <td>-0.059</td>\n",
       "      <td>-2.2</td>\n",
       "      <td>0.3</td>\n",
       "      <td>2.311</td>\n",
       "      <td>0.0</td>\n",
       "    </tr>\n",
       "    <tr>\n",
       "      <th>2018-01-01 00:00:02+00:00</th>\n",
       "      <td>NaN</td>\n",
       "      <td>-4</td>\n",
       "      <td>NaN</td>\n",
       "      <td>-2</td>\n",
       "      <td>NaN</td>\n",
       "      <td>NaN</td>\n",
       "      <td>NaN</td>\n",
       "      <td>NaN</td>\n",
       "      <td>NaN</td>\n",
       "      <td>0.000</td>\n",
       "      <td>-2.2</td>\n",
       "      <td>0.3</td>\n",
       "      <td>1.321</td>\n",
       "      <td>0.0</td>\n",
       "    </tr>\n",
       "    <tr>\n",
       "      <th>2018-01-01 00:00:03+00:00</th>\n",
       "      <td>NaN</td>\n",
       "      <td>-4</td>\n",
       "      <td>NaN</td>\n",
       "      <td>-2</td>\n",
       "      <td>NaN</td>\n",
       "      <td>NaN</td>\n",
       "      <td>NaN</td>\n",
       "      <td>NaN</td>\n",
       "      <td>NaN</td>\n",
       "      <td>0.000</td>\n",
       "      <td>-2.2</td>\n",
       "      <td>0.3</td>\n",
       "      <td>2.807</td>\n",
       "      <td>0.0</td>\n",
       "    </tr>\n",
       "    <tr>\n",
       "      <th>2018-01-01 00:00:04+00:00</th>\n",
       "      <td>NaN</td>\n",
       "      <td>-4</td>\n",
       "      <td>NaN</td>\n",
       "      <td>-2</td>\n",
       "      <td>NaN</td>\n",
       "      <td>NaN</td>\n",
       "      <td>NaN</td>\n",
       "      <td>NaN</td>\n",
       "      <td>NaN</td>\n",
       "      <td>-0.059</td>\n",
       "      <td>-2.2</td>\n",
       "      <td>0.3</td>\n",
       "      <td>1.651</td>\n",
       "      <td>0.0</td>\n",
       "    </tr>\n",
       "    <tr>\n",
       "      <th>...</th>\n",
       "      <td>...</td>\n",
       "      <td>...</td>\n",
       "      <td>...</td>\n",
       "      <td>...</td>\n",
       "      <td>...</td>\n",
       "      <td>...</td>\n",
       "      <td>...</td>\n",
       "      <td>...</td>\n",
       "      <td>...</td>\n",
       "      <td>...</td>\n",
       "      <td>...</td>\n",
       "      <td>...</td>\n",
       "      <td>...</td>\n",
       "      <td>...</td>\n",
       "    </tr>\n",
       "    <tr>\n",
       "      <th>2018-12-31 17:20:00+00:00</th>\n",
       "      <td>137.821009</td>\n",
       "      <td>-4</td>\n",
       "      <td>80.256807</td>\n",
       "      <td>-2</td>\n",
       "      <td>NaN</td>\n",
       "      <td>NaN</td>\n",
       "      <td>NaN</td>\n",
       "      <td>NaN</td>\n",
       "      <td>NaN</td>\n",
       "      <td>872.000</td>\n",
       "      <td>893.0</td>\n",
       "      <td>905.0</td>\n",
       "      <td>889.000</td>\n",
       "      <td>902.0</td>\n",
       "    </tr>\n",
       "    <tr>\n",
       "      <th>2018-12-31 17:20:01+00:00</th>\n",
       "      <td>137.772068</td>\n",
       "      <td>-4</td>\n",
       "      <td>80.217654</td>\n",
       "      <td>-2</td>\n",
       "      <td>NaN</td>\n",
       "      <td>NaN</td>\n",
       "      <td>NaN</td>\n",
       "      <td>NaN</td>\n",
       "      <td>NaN</td>\n",
       "      <td>873.000</td>\n",
       "      <td>893.0</td>\n",
       "      <td>905.0</td>\n",
       "      <td>889.000</td>\n",
       "      <td>902.0</td>\n",
       "    </tr>\n",
       "    <tr>\n",
       "      <th>2018-12-31 17:20:02+00:00</th>\n",
       "      <td>137.723145</td>\n",
       "      <td>-4</td>\n",
       "      <td>80.178516</td>\n",
       "      <td>-2</td>\n",
       "      <td>NaN</td>\n",
       "      <td>NaN</td>\n",
       "      <td>NaN</td>\n",
       "      <td>NaN</td>\n",
       "      <td>NaN</td>\n",
       "      <td>873.000</td>\n",
       "      <td>892.0</td>\n",
       "      <td>904.0</td>\n",
       "      <td>886.000</td>\n",
       "      <td>902.0</td>\n",
       "    </tr>\n",
       "    <tr>\n",
       "      <th>2018-12-31 17:20:03+00:00</th>\n",
       "      <td>137.674240</td>\n",
       "      <td>-4</td>\n",
       "      <td>80.139392</td>\n",
       "      <td>-2</td>\n",
       "      <td>NaN</td>\n",
       "      <td>NaN</td>\n",
       "      <td>NaN</td>\n",
       "      <td>NaN</td>\n",
       "      <td>NaN</td>\n",
       "      <td>873.000</td>\n",
       "      <td>892.0</td>\n",
       "      <td>905.0</td>\n",
       "      <td>888.000</td>\n",
       "      <td>902.0</td>\n",
       "    </tr>\n",
       "    <tr>\n",
       "      <th>2018-12-31 17:20:04+00:00</th>\n",
       "      <td>137.625352</td>\n",
       "      <td>-4</td>\n",
       "      <td>80.100282</td>\n",
       "      <td>-2</td>\n",
       "      <td>NaN</td>\n",
       "      <td>NaN</td>\n",
       "      <td>NaN</td>\n",
       "      <td>NaN</td>\n",
       "      <td>NaN</td>\n",
       "      <td>872.000</td>\n",
       "      <td>892.0</td>\n",
       "      <td>905.0</td>\n",
       "      <td>888.000</td>\n",
       "      <td>902.0</td>\n",
       "    </tr>\n",
       "  </tbody>\n",
       "</table>\n",
       "<p>31690884 rows × 14 columns</p>\n",
       "</div>"
      ],
      "text/plain": [
       "                                PPmax  PPmin      ERmax  ERmin  \\\n",
       "2018-01-01 00:00:00+00:00         NaN     -4        NaN     -2   \n",
       "2018-01-01 00:00:01+00:00         NaN     -4        NaN     -2   \n",
       "2018-01-01 00:00:02+00:00         NaN     -4        NaN     -2   \n",
       "2018-01-01 00:00:03+00:00         NaN     -4        NaN     -2   \n",
       "2018-01-01 00:00:04+00:00         NaN     -4        NaN     -2   \n",
       "...                               ...    ...        ...    ...   \n",
       "2018-12-31 17:20:00+00:00  137.821009     -4  80.256807     -2   \n",
       "2018-12-31 17:20:01+00:00  137.772068     -4  80.217654     -2   \n",
       "2018-12-31 17:20:02+00:00  137.723145     -4  80.178516     -2   \n",
       "2018-12-31 17:20:03+00:00  137.674240     -4  80.139392     -2   \n",
       "2018-12-31 17:20:04+00:00  137.625352     -4  80.100282     -2   \n",
       "\n",
       "                          F_GHIP_SI02pt100 F_GHIP_SMP11 F_GHIP_SMP22  \\\n",
       "2018-01-01 00:00:00+00:00              NaN          NaN          NaN   \n",
       "2018-01-01 00:00:01+00:00              NaN          NaN          NaN   \n",
       "2018-01-01 00:00:02+00:00              NaN          NaN          NaN   \n",
       "2018-01-01 00:00:03+00:00              NaN          NaN          NaN   \n",
       "2018-01-01 00:00:04+00:00              NaN          NaN          NaN   \n",
       "...                                    ...          ...          ...   \n",
       "2018-12-31 17:20:00+00:00              NaN          NaN          NaN   \n",
       "2018-12-31 17:20:01+00:00              NaN          NaN          NaN   \n",
       "2018-12-31 17:20:02+00:00              NaN          NaN          NaN   \n",
       "2018-12-31 17:20:03+00:00              NaN          NaN          NaN   \n",
       "2018-12-31 17:20:04+00:00              NaN          NaN          NaN   \n",
       "\n",
       "                          F_GHIP_SPN1 F_GHIT_SMP22  GHIP_SI02pt100  \\\n",
       "2018-01-01 00:00:00+00:00         NaN          NaN          -0.059   \n",
       "2018-01-01 00:00:01+00:00         NaN          NaN          -0.059   \n",
       "2018-01-01 00:00:02+00:00         NaN          NaN           0.000   \n",
       "2018-01-01 00:00:03+00:00         NaN          NaN           0.000   \n",
       "2018-01-01 00:00:04+00:00         NaN          NaN          -0.059   \n",
       "...                               ...          ...             ...   \n",
       "2018-12-31 17:20:00+00:00         NaN          NaN         872.000   \n",
       "2018-12-31 17:20:01+00:00         NaN          NaN         873.000   \n",
       "2018-12-31 17:20:02+00:00         NaN          NaN         873.000   \n",
       "2018-12-31 17:20:03+00:00         NaN          NaN         873.000   \n",
       "2018-12-31 17:20:04+00:00         NaN          NaN         872.000   \n",
       "\n",
       "                           GHIP_SMP11  GHIP_SMP22  GHIP_SPN1  GHIT_SMP22  \n",
       "2018-01-01 00:00:00+00:00        -2.2         0.3      0.825         0.0  \n",
       "2018-01-01 00:00:01+00:00        -2.2         0.3      2.311         0.0  \n",
       "2018-01-01 00:00:02+00:00        -2.2         0.3      1.321         0.0  \n",
       "2018-01-01 00:00:03+00:00        -2.2         0.3      2.807         0.0  \n",
       "2018-01-01 00:00:04+00:00        -2.2         0.3      1.651         0.0  \n",
       "...                               ...         ...        ...         ...  \n",
       "2018-12-31 17:20:00+00:00       893.0       905.0    889.000       902.0  \n",
       "2018-12-31 17:20:01+00:00       893.0       905.0    889.000       902.0  \n",
       "2018-12-31 17:20:02+00:00       892.0       904.0    886.000       902.0  \n",
       "2018-12-31 17:20:03+00:00       892.0       905.0    888.000       902.0  \n",
       "2018-12-31 17:20:04+00:00       892.0       905.0    888.000       902.0  \n",
       "\n",
       "[31690884 rows x 14 columns]"
      ]
     },
     "execution_count": 19,
     "metadata": {},
     "output_type": "execute_result"
    }
   ],
   "source": [
    "ghiFLAG"
   ]
  },
  {
   "cell_type": "code",
   "execution_count": 21,
   "id": "471bc384",
   "metadata": {},
   "outputs": [
    {
     "data": {
      "text/plain": [
       "(31512005,)"
      ]
     },
     "execution_count": 21,
     "metadata": {},
     "output_type": "execute_result"
    }
   ],
   "source": [
    "naive_times.shape"
   ]
  },
  {
   "cell_type": "code",
   "execution_count": 22,
   "id": "191fb280",
   "metadata": {},
   "outputs": [
    {
     "data": {
      "text/plain": [
       "(29806375, 5)"
      ]
     },
     "execution_count": 22,
     "metadata": {},
     "output_type": "execute_result"
    }
   ],
   "source": [
    "dfghi.shape"
   ]
  },
  {
   "cell_type": "code",
   "execution_count": 26,
   "id": "feaf8493",
   "metadata": {},
   "outputs": [
    {
     "name": "stdout",
     "output_type": "stream",
     "text": [
      "dfghi.shape = (29806375, 5) 2018\n"
     ]
    }
   ],
   "source": [
    "print('dfghi.shape =', dfghi.shape, year)"
   ]
  },
  {
   "cell_type": "code",
   "execution_count": 36,
   "id": "39892fff",
   "metadata": {},
   "outputs": [],
   "source": [
    "df = pd.read_csv('/Users/nataly/opt/AnacondaProjects/SAPIENS/original/GERACAO/CR1000-Sapiens_HT_SP1_INV_CDT.csv')\n"
   ]
  },
  {
   "cell_type": "code",
   "execution_count": 39,
   "id": "a07ef62f",
   "metadata": {},
   "outputs": [
    {
     "data": {
      "text/plain": [
       "Index(['TIMESTAMP', 'RECORD', 'INV_CDTE_230', 'INV_CDTE_231', 'INV_CDTE_232',\n",
       "       'INV_CDTE_233', 'INV_CDTE_234', 'INV_CDTE_235', 'INV_CDTE_236',\n",
       "       'INV_CDTE_237', 'INV_CDTE_238', 'INV_CDTE_239', 'INV_CDTE_240',\n",
       "       'INV_CDTE_241', 'INV_CDTE_242', 'INV_CDTE_243', 'INV_CDTE_244',\n",
       "       'INV_CDTE_245', 'INV_CDTE_246', 'INV_CDTE_247', 'INV_CDTE_248',\n",
       "       'INV_CDTE_330', 'INV_CDTE_331', 'INV_CDTE_332', 'INV_CDTE_333',\n",
       "       'INV_CDTE_334', 'INV_CDTE_335', 'INV_CDTE_336', 'INV_CDTE_337',\n",
       "       'INV_CDTE_338', 'INV_CDTE_339', 'INV_CDTE_340', 'INV_CDTE_341',\n",
       "       'INV_CDTE_342', 'INV_CDTE_343', 'INV_CDTE_344', 'INV_CDTE_345',\n",
       "       'INV_CDTE_346', 'INV_CDTE_347', 'INV_CDTE_348'],\n",
       "      dtype='object')"
      ]
     },
     "execution_count": 39,
     "metadata": {},
     "output_type": "execute_result"
    }
   ],
   "source": [
    "df.columns"
   ]
  },
  {
   "cell_type": "code",
   "execution_count": 40,
   "id": "53061a3c",
   "metadata": {},
   "outputs": [],
   "source": [
    "dfsi = pd.read_csv('/Users/nataly/opt/AnacondaProjects/SAPIENS/original/GERACAO/CR1000-Sapiens_HT_SP1_INV_PSI.csv')\n"
   ]
  },
  {
   "cell_type": "code",
   "execution_count": 42,
   "id": "22a9c7dc",
   "metadata": {},
   "outputs": [
    {
     "data": {
      "text/plain": [
       "Index(['TIMESTAMP', 'RECORD', 'INV_PSI_430', 'INV_PSI_431', 'INV_PSI_432',\n",
       "       'INV_PSI_433', 'INV_PSI_434', 'INV_PSI_435', 'INV_PSI_436',\n",
       "       'INV_PSI_437', 'INV_PSI_438', 'INV_PSI_439', 'INV_PSI_440',\n",
       "       'INV_PSI_441', 'INV_PSI_442', 'INV_PSI_443', 'INV_PSI_444',\n",
       "       'INV_PSI_445', 'INV_PSI_446', 'INV_PSI_447', 'INV_PSI_448'],\n",
       "      dtype='object')"
      ]
     },
     "execution_count": 42,
     "metadata": {},
     "output_type": "execute_result"
    }
   ],
   "source": [
    "dfsi.columns"
   ]
  },
  {
   "cell_type": "code",
   "execution_count": 43,
   "id": "a96fdfe9",
   "metadata": {},
   "outputs": [
    {
     "data": {
      "text/plain": [
       "TIMESTAMP       object\n",
       "RECORD           int64\n",
       "INV_PSI_430    float64\n",
       "INV_PSI_431    float64\n",
       "INV_PSI_432    float64\n",
       "INV_PSI_433    float64\n",
       "INV_PSI_434    float64\n",
       "INV_PSI_435    float64\n",
       "INV_PSI_436    float64\n",
       "INV_PSI_437    float64\n",
       "INV_PSI_438    float64\n",
       "INV_PSI_439    float64\n",
       "INV_PSI_440    float64\n",
       "INV_PSI_441    float64\n",
       "INV_PSI_442    float64\n",
       "INV_PSI_443      int64\n",
       "INV_PSI_444      int64\n",
       "INV_PSI_445      int64\n",
       "INV_PSI_446    float64\n",
       "INV_PSI_447    float64\n",
       "INV_PSI_448    float64\n",
       "dtype: object"
      ]
     },
     "execution_count": 43,
     "metadata": {},
     "output_type": "execute_result"
    }
   ],
   "source": [
    "dfsi.dtypes"
   ]
  },
  {
   "cell_type": "code",
   "execution_count": 45,
   "id": "b5c53d78",
   "metadata": {},
   "outputs": [
    {
     "data": {
      "text/plain": [
       "'2021-02-11 15:03:00'"
      ]
     },
     "execution_count": 45,
     "metadata": {},
     "output_type": "execute_result"
    }
   ],
   "source": [
    "dfsi.TIMESTAMP.max()"
   ]
  },
  {
   "cell_type": "code",
   "execution_count": 46,
   "id": "db6bd893",
   "metadata": {},
   "outputs": [
    {
     "data": {
      "text/plain": [
       "'2017-10-30 11:30:00'"
      ]
     },
     "execution_count": 46,
     "metadata": {},
     "output_type": "execute_result"
    }
   ],
   "source": [
    "dfsi.TIMESTAMP.min()"
   ]
  },
  {
   "cell_type": "code",
   "execution_count": 47,
   "id": "4e3a1360",
   "metadata": {},
   "outputs": [
    {
     "data": {
      "text/plain": [
       "'2021-02-11 15:13:00'"
      ]
     },
     "execution_count": 47,
     "metadata": {},
     "output_type": "execute_result"
    }
   ],
   "source": [
    "df.TIMESTAMP.max()"
   ]
  },
  {
   "cell_type": "code",
   "execution_count": 48,
   "id": "a0fc5aa3",
   "metadata": {},
   "outputs": [
    {
     "data": {
      "text/plain": [
       "'2017-07-04 10:45:00'"
      ]
     },
     "execution_count": 48,
     "metadata": {},
     "output_type": "execute_result"
    }
   ],
   "source": [
    "df.TIMESTAMP.min()"
   ]
  },
  {
   "cell_type": "code",
   "execution_count": 49,
   "id": "76372e77",
   "metadata": {},
   "outputs": [],
   "source": [
    "        df['TIMESTAMP'] = df['TIMESTAMP'].astype(np.datetime64)\n"
   ]
  },
  {
   "cell_type": "code",
   "execution_count": 51,
   "id": "0b4be468",
   "metadata": {},
   "outputs": [],
   "source": [
    "df = df.set_index('TIMESTAMP')"
   ]
  },
  {
   "cell_type": "code",
   "execution_count": 56,
   "id": "153e087a",
   "metadata": {},
   "outputs": [
    {
     "data": {
      "text/plain": [
       "<AxesSubplot:xlabel='TIMESTAMP'>"
      ]
     },
     "execution_count": 56,
     "metadata": {},
     "output_type": "execute_result"
    },
    {
     "data": {
      "image/png": "[encoded data removed]",
      "text/plain": [
       "<Figure size 432x288 with 1 Axes>"
      ]
     },
     "metadata": {
      "needs_background": "light"
     },
     "output_type": "display_data"
    }
   ],
   "source": [
    "df.INV_CDTE_238.loc['2018-02-17'].plot()\n",
    "df.INV_CDTE_240.loc['2018-02-17'].plot()"
   ]
  },
  {
   "cell_type": "code",
   "execution_count": 58,
   "id": "57cff1af",
   "metadata": {},
   "outputs": [
    {
     "data": {
      "text/plain": [
       "TIMESTAMP\n",
       "2017-07-04 10:45:00    1434.9640\n",
       "2017-07-04 10:46:00    1439.2920\n",
       "2017-07-04 10:47:00    1441.4260\n",
       "2017-07-04 10:48:00    1450.1460\n",
       "2017-07-04 10:49:00    1456.0430\n",
       "                         ...    \n",
       "2021-02-11 15:09:00     552.9396\n",
       "2021-02-11 15:10:00     590.6448\n",
       "2021-02-11 15:11:00     598.1732\n",
       "2021-02-11 15:12:00     597.4203\n",
       "2021-02-11 15:13:00     602.2512\n",
       "Name: INV_CDTE_238, Length: 1833804, dtype: float64"
      ]
     },
     "execution_count": 58,
     "metadata": {},
     "output_type": "execute_result"
    }
   ],
   "source": [
    "df['INV_CDTE_238']"
   ]
  },
  {
   "cell_type": "code",
   "execution_count": 59,
   "id": "65a1ac45",
   "metadata": {},
   "outputs": [
    {
     "data": {
      "text/plain": [
       "TIMESTAMP\n",
       "2017-07-04 10:45:00    1479.3440\n",
       "2017-07-04 10:46:00    1484.0010\n",
       "2017-07-04 10:47:00    1486.0060\n",
       "2017-07-04 10:48:00    1495.5130\n",
       "2017-07-04 10:49:00    1501.0760\n",
       "                         ...    \n",
       "2021-02-11 15:09:00     570.0408\n",
       "2021-02-11 15:10:00     608.0389\n",
       "2021-02-11 15:11:00     615.9943\n",
       "2021-02-11 15:12:00     615.8973\n",
       "2021-02-11 15:13:00     620.7158\n",
       "Name: INV_CDTE_240, Length: 1833804, dtype: float64"
      ]
     },
     "execution_count": 59,
     "metadata": {},
     "output_type": "execute_result"
    }
   ],
   "source": [
    "df['INV_CDTE_240']"
   ]
  },
  {
   "cell_type": "code",
   "execution_count": 60,
   "id": "6370d45d",
   "metadata": {},
   "outputs": [],
   "source": [
    "df = {}"
   ]
  },
  {
   "cell_type": "code",
   "execution_count": 61,
   "id": "2bf31a43",
   "metadata": {},
   "outputs": [
    {
     "data": {
      "text/plain": [
       "{}"
      ]
     },
     "execution_count": 61,
     "metadata": {},
     "output_type": "execute_result"
    }
   ],
   "source": [
    "df"
   ]
  }
 ],
 "metadata": {
  "kernelspec": {
   "display_name": "Python 3",
   "language": "python",
   "name": "python3"
  },
  "language_info": {
   "codemirror_mode": {
    "name": "ipython",
    "version": 3
   },
   "file_extension": ".py",
   "mimetype": "text/x-python",
   "name": "python",
   "nbconvert_exporter": "python",
   "pygments_lexer": "ipython3",
   "version": "3.8.8"
  }
 },
 "nbformat": 4,
 "nbformat_minor": 5
}
