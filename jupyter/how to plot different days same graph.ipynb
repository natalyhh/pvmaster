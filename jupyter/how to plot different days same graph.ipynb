{
 "cells": [
  {
   "cell_type": "code",
   "execution_count": 1,
   "id": "d59a422e",
   "metadata": {},
   "outputs": [],
   "source": [
    "\n",
    "from numba.core.extending import get_cython_function_address\n",
    "import pandas as pd\n",
    "import numpy as np\n",
    "import matplotlib.pyplot as plt\n",
    "import glob\n",
    "import datetime\n",
    "import pytz\n",
    "import pvlib\n",
    "\n",
    "# directory with clean and organized data per year for GHI, GTI, DIF, DNI\n",
    "main_path = \"/Users/nataly/opt/AnacondaProjects/SAPIENS/CLEAN/\" \n",
    "\n",
    "# directory to save BSRN test results\n",
    "BSRN_path = \"/Users/nataly/opt/AnacondaProjects/SAPIENS/BSRN/\" \n",
    "\n",
    "ghi =  ['GHIP_SI02pt100',\n",
    "        'GHIP_SMP11',\n",
    "        'GHIP_SMP22',\n",
    "        'GHIP_SPN1',\n",
    "        'GHIT_SMP22']\n",
    "\n",
    "fghi = ['F_GHIP_SI02pt100', \n",
    "        'F_GHIP_SMP11', \n",
    "        'F_GHIP_SMP22', \n",
    "        'F_GHIP_SPN1', \n",
    "        'F_GHIT_SMP22']\n",
    "\n",
    "gti = ['TGHIP_SI02pt100', \n",
    "       'TGHIP_SI02pt100_dirty',\n",
    "       'TGIP_SMP11_VENT']\n",
    "      \n",
    "dif = ['DfHIP_SPN1', \n",
    "       'DfHIRP_SMP11',\n",
    "       'DfHIT_SMP22',\n",
    "       'DIF_GLO_REF_SPN1']\n",
    "\n",
    "fdif = ['F_DfHIP_SPN1', \n",
    "        'F_DfHIRP_SMP11', \n",
    "        'F_DfHIT_SMP22',\n",
    "        'F_DIF_GLO_REF_SPN1']\n",
    "\n",
    "dni = ['DNI_SHP1']\n",
    "\n",
    "fdni = ['F_DNI_SHP1']\n",
    "\n",
    "months = ['2018-01', '2018-02', '2018-03', '2018-04', '2018-05', '2018-06', '2018-07', '2018-08', '2018-09', '2018-10', '2018-11', '2018-12',\n",
    "          '2019-01', '2019-02', '2019-03', '2019-04', '2019-05', '2019-06', '2019-07', '2019-08', '2019-09', '2019-10', '2019-11', '2019-12',\n",
    "          '2020-01', '2020-02', '2020-03', '2020-04', '2020-05', '2020-06', '2020-07', '2020-08', '2020-09', '2020-10', '2020-11', '2020-12',\n",
    "          '2021-01']\n",
    "\n",
    "years = ['2018', '2019', '2020', '2021']\n",
    "\n",
    "#BSRN TEST\n",
    "\n",
    "# latitude, longitude, name, altitude, timezone - data retrieved in local time.\n",
    "location = pvlib.location.Location(-27.430891, -48.441406, tz = 'Brazil/East', altitude= 2.74, name = 'Florianopolis')  # check for daylight savings 'Etc/GMT-3' 'America/Sao_Paulo'\n",
    "\n",
    "missing = pd.DataFrame(columns= ['days'], index = years) # count data record missing in a year, for each year. IN THE DATALOGGER. individual sensor may have empty entries not accounted for\n",
    "\n",
    "ghiFLAG = pd.DataFrame(columns = ['PPmax', 'PPmin', 'ERmax', 'ERmin', fghi])\n",
    "\n",
    "difFLAG = pd.DataFrame(columns = ['PPmax', 'PPmin', 'ERmax', 'ERmin', fdif])  \n",
    "\n",
    "dniFLAG = pd.DataFrame(columns = ['PPmax', 'PPmin', 'ERmax', 'ERmin', fdni])\n",
    "\n",
    "PPmin = -4  # minimum physically possible limit\n",
    "ERmin = -2  # minimum extremely rare limit\n",
    "\n",
    "flags = [-1, #NaN\n",
    "         -1, #-9999   - apparently did not appear?!?! TEST: create specific flag to track it.\n",
    "          3, # too low PP\n",
    "          1, # too low ER\n",
    "          2, # too high ER\n",
    "          4] # too high PP\n",
    "\n",
    "ghiflagcount = pd.DataFrame(columns= [ghi], index = [-1, 0, 1, 2, 3, 4], dtype = int) \n",
    "difflagcount = pd.DataFrame(columns= [dif], index = [-1, 0, 1, 2, 3, 4], dtype = int) \n",
    "dniflagcount = pd.DataFrame(columns= [dni], index = [-1, 0, 1, 2, 3, 4], dtype = int) \n",
    "\n",
    "\n",
    "#### end definitions"
   ]
  },
  {
   "cell_type": "code",
   "execution_count": 2,
   "id": "3dfb2596",
   "metadata": {},
   "outputs": [],
   "source": [
    "location = pvlib.location.Location(-27.430891, -48.441406, tz = 'Brazil/East', altitude= 2.74, name = 'Florianopolis')  # check for daylight savings 'Etc/GMT-3' 'America/Sao_Paulo'\n",
    "\n",
    "missing = pd.DataFrame(columns= ['days'], index = years) # count data record missing in a year, for each year. IN THE DATALOGGER. individual sensor may have empty entries not accounted for\n",
    "\n",
    "ghiFLAG = pd.DataFrame(columns = ['PPmax', 'PPmin', 'ERmax', 'ERmin', fghi])\n",
    "\n",
    "difFLAG = pd.DataFrame(columns = ['PPmax', 'PPmin', 'ERmax', 'ERmin', fdif])  \n",
    "\n",
    "dniFLAG = pd.DataFrame(columns = ['PPmax', 'PPmin', 'ERmax', 'ERmin', fdni])\n",
    "\n",
    "PPmin = -4  # minimum physically possible limit\n",
    "ERmin = -2  # minimum extremely rare limit\n",
    "\n",
    "flags = [-1, #NaN\n",
    "         -1, #-9999   - apparently did not appear?!?! TEST: create specific flag to track it.\n",
    "          3, # too low PP\n",
    "          1, # too low ER\n",
    "          2, # too high ER\n",
    "          4] # too high PP\n",
    "\n",
    "ghiflagcount = pd.DataFrame(columns= [ghi], index = [-1, 0, 1, 2, 3, 4], dtype = int) \n",
    "difflagcount = pd.DataFrame(columns= [dif], index = [-1, 0, 1, 2, 3, 4], dtype = int) \n",
    "dniflagcount = pd.DataFrame(columns= [dni], index = [-1, 0, 1, 2, 3, 4], dtype = int) \n",
    "\n",
    "\n",
    "#### end definitions\n"
   ]
  },
  {
   "cell_type": "code",
   "execution_count": 3,
   "id": "dfb5be14",
   "metadata": {},
   "outputs": [],
   "source": [
    "year = years[0]"
   ]
  },
  {
   "cell_type": "code",
   "execution_count": 4,
   "id": "b3b01c83",
   "metadata": {},
   "outputs": [
    {
     "data": {
      "text/plain": [
       "'2018'"
      ]
     },
     "execution_count": 4,
     "metadata": {},
     "output_type": "execute_result"
    }
   ],
   "source": [
    "year"
   ]
  },
  {
   "cell_type": "code",
   "execution_count": 5,
   "id": "caa1195b",
   "metadata": {},
   "outputs": [],
   "source": [
    "dfghi = pd.read_pickle(main_path+year+'GHI.pkl')"
   ]
  },
  {
   "cell_type": "code",
   "execution_count": 6,
   "id": "61dbba70",
   "metadata": {},
   "outputs": [
    {
     "data": {
      "text/plain": [
       "(29806375, 5)"
      ]
     },
     "execution_count": 6,
     "metadata": {},
     "output_type": "execute_result"
    }
   ],
   "source": [
    "dfghi.shape"
   ]
  },
  {
   "cell_type": "code",
   "execution_count": 71,
   "id": "78aeb166",
   "metadata": {},
   "outputs": [],
   "source": [
    "dfghi = dfghi.resample('1Min').mean()"
   ]
  },
  {
   "cell_type": "code",
   "execution_count": 72,
   "id": "ac1fc210",
   "metadata": {
    "scrolled": true
   },
   "outputs": [
    {
     "data": {
      "text/html": [
       "<div>\n",
       "<style scoped>\n",
       "    .dataframe tbody tr th:only-of-type {\n",
       "        vertical-align: middle;\n",
       "    }\n",
       "\n",
       "    .dataframe tbody tr th {\n",
       "        vertical-align: top;\n",
       "    }\n",
       "\n",
       "    .dataframe thead th {\n",
       "        text-align: right;\n",
       "    }\n",
       "</style>\n",
       "<table border=\"1\" class=\"dataframe\">\n",
       "  <thead>\n",
       "    <tr style=\"text-align: right;\">\n",
       "      <th></th>\n",
       "      <th>GHIP_SI02pt100</th>\n",
       "      <th>GHIP_SMP11</th>\n",
       "      <th>GHIP_SMP22</th>\n",
       "      <th>GHIP_SPN1</th>\n",
       "      <th>GHIT_SMP22</th>\n",
       "    </tr>\n",
       "    <tr>\n",
       "      <th>TIMESTAMP</th>\n",
       "      <th></th>\n",
       "      <th></th>\n",
       "      <th></th>\n",
       "      <th></th>\n",
       "      <th></th>\n",
       "    </tr>\n",
       "  </thead>\n",
       "  <tbody>\n",
       "    <tr>\n",
       "      <th>2018-01-01 00:00:00</th>\n",
       "      <td>0.006883</td>\n",
       "      <td>-2.200000</td>\n",
       "      <td>0.300000</td>\n",
       "      <td>1.375917</td>\n",
       "      <td>-0.006667</td>\n",
       "    </tr>\n",
       "    <tr>\n",
       "      <th>2018-01-01 00:01:00</th>\n",
       "      <td>0.006883</td>\n",
       "      <td>-2.183333</td>\n",
       "      <td>0.300000</td>\n",
       "      <td>1.518967</td>\n",
       "      <td>0.000000</td>\n",
       "    </tr>\n",
       "    <tr>\n",
       "      <th>2018-01-01 00:02:00</th>\n",
       "      <td>-0.010817</td>\n",
       "      <td>-2.185000</td>\n",
       "      <td>0.300000</td>\n",
       "      <td>1.609700</td>\n",
       "      <td>0.000000</td>\n",
       "    </tr>\n",
       "    <tr>\n",
       "      <th>2018-01-01 00:03:00</th>\n",
       "      <td>-0.001967</td>\n",
       "      <td>-2.246667</td>\n",
       "      <td>0.286667</td>\n",
       "      <td>1.485983</td>\n",
       "      <td>-0.100000</td>\n",
       "    </tr>\n",
       "    <tr>\n",
       "      <th>2018-01-01 00:04:00</th>\n",
       "      <td>0.000000</td>\n",
       "      <td>-2.650000</td>\n",
       "      <td>0.175000</td>\n",
       "      <td>2.041783</td>\n",
       "      <td>-0.235000</td>\n",
       "    </tr>\n",
       "    <tr>\n",
       "      <th>...</th>\n",
       "      <td>...</td>\n",
       "      <td>...</td>\n",
       "      <td>...</td>\n",
       "      <td>...</td>\n",
       "      <td>...</td>\n",
       "    </tr>\n",
       "    <tr>\n",
       "      <th>2018-12-31 17:16:00</th>\n",
       "      <td>906.233333</td>\n",
       "      <td>926.716667</td>\n",
       "      <td>938.000000</td>\n",
       "      <td>920.800000</td>\n",
       "      <td>935.850000</td>\n",
       "    </tr>\n",
       "    <tr>\n",
       "      <th>2018-12-31 17:17:00</th>\n",
       "      <td>884.666667</td>\n",
       "      <td>905.066667</td>\n",
       "      <td>918.200000</td>\n",
       "      <td>903.383333</td>\n",
       "      <td>915.016667</td>\n",
       "    </tr>\n",
       "    <tr>\n",
       "      <th>2018-12-31 17:18:00</th>\n",
       "      <td>924.616667</td>\n",
       "      <td>945.633333</td>\n",
       "      <td>955.966667</td>\n",
       "      <td>942.683333</td>\n",
       "      <td>953.983333</td>\n",
       "    </tr>\n",
       "    <tr>\n",
       "      <th>2018-12-31 17:19:00</th>\n",
       "      <td>859.636667</td>\n",
       "      <td>879.733333</td>\n",
       "      <td>892.066667</td>\n",
       "      <td>875.116667</td>\n",
       "      <td>888.483333</td>\n",
       "    </tr>\n",
       "    <tr>\n",
       "      <th>2018-12-31 17:20:00</th>\n",
       "      <td>872.600000</td>\n",
       "      <td>892.400000</td>\n",
       "      <td>904.800000</td>\n",
       "      <td>888.000000</td>\n",
       "      <td>902.000000</td>\n",
       "    </tr>\n",
       "  </tbody>\n",
       "</table>\n",
       "<p>525201 rows × 5 columns</p>\n",
       "</div>"
      ],
      "text/plain": [
       "                     GHIP_SI02pt100  GHIP_SMP11  GHIP_SMP22   GHIP_SPN1  \\\n",
       "TIMESTAMP                                                                 \n",
       "2018-01-01 00:00:00        0.006883   -2.200000    0.300000    1.375917   \n",
       "2018-01-01 00:01:00        0.006883   -2.183333    0.300000    1.518967   \n",
       "2018-01-01 00:02:00       -0.010817   -2.185000    0.300000    1.609700   \n",
       "2018-01-01 00:03:00       -0.001967   -2.246667    0.286667    1.485983   \n",
       "2018-01-01 00:04:00        0.000000   -2.650000    0.175000    2.041783   \n",
       "...                             ...         ...         ...         ...   \n",
       "2018-12-31 17:16:00      906.233333  926.716667  938.000000  920.800000   \n",
       "2018-12-31 17:17:00      884.666667  905.066667  918.200000  903.383333   \n",
       "2018-12-31 17:18:00      924.616667  945.633333  955.966667  942.683333   \n",
       "2018-12-31 17:19:00      859.636667  879.733333  892.066667  875.116667   \n",
       "2018-12-31 17:20:00      872.600000  892.400000  904.800000  888.000000   \n",
       "\n",
       "                     GHIT_SMP22  \n",
       "TIMESTAMP                        \n",
       "2018-01-01 00:00:00   -0.006667  \n",
       "2018-01-01 00:01:00    0.000000  \n",
       "2018-01-01 00:02:00    0.000000  \n",
       "2018-01-01 00:03:00   -0.100000  \n",
       "2018-01-01 00:04:00   -0.235000  \n",
       "...                         ...  \n",
       "2018-12-31 17:16:00  935.850000  \n",
       "2018-12-31 17:17:00  915.016667  \n",
       "2018-12-31 17:18:00  953.983333  \n",
       "2018-12-31 17:19:00  888.483333  \n",
       "2018-12-31 17:20:00  902.000000  \n",
       "\n",
       "[525201 rows x 5 columns]"
      ]
     },
     "execution_count": 72,
     "metadata": {},
     "output_type": "execute_result"
    }
   ],
   "source": [
    "dfghi"
   ]
  },
  {
   "cell_type": "code",
   "execution_count": 86,
   "id": "9fafc6d9",
   "metadata": {},
   "outputs": [],
   "source": [
    "d15 = dfghi.GHIP_SI02pt100.loc['2018-02-15 08:00:00':'2018-02-15 10:00:00']\n",
    "d16 = dfghi.GHIP_SI02pt100.loc['2018-02-16 08:00:00':'2018-02-16 10:00:00']\n",
    "d17 = dfghi.GHIP_SI02pt100.loc['2018-02-17 08:00:00':'2018-02-17 10:00:00']\n",
    "d18 = dfghi.GHIP_SI02pt100.loc['2018-02-18 08:00:00':'2018-02-18 10:00:00']\n",
    "d19 = dfghi.GHIP_SI02pt100.loc['2018-02-19 08:00:00':'2018-02-19 10:00:00']"
   ]
  },
  {
   "cell_type": "code",
   "execution_count": 87,
   "id": "34eef691",
   "metadata": {},
   "outputs": [
    {
     "data": {
      "text/plain": [
       "TIMESTAMP\n",
       "2018-02-15 08:00:00    -0.009365\n",
       "2018-02-15 08:01:00    -0.014274\n",
       "2018-02-15 08:02:00    -0.005900\n",
       "2018-02-15 08:03:00     0.001761\n",
       "2018-02-15 08:04:00    -0.010817\n",
       "                         ...    \n",
       "2018-02-15 09:56:00    65.690725\n",
       "2018-02-15 09:57:00    68.042917\n",
       "2018-02-15 09:58:00    70.465294\n",
       "2018-02-15 09:59:00    72.703030\n",
       "2018-02-15 10:00:00    74.298387\n",
       "Freq: T, Name: GHIP_SI02pt100, Length: 121, dtype: float64"
      ]
     },
     "execution_count": 87,
     "metadata": {},
     "output_type": "execute_result"
    }
   ],
   "source": [
    "d15"
   ]
  },
  {
   "cell_type": "code",
   "execution_count": 89,
   "id": "5f7b962e",
   "metadata": {},
   "outputs": [
    {
     "data": {
      "text/plain": [
       "DatetimeIndex(['2018-02-15 08:00:00', '2018-02-15 08:01:00',\n",
       "               '2018-02-15 08:02:00', '2018-02-15 08:03:00',\n",
       "               '2018-02-15 08:04:00', '2018-02-15 08:05:00',\n",
       "               '2018-02-15 08:06:00', '2018-02-15 08:07:00',\n",
       "               '2018-02-15 08:08:00', '2018-02-15 08:09:00',\n",
       "               ...\n",
       "               '2018-02-15 09:51:00', '2018-02-15 09:52:00',\n",
       "               '2018-02-15 09:53:00', '2018-02-15 09:54:00',\n",
       "               '2018-02-15 09:55:00', '2018-02-15 09:56:00',\n",
       "               '2018-02-15 09:57:00', '2018-02-15 09:58:00',\n",
       "               '2018-02-15 09:59:00', '2018-02-15 10:00:00'],\n",
       "              dtype='datetime64[ns]', name='TIMESTAMP', length=121, freq='T')"
      ]
     },
     "execution_count": 89,
     "metadata": {},
     "output_type": "execute_result"
    }
   ],
   "source": [
    "d15.index "
   ]
  },
  {
   "cell_type": "code",
   "execution_count": 94,
   "id": "613a10ea",
   "metadata": {},
   "outputs": [
    {
     "ename": "AttributeError",
     "evalue": "'Index' object has no attribute 'time'",
     "output_type": "error",
     "traceback": [
      "\u001b[0;31m---------------------------------------------------------------------------\u001b[0m",
      "\u001b[0;31mAttributeError\u001b[0m                            Traceback (most recent call last)",
      "\u001b[0;32m<ipython-input-94-0f13dd4d0036>\u001b[0m in \u001b[0;36m<module>\u001b[0;34m\u001b[0m\n\u001b[0;32m----> 1\u001b[0;31m \u001b[0md15\u001b[0m\u001b[0;34m.\u001b[0m\u001b[0mindex\u001b[0m \u001b[0;34m=\u001b[0m \u001b[0md15\u001b[0m\u001b[0;34m.\u001b[0m\u001b[0mindex\u001b[0m\u001b[0;34m.\u001b[0m\u001b[0mtime\u001b[0m\u001b[0;34m\u001b[0m\u001b[0;34m\u001b[0m\u001b[0m\n\u001b[0m\u001b[1;32m      2\u001b[0m \u001b[0md16\u001b[0m\u001b[0;34m.\u001b[0m\u001b[0mindex\u001b[0m \u001b[0;34m=\u001b[0m \u001b[0md16\u001b[0m\u001b[0;34m.\u001b[0m\u001b[0mindex\u001b[0m\u001b[0;34m.\u001b[0m\u001b[0mtime\u001b[0m\u001b[0;34m\u001b[0m\u001b[0;34m\u001b[0m\u001b[0m\n\u001b[1;32m      3\u001b[0m \u001b[0md17\u001b[0m\u001b[0;34m.\u001b[0m\u001b[0mindex\u001b[0m \u001b[0;34m=\u001b[0m \u001b[0md17\u001b[0m\u001b[0;34m.\u001b[0m\u001b[0mindex\u001b[0m\u001b[0;34m.\u001b[0m\u001b[0mtime\u001b[0m\u001b[0;34m\u001b[0m\u001b[0;34m\u001b[0m\u001b[0m\n\u001b[1;32m      4\u001b[0m \u001b[0md18\u001b[0m\u001b[0;34m.\u001b[0m\u001b[0mindex\u001b[0m \u001b[0;34m=\u001b[0m \u001b[0md18\u001b[0m\u001b[0;34m.\u001b[0m\u001b[0mindex\u001b[0m\u001b[0;34m.\u001b[0m\u001b[0mtime\u001b[0m\u001b[0;34m\u001b[0m\u001b[0;34m\u001b[0m\u001b[0m\n\u001b[1;32m      5\u001b[0m \u001b[0md19\u001b[0m\u001b[0;34m.\u001b[0m\u001b[0mindex\u001b[0m \u001b[0;34m=\u001b[0m \u001b[0md19\u001b[0m\u001b[0;34m.\u001b[0m\u001b[0mindex\u001b[0m\u001b[0;34m.\u001b[0m\u001b[0mtime\u001b[0m\u001b[0;34m\u001b[0m\u001b[0;34m\u001b[0m\u001b[0m\n",
      "\u001b[0;31mAttributeError\u001b[0m: 'Index' object has no attribute 'time'"
     ]
    }
   ],
   "source": [
    "d15.index = d15.index.time\n"
   ]
  },
  {
   "cell_type": "code",
   "execution_count": 95,
   "id": "f56edde0",
   "metadata": {},
   "outputs": [],
   "source": [
    "d16.index = d16.index.time\n",
    "d17.index = d17.index.time\n",
    "d18.index = d18.index.time\n",
    "d19.index = d19.index.time"
   ]
  },
  {
   "cell_type": "code",
   "execution_count": null,
   "id": "5d7aab4d",
   "metadata": {},
   "outputs": [],
   "source": []
  },
  {
   "cell_type": "code",
   "execution_count": 96,
   "id": "2229062a",
   "metadata": {},
   "outputs": [
    {
     "data": {
      "text/plain": [
       "Index([08:00:00, 08:01:00, 08:02:00, 08:03:00, 08:04:00, 08:05:00, 08:06:00,\n",
       "       08:07:00, 08:08:00, 08:09:00,\n",
       "       ...\n",
       "       09:51:00, 09:52:00, 09:53:00, 09:54:00, 09:55:00, 09:56:00, 09:57:00,\n",
       "       09:58:00, 09:59:00, 10:00:00],\n",
       "      dtype='object', length=121)"
      ]
     },
     "execution_count": 96,
     "metadata": {},
     "output_type": "execute_result"
    }
   ],
   "source": [
    "d15.index"
   ]
  },
  {
   "cell_type": "code",
   "execution_count": 106,
   "id": "93fc0f20",
   "metadata": {},
   "outputs": [],
   "source": [
    "A = pd.DataFrame(index = d15.index,  columns= ['d15', 'd16', 'd17', 'd18', 'd19'])"
   ]
  },
  {
   "cell_type": "code",
   "execution_count": 112,
   "id": "b145638e",
   "metadata": {},
   "outputs": [],
   "source": [
    "A['d15']= d15\n",
    "A['d16']= d16\n",
    "A['d17']= d17\n",
    "A['d18']= d18\n",
    "A['d19']= d19\n"
   ]
  },
  {
   "cell_type": "code",
   "execution_count": 113,
   "id": "d3be1ec8",
   "metadata": {},
   "outputs": [
    {
     "data": {
      "text/html": [
       "<div>\n",
       "<style scoped>\n",
       "    .dataframe tbody tr th:only-of-type {\n",
       "        vertical-align: middle;\n",
       "    }\n",
       "\n",
       "    .dataframe tbody tr th {\n",
       "        vertical-align: top;\n",
       "    }\n",
       "\n",
       "    .dataframe thead th {\n",
       "        text-align: right;\n",
       "    }\n",
       "</style>\n",
       "<table border=\"1\" class=\"dataframe\">\n",
       "  <thead>\n",
       "    <tr style=\"text-align: right;\">\n",
       "      <th></th>\n",
       "      <th>d15</th>\n",
       "      <th>d16</th>\n",
       "      <th>d17</th>\n",
       "      <th>d18</th>\n",
       "      <th>d19</th>\n",
       "    </tr>\n",
       "  </thead>\n",
       "  <tbody>\n",
       "    <tr>\n",
       "      <th>08:00:00</th>\n",
       "      <td>-0.009365</td>\n",
       "      <td>0.006556</td>\n",
       "      <td>-0.005900</td>\n",
       "      <td>-0.000967</td>\n",
       "      <td>-0.000967</td>\n",
       "    </tr>\n",
       "    <tr>\n",
       "      <th>08:01:00</th>\n",
       "      <td>-0.014274</td>\n",
       "      <td>0.004683</td>\n",
       "      <td>-0.004917</td>\n",
       "      <td>-0.003869</td>\n",
       "      <td>0.000000</td>\n",
       "    </tr>\n",
       "    <tr>\n",
       "      <th>08:02:00</th>\n",
       "      <td>-0.005900</td>\n",
       "      <td>-0.003806</td>\n",
       "      <td>-0.001934</td>\n",
       "      <td>0.000967</td>\n",
       "      <td>-0.001934</td>\n",
       "    </tr>\n",
       "    <tr>\n",
       "      <th>08:03:00</th>\n",
       "      <td>0.001761</td>\n",
       "      <td>-0.009985</td>\n",
       "      <td>-0.004836</td>\n",
       "      <td>0.000952</td>\n",
       "      <td>-0.000967</td>\n",
       "    </tr>\n",
       "    <tr>\n",
       "      <th>08:04:00</th>\n",
       "      <td>-0.010817</td>\n",
       "      <td>-0.006661</td>\n",
       "      <td>-0.000922</td>\n",
       "      <td>-0.003933</td>\n",
       "      <td>0.000000</td>\n",
       "    </tr>\n",
       "    <tr>\n",
       "      <th>...</th>\n",
       "      <td>...</td>\n",
       "      <td>...</td>\n",
       "      <td>...</td>\n",
       "      <td>...</td>\n",
       "      <td>...</td>\n",
       "    </tr>\n",
       "    <tr>\n",
       "      <th>09:56:00</th>\n",
       "      <td>65.690725</td>\n",
       "      <td>76.061818</td>\n",
       "      <td>75.290303</td>\n",
       "      <td>82.196970</td>\n",
       "      <td>76.998769</td>\n",
       "    </tr>\n",
       "    <tr>\n",
       "      <th>09:57:00</th>\n",
       "      <td>68.042917</td>\n",
       "      <td>78.148235</td>\n",
       "      <td>78.920000</td>\n",
       "      <td>83.911940</td>\n",
       "      <td>80.230000</td>\n",
       "    </tr>\n",
       "    <tr>\n",
       "      <th>09:58:00</th>\n",
       "      <td>70.465294</td>\n",
       "      <td>81.142676</td>\n",
       "      <td>86.598507</td>\n",
       "      <td>83.892537</td>\n",
       "      <td>82.326562</td>\n",
       "    </tr>\n",
       "    <tr>\n",
       "      <th>09:59:00</th>\n",
       "      <td>72.703030</td>\n",
       "      <td>84.869697</td>\n",
       "      <td>90.920312</td>\n",
       "      <td>82.182813</td>\n",
       "      <td>84.261765</td>\n",
       "    </tr>\n",
       "    <tr>\n",
       "      <th>10:00:00</th>\n",
       "      <td>74.298387</td>\n",
       "      <td>88.327692</td>\n",
       "      <td>90.083077</td>\n",
       "      <td>81.779412</td>\n",
       "      <td>87.321875</td>\n",
       "    </tr>\n",
       "  </tbody>\n",
       "</table>\n",
       "<p>121 rows × 5 columns</p>\n",
       "</div>"
      ],
      "text/plain": [
       "                d15        d16        d17        d18        d19\n",
       "08:00:00  -0.009365   0.006556  -0.005900  -0.000967  -0.000967\n",
       "08:01:00  -0.014274   0.004683  -0.004917  -0.003869   0.000000\n",
       "08:02:00  -0.005900  -0.003806  -0.001934   0.000967  -0.001934\n",
       "08:03:00   0.001761  -0.009985  -0.004836   0.000952  -0.000967\n",
       "08:04:00  -0.010817  -0.006661  -0.000922  -0.003933   0.000000\n",
       "...             ...        ...        ...        ...        ...\n",
       "09:56:00  65.690725  76.061818  75.290303  82.196970  76.998769\n",
       "09:57:00  68.042917  78.148235  78.920000  83.911940  80.230000\n",
       "09:58:00  70.465294  81.142676  86.598507  83.892537  82.326562\n",
       "09:59:00  72.703030  84.869697  90.920312  82.182813  84.261765\n",
       "10:00:00  74.298387  88.327692  90.083077  81.779412  87.321875\n",
       "\n",
       "[121 rows x 5 columns]"
      ]
     },
     "execution_count": 113,
     "metadata": {},
     "output_type": "execute_result"
    }
   ],
   "source": [
    "A"
   ]
  },
  {
   "cell_type": "code",
   "execution_count": null,
   "id": "957215d4",
   "metadata": {},
   "outputs": [],
   "source": []
  },
  {
   "cell_type": "code",
   "execution_count": 118,
   "id": "6d9a2503",
   "metadata": {},
   "outputs": [
    {
     "data": {
      "text/plain": [
       "<matplotlib.legend.Legend at 0x7f85f36f4820>"
      ]
     },
     "execution_count": 118,
     "metadata": {},
     "output_type": "execute_result"
    },
    {
     "data": {
      "image/png": "[encoded data removed]",
      "text/plain": [
       "<Figure size 432x288 with 1 Axes>"
      ]
     },
     "metadata": {
      "needs_background": "light"
     },
     "output_type": "display_data"
    }
   ],
   "source": [
    "A['d15'].plot()\n",
    "A['d16'].plot()\n",
    "A['d17'].plot()\n",
    "A['d18'].plot()\n",
    "A['d19'].plot()\n",
    "plt.legend()\n"
   ]
  },
  {
   "cell_type": "code",
   "execution_count": 124,
   "id": "6bd5d747",
   "metadata": {},
   "outputs": [],
   "source": [
    "d15n = dfghi.GHIP_SI02pt100.loc['2018-02-15 19:00:00':'2018-02-15 22:00:00']\n",
    "d16n = dfghi.GHIP_SI02pt100.loc['2018-02-16 19:00:00':'2018-02-16 22:00:00']\n",
    "d17n = dfghi.GHIP_SI02pt100.loc['2018-02-17 19:00:00':'2018-02-17 22:00:00']\n",
    "d18n = dfghi.GHIP_SI02pt100.loc['2018-02-18 19:00:00':'2018-02-18 22:00:00']\n",
    "d19n = dfghi.GHIP_SI02pt100.loc['2018-02-19 19:00:00':'2018-02-19 22:00:00']"
   ]
  },
  {
   "cell_type": "code",
   "execution_count": 125,
   "id": "9587eb48",
   "metadata": {},
   "outputs": [],
   "source": [
    "d16n.index = d16n.index.time\n",
    "d17n.index = d17n.index.time\n",
    "d18n.index = d18n.index.time\n",
    "d19n.index = d19n.index.time"
   ]
  },
  {
   "cell_type": "code",
   "execution_count": 131,
   "id": "30b73f54",
   "metadata": {},
   "outputs": [
    {
     "data": {
      "text/plain": [
       "Index([19:00:00, 19:01:00, 19:02:00, 19:03:00, 19:04:00, 19:05:00, 19:06:00,\n",
       "       19:07:00, 19:08:00, 19:09:00,\n",
       "       ...\n",
       "       21:51:00, 21:52:00, 21:53:00, 21:54:00, 21:55:00, 21:56:00, 21:57:00,\n",
       "       21:58:00, 21:59:00, 22:00:00],\n",
       "      dtype='object', length=181)"
      ]
     },
     "execution_count": 131,
     "metadata": {},
     "output_type": "execute_result"
    }
   ],
   "source": [
    "d16n.index"
   ]
  },
  {
   "cell_type": "code",
   "execution_count": null,
   "id": "c607ef41",
   "metadata": {},
   "outputs": [],
   "source": []
  },
  {
   "cell_type": "code",
   "execution_count": 134,
   "id": "17cff852",
   "metadata": {},
   "outputs": [],
   "source": [
    "noite = pd.DataFrame(index = d15n.index,  columns= ['d15n', 'd16n', 'd17n', 'd18n', 'd19n'])"
   ]
  },
  {
   "cell_type": "code",
   "execution_count": 137,
   "id": "f49e49bb",
   "metadata": {},
   "outputs": [],
   "source": [
    "noite.index = noite.index.time"
   ]
  },
  {
   "cell_type": "code",
   "execution_count": 141,
   "id": "fa303ffd",
   "metadata": {},
   "outputs": [
    {
     "data": {
      "text/html": [
       "<div>\n",
       "<style scoped>\n",
       "    .dataframe tbody tr th:only-of-type {\n",
       "        vertical-align: middle;\n",
       "    }\n",
       "\n",
       "    .dataframe tbody tr th {\n",
       "        vertical-align: top;\n",
       "    }\n",
       "\n",
       "    .dataframe thead th {\n",
       "        text-align: right;\n",
       "    }\n",
       "</style>\n",
       "<table border=\"1\" class=\"dataframe\">\n",
       "  <thead>\n",
       "    <tr style=\"text-align: right;\">\n",
       "      <th></th>\n",
       "      <th>d15n</th>\n",
       "      <th>d16n</th>\n",
       "      <th>d17n</th>\n",
       "      <th>d18n</th>\n",
       "      <th>d19n</th>\n",
       "    </tr>\n",
       "  </thead>\n",
       "  <tbody>\n",
       "    <tr>\n",
       "      <th>19:00:00</th>\n",
       "      <td>NaN</td>\n",
       "      <td>NaN</td>\n",
       "      <td>NaN</td>\n",
       "      <td>NaN</td>\n",
       "      <td>NaN</td>\n",
       "    </tr>\n",
       "    <tr>\n",
       "      <th>19:01:00</th>\n",
       "      <td>NaN</td>\n",
       "      <td>NaN</td>\n",
       "      <td>NaN</td>\n",
       "      <td>NaN</td>\n",
       "      <td>NaN</td>\n",
       "    </tr>\n",
       "    <tr>\n",
       "      <th>19:02:00</th>\n",
       "      <td>NaN</td>\n",
       "      <td>NaN</td>\n",
       "      <td>NaN</td>\n",
       "      <td>NaN</td>\n",
       "      <td>NaN</td>\n",
       "    </tr>\n",
       "    <tr>\n",
       "      <th>19:03:00</th>\n",
       "      <td>NaN</td>\n",
       "      <td>NaN</td>\n",
       "      <td>NaN</td>\n",
       "      <td>NaN</td>\n",
       "      <td>NaN</td>\n",
       "    </tr>\n",
       "    <tr>\n",
       "      <th>19:04:00</th>\n",
       "      <td>NaN</td>\n",
       "      <td>NaN</td>\n",
       "      <td>NaN</td>\n",
       "      <td>NaN</td>\n",
       "      <td>NaN</td>\n",
       "    </tr>\n",
       "    <tr>\n",
       "      <th>...</th>\n",
       "      <td>...</td>\n",
       "      <td>...</td>\n",
       "      <td>...</td>\n",
       "      <td>...</td>\n",
       "      <td>...</td>\n",
       "    </tr>\n",
       "    <tr>\n",
       "      <th>21:56:00</th>\n",
       "      <td>NaN</td>\n",
       "      <td>NaN</td>\n",
       "      <td>NaN</td>\n",
       "      <td>NaN</td>\n",
       "      <td>NaN</td>\n",
       "    </tr>\n",
       "    <tr>\n",
       "      <th>21:57:00</th>\n",
       "      <td>NaN</td>\n",
       "      <td>NaN</td>\n",
       "      <td>NaN</td>\n",
       "      <td>NaN</td>\n",
       "      <td>NaN</td>\n",
       "    </tr>\n",
       "    <tr>\n",
       "      <th>21:58:00</th>\n",
       "      <td>NaN</td>\n",
       "      <td>NaN</td>\n",
       "      <td>NaN</td>\n",
       "      <td>NaN</td>\n",
       "      <td>NaN</td>\n",
       "    </tr>\n",
       "    <tr>\n",
       "      <th>21:59:00</th>\n",
       "      <td>NaN</td>\n",
       "      <td>NaN</td>\n",
       "      <td>NaN</td>\n",
       "      <td>NaN</td>\n",
       "      <td>NaN</td>\n",
       "    </tr>\n",
       "    <tr>\n",
       "      <th>22:00:00</th>\n",
       "      <td>NaN</td>\n",
       "      <td>NaN</td>\n",
       "      <td>NaN</td>\n",
       "      <td>NaN</td>\n",
       "      <td>NaN</td>\n",
       "    </tr>\n",
       "  </tbody>\n",
       "</table>\n",
       "<p>181 rows × 5 columns</p>\n",
       "</div>"
      ],
      "text/plain": [
       "         d15n d16n d17n d18n d19n\n",
       "19:00:00  NaN  NaN  NaN  NaN  NaN\n",
       "19:01:00  NaN  NaN  NaN  NaN  NaN\n",
       "19:02:00  NaN  NaN  NaN  NaN  NaN\n",
       "19:03:00  NaN  NaN  NaN  NaN  NaN\n",
       "19:04:00  NaN  NaN  NaN  NaN  NaN\n",
       "...       ...  ...  ...  ...  ...\n",
       "21:56:00  NaN  NaN  NaN  NaN  NaN\n",
       "21:57:00  NaN  NaN  NaN  NaN  NaN\n",
       "21:58:00  NaN  NaN  NaN  NaN  NaN\n",
       "21:59:00  NaN  NaN  NaN  NaN  NaN\n",
       "22:00:00  NaN  NaN  NaN  NaN  NaN\n",
       "\n",
       "[181 rows x 5 columns]"
      ]
     },
     "execution_count": 141,
     "metadata": {},
     "output_type": "execute_result"
    }
   ],
   "source": [
    "noite"
   ]
  },
  {
   "cell_type": "code",
   "execution_count": 142,
   "id": "517a12a7",
   "metadata": {},
   "outputs": [],
   "source": [
    "noite['d15n']= d15n\n",
    "noite['d16n']= d16n\n",
    "noite['d17n']= d17n\n",
    "noite['d18n']= d18n\n",
    "noite['d19n']= d19n\n"
   ]
  },
  {
   "cell_type": "code",
   "execution_count": 143,
   "id": "3a78b845",
   "metadata": {},
   "outputs": [
    {
     "data": {
      "text/html": [
       "<div>\n",
       "<style scoped>\n",
       "    .dataframe tbody tr th:only-of-type {\n",
       "        vertical-align: middle;\n",
       "    }\n",
       "\n",
       "    .dataframe tbody tr th {\n",
       "        vertical-align: top;\n",
       "    }\n",
       "\n",
       "    .dataframe thead th {\n",
       "        text-align: right;\n",
       "    }\n",
       "</style>\n",
       "<table border=\"1\" class=\"dataframe\">\n",
       "  <thead>\n",
       "    <tr style=\"text-align: right;\">\n",
       "      <th></th>\n",
       "      <th>d15n</th>\n",
       "      <th>d16n</th>\n",
       "      <th>d17n</th>\n",
       "      <th>d18n</th>\n",
       "      <th>d19n</th>\n",
       "    </tr>\n",
       "  </thead>\n",
       "  <tbody>\n",
       "    <tr>\n",
       "      <th>19:00:00</th>\n",
       "      <td>NaN</td>\n",
       "      <td>171.789552</td>\n",
       "      <td>447.873333</td>\n",
       "      <td>522.231667</td>\n",
       "      <td>219.655556</td>\n",
       "    </tr>\n",
       "    <tr>\n",
       "      <th>19:01:00</th>\n",
       "      <td>NaN</td>\n",
       "      <td>165.714062</td>\n",
       "      <td>448.776667</td>\n",
       "      <td>471.885000</td>\n",
       "      <td>224.263636</td>\n",
       "    </tr>\n",
       "    <tr>\n",
       "      <th>19:02:00</th>\n",
       "      <td>NaN</td>\n",
       "      <td>160.703175</td>\n",
       "      <td>451.836667</td>\n",
       "      <td>400.115000</td>\n",
       "      <td>230.922059</td>\n",
       "    </tr>\n",
       "    <tr>\n",
       "      <th>19:03:00</th>\n",
       "      <td>NaN</td>\n",
       "      <td>156.486567</td>\n",
       "      <td>451.983333</td>\n",
       "      <td>645.580000</td>\n",
       "      <td>237.382540</td>\n",
       "    </tr>\n",
       "    <tr>\n",
       "      <th>19:04:00</th>\n",
       "      <td>NaN</td>\n",
       "      <td>153.062319</td>\n",
       "      <td>438.990000</td>\n",
       "      <td>330.028333</td>\n",
       "      <td>242.507595</td>\n",
       "    </tr>\n",
       "    <tr>\n",
       "      <th>...</th>\n",
       "      <td>...</td>\n",
       "      <td>...</td>\n",
       "      <td>...</td>\n",
       "      <td>...</td>\n",
       "      <td>...</td>\n",
       "    </tr>\n",
       "    <tr>\n",
       "      <th>21:56:00</th>\n",
       "      <td>NaN</td>\n",
       "      <td>3.140828</td>\n",
       "      <td>1.740087</td>\n",
       "      <td>2.027111</td>\n",
       "      <td>0.492282</td>\n",
       "    </tr>\n",
       "    <tr>\n",
       "      <th>21:57:00</th>\n",
       "      <td>NaN</td>\n",
       "      <td>2.833924</td>\n",
       "      <td>1.525571</td>\n",
       "      <td>1.791477</td>\n",
       "      <td>0.468286</td>\n",
       "    </tr>\n",
       "    <tr>\n",
       "      <th>21:58:00</th>\n",
       "      <td>NaN</td>\n",
       "      <td>2.502886</td>\n",
       "      <td>1.311976</td>\n",
       "      <td>1.602203</td>\n",
       "      <td>0.380045</td>\n",
       "    </tr>\n",
       "    <tr>\n",
       "      <th>21:59:00</th>\n",
       "      <td>NaN</td>\n",
       "      <td>2.197192</td>\n",
       "      <td>1.180838</td>\n",
       "      <td>1.430732</td>\n",
       "      <td>0.299933</td>\n",
       "    </tr>\n",
       "    <tr>\n",
       "      <th>22:00:00</th>\n",
       "      <td>NaN</td>\n",
       "      <td>1.948312</td>\n",
       "      <td>1.030831</td>\n",
       "      <td>1.330627</td>\n",
       "      <td>0.245850</td>\n",
       "    </tr>\n",
       "  </tbody>\n",
       "</table>\n",
       "<p>181 rows × 5 columns</p>\n",
       "</div>"
      ],
      "text/plain": [
       "          d15n        d16n        d17n        d18n        d19n\n",
       "19:00:00   NaN  171.789552  447.873333  522.231667  219.655556\n",
       "19:01:00   NaN  165.714062  448.776667  471.885000  224.263636\n",
       "19:02:00   NaN  160.703175  451.836667  400.115000  230.922059\n",
       "19:03:00   NaN  156.486567  451.983333  645.580000  237.382540\n",
       "19:04:00   NaN  153.062319  438.990000  330.028333  242.507595\n",
       "...        ...         ...         ...         ...         ...\n",
       "21:56:00   NaN    3.140828    1.740087    2.027111    0.492282\n",
       "21:57:00   NaN    2.833924    1.525571    1.791477    0.468286\n",
       "21:58:00   NaN    2.502886    1.311976    1.602203    0.380045\n",
       "21:59:00   NaN    2.197192    1.180838    1.430732    0.299933\n",
       "22:00:00   NaN    1.948312    1.030831    1.330627    0.245850\n",
       "\n",
       "[181 rows x 5 columns]"
      ]
     },
     "execution_count": 143,
     "metadata": {},
     "output_type": "execute_result"
    }
   ],
   "source": [
    "noite"
   ]
  },
  {
   "cell_type": "code",
   "execution_count": 145,
   "id": "e6a50784",
   "metadata": {},
   "outputs": [
    {
     "data": {
      "text/plain": [
       "<matplotlib.legend.Legend at 0x7f85f1e01c70>"
      ]
     },
     "execution_count": 145,
     "metadata": {},
     "output_type": "execute_result"
    },
    {
     "data": {
      "image/png": "[encoded data removed]",
      "text/plain": [
       "<Figure size 432x288 with 1 Axes>"
      ]
     },
     "metadata": {
      "needs_background": "light"
     },
     "output_type": "display_data"
    }
   ],
   "source": [
    "noite['d16n'].plot()\n",
    "noite['d17n'].plot()\n",
    "noite['d18n'].plot()\n",
    "noite['d19n'].plot()\n",
    "plt.legend()\n"
   ]
  },
  {
   "cell_type": "code",
   "execution_count": 146,
   "id": "e5777b8f",
   "metadata": {},
   "outputs": [],
   "source": [
    "d15f = dfghi.GHIP_SI02pt100.loc['2018-02-15 06:00:00':'2018-02-15 23:00:00']\n",
    "d16f = dfghi.GHIP_SI02pt100.loc['2018-02-16 06:00:00':'2018-02-16 23:00:00']\n",
    "d17f = dfghi.GHIP_SI02pt100.loc['2018-02-17 06:00:00':'2018-02-17 23:00:00']\n",
    "d18f = dfghi.GHIP_SI02pt100.loc['2018-02-18 06:00:00':'2018-02-18 23:00:00']\n",
    "d19f = dfghi.GHIP_SI02pt100.loc['2018-02-19 06:00:00':'2018-02-19 23:00:00']\n",
    "d16f.index = d16f.index.time\n",
    "d17f.index = d17f.index.time\n",
    "d18f.index = d18f.index.time\n",
    "d19f.index = d19f.index.time"
   ]
  },
  {
   "cell_type": "code",
   "execution_count": 148,
   "id": "082fec84",
   "metadata": {},
   "outputs": [],
   "source": [
    "d15f.index = d15f.index.time\n"
   ]
  },
  {
   "cell_type": "code",
   "execution_count": 149,
   "id": "a661ff44",
   "metadata": {},
   "outputs": [],
   "source": [
    "dia = pd.DataFrame(index = d15f.index,  columns= ['d15f', 'd16f', 'd17f', 'd18f', 'd19f'])"
   ]
  },
  {
   "cell_type": "code",
   "execution_count": 151,
   "id": "da4110ee",
   "metadata": {},
   "outputs": [],
   "source": [
    "dia['d15f']= d15f\n",
    "dia['d16f']= d16f\n",
    "dia['d17f']= d17f\n",
    "dia['d18f']= d18f\n",
    "dia['d19f']= d19f\n"
   ]
  },
  {
   "cell_type": "code",
   "execution_count": 152,
   "id": "db0cae04",
   "metadata": {},
   "outputs": [
    {
     "data": {
      "text/html": [
       "<div>\n",
       "<style scoped>\n",
       "    .dataframe tbody tr th:only-of-type {\n",
       "        vertical-align: middle;\n",
       "    }\n",
       "\n",
       "    .dataframe tbody tr th {\n",
       "        vertical-align: top;\n",
       "    }\n",
       "\n",
       "    .dataframe thead th {\n",
       "        text-align: right;\n",
       "    }\n",
       "</style>\n",
       "<table border=\"1\" class=\"dataframe\">\n",
       "  <thead>\n",
       "    <tr style=\"text-align: right;\">\n",
       "      <th></th>\n",
       "      <th>d15f</th>\n",
       "      <th>d16f</th>\n",
       "      <th>d17f</th>\n",
       "      <th>d18f</th>\n",
       "      <th>d19f</th>\n",
       "    </tr>\n",
       "  </thead>\n",
       "  <tbody>\n",
       "    <tr>\n",
       "      <th>06:00:00</th>\n",
       "      <td>-0.009516</td>\n",
       "      <td>-0.011062</td>\n",
       "      <td>-0.007613</td>\n",
       "      <td>0.001815</td>\n",
       "      <td>-0.004836</td>\n",
       "    </tr>\n",
       "    <tr>\n",
       "      <th>06:01:00</th>\n",
       "      <td>-0.014508</td>\n",
       "      <td>-0.000952</td>\n",
       "      <td>-0.000967</td>\n",
       "      <td>0.000000</td>\n",
       "      <td>-0.000983</td>\n",
       "    </tr>\n",
       "    <tr>\n",
       "      <th>06:02:00</th>\n",
       "      <td>-0.000952</td>\n",
       "      <td>0.004538</td>\n",
       "      <td>-0.016717</td>\n",
       "      <td>-0.005619</td>\n",
       "      <td>-0.001967</td>\n",
       "    </tr>\n",
       "    <tr>\n",
       "      <th>06:03:00</th>\n",
       "      <td>-0.011800</td>\n",
       "      <td>0.005710</td>\n",
       "      <td>-0.009833</td>\n",
       "      <td>-0.003933</td>\n",
       "      <td>0.001967</td>\n",
       "    </tr>\n",
       "    <tr>\n",
       "      <th>06:04:00</th>\n",
       "      <td>-0.008429</td>\n",
       "      <td>-0.001873</td>\n",
       "      <td>0.000000</td>\n",
       "      <td>-0.010817</td>\n",
       "      <td>-0.003933</td>\n",
       "    </tr>\n",
       "    <tr>\n",
       "      <th>...</th>\n",
       "      <td>...</td>\n",
       "      <td>...</td>\n",
       "      <td>...</td>\n",
       "      <td>...</td>\n",
       "      <td>...</td>\n",
       "    </tr>\n",
       "    <tr>\n",
       "      <th>22:56:00</th>\n",
       "      <td>0.000000</td>\n",
       "      <td>0.000983</td>\n",
       "      <td>-0.000983</td>\n",
       "      <td>-0.006770</td>\n",
       "      <td>-0.000983</td>\n",
       "    </tr>\n",
       "    <tr>\n",
       "      <th>22:57:00</th>\n",
       "      <td>0.000000</td>\n",
       "      <td>-0.000983</td>\n",
       "      <td>0.000000</td>\n",
       "      <td>-0.014508</td>\n",
       "      <td>0.000983</td>\n",
       "    </tr>\n",
       "    <tr>\n",
       "      <th>22:58:00</th>\n",
       "      <td>0.000000</td>\n",
       "      <td>-0.000983</td>\n",
       "      <td>0.000000</td>\n",
       "      <td>-0.014508</td>\n",
       "      <td>0.000983</td>\n",
       "    </tr>\n",
       "    <tr>\n",
       "      <th>22:59:00</th>\n",
       "      <td>0.000000</td>\n",
       "      <td>0.000000</td>\n",
       "      <td>0.000000</td>\n",
       "      <td>-0.013323</td>\n",
       "      <td>0.000983</td>\n",
       "    </tr>\n",
       "    <tr>\n",
       "      <th>23:00:00</th>\n",
       "      <td>-0.000983</td>\n",
       "      <td>0.000000</td>\n",
       "      <td>0.001934</td>\n",
       "      <td>-0.009672</td>\n",
       "      <td>0.000000</td>\n",
       "    </tr>\n",
       "  </tbody>\n",
       "</table>\n",
       "<p>1021 rows × 5 columns</p>\n",
       "</div>"
      ],
      "text/plain": [
       "              d15f      d16f      d17f      d18f      d19f\n",
       "06:00:00 -0.009516 -0.011062 -0.007613  0.001815 -0.004836\n",
       "06:01:00 -0.014508 -0.000952 -0.000967  0.000000 -0.000983\n",
       "06:02:00 -0.000952  0.004538 -0.016717 -0.005619 -0.001967\n",
       "06:03:00 -0.011800  0.005710 -0.009833 -0.003933  0.001967\n",
       "06:04:00 -0.008429 -0.001873  0.000000 -0.010817 -0.003933\n",
       "...            ...       ...       ...       ...       ...\n",
       "22:56:00  0.000000  0.000983 -0.000983 -0.006770 -0.000983\n",
       "22:57:00  0.000000 -0.000983  0.000000 -0.014508  0.000983\n",
       "22:58:00  0.000000 -0.000983  0.000000 -0.014508  0.000983\n",
       "22:59:00  0.000000  0.000000  0.000000 -0.013323  0.000983\n",
       "23:00:00 -0.000983  0.000000  0.001934 -0.009672  0.000000\n",
       "\n",
       "[1021 rows x 5 columns]"
      ]
     },
     "execution_count": 152,
     "metadata": {},
     "output_type": "execute_result"
    }
   ],
   "source": [
    "dia"
   ]
  },
  {
   "cell_type": "code",
   "execution_count": 153,
   "id": "5bb9a205",
   "metadata": {},
   "outputs": [
    {
     "data": {
      "text/plain": [
       "<matplotlib.legend.Legend at 0x7f85f220df70>"
      ]
     },
     "execution_count": 153,
     "metadata": {},
     "output_type": "execute_result"
    },
    {
     "data": {
      "image/png": "[encoded data removed]",
      "text/plain": [
       "<Figure size 432x288 with 1 Axes>"
      ]
     },
     "metadata": {
      "needs_background": "light"
     },
     "output_type": "display_data"
    }
   ],
   "source": [
    "dia['d16f'].plot()\n",
    "dia['d17f'].plot()\n",
    "dia['d18f'].plot()\n",
    "dia['d19f'].plot()\n",
    "plt.legend()\n"
   ]
  }
 ],
 "metadata": {
  "kernelspec": {
   "display_name": "Python 3",
   "language": "python",
   "name": "python3"
  },
  "language_info": {
   "codemirror_mode": {
    "name": "ipython",
    "version": 3
   },
   "file_extension": ".py",
   "mimetype": "text/x-python",
   "name": "python",
   "nbconvert_exporter": "python",
   "pygments_lexer": "ipython3",
   "version": "3.8.8"
  }
 },
 "nbformat": 4,
 "nbformat_minor": 5
}
