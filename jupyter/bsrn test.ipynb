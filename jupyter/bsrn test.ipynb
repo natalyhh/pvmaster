{
 "cells": [
  {
   "cell_type": "code",
   "execution_count": 1,
   "id": "bf5021ea",
   "metadata": {},
   "outputs": [],
   "source": [
    "import pandas as pd\n",
    "import numpy as np\n",
    "import matplotlib.pyplot as plt\n",
    "import glob\n",
    "import datetime\n",
    "import pytz\n",
    "import pvlib"
   ]
  },
  {
   "cell_type": "code",
   "execution_count": 2,
   "id": "446d5168",
   "metadata": {},
   "outputs": [],
   "source": [
    "location = pvlib.location.Location(-27.430891, -48.441406, tz = 'Brazil/East',altitude= 2.74, name = 'Florianopolis')  ## check for daylight savings 'Etc/GMT-3' 'America/Sao_Paulo'\n"
   ]
  },
  {
   "cell_type": "code",
   "execution_count": 3,
   "id": "a9cfea16",
   "metadata": {},
   "outputs": [],
   "source": [
    "naive_times = pd.date_range(start='2017-12-17 14:32:40', end='2017-12-20 14:25:08', freq='1s', tz = location.tz)"
   ]
  },
  {
   "cell_type": "code",
   "execution_count": 4,
   "id": "2e8c95a9",
   "metadata": {},
   "outputs": [
    {
     "data": {
      "text/plain": [
       "DatetimeIndex(['2017-12-17 14:32:40-02:00', '2017-12-17 14:32:41-02:00',\n",
       "               '2017-12-17 14:32:42-02:00', '2017-12-17 14:32:43-02:00',\n",
       "               '2017-12-17 14:32:44-02:00', '2017-12-17 14:32:45-02:00',\n",
       "               '2017-12-17 14:32:46-02:00', '2017-12-17 14:32:47-02:00',\n",
       "               '2017-12-17 14:32:48-02:00', '2017-12-17 14:32:49-02:00',\n",
       "               ...\n",
       "               '2017-12-20 14:24:59-02:00', '2017-12-20 14:25:00-02:00',\n",
       "               '2017-12-20 14:25:01-02:00', '2017-12-20 14:25:02-02:00',\n",
       "               '2017-12-20 14:25:03-02:00', '2017-12-20 14:25:04-02:00',\n",
       "               '2017-12-20 14:25:05-02:00', '2017-12-20 14:25:06-02:00',\n",
       "               '2017-12-20 14:25:07-02:00', '2017-12-20 14:25:08-02:00'],\n",
       "              dtype='datetime64[ns, Brazil/East]', length=258749, freq='S')"
      ]
     },
     "execution_count": 4,
     "metadata": {},
     "output_type": "execute_result"
    }
   ],
   "source": [
    "naive_times "
   ]
  },
  {
   "cell_type": "code",
   "execution_count": 5,
   "id": "056f50f3",
   "metadata": {},
   "outputs": [],
   "source": [
    "naive_times = pd.DatetimeIndex(naive_times)"
   ]
  },
  {
   "cell_type": "code",
   "execution_count": 6,
   "id": "1305cfff",
   "metadata": {},
   "outputs": [
    {
     "data": {
      "text/plain": [
       "(258749,)"
      ]
     },
     "execution_count": 6,
     "metadata": {},
     "output_type": "execute_result"
    }
   ],
   "source": [
    "naive_times.shape"
   ]
  },
  {
   "cell_type": "code",
   "execution_count": 8,
   "id": "bb4a8e64",
   "metadata": {},
   "outputs": [],
   "source": [
    "naive_times = pd.DatetimeIndex(naive_times)"
   ]
  },
  {
   "cell_type": "code",
   "execution_count": 7,
   "id": "196500e4",
   "metadata": {},
   "outputs": [],
   "source": [
    "eth = pvlib.irradiance.get_extra_radiation(naive_times, solar_constant = 1366.1, method = 'nrel').to_frame()"
   ]
  },
  {
   "cell_type": "code",
   "execution_count": 30,
   "id": "44a60d50",
   "metadata": {},
   "outputs": [
    {
     "data": {
      "text/plain": [
       "<AxesSubplot:>"
      ]
     },
     "execution_count": 30,
     "metadata": {},
     "output_type": "execute_result"
    },
    {
     "data": {
      "image/png": "[encoded data removed]",
      "text/plain": [
       "<Figure size 432x288 with 1 Axes>"
      ]
     },
     "metadata": {
      "needs_background": "light"
     },
     "output_type": "display_data"
    }
   ],
   "source": [
    "eth.loc['2019'].plot()"
   ]
  },
  {
   "cell_type": "code",
   "execution_count": 8,
   "id": "66b2e12e",
   "metadata": {},
   "outputs": [
    {
     "data": {
      "text/plain": [
       "<AxesSubplot:>"
      ]
     },
     "execution_count": 8,
     "metadata": {},
     "output_type": "execute_result"
    },
    {
     "data": {
      "image/png": "[encoded data removed]",
      "text/plain": [
       "<Figure size 432x288 with 1 Axes>"
      ]
     },
     "metadata": {
      "needs_background": "light"
     },
     "output_type": "display_data"
    }
   ],
   "source": [
    "eth.plot()"
   ]
  },
  {
   "cell_type": "code",
   "execution_count": 9,
   "id": "d4d3c2e4",
   "metadata": {},
   "outputs": [],
   "source": [
    "solpos = pvlib.solarposition.get_solarposition(naive_times, location.latitude, location.longitude, location.altitude, pressure = 101293, temperature = 25)\n"
   ]
  },
  {
   "cell_type": "code",
   "execution_count": 10,
   "id": "78ffa94e",
   "metadata": {},
   "outputs": [
    {
     "data": {
      "text/html": [
       "<div>\n",
       "<style scoped>\n",
       "    .dataframe tbody tr th:only-of-type {\n",
       "        vertical-align: middle;\n",
       "    }\n",
       "\n",
       "    .dataframe tbody tr th {\n",
       "        vertical-align: top;\n",
       "    }\n",
       "\n",
       "    .dataframe thead th {\n",
       "        text-align: right;\n",
       "    }\n",
       "</style>\n",
       "<table border=\"1\" class=\"dataframe\">\n",
       "  <thead>\n",
       "    <tr style=\"text-align: right;\">\n",
       "      <th></th>\n",
       "      <th>apparent_zenith</th>\n",
       "      <th>zenith</th>\n",
       "      <th>apparent_elevation</th>\n",
       "      <th>elevation</th>\n",
       "      <th>azimuth</th>\n",
       "      <th>equation_of_time</th>\n",
       "    </tr>\n",
       "  </thead>\n",
       "  <tbody>\n",
       "    <tr>\n",
       "      <th>2017-12-17 14:32:40-02:00</th>\n",
       "      <td>19.061608</td>\n",
       "      <td>19.067161</td>\n",
       "      <td>70.938392</td>\n",
       "      <td>70.932839</td>\n",
       "      <td>277.671845</td>\n",
       "      <td>3.706776</td>\n",
       "    </tr>\n",
       "    <tr>\n",
       "      <th>2017-12-17 14:32:41-02:00</th>\n",
       "      <td>19.065271</td>\n",
       "      <td>19.070825</td>\n",
       "      <td>70.934729</td>\n",
       "      <td>70.929175</td>\n",
       "      <td>277.668498</td>\n",
       "      <td>3.706770</td>\n",
       "    </tr>\n",
       "    <tr>\n",
       "      <th>2017-12-17 14:32:42-02:00</th>\n",
       "      <td>19.068933</td>\n",
       "      <td>19.074489</td>\n",
       "      <td>70.931067</td>\n",
       "      <td>70.925511</td>\n",
       "      <td>277.665152</td>\n",
       "      <td>3.706765</td>\n",
       "    </tr>\n",
       "    <tr>\n",
       "      <th>2017-12-17 14:32:43-02:00</th>\n",
       "      <td>19.072596</td>\n",
       "      <td>19.078153</td>\n",
       "      <td>70.927404</td>\n",
       "      <td>70.921847</td>\n",
       "      <td>277.661806</td>\n",
       "      <td>3.706759</td>\n",
       "    </tr>\n",
       "    <tr>\n",
       "      <th>2017-12-17 14:32:44-02:00</th>\n",
       "      <td>19.076259</td>\n",
       "      <td>19.081817</td>\n",
       "      <td>70.923741</td>\n",
       "      <td>70.918183</td>\n",
       "      <td>277.658461</td>\n",
       "      <td>3.706753</td>\n",
       "    </tr>\n",
       "    <tr>\n",
       "      <th>...</th>\n",
       "      <td>...</td>\n",
       "      <td>...</td>\n",
       "      <td>...</td>\n",
       "      <td>...</td>\n",
       "      <td>...</td>\n",
       "      <td>...</td>\n",
       "    </tr>\n",
       "    <tr>\n",
       "      <th>2017-12-20 14:25:04-02:00</th>\n",
       "      <td>17.051994</td>\n",
       "      <td>17.056921</td>\n",
       "      <td>72.948006</td>\n",
       "      <td>72.943079</td>\n",
       "      <td>279.457180</td>\n",
       "      <td>2.223903</td>\n",
       "    </tr>\n",
       "    <tr>\n",
       "      <th>2017-12-20 14:25:05-02:00</th>\n",
       "      <td>17.055640</td>\n",
       "      <td>17.060568</td>\n",
       "      <td>72.944360</td>\n",
       "      <td>72.939432</td>\n",
       "      <td>279.453282</td>\n",
       "      <td>2.223897</td>\n",
       "    </tr>\n",
       "    <tr>\n",
       "      <th>2017-12-20 14:25:06-02:00</th>\n",
       "      <td>17.059286</td>\n",
       "      <td>17.064215</td>\n",
       "      <td>72.940714</td>\n",
       "      <td>72.935785</td>\n",
       "      <td>279.449385</td>\n",
       "      <td>2.223891</td>\n",
       "    </tr>\n",
       "    <tr>\n",
       "      <th>2017-12-20 14:25:07-02:00</th>\n",
       "      <td>17.062932</td>\n",
       "      <td>17.067862</td>\n",
       "      <td>72.937068</td>\n",
       "      <td>72.932138</td>\n",
       "      <td>279.445488</td>\n",
       "      <td>2.223886</td>\n",
       "    </tr>\n",
       "    <tr>\n",
       "      <th>2017-12-20 14:25:08-02:00</th>\n",
       "      <td>17.066577</td>\n",
       "      <td>17.071509</td>\n",
       "      <td>72.933423</td>\n",
       "      <td>72.928491</td>\n",
       "      <td>279.441594</td>\n",
       "      <td>2.223880</td>\n",
       "    </tr>\n",
       "  </tbody>\n",
       "</table>\n",
       "<p>258749 rows × 6 columns</p>\n",
       "</div>"
      ],
      "text/plain": [
       "                           apparent_zenith     zenith  apparent_elevation  \\\n",
       "2017-12-17 14:32:40-02:00        19.061608  19.067161           70.938392   \n",
       "2017-12-17 14:32:41-02:00        19.065271  19.070825           70.934729   \n",
       "2017-12-17 14:32:42-02:00        19.068933  19.074489           70.931067   \n",
       "2017-12-17 14:32:43-02:00        19.072596  19.078153           70.927404   \n",
       "2017-12-17 14:32:44-02:00        19.076259  19.081817           70.923741   \n",
       "...                                    ...        ...                 ...   \n",
       "2017-12-20 14:25:04-02:00        17.051994  17.056921           72.948006   \n",
       "2017-12-20 14:25:05-02:00        17.055640  17.060568           72.944360   \n",
       "2017-12-20 14:25:06-02:00        17.059286  17.064215           72.940714   \n",
       "2017-12-20 14:25:07-02:00        17.062932  17.067862           72.937068   \n",
       "2017-12-20 14:25:08-02:00        17.066577  17.071509           72.933423   \n",
       "\n",
       "                           elevation     azimuth  equation_of_time  \n",
       "2017-12-17 14:32:40-02:00  70.932839  277.671845          3.706776  \n",
       "2017-12-17 14:32:41-02:00  70.929175  277.668498          3.706770  \n",
       "2017-12-17 14:32:42-02:00  70.925511  277.665152          3.706765  \n",
       "2017-12-17 14:32:43-02:00  70.921847  277.661806          3.706759  \n",
       "2017-12-17 14:32:44-02:00  70.918183  277.658461          3.706753  \n",
       "...                              ...         ...               ...  \n",
       "2017-12-20 14:25:04-02:00  72.943079  279.457180          2.223903  \n",
       "2017-12-20 14:25:05-02:00  72.939432  279.453282          2.223897  \n",
       "2017-12-20 14:25:06-02:00  72.935785  279.449385          2.223891  \n",
       "2017-12-20 14:25:07-02:00  72.932138  279.445488          2.223886  \n",
       "2017-12-20 14:25:08-02:00  72.928491  279.441594          2.223880  \n",
       "\n",
       "[258749 rows x 6 columns]"
      ]
     },
     "execution_count": 10,
     "metadata": {},
     "output_type": "execute_result"
    }
   ],
   "source": [
    "solpos"
   ]
  },
  {
   "cell_type": "code",
   "execution_count": 11,
   "id": "a7ef00d2",
   "metadata": {},
   "outputs": [
    {
     "data": {
      "text/html": [
       "<div>\n",
       "<style scoped>\n",
       "    .dataframe tbody tr th:only-of-type {\n",
       "        vertical-align: middle;\n",
       "    }\n",
       "\n",
       "    .dataframe tbody tr th {\n",
       "        vertical-align: top;\n",
       "    }\n",
       "\n",
       "    .dataframe thead th {\n",
       "        text-align: right;\n",
       "    }\n",
       "</style>\n",
       "<table border=\"1\" class=\"dataframe\">\n",
       "  <thead>\n",
       "    <tr style=\"text-align: right;\">\n",
       "      <th></th>\n",
       "      <th>0</th>\n",
       "    </tr>\n",
       "  </thead>\n",
       "  <tbody>\n",
       "    <tr>\n",
       "      <th>2017-12-17 14:32:40-02:00</th>\n",
       "      <td>1410.694623</td>\n",
       "    </tr>\n",
       "    <tr>\n",
       "      <th>2017-12-17 14:32:41-02:00</th>\n",
       "      <td>1410.694626</td>\n",
       "    </tr>\n",
       "    <tr>\n",
       "      <th>2017-12-17 14:32:42-02:00</th>\n",
       "      <td>1410.694629</td>\n",
       "    </tr>\n",
       "    <tr>\n",
       "      <th>2017-12-17 14:32:43-02:00</th>\n",
       "      <td>1410.694632</td>\n",
       "    </tr>\n",
       "    <tr>\n",
       "      <th>2017-12-17 14:32:44-02:00</th>\n",
       "      <td>1410.694635</td>\n",
       "    </tr>\n",
       "    <tr>\n",
       "      <th>...</th>\n",
       "      <td>...</td>\n",
       "    </tr>\n",
       "    <tr>\n",
       "      <th>2017-12-20 14:25:04-02:00</th>\n",
       "      <td>1411.370028</td>\n",
       "    </tr>\n",
       "    <tr>\n",
       "      <th>2017-12-20 14:25:05-02:00</th>\n",
       "      <td>1411.370031</td>\n",
       "    </tr>\n",
       "    <tr>\n",
       "      <th>2017-12-20 14:25:06-02:00</th>\n",
       "      <td>1411.370033</td>\n",
       "    </tr>\n",
       "    <tr>\n",
       "      <th>2017-12-20 14:25:07-02:00</th>\n",
       "      <td>1411.370036</td>\n",
       "    </tr>\n",
       "    <tr>\n",
       "      <th>2017-12-20 14:25:08-02:00</th>\n",
       "      <td>1411.370038</td>\n",
       "    </tr>\n",
       "  </tbody>\n",
       "</table>\n",
       "<p>258749 rows × 1 columns</p>\n",
       "</div>"
      ],
      "text/plain": [
       "                                     0\n",
       "2017-12-17 14:32:40-02:00  1410.694623\n",
       "2017-12-17 14:32:41-02:00  1410.694626\n",
       "2017-12-17 14:32:42-02:00  1410.694629\n",
       "2017-12-17 14:32:43-02:00  1410.694632\n",
       "2017-12-17 14:32:44-02:00  1410.694635\n",
       "...                                ...\n",
       "2017-12-20 14:25:04-02:00  1411.370028\n",
       "2017-12-20 14:25:05-02:00  1411.370031\n",
       "2017-12-20 14:25:06-02:00  1411.370033\n",
       "2017-12-20 14:25:07-02:00  1411.370036\n",
       "2017-12-20 14:25:08-02:00  1411.370038\n",
       "\n",
       "[258749 rows x 1 columns]"
      ]
     },
     "execution_count": 11,
     "metadata": {},
     "output_type": "execute_result"
    }
   ],
   "source": [
    "eth"
   ]
  },
  {
   "cell_type": "code",
   "execution_count": 12,
   "id": "5aa0431f",
   "metadata": {},
   "outputs": [],
   "source": [
    "cosSZA = np.cos(np.deg2rad(solpos.azimuth))\n",
    "PPmin = -4\n"
   ]
  },
  {
   "cell_type": "code",
   "execution_count": 13,
   "id": "fc906769",
   "metadata": {},
   "outputs": [
    {
     "data": {
      "text/plain": [
       "2017-12-17 14:32:40-02:00    0.133499\n",
       "2017-12-17 14:32:41-02:00    0.133441\n",
       "2017-12-17 14:32:42-02:00    0.133383\n",
       "2017-12-17 14:32:43-02:00    0.133326\n",
       "2017-12-17 14:32:44-02:00    0.133268\n",
       "                               ...   \n",
       "2017-12-20 14:25:04-02:00    0.164310\n",
       "2017-12-20 14:25:05-02:00    0.164243\n",
       "2017-12-20 14:25:06-02:00    0.164176\n",
       "2017-12-20 14:25:07-02:00    0.164109\n",
       "2017-12-20 14:25:08-02:00    0.164042\n",
       "Freq: S, Name: azimuth, Length: 258749, dtype: float64"
      ]
     },
     "execution_count": 13,
     "metadata": {},
     "output_type": "execute_result"
    }
   ],
   "source": [
    "cosSZA"
   ]
  },
  {
   "cell_type": "code",
   "execution_count": 14,
   "id": "17497750",
   "metadata": {},
   "outputs": [
    {
     "data": {
      "text/plain": [
       "-4"
      ]
     },
     "execution_count": 14,
     "metadata": {},
     "output_type": "execute_result"
    }
   ],
   "source": [
    "PPmin"
   ]
  },
  {
   "cell_type": "code",
   "execution_count": null,
   "id": "bb6f7034",
   "metadata": {},
   "outputs": [],
   "source": [
    "GHIPPmax = eth*1.5*cosSZA**(1.2) + 100"
   ]
  },
  {
   "cell_type": "code",
   "execution_count": null,
   "id": "8029da23",
   "metadata": {},
   "outputs": [],
   "source": []
  },
  {
   "cell_type": "code",
   "execution_count": null,
   "id": "f2cd3174",
   "metadata": {},
   "outputs": [],
   "source": []
  },
  {
   "cell_type": "code",
   "execution_count": null,
   "id": "578414f3",
   "metadata": {},
   "outputs": [],
   "source": []
  },
  {
   "cell_type": "code",
   "execution_count": 60,
   "id": "7964be96",
   "metadata": {},
   "outputs": [],
   "source": [
    "DIFPPmax = eth*0.95*cosSZA**(1.2) + 50\n",
    "DNIPPmax = eth\n",
    "ERmin = -2\n",
    "GHIERmax = eth*1.2*cosSZA**(1.2) + 50\n",
    "DIFERmax = eth*0.75*cosSZA**(1.2)+ 30\n",
    "DNIERmax = eth*0.95*cosSZA**(0.2)+10"
   ]
  },
  {
   "cell_type": "code",
   "execution_count": 74,
   "id": "bedc33e0",
   "metadata": {},
   "outputs": [],
   "source": [
    "y1 = GHIPPmax.loc['2018-10-15']"
   ]
  },
  {
   "cell_type": "code",
   "execution_count": 78,
   "id": "b80a98c6",
   "metadata": {},
   "outputs": [],
   "source": [
    "y2 = GHIERmax.loc['2018-10-15']"
   ]
  },
  {
   "cell_type": "code",
   "execution_count": 79,
   "id": "bae1e002",
   "metadata": {},
   "outputs": [
    {
     "data": {
      "text/plain": [
       "[<matplotlib.lines.Line2D at 0x7fe71b4af790>]"
      ]
     },
     "execution_count": 79,
     "metadata": {},
     "output_type": "execute_result"
    },
    {
     "data": {
      "image/png": "[encoded data removed]",
      "text/plain": [
       "<Figure size 432x288 with 1 Axes>"
      ]
     },
     "metadata": {
      "needs_background": "light"
     },
     "output_type": "display_data"
    }
   ],
   "source": [
    "plt.plot(y1)\n",
    "plt.plot(y2)"
   ]
  },
  {
   "cell_type": "code",
   "execution_count": 80,
   "id": "b04a97b3",
   "metadata": {},
   "outputs": [
    {
     "data": {
      "text/plain": [
       "2018-01-17 14:58:28-02:00    431.445050\n",
       "2018-01-17 14:58:29-02:00    431.323923\n",
       "2018-01-17 14:58:30-02:00    431.202827\n",
       "2018-01-17 14:58:31-02:00    431.081770\n",
       "2018-01-17 14:58:32-02:00    430.960747\n",
       "                                ...    \n",
       "2021-01-21 14:25:04-03:00    333.671023\n",
       "2021-01-21 14:25:05-03:00    333.580050\n",
       "2021-01-21 14:25:06-03:00    333.489101\n",
       "2021-01-21 14:25:07-03:00    333.398174\n",
       "2021-01-21 14:25:08-03:00    333.307267\n",
       "Freq: S, Length: 95041601, dtype: float64"
      ]
     },
     "execution_count": 80,
     "metadata": {},
     "output_type": "execute_result"
    }
   ],
   "source": [
    "GHIPPmax"
   ]
  },
  {
   "cell_type": "code",
   "execution_count": 85,
   "id": "abeaa7ba",
   "metadata": {},
   "outputs": [
    {
     "ename": "KeyboardInterrupt",
     "evalue": "",
     "output_type": "error",
     "traceback": [
      "\u001b[0;31m---------------------------------------------------------------------------\u001b[0m",
      "\u001b[0;31mTypeError\u001b[0m                                 Traceback (most recent call last)",
      "\u001b[0;32mpandas/_libs/index.pyx\u001b[0m in \u001b[0;36mpandas._libs.index.DatetimeEngine.get_loc\u001b[0;34m()\u001b[0m\n",
      "\u001b[0;32mpandas/_libs/index.pyx\u001b[0m in \u001b[0;36mpandas._libs.index.DatetimeEngine._unbox_scalar\u001b[0;34m()\u001b[0m\n",
      "\u001b[0;31mTypeError\u001b[0m: min",
      "\nDuring handling of the above exception, another exception occurred:\n",
      "\u001b[0;31mKeyError\u001b[0m                                  Traceback (most recent call last)",
      "\u001b[0;32m~/opt/anaconda3/lib/python3.8/site-packages/pandas/core/series.py\u001b[0m in \u001b[0;36m__setitem__\u001b[0;34m(self, key, value)\u001b[0m\n\u001b[1;32m    971\u001b[0m         \u001b[0;32mtry\u001b[0m\u001b[0;34m:\u001b[0m\u001b[0;34m\u001b[0m\u001b[0;34m\u001b[0m\u001b[0m\n\u001b[0;32m--> 972\u001b[0;31m             \u001b[0mself\u001b[0m\u001b[0;34m.\u001b[0m\u001b[0m_set_with_engine\u001b[0m\u001b[0;34m(\u001b[0m\u001b[0mkey\u001b[0m\u001b[0;34m,\u001b[0m \u001b[0mvalue\u001b[0m\u001b[0;34m)\u001b[0m\u001b[0;34m\u001b[0m\u001b[0;34m\u001b[0m\u001b[0m\n\u001b[0m\u001b[1;32m    973\u001b[0m         \u001b[0;32mexcept\u001b[0m \u001b[0;34m(\u001b[0m\u001b[0mKeyError\u001b[0m\u001b[0;34m,\u001b[0m \u001b[0mValueError\u001b[0m\u001b[0;34m)\u001b[0m\u001b[0;34m:\u001b[0m\u001b[0;34m\u001b[0m\u001b[0;34m\u001b[0m\u001b[0m\n",
      "\u001b[0;32m~/opt/anaconda3/lib/python3.8/site-packages/pandas/core/series.py\u001b[0m in \u001b[0;36m_set_with_engine\u001b[0;34m(self, key, value)\u001b[0m\n\u001b[1;32m   1004\u001b[0m         \u001b[0;31m# fails with AttributeError for IntervalIndex\u001b[0m\u001b[0;34m\u001b[0m\u001b[0;34m\u001b[0m\u001b[0;34m\u001b[0m\u001b[0m\n\u001b[0;32m-> 1005\u001b[0;31m         \u001b[0mloc\u001b[0m \u001b[0;34m=\u001b[0m \u001b[0mself\u001b[0m\u001b[0;34m.\u001b[0m\u001b[0mindex\u001b[0m\u001b[0;34m.\u001b[0m\u001b[0m_engine\u001b[0m\u001b[0;34m.\u001b[0m\u001b[0mget_loc\u001b[0m\u001b[0;34m(\u001b[0m\u001b[0mkey\u001b[0m\u001b[0;34m)\u001b[0m\u001b[0;34m\u001b[0m\u001b[0;34m\u001b[0m\u001b[0m\n\u001b[0m\u001b[1;32m   1006\u001b[0m         \u001b[0mvalidate_numeric_casting\u001b[0m\u001b[0;34m(\u001b[0m\u001b[0mself\u001b[0m\u001b[0;34m.\u001b[0m\u001b[0mdtype\u001b[0m\u001b[0;34m,\u001b[0m \u001b[0mvalue\u001b[0m\u001b[0;34m)\u001b[0m\u001b[0;34m\u001b[0m\u001b[0;34m\u001b[0m\u001b[0m\n",
      "\u001b[0;32mpandas/_libs/index.pyx\u001b[0m in \u001b[0;36mpandas._libs.index.DatetimeEngine.get_loc\u001b[0;34m()\u001b[0m\n",
      "\u001b[0;32mpandas/_libs/index.pyx\u001b[0m in \u001b[0;36mpandas._libs.index.DatetimeEngine.get_loc\u001b[0;34m()\u001b[0m\n",
      "\u001b[0;31mKeyError\u001b[0m: 'min'",
      "\nDuring handling of the above exception, another exception occurred:\n",
      "\u001b[0;31mKeyboardInterrupt\u001b[0m                         Traceback (most recent call last)",
      "    \u001b[0;31m[... skipping hidden 1 frame]\u001b[0m\n",
      "\u001b[0;32m<ipython-input-85-675ae7353c2c>\u001b[0m in \u001b[0;36m<module>\u001b[0;34m\u001b[0m\n\u001b[0;32m----> 1\u001b[0;31m \u001b[0mGHIPPmax\u001b[0m\u001b[0;34m[\u001b[0m\u001b[0;34m'min'\u001b[0m\u001b[0;34m]\u001b[0m\u001b[0;34m=\u001b[0m\u001b[0mPPmin\u001b[0m\u001b[0;34m\u001b[0m\u001b[0;34m\u001b[0m\u001b[0m\n\u001b[0m",
      "\u001b[0;32m~/opt/anaconda3/lib/python3.8/site-packages/pandas/core/series.py\u001b[0m in \u001b[0;36m__setitem__\u001b[0;34m(self, key, value)\u001b[0m\n\u001b[1;32m    979\u001b[0m                 \u001b[0;31m# GH#12862 adding a new key to the Series\u001b[0m\u001b[0;34m\u001b[0m\u001b[0;34m\u001b[0m\u001b[0;34m\u001b[0m\u001b[0m\n\u001b[0;32m--> 980\u001b[0;31m                 \u001b[0mself\u001b[0m\u001b[0;34m.\u001b[0m\u001b[0mloc\u001b[0m\u001b[0;34m[\u001b[0m\u001b[0mkey\u001b[0m\u001b[0;34m]\u001b[0m \u001b[0;34m=\u001b[0m \u001b[0mvalue\u001b[0m\u001b[0;34m\u001b[0m\u001b[0;34m\u001b[0m\u001b[0m\n\u001b[0m\u001b[1;32m    981\u001b[0m \u001b[0;34m\u001b[0m\u001b[0m\n",
      "\u001b[0;32m~/opt/anaconda3/lib/python3.8/site-packages/pandas/core/indexing.py\u001b[0m in \u001b[0;36m__setitem__\u001b[0;34m(self, key, value)\u001b[0m\n\u001b[1;32m    691\u001b[0m         \u001b[0miloc\u001b[0m \u001b[0;34m=\u001b[0m \u001b[0mself\u001b[0m \u001b[0;32mif\u001b[0m \u001b[0mself\u001b[0m\u001b[0;34m.\u001b[0m\u001b[0mname\u001b[0m \u001b[0;34m==\u001b[0m \u001b[0;34m\"iloc\"\u001b[0m \u001b[0;32melse\u001b[0m \u001b[0mself\u001b[0m\u001b[0;34m.\u001b[0m\u001b[0mobj\u001b[0m\u001b[0;34m.\u001b[0m\u001b[0miloc\u001b[0m\u001b[0;34m\u001b[0m\u001b[0;34m\u001b[0m\u001b[0m\n\u001b[0;32m--> 692\u001b[0;31m         \u001b[0miloc\u001b[0m\u001b[0;34m.\u001b[0m\u001b[0m_setitem_with_indexer\u001b[0m\u001b[0;34m(\u001b[0m\u001b[0mindexer\u001b[0m\u001b[0;34m,\u001b[0m \u001b[0mvalue\u001b[0m\u001b[0;34m,\u001b[0m \u001b[0mself\u001b[0m\u001b[0;34m.\u001b[0m\u001b[0mname\u001b[0m\u001b[0;34m)\u001b[0m\u001b[0;34m\u001b[0m\u001b[0;34m\u001b[0m\u001b[0m\n\u001b[0m\u001b[1;32m    693\u001b[0m \u001b[0;34m\u001b[0m\u001b[0m\n",
      "\u001b[0;32m~/opt/anaconda3/lib/python3.8/site-packages/pandas/core/indexing.py\u001b[0m in \u001b[0;36m_setitem_with_indexer\u001b[0;34m(self, indexer, value, name)\u001b[0m\n\u001b[1;32m   1628\u001b[0m             \u001b[0;32mif\u001b[0m \u001b[0mmissing\u001b[0m\u001b[0;34m:\u001b[0m\u001b[0;34m\u001b[0m\u001b[0;34m\u001b[0m\u001b[0m\n\u001b[0;32m-> 1629\u001b[0;31m                 \u001b[0mself\u001b[0m\u001b[0;34m.\u001b[0m\u001b[0m_setitem_with_indexer_missing\u001b[0m\u001b[0;34m(\u001b[0m\u001b[0mindexer\u001b[0m\u001b[0;34m,\u001b[0m \u001b[0mvalue\u001b[0m\u001b[0;34m)\u001b[0m\u001b[0;34m\u001b[0m\u001b[0;34m\u001b[0m\u001b[0m\n\u001b[0m\u001b[1;32m   1630\u001b[0m                 \u001b[0;32mreturn\u001b[0m\u001b[0;34m\u001b[0m\u001b[0;34m\u001b[0m\u001b[0m\n",
      "\u001b[0;32m~/opt/anaconda3/lib/python3.8/site-packages/pandas/core/indexing.py\u001b[0m in \u001b[0;36m_setitem_with_indexer_missing\u001b[0;34m(self, indexer, value)\u001b[0m\n\u001b[1;32m   1873\u001b[0m             \u001b[0mindex\u001b[0m \u001b[0;34m=\u001b[0m \u001b[0mself\u001b[0m\u001b[0;34m.\u001b[0m\u001b[0mobj\u001b[0m\u001b[0;34m.\u001b[0m\u001b[0mindex\u001b[0m\u001b[0;34m\u001b[0m\u001b[0;34m\u001b[0m\u001b[0m\n\u001b[0;32m-> 1874\u001b[0;31m             \u001b[0mnew_index\u001b[0m \u001b[0;34m=\u001b[0m \u001b[0mindex\u001b[0m\u001b[0;34m.\u001b[0m\u001b[0minsert\u001b[0m\u001b[0;34m(\u001b[0m\u001b[0mlen\u001b[0m\u001b[0;34m(\u001b[0m\u001b[0mindex\u001b[0m\u001b[0;34m)\u001b[0m\u001b[0;34m,\u001b[0m \u001b[0mindexer\u001b[0m\u001b[0;34m)\u001b[0m\u001b[0;34m\u001b[0m\u001b[0;34m\u001b[0m\u001b[0m\n\u001b[0m\u001b[1;32m   1875\u001b[0m \u001b[0;34m\u001b[0m\u001b[0m\n",
      "\u001b[0;32m~/opt/anaconda3/lib/python3.8/site-packages/pandas/core/indexes/datetimelike.py\u001b[0m in \u001b[0;36minsert\u001b[0;34m(self, loc, item)\u001b[0m\n\u001b[1;32m    914\u001b[0m             \u001b[0;31m# TODO: Should we attempt _scalar_from_string?\u001b[0m\u001b[0;34m\u001b[0m\u001b[0;34m\u001b[0m\u001b[0;34m\u001b[0m\u001b[0m\n\u001b[0;32m--> 915\u001b[0;31m             \u001b[0;32mreturn\u001b[0m \u001b[0mself\u001b[0m\u001b[0;34m.\u001b[0m\u001b[0mastype\u001b[0m\u001b[0;34m(\u001b[0m\u001b[0mobject\u001b[0m\u001b[0;34m)\u001b[0m\u001b[0;34m.\u001b[0m\u001b[0minsert\u001b[0m\u001b[0;34m(\u001b[0m\u001b[0mloc\u001b[0m\u001b[0;34m,\u001b[0m \u001b[0mitem\u001b[0m\u001b[0;34m)\u001b[0m\u001b[0;34m\u001b[0m\u001b[0;34m\u001b[0m\u001b[0m\n\u001b[0m\u001b[1;32m    916\u001b[0m \u001b[0;34m\u001b[0m\u001b[0m\n",
      "\u001b[0;32m~/opt/anaconda3/lib/python3.8/site-packages/pandas/core/indexes/extension.py\u001b[0m in \u001b[0;36mastype\u001b[0;34m(self, dtype, copy)\u001b[0m\n\u001b[1;32m    315\u001b[0m \u001b[0;34m\u001b[0m\u001b[0m\n\u001b[0;32m--> 316\u001b[0;31m         \u001b[0mnew_values\u001b[0m \u001b[0;34m=\u001b[0m \u001b[0mself\u001b[0m\u001b[0;34m.\u001b[0m\u001b[0m_data\u001b[0m\u001b[0;34m.\u001b[0m\u001b[0mastype\u001b[0m\u001b[0;34m(\u001b[0m\u001b[0mdtype\u001b[0m\u001b[0;34m,\u001b[0m \u001b[0mcopy\u001b[0m\u001b[0;34m=\u001b[0m\u001b[0mcopy\u001b[0m\u001b[0;34m)\u001b[0m\u001b[0;34m\u001b[0m\u001b[0;34m\u001b[0m\u001b[0m\n\u001b[0m\u001b[1;32m    317\u001b[0m \u001b[0;34m\u001b[0m\u001b[0m\n",
      "\u001b[0;32m~/opt/anaconda3/lib/python3.8/site-packages/pandas/core/arrays/datetimes.py\u001b[0m in \u001b[0;36mastype\u001b[0;34m(self, dtype, copy)\u001b[0m\n\u001b[1;32m    609\u001b[0m             \u001b[0;32mreturn\u001b[0m \u001b[0mself\u001b[0m\u001b[0;34m.\u001b[0m\u001b[0mto_period\u001b[0m\u001b[0;34m(\u001b[0m\u001b[0mfreq\u001b[0m\u001b[0;34m=\u001b[0m\u001b[0mdtype\u001b[0m\u001b[0;34m.\u001b[0m\u001b[0mfreq\u001b[0m\u001b[0;34m)\u001b[0m\u001b[0;34m\u001b[0m\u001b[0;34m\u001b[0m\u001b[0m\n\u001b[0;32m--> 610\u001b[0;31m         \u001b[0;32mreturn\u001b[0m \u001b[0mdtl\u001b[0m\u001b[0;34m.\u001b[0m\u001b[0mDatetimeLikeArrayMixin\u001b[0m\u001b[0;34m.\u001b[0m\u001b[0mastype\u001b[0m\u001b[0;34m(\u001b[0m\u001b[0mself\u001b[0m\u001b[0;34m,\u001b[0m \u001b[0mdtype\u001b[0m\u001b[0;34m,\u001b[0m \u001b[0mcopy\u001b[0m\u001b[0;34m)\u001b[0m\u001b[0;34m\u001b[0m\u001b[0;34m\u001b[0m\u001b[0m\n\u001b[0m\u001b[1;32m    611\u001b[0m \u001b[0;34m\u001b[0m\u001b[0m\n",
      "\u001b[0;32m~/opt/anaconda3/lib/python3.8/site-packages/pandas/core/arrays/datetimelike.py\u001b[0m in \u001b[0;36mastype\u001b[0;34m(self, dtype, copy)\u001b[0m\n\u001b[1;32m    344\u001b[0m         \u001b[0;32mif\u001b[0m \u001b[0mis_object_dtype\u001b[0m\u001b[0;34m(\u001b[0m\u001b[0mdtype\u001b[0m\u001b[0;34m)\u001b[0m\u001b[0;34m:\u001b[0m\u001b[0;34m\u001b[0m\u001b[0;34m\u001b[0m\u001b[0m\n\u001b[0;32m--> 345\u001b[0;31m             \u001b[0;32mreturn\u001b[0m \u001b[0mself\u001b[0m\u001b[0;34m.\u001b[0m\u001b[0m_box_values\u001b[0m\u001b[0;34m(\u001b[0m\u001b[0mself\u001b[0m\u001b[0;34m.\u001b[0m\u001b[0masi8\u001b[0m\u001b[0;34m.\u001b[0m\u001b[0mravel\u001b[0m\u001b[0;34m(\u001b[0m\u001b[0;34m)\u001b[0m\u001b[0;34m)\u001b[0m\u001b[0;34m.\u001b[0m\u001b[0mreshape\u001b[0m\u001b[0;34m(\u001b[0m\u001b[0mself\u001b[0m\u001b[0;34m.\u001b[0m\u001b[0mshape\u001b[0m\u001b[0;34m)\u001b[0m\u001b[0;34m\u001b[0m\u001b[0;34m\u001b[0m\u001b[0m\n\u001b[0m\u001b[1;32m    346\u001b[0m         \u001b[0;32melif\u001b[0m \u001b[0mis_string_dtype\u001b[0m\u001b[0;34m(\u001b[0m\u001b[0mdtype\u001b[0m\u001b[0;34m)\u001b[0m \u001b[0;32mand\u001b[0m \u001b[0;32mnot\u001b[0m \u001b[0mis_categorical_dtype\u001b[0m\u001b[0;34m(\u001b[0m\u001b[0mdtype\u001b[0m\u001b[0;34m)\u001b[0m\u001b[0;34m:\u001b[0m\u001b[0;34m\u001b[0m\u001b[0;34m\u001b[0m\u001b[0m\n",
      "\u001b[0;32m~/opt/anaconda3/lib/python3.8/site-packages/pandas/core/arrays/datetimelike.py\u001b[0m in \u001b[0;36m_box_values\u001b[0;34m(self, values)\u001b[0m\n\u001b[1;32m    226\u001b[0m         \"\"\"\n\u001b[0;32m--> 227\u001b[0;31m         \u001b[0;32mreturn\u001b[0m \u001b[0mlib\u001b[0m\u001b[0;34m.\u001b[0m\u001b[0mmap_infer\u001b[0m\u001b[0;34m(\u001b[0m\u001b[0mvalues\u001b[0m\u001b[0;34m,\u001b[0m \u001b[0mself\u001b[0m\u001b[0;34m.\u001b[0m\u001b[0m_box_func\u001b[0m\u001b[0;34m)\u001b[0m\u001b[0;34m\u001b[0m\u001b[0;34m\u001b[0m\u001b[0m\n\u001b[0m\u001b[1;32m    228\u001b[0m \u001b[0;34m\u001b[0m\u001b[0m\n",
      "\u001b[0;32mpandas/_libs/lib.pyx\u001b[0m in \u001b[0;36mpandas._libs.lib.map_infer\u001b[0;34m()\u001b[0m\n",
      "\u001b[0;32m~/opt/anaconda3/lib/python3.8/site-packages/pandas/core/arrays/datetimes.py\u001b[0m in \u001b[0;36m_box_func\u001b[0;34m(self, x)\u001b[0m\n\u001b[1;32m    484\u001b[0m     \u001b[0;32mdef\u001b[0m \u001b[0m_box_func\u001b[0m\u001b[0;34m(\u001b[0m\u001b[0mself\u001b[0m\u001b[0;34m,\u001b[0m \u001b[0mx\u001b[0m\u001b[0;34m)\u001b[0m \u001b[0;34m->\u001b[0m \u001b[0mUnion\u001b[0m\u001b[0;34m[\u001b[0m\u001b[0mTimestamp\u001b[0m\u001b[0;34m,\u001b[0m \u001b[0mNaTType\u001b[0m\u001b[0;34m]\u001b[0m\u001b[0;34m:\u001b[0m\u001b[0;34m\u001b[0m\u001b[0;34m\u001b[0m\u001b[0m\n\u001b[0;32m--> 485\u001b[0;31m         \u001b[0;32mreturn\u001b[0m \u001b[0mTimestamp\u001b[0m\u001b[0;34m(\u001b[0m\u001b[0mx\u001b[0m\u001b[0;34m,\u001b[0m \u001b[0mfreq\u001b[0m\u001b[0;34m=\u001b[0m\u001b[0mself\u001b[0m\u001b[0;34m.\u001b[0m\u001b[0mfreq\u001b[0m\u001b[0;34m,\u001b[0m \u001b[0mtz\u001b[0m\u001b[0;34m=\u001b[0m\u001b[0mself\u001b[0m\u001b[0;34m.\u001b[0m\u001b[0mtz\u001b[0m\u001b[0;34m)\u001b[0m\u001b[0;34m\u001b[0m\u001b[0;34m\u001b[0m\u001b[0m\n\u001b[0m\u001b[1;32m    486\u001b[0m \u001b[0;34m\u001b[0m\u001b[0m\n",
      "\u001b[0;31mKeyboardInterrupt\u001b[0m: ",
      "\nDuring handling of the above exception, another exception occurred:\n",
      "\u001b[0;31mKeyboardInterrupt\u001b[0m                         Traceback (most recent call last)",
      "\u001b[0;31mKeyboardInterrupt\u001b[0m: "
     ]
    }
   ],
   "source": [
    "GHIPPmax['min']=PPmin"
   ]
  },
  {
   "cell_type": "code",
   "execution_count": null,
   "id": "5ca395a1",
   "metadata": {},
   "outputs": [],
   "source": [
    "GHIPPmax"
   ]
  },
  {
   "cell_type": "code",
   "execution_count": 63,
   "id": "1a5aa94b",
   "metadata": {},
   "outputs": [
    {
     "ename": "KeyboardInterrupt",
     "evalue": "",
     "output_type": "error",
     "traceback": [
      "\u001b[0;31m---------------------------------------------------------------------------\u001b[0m",
      "\u001b[0;31mKeyboardInterrupt\u001b[0m                         Traceback (most recent call last)",
      "\u001b[0;32m<ipython-input-63-bf824052a20b>\u001b[0m in \u001b[0;36m<module>\u001b[0;34m\u001b[0m\n\u001b[0;32m----> 1\u001b[0;31m \u001b[0mDNIPPmax\u001b[0m\u001b[0;34m.\u001b[0m\u001b[0mplot\u001b[0m\u001b[0;34m(\u001b[0m\u001b[0;34m)\u001b[0m\u001b[0;34m\u001b[0m\u001b[0;34m\u001b[0m\u001b[0m\n\u001b[0m",
      "\u001b[0;32m~/opt/anaconda3/lib/python3.8/site-packages/pandas/plotting/_core.py\u001b[0m in \u001b[0;36m__call__\u001b[0;34m(self, *args, **kwargs)\u001b[0m\n\u001b[1;32m    953\u001b[0m                     \u001b[0mdata\u001b[0m\u001b[0;34m.\u001b[0m\u001b[0mcolumns\u001b[0m \u001b[0;34m=\u001b[0m \u001b[0mlabel_name\u001b[0m\u001b[0;34m\u001b[0m\u001b[0;34m\u001b[0m\u001b[0m\n\u001b[1;32m    954\u001b[0m \u001b[0;34m\u001b[0m\u001b[0m\n\u001b[0;32m--> 955\u001b[0;31m         \u001b[0;32mreturn\u001b[0m \u001b[0mplot_backend\u001b[0m\u001b[0;34m.\u001b[0m\u001b[0mplot\u001b[0m\u001b[0;34m(\u001b[0m\u001b[0mdata\u001b[0m\u001b[0;34m,\u001b[0m \u001b[0mkind\u001b[0m\u001b[0;34m=\u001b[0m\u001b[0mkind\u001b[0m\u001b[0;34m,\u001b[0m \u001b[0;34m**\u001b[0m\u001b[0mkwargs\u001b[0m\u001b[0;34m)\u001b[0m\u001b[0;34m\u001b[0m\u001b[0;34m\u001b[0m\u001b[0m\n\u001b[0m\u001b[1;32m    956\u001b[0m \u001b[0;34m\u001b[0m\u001b[0m\n\u001b[1;32m    957\u001b[0m     \u001b[0m__call__\u001b[0m\u001b[0;34m.\u001b[0m\u001b[0m__doc__\u001b[0m \u001b[0;34m=\u001b[0m \u001b[0m__doc__\u001b[0m\u001b[0;34m\u001b[0m\u001b[0;34m\u001b[0m\u001b[0m\n",
      "\u001b[0;32m~/opt/anaconda3/lib/python3.8/site-packages/pandas/plotting/_matplotlib/__init__.py\u001b[0m in \u001b[0;36mplot\u001b[0;34m(data, kind, **kwargs)\u001b[0m\n\u001b[1;32m     59\u001b[0m             \u001b[0mkwargs\u001b[0m\u001b[0;34m[\u001b[0m\u001b[0;34m\"ax\"\u001b[0m\u001b[0;34m]\u001b[0m \u001b[0;34m=\u001b[0m \u001b[0mgetattr\u001b[0m\u001b[0;34m(\u001b[0m\u001b[0max\u001b[0m\u001b[0;34m,\u001b[0m \u001b[0;34m\"left_ax\"\u001b[0m\u001b[0;34m,\u001b[0m \u001b[0max\u001b[0m\u001b[0;34m)\u001b[0m\u001b[0;34m\u001b[0m\u001b[0;34m\u001b[0m\u001b[0m\n\u001b[1;32m     60\u001b[0m     \u001b[0mplot_obj\u001b[0m \u001b[0;34m=\u001b[0m \u001b[0mPLOT_CLASSES\u001b[0m\u001b[0;34m[\u001b[0m\u001b[0mkind\u001b[0m\u001b[0;34m]\u001b[0m\u001b[0;34m(\u001b[0m\u001b[0mdata\u001b[0m\u001b[0;34m,\u001b[0m \u001b[0;34m**\u001b[0m\u001b[0mkwargs\u001b[0m\u001b[0;34m)\u001b[0m\u001b[0;34m\u001b[0m\u001b[0;34m\u001b[0m\u001b[0m\n\u001b[0;32m---> 61\u001b[0;31m     \u001b[0mplot_obj\u001b[0m\u001b[0;34m.\u001b[0m\u001b[0mgenerate\u001b[0m\u001b[0;34m(\u001b[0m\u001b[0;34m)\u001b[0m\u001b[0;34m\u001b[0m\u001b[0;34m\u001b[0m\u001b[0m\n\u001b[0m\u001b[1;32m     62\u001b[0m     \u001b[0mplot_obj\u001b[0m\u001b[0;34m.\u001b[0m\u001b[0mdraw\u001b[0m\u001b[0;34m(\u001b[0m\u001b[0;34m)\u001b[0m\u001b[0;34m\u001b[0m\u001b[0;34m\u001b[0m\u001b[0m\n\u001b[1;32m     63\u001b[0m     \u001b[0;32mreturn\u001b[0m \u001b[0mplot_obj\u001b[0m\u001b[0;34m.\u001b[0m\u001b[0mresult\u001b[0m\u001b[0;34m\u001b[0m\u001b[0;34m\u001b[0m\u001b[0m\n",
      "\u001b[0;32m~/opt/anaconda3/lib/python3.8/site-packages/pandas/plotting/_matplotlib/core.py\u001b[0m in \u001b[0;36mgenerate\u001b[0;34m(self)\u001b[0m\n\u001b[1;32m    278\u001b[0m         \u001b[0mself\u001b[0m\u001b[0;34m.\u001b[0m\u001b[0m_compute_plot_data\u001b[0m\u001b[0;34m(\u001b[0m\u001b[0;34m)\u001b[0m\u001b[0;34m\u001b[0m\u001b[0;34m\u001b[0m\u001b[0m\n\u001b[1;32m    279\u001b[0m         \u001b[0mself\u001b[0m\u001b[0;34m.\u001b[0m\u001b[0m_setup_subplots\u001b[0m\u001b[0;34m(\u001b[0m\u001b[0;34m)\u001b[0m\u001b[0;34m\u001b[0m\u001b[0;34m\u001b[0m\u001b[0m\n\u001b[0;32m--> 280\u001b[0;31m         \u001b[0mself\u001b[0m\u001b[0;34m.\u001b[0m\u001b[0m_make_plot\u001b[0m\u001b[0;34m(\u001b[0m\u001b[0;34m)\u001b[0m\u001b[0;34m\u001b[0m\u001b[0;34m\u001b[0m\u001b[0m\n\u001b[0m\u001b[1;32m    281\u001b[0m         \u001b[0mself\u001b[0m\u001b[0;34m.\u001b[0m\u001b[0m_add_table\u001b[0m\u001b[0;34m(\u001b[0m\u001b[0;34m)\u001b[0m\u001b[0;34m\u001b[0m\u001b[0;34m\u001b[0m\u001b[0m\n\u001b[1;32m    282\u001b[0m         \u001b[0mself\u001b[0m\u001b[0;34m.\u001b[0m\u001b[0m_make_legend\u001b[0m\u001b[0;34m(\u001b[0m\u001b[0;34m)\u001b[0m\u001b[0;34m\u001b[0m\u001b[0;34m\u001b[0m\u001b[0m\n",
      "\u001b[0;32m~/opt/anaconda3/lib/python3.8/site-packages/pandas/plotting/_matplotlib/core.py\u001b[0m in \u001b[0;36m_make_plot\u001b[0;34m(self)\u001b[0m\n\u001b[1;32m   1147\u001b[0m             \u001b[0mkwds\u001b[0m\u001b[0;34m[\u001b[0m\u001b[0;34m\"label\"\u001b[0m\u001b[0;34m]\u001b[0m \u001b[0;34m=\u001b[0m \u001b[0mlabel\u001b[0m\u001b[0;34m\u001b[0m\u001b[0;34m\u001b[0m\u001b[0m\n\u001b[1;32m   1148\u001b[0m \u001b[0;34m\u001b[0m\u001b[0m\n\u001b[0;32m-> 1149\u001b[0;31m             newlines = plotf(\n\u001b[0m\u001b[1;32m   1150\u001b[0m                 \u001b[0max\u001b[0m\u001b[0;34m,\u001b[0m\u001b[0;34m\u001b[0m\u001b[0;34m\u001b[0m\u001b[0m\n\u001b[1;32m   1151\u001b[0m                 \u001b[0mx\u001b[0m\u001b[0;34m,\u001b[0m\u001b[0;34m\u001b[0m\u001b[0;34m\u001b[0m\u001b[0m\n",
      "\u001b[0;32m~/opt/anaconda3/lib/python3.8/site-packages/pandas/plotting/_matplotlib/core.py\u001b[0m in \u001b[0;36m_ts_plot\u001b[0;34m(cls, ax, x, data, style, **kwds)\u001b[0m\n\u001b[1;32m   1196\u001b[0m         \u001b[0max\u001b[0m\u001b[0;34m.\u001b[0m\u001b[0m_plot_data\u001b[0m\u001b[0;34m.\u001b[0m\u001b[0mappend\u001b[0m\u001b[0;34m(\u001b[0m\u001b[0;34m(\u001b[0m\u001b[0mdata\u001b[0m\u001b[0;34m,\u001b[0m \u001b[0mcls\u001b[0m\u001b[0;34m.\u001b[0m\u001b[0m_kind\u001b[0m\u001b[0;34m,\u001b[0m \u001b[0mkwds\u001b[0m\u001b[0;34m)\u001b[0m\u001b[0;34m)\u001b[0m\u001b[0;34m\u001b[0m\u001b[0;34m\u001b[0m\u001b[0m\n\u001b[1;32m   1197\u001b[0m \u001b[0;34m\u001b[0m\u001b[0m\n\u001b[0;32m-> 1198\u001b[0;31m         \u001b[0mlines\u001b[0m \u001b[0;34m=\u001b[0m \u001b[0mcls\u001b[0m\u001b[0;34m.\u001b[0m\u001b[0m_plot\u001b[0m\u001b[0;34m(\u001b[0m\u001b[0max\u001b[0m\u001b[0;34m,\u001b[0m \u001b[0mdata\u001b[0m\u001b[0;34m.\u001b[0m\u001b[0mindex\u001b[0m\u001b[0;34m,\u001b[0m \u001b[0mdata\u001b[0m\u001b[0;34m.\u001b[0m\u001b[0mvalues\u001b[0m\u001b[0;34m,\u001b[0m \u001b[0mstyle\u001b[0m\u001b[0;34m=\u001b[0m\u001b[0mstyle\u001b[0m\u001b[0;34m,\u001b[0m \u001b[0;34m**\u001b[0m\u001b[0mkwds\u001b[0m\u001b[0;34m)\u001b[0m\u001b[0;34m\u001b[0m\u001b[0;34m\u001b[0m\u001b[0m\n\u001b[0m\u001b[1;32m   1199\u001b[0m         \u001b[0;31m# set date formatter, locators and rescale limits\u001b[0m\u001b[0;34m\u001b[0m\u001b[0;34m\u001b[0m\u001b[0;34m\u001b[0m\u001b[0m\n\u001b[1;32m   1200\u001b[0m         \u001b[0mformat_dateaxis\u001b[0m\u001b[0;34m(\u001b[0m\u001b[0max\u001b[0m\u001b[0;34m,\u001b[0m \u001b[0max\u001b[0m\u001b[0;34m.\u001b[0m\u001b[0mfreq\u001b[0m\u001b[0;34m,\u001b[0m \u001b[0mdata\u001b[0m\u001b[0;34m.\u001b[0m\u001b[0mindex\u001b[0m\u001b[0;34m)\u001b[0m\u001b[0;34m\u001b[0m\u001b[0;34m\u001b[0m\u001b[0m\n",
      "\u001b[0;32m~/opt/anaconda3/lib/python3.8/site-packages/pandas/plotting/_matplotlib/core.py\u001b[0m in \u001b[0;36m_plot\u001b[0;34m(cls, ax, x, y, style, column_num, stacking_id, **kwds)\u001b[0m\n\u001b[1;32m   1176\u001b[0m             \u001b[0mcls\u001b[0m\u001b[0;34m.\u001b[0m\u001b[0m_initialize_stacker\u001b[0m\u001b[0;34m(\u001b[0m\u001b[0max\u001b[0m\u001b[0;34m,\u001b[0m \u001b[0mstacking_id\u001b[0m\u001b[0;34m,\u001b[0m \u001b[0mlen\u001b[0m\u001b[0;34m(\u001b[0m\u001b[0my\u001b[0m\u001b[0;34m)\u001b[0m\u001b[0;34m)\u001b[0m\u001b[0;34m\u001b[0m\u001b[0;34m\u001b[0m\u001b[0m\n\u001b[1;32m   1177\u001b[0m         \u001b[0my_values\u001b[0m \u001b[0;34m=\u001b[0m \u001b[0mcls\u001b[0m\u001b[0;34m.\u001b[0m\u001b[0m_get_stacked_values\u001b[0m\u001b[0;34m(\u001b[0m\u001b[0max\u001b[0m\u001b[0;34m,\u001b[0m \u001b[0mstacking_id\u001b[0m\u001b[0;34m,\u001b[0m \u001b[0my\u001b[0m\u001b[0;34m,\u001b[0m \u001b[0mkwds\u001b[0m\u001b[0;34m[\u001b[0m\u001b[0;34m\"label\"\u001b[0m\u001b[0;34m]\u001b[0m\u001b[0;34m)\u001b[0m\u001b[0;34m\u001b[0m\u001b[0;34m\u001b[0m\u001b[0m\n\u001b[0;32m-> 1178\u001b[0;31m         \u001b[0mlines\u001b[0m \u001b[0;34m=\u001b[0m \u001b[0mMPLPlot\u001b[0m\u001b[0;34m.\u001b[0m\u001b[0m_plot\u001b[0m\u001b[0;34m(\u001b[0m\u001b[0max\u001b[0m\u001b[0;34m,\u001b[0m \u001b[0mx\u001b[0m\u001b[0;34m,\u001b[0m \u001b[0my_values\u001b[0m\u001b[0;34m,\u001b[0m \u001b[0mstyle\u001b[0m\u001b[0;34m=\u001b[0m\u001b[0mstyle\u001b[0m\u001b[0;34m,\u001b[0m \u001b[0;34m**\u001b[0m\u001b[0mkwds\u001b[0m\u001b[0;34m)\u001b[0m\u001b[0;34m\u001b[0m\u001b[0;34m\u001b[0m\u001b[0m\n\u001b[0m\u001b[1;32m   1179\u001b[0m         \u001b[0mcls\u001b[0m\u001b[0;34m.\u001b[0m\u001b[0m_update_stacker\u001b[0m\u001b[0;34m(\u001b[0m\u001b[0max\u001b[0m\u001b[0;34m,\u001b[0m \u001b[0mstacking_id\u001b[0m\u001b[0;34m,\u001b[0m \u001b[0my\u001b[0m\u001b[0;34m)\u001b[0m\u001b[0;34m\u001b[0m\u001b[0;34m\u001b[0m\u001b[0m\n\u001b[1;32m   1180\u001b[0m         \u001b[0;32mreturn\u001b[0m \u001b[0mlines\u001b[0m\u001b[0;34m\u001b[0m\u001b[0;34m\u001b[0m\u001b[0m\n",
      "\u001b[0;32m~/opt/anaconda3/lib/python3.8/site-packages/pandas/plotting/_matplotlib/converter.py\u001b[0m in \u001b[0;36mwrapper\u001b[0;34m(*args, **kwargs)\u001b[0m\n\u001b[1;32m     64\u001b[0m     \u001b[0;32mdef\u001b[0m \u001b[0mwrapper\u001b[0m\u001b[0;34m(\u001b[0m\u001b[0;34m*\u001b[0m\u001b[0margs\u001b[0m\u001b[0;34m,\u001b[0m \u001b[0;34m**\u001b[0m\u001b[0mkwargs\u001b[0m\u001b[0;34m)\u001b[0m\u001b[0;34m:\u001b[0m\u001b[0;34m\u001b[0m\u001b[0;34m\u001b[0m\u001b[0m\n\u001b[1;32m     65\u001b[0m         \u001b[0;32mwith\u001b[0m \u001b[0mpandas_converters\u001b[0m\u001b[0;34m(\u001b[0m\u001b[0;34m)\u001b[0m\u001b[0;34m:\u001b[0m\u001b[0;34m\u001b[0m\u001b[0;34m\u001b[0m\u001b[0m\n\u001b[0;32m---> 66\u001b[0;31m             \u001b[0;32mreturn\u001b[0m \u001b[0mfunc\u001b[0m\u001b[0;34m(\u001b[0m\u001b[0;34m*\u001b[0m\u001b[0margs\u001b[0m\u001b[0;34m,\u001b[0m \u001b[0;34m**\u001b[0m\u001b[0mkwargs\u001b[0m\u001b[0;34m)\u001b[0m\u001b[0;34m\u001b[0m\u001b[0;34m\u001b[0m\u001b[0m\n\u001b[0m\u001b[1;32m     67\u001b[0m \u001b[0;34m\u001b[0m\u001b[0m\n\u001b[1;32m     68\u001b[0m     \u001b[0;32mreturn\u001b[0m \u001b[0mwrapper\u001b[0m\u001b[0;34m\u001b[0m\u001b[0;34m\u001b[0m\u001b[0m\n",
      "\u001b[0;32m~/opt/anaconda3/lib/python3.8/site-packages/pandas/plotting/_matplotlib/core.py\u001b[0m in \u001b[0;36m_plot\u001b[0;34m(cls, ax, x, y, style, is_errorbar, **kwds)\u001b[0m\n\u001b[1;32m    680\u001b[0m \u001b[0;34m\u001b[0m\u001b[0m\n\u001b[1;32m    681\u001b[0m         \u001b[0;32mif\u001b[0m \u001b[0misinstance\u001b[0m\u001b[0;34m(\u001b[0m\u001b[0mx\u001b[0m\u001b[0;34m,\u001b[0m \u001b[0mABCIndexClass\u001b[0m\u001b[0;34m)\u001b[0m\u001b[0;34m:\u001b[0m\u001b[0;34m\u001b[0m\u001b[0;34m\u001b[0m\u001b[0m\n\u001b[0;32m--> 682\u001b[0;31m             \u001b[0mx\u001b[0m \u001b[0;34m=\u001b[0m \u001b[0mx\u001b[0m\u001b[0;34m.\u001b[0m\u001b[0m_mpl_repr\u001b[0m\u001b[0;34m(\u001b[0m\u001b[0;34m)\u001b[0m\u001b[0;34m\u001b[0m\u001b[0;34m\u001b[0m\u001b[0m\n\u001b[0m\u001b[1;32m    683\u001b[0m \u001b[0;34m\u001b[0m\u001b[0m\n\u001b[1;32m    684\u001b[0m         \u001b[0;32mif\u001b[0m \u001b[0mis_errorbar\u001b[0m\u001b[0;34m:\u001b[0m\u001b[0;34m\u001b[0m\u001b[0;34m\u001b[0m\u001b[0m\n",
      "\u001b[0;32m~/opt/anaconda3/lib/python3.8/site-packages/pandas/core/indexes/period.py\u001b[0m in \u001b[0;36m_mpl_repr\u001b[0;34m(self)\u001b[0m\n\u001b[1;32m    302\u001b[0m     \u001b[0;32mdef\u001b[0m \u001b[0m_mpl_repr\u001b[0m\u001b[0;34m(\u001b[0m\u001b[0mself\u001b[0m\u001b[0;34m)\u001b[0m\u001b[0;34m:\u001b[0m\u001b[0;34m\u001b[0m\u001b[0;34m\u001b[0m\u001b[0m\n\u001b[1;32m    303\u001b[0m         \u001b[0;31m# how to represent ourselves to matplotlib\u001b[0m\u001b[0;34m\u001b[0m\u001b[0;34m\u001b[0m\u001b[0;34m\u001b[0m\u001b[0m\n\u001b[0;32m--> 304\u001b[0;31m         \u001b[0;32mreturn\u001b[0m \u001b[0mself\u001b[0m\u001b[0;34m.\u001b[0m\u001b[0mastype\u001b[0m\u001b[0;34m(\u001b[0m\u001b[0mobject\u001b[0m\u001b[0;34m)\u001b[0m\u001b[0;34m.\u001b[0m\u001b[0m_values\u001b[0m\u001b[0;34m\u001b[0m\u001b[0;34m\u001b[0m\u001b[0m\n\u001b[0m\u001b[1;32m    305\u001b[0m \u001b[0;34m\u001b[0m\u001b[0m\n\u001b[1;32m    306\u001b[0m     \u001b[0;31m# ------------------------------------------------------------------------\u001b[0m\u001b[0;34m\u001b[0m\u001b[0;34m\u001b[0m\u001b[0;34m\u001b[0m\u001b[0m\n",
      "\u001b[0;32m~/opt/anaconda3/lib/python3.8/site-packages/pandas/core/indexes/period.py\u001b[0m in \u001b[0;36mastype\u001b[0;34m(self, dtype, copy, how)\u001b[0m\n\u001b[1;32m    398\u001b[0m             \u001b[0;32mreturn\u001b[0m \u001b[0mself\u001b[0m\u001b[0;34m.\u001b[0m\u001b[0mto_timestamp\u001b[0m\u001b[0;34m(\u001b[0m\u001b[0mhow\u001b[0m\u001b[0;34m=\u001b[0m\u001b[0mhow\u001b[0m\u001b[0;34m)\u001b[0m\u001b[0;34m.\u001b[0m\u001b[0mtz_localize\u001b[0m\u001b[0;34m(\u001b[0m\u001b[0mtz\u001b[0m\u001b[0;34m)\u001b[0m\u001b[0;34m\u001b[0m\u001b[0;34m\u001b[0m\u001b[0m\n\u001b[1;32m    399\u001b[0m \u001b[0;34m\u001b[0m\u001b[0m\n\u001b[0;32m--> 400\u001b[0;31m         \u001b[0;32mreturn\u001b[0m \u001b[0msuper\u001b[0m\u001b[0;34m(\u001b[0m\u001b[0;34m)\u001b[0m\u001b[0;34m.\u001b[0m\u001b[0mastype\u001b[0m\u001b[0;34m(\u001b[0m\u001b[0mdtype\u001b[0m\u001b[0;34m,\u001b[0m \u001b[0mcopy\u001b[0m\u001b[0;34m=\u001b[0m\u001b[0mcopy\u001b[0m\u001b[0;34m)\u001b[0m\u001b[0;34m\u001b[0m\u001b[0;34m\u001b[0m\u001b[0m\n\u001b[0m\u001b[1;32m    401\u001b[0m \u001b[0;34m\u001b[0m\u001b[0m\n\u001b[1;32m    402\u001b[0m     \u001b[0;34m@\u001b[0m\u001b[0mproperty\u001b[0m\u001b[0;34m\u001b[0m\u001b[0;34m\u001b[0m\u001b[0m\n",
      "\u001b[0;32m~/opt/anaconda3/lib/python3.8/site-packages/pandas/core/indexes/extension.py\u001b[0m in \u001b[0;36mastype\u001b[0;34m(self, dtype, copy)\u001b[0m\n\u001b[1;32m    314\u001b[0m             \u001b[0;32mreturn\u001b[0m \u001b[0mself\u001b[0m\u001b[0;34m\u001b[0m\u001b[0;34m\u001b[0m\u001b[0m\n\u001b[1;32m    315\u001b[0m \u001b[0;34m\u001b[0m\u001b[0m\n\u001b[0;32m--> 316\u001b[0;31m         \u001b[0mnew_values\u001b[0m \u001b[0;34m=\u001b[0m \u001b[0mself\u001b[0m\u001b[0;34m.\u001b[0m\u001b[0m_data\u001b[0m\u001b[0;34m.\u001b[0m\u001b[0mastype\u001b[0m\u001b[0;34m(\u001b[0m\u001b[0mdtype\u001b[0m\u001b[0;34m,\u001b[0m \u001b[0mcopy\u001b[0m\u001b[0;34m=\u001b[0m\u001b[0mcopy\u001b[0m\u001b[0;34m)\u001b[0m\u001b[0;34m\u001b[0m\u001b[0;34m\u001b[0m\u001b[0m\n\u001b[0m\u001b[1;32m    317\u001b[0m \u001b[0;34m\u001b[0m\u001b[0m\n\u001b[1;32m    318\u001b[0m         \u001b[0;31m# pass copy=False because any copying will be done in the\u001b[0m\u001b[0;34m\u001b[0m\u001b[0;34m\u001b[0m\u001b[0;34m\u001b[0m\u001b[0m\n",
      "\u001b[0;32m~/opt/anaconda3/lib/python3.8/site-packages/pandas/core/arrays/period.py\u001b[0m in \u001b[0;36mastype\u001b[0;34m(self, dtype, copy)\u001b[0m\n\u001b[1;32m    596\u001b[0m         \u001b[0;32mif\u001b[0m \u001b[0mis_period_dtype\u001b[0m\u001b[0;34m(\u001b[0m\u001b[0mdtype\u001b[0m\u001b[0;34m)\u001b[0m\u001b[0;34m:\u001b[0m\u001b[0;34m\u001b[0m\u001b[0;34m\u001b[0m\u001b[0m\n\u001b[1;32m    597\u001b[0m             \u001b[0;32mreturn\u001b[0m \u001b[0mself\u001b[0m\u001b[0;34m.\u001b[0m\u001b[0masfreq\u001b[0m\u001b[0;34m(\u001b[0m\u001b[0mdtype\u001b[0m\u001b[0;34m.\u001b[0m\u001b[0mfreq\u001b[0m\u001b[0;34m)\u001b[0m\u001b[0;34m\u001b[0m\u001b[0;34m\u001b[0m\u001b[0m\n\u001b[0;32m--> 598\u001b[0;31m         \u001b[0;32mreturn\u001b[0m \u001b[0msuper\u001b[0m\u001b[0;34m(\u001b[0m\u001b[0;34m)\u001b[0m\u001b[0;34m.\u001b[0m\u001b[0mastype\u001b[0m\u001b[0;34m(\u001b[0m\u001b[0mdtype\u001b[0m\u001b[0;34m,\u001b[0m \u001b[0mcopy\u001b[0m\u001b[0;34m=\u001b[0m\u001b[0mcopy\u001b[0m\u001b[0;34m)\u001b[0m\u001b[0;34m\u001b[0m\u001b[0;34m\u001b[0m\u001b[0m\n\u001b[0m\u001b[1;32m    599\u001b[0m \u001b[0;34m\u001b[0m\u001b[0m\n\u001b[1;32m    600\u001b[0m     \u001b[0;32mdef\u001b[0m \u001b[0msearchsorted\u001b[0m\u001b[0;34m(\u001b[0m\u001b[0mself\u001b[0m\u001b[0;34m,\u001b[0m \u001b[0mvalue\u001b[0m\u001b[0;34m,\u001b[0m \u001b[0mside\u001b[0m\u001b[0;34m=\u001b[0m\u001b[0;34m\"left\"\u001b[0m\u001b[0;34m,\u001b[0m \u001b[0msorter\u001b[0m\u001b[0;34m=\u001b[0m\u001b[0;32mNone\u001b[0m\u001b[0;34m)\u001b[0m \u001b[0;34m->\u001b[0m \u001b[0mnp\u001b[0m\u001b[0;34m.\u001b[0m\u001b[0mndarray\u001b[0m\u001b[0;34m:\u001b[0m\u001b[0;34m\u001b[0m\u001b[0;34m\u001b[0m\u001b[0m\n",
      "\u001b[0;32m~/opt/anaconda3/lib/python3.8/site-packages/pandas/core/arrays/datetimelike.py\u001b[0m in \u001b[0;36mastype\u001b[0;34m(self, dtype, copy)\u001b[0m\n\u001b[1;32m    343\u001b[0m \u001b[0;34m\u001b[0m\u001b[0m\n\u001b[1;32m    344\u001b[0m         \u001b[0;32mif\u001b[0m \u001b[0mis_object_dtype\u001b[0m\u001b[0;34m(\u001b[0m\u001b[0mdtype\u001b[0m\u001b[0;34m)\u001b[0m\u001b[0;34m:\u001b[0m\u001b[0;34m\u001b[0m\u001b[0;34m\u001b[0m\u001b[0m\n\u001b[0;32m--> 345\u001b[0;31m             \u001b[0;32mreturn\u001b[0m \u001b[0mself\u001b[0m\u001b[0;34m.\u001b[0m\u001b[0m_box_values\u001b[0m\u001b[0;34m(\u001b[0m\u001b[0mself\u001b[0m\u001b[0;34m.\u001b[0m\u001b[0masi8\u001b[0m\u001b[0;34m.\u001b[0m\u001b[0mravel\u001b[0m\u001b[0;34m(\u001b[0m\u001b[0;34m)\u001b[0m\u001b[0;34m)\u001b[0m\u001b[0;34m.\u001b[0m\u001b[0mreshape\u001b[0m\u001b[0;34m(\u001b[0m\u001b[0mself\u001b[0m\u001b[0;34m.\u001b[0m\u001b[0mshape\u001b[0m\u001b[0;34m)\u001b[0m\u001b[0;34m\u001b[0m\u001b[0;34m\u001b[0m\u001b[0m\n\u001b[0m\u001b[1;32m    346\u001b[0m         \u001b[0;32melif\u001b[0m \u001b[0mis_string_dtype\u001b[0m\u001b[0;34m(\u001b[0m\u001b[0mdtype\u001b[0m\u001b[0;34m)\u001b[0m \u001b[0;32mand\u001b[0m \u001b[0;32mnot\u001b[0m \u001b[0mis_categorical_dtype\u001b[0m\u001b[0;34m(\u001b[0m\u001b[0mdtype\u001b[0m\u001b[0;34m)\u001b[0m\u001b[0;34m:\u001b[0m\u001b[0;34m\u001b[0m\u001b[0;34m\u001b[0m\u001b[0m\n\u001b[1;32m    347\u001b[0m             \u001b[0;32mif\u001b[0m \u001b[0mis_extension_array_dtype\u001b[0m\u001b[0;34m(\u001b[0m\u001b[0mdtype\u001b[0m\u001b[0;34m)\u001b[0m\u001b[0;34m:\u001b[0m\u001b[0;34m\u001b[0m\u001b[0;34m\u001b[0m\u001b[0m\n",
      "\u001b[0;32m~/opt/anaconda3/lib/python3.8/site-packages/pandas/core/arrays/datetimelike.py\u001b[0m in \u001b[0;36m_box_values\u001b[0;34m(self, values)\u001b[0m\n\u001b[1;32m    225\u001b[0m         \u001b[0mapply\u001b[0m \u001b[0mbox\u001b[0m \u001b[0mfunc\u001b[0m \u001b[0mto\u001b[0m \u001b[0mpassed\u001b[0m \u001b[0mvalues\u001b[0m\u001b[0;34m\u001b[0m\u001b[0;34m\u001b[0m\u001b[0m\n\u001b[1;32m    226\u001b[0m         \"\"\"\n\u001b[0;32m--> 227\u001b[0;31m         \u001b[0;32mreturn\u001b[0m \u001b[0mlib\u001b[0m\u001b[0;34m.\u001b[0m\u001b[0mmap_infer\u001b[0m\u001b[0;34m(\u001b[0m\u001b[0mvalues\u001b[0m\u001b[0;34m,\u001b[0m \u001b[0mself\u001b[0m\u001b[0;34m.\u001b[0m\u001b[0m_box_func\u001b[0m\u001b[0;34m)\u001b[0m\u001b[0;34m\u001b[0m\u001b[0;34m\u001b[0m\u001b[0m\n\u001b[0m\u001b[1;32m    228\u001b[0m \u001b[0;34m\u001b[0m\u001b[0m\n\u001b[1;32m    229\u001b[0m     \u001b[0;32mdef\u001b[0m \u001b[0m__iter__\u001b[0m\u001b[0;34m(\u001b[0m\u001b[0mself\u001b[0m\u001b[0;34m)\u001b[0m\u001b[0;34m:\u001b[0m\u001b[0;34m\u001b[0m\u001b[0;34m\u001b[0m\u001b[0m\n",
      "\u001b[0;32mpandas/_libs/lib.pyx\u001b[0m in \u001b[0;36mpandas._libs.lib.map_infer\u001b[0;34m()\u001b[0m\n",
      "\u001b[0;32m~/opt/anaconda3/lib/python3.8/site-packages/pandas/core/arrays/period.py\u001b[0m in \u001b[0;36m_box_func\u001b[0;34m(self, x)\u001b[0m\n\u001b[1;32m    494\u001b[0m \u001b[0;34m\u001b[0m\u001b[0m\n\u001b[1;32m    495\u001b[0m     \u001b[0;32mdef\u001b[0m \u001b[0m_box_func\u001b[0m\u001b[0;34m(\u001b[0m\u001b[0mself\u001b[0m\u001b[0;34m,\u001b[0m \u001b[0mx\u001b[0m\u001b[0;34m)\u001b[0m \u001b[0;34m->\u001b[0m \u001b[0mUnion\u001b[0m\u001b[0;34m[\u001b[0m\u001b[0mPeriod\u001b[0m\u001b[0;34m,\u001b[0m \u001b[0mNaTType\u001b[0m\u001b[0;34m]\u001b[0m\u001b[0;34m:\u001b[0m\u001b[0;34m\u001b[0m\u001b[0;34m\u001b[0m\u001b[0m\n\u001b[0;32m--> 496\u001b[0;31m         \u001b[0;32mreturn\u001b[0m \u001b[0mPeriod\u001b[0m\u001b[0;34m.\u001b[0m\u001b[0m_from_ordinal\u001b[0m\u001b[0;34m(\u001b[0m\u001b[0mordinal\u001b[0m\u001b[0;34m=\u001b[0m\u001b[0mx\u001b[0m\u001b[0;34m,\u001b[0m \u001b[0mfreq\u001b[0m\u001b[0;34m=\u001b[0m\u001b[0mself\u001b[0m\u001b[0;34m.\u001b[0m\u001b[0mfreq\u001b[0m\u001b[0;34m)\u001b[0m\u001b[0;34m\u001b[0m\u001b[0;34m\u001b[0m\u001b[0m\n\u001b[0m\u001b[1;32m    497\u001b[0m \u001b[0;34m\u001b[0m\u001b[0m\n\u001b[1;32m    498\u001b[0m     \u001b[0;32mdef\u001b[0m \u001b[0masfreq\u001b[0m\u001b[0;34m(\u001b[0m\u001b[0mself\u001b[0m\u001b[0;34m,\u001b[0m \u001b[0mfreq\u001b[0m\u001b[0;34m=\u001b[0m\u001b[0;32mNone\u001b[0m\u001b[0;34m,\u001b[0m \u001b[0mhow\u001b[0m\u001b[0;34m:\u001b[0m \u001b[0mstr\u001b[0m \u001b[0;34m=\u001b[0m \u001b[0;34m\"E\"\u001b[0m\u001b[0;34m)\u001b[0m \u001b[0;34m->\u001b[0m \u001b[0;34m\"PeriodArray\"\u001b[0m\u001b[0;34m:\u001b[0m\u001b[0;34m\u001b[0m\u001b[0;34m\u001b[0m\u001b[0m\n",
      "\u001b[0;31mKeyboardInterrupt\u001b[0m: "
     ]
    },
    {
     "data": {
      "image/png": "[encoded data removed]",
      "text/plain": [
       "<Figure size 432x288 with 1 Axes>"
      ]
     },
     "metadata": {
      "needs_background": "light"
     },
     "output_type": "display_data"
    }
   ],
   "source": [
    "DNIPPmax.plot()"
   ]
  },
  {
   "cell_type": "code",
   "execution_count": null,
   "id": "6c656148",
   "metadata": {},
   "outputs": [],
   "source": [
    "DNIERmax.plot()"
   ]
  },
  {
   "cell_type": "code",
   "execution_count": null,
   "id": "869ca15c",
   "metadata": {},
   "outputs": [],
   "source": [
    "DIFPPmax.plot()"
   ]
  },
  {
   "cell_type": "code",
   "execution_count": null,
   "id": "573b900c",
   "metadata": {},
   "outputs": [],
   "source": [
    "DIFERmax.plot()"
   ]
  },
  {
   "cell_type": "code",
   "execution_count": null,
   "id": "9710589a",
   "metadata": {},
   "outputs": [],
   "source": []
  },
  {
   "cell_type": "code",
   "execution_count": null,
   "id": "622d3967",
   "metadata": {},
   "outputs": [],
   "source": []
  },
  {
   "cell_type": "code",
   "execution_count": null,
   "id": "4d2f41c2",
   "metadata": {},
   "outputs": [],
   "source": []
  },
  {
   "cell_type": "code",
   "execution_count": null,
   "id": "afb090f1",
   "metadata": {},
   "outputs": [],
   "source": []
  },
  {
   "cell_type": "code",
   "execution_count": null,
   "id": "deebe70f",
   "metadata": {},
   "outputs": [],
   "source": []
  },
  {
   "cell_type": "code",
   "execution_count": 42,
   "id": "e4d40af5",
   "metadata": {},
   "outputs": [],
   "source": [
    "extraterrestrial = eth.merge(solpos, left_on='data', right_on='data', how='inner')\n"
   ]
  },
  {
   "cell_type": "code",
   "execution_count": 43,
   "id": "628a42bf",
   "metadata": {},
   "outputs": [
    {
     "data": {
      "text/html": [
       "<div>\n",
       "<style scoped>\n",
       "    .dataframe tbody tr th:only-of-type {\n",
       "        vertical-align: middle;\n",
       "    }\n",
       "\n",
       "    .dataframe tbody tr th {\n",
       "        vertical-align: top;\n",
       "    }\n",
       "\n",
       "    .dataframe thead th {\n",
       "        text-align: right;\n",
       "    }\n",
       "</style>\n",
       "<table border=\"1\" class=\"dataframe\">\n",
       "  <thead>\n",
       "    <tr style=\"text-align: right;\">\n",
       "      <th></th>\n",
       "      <th>0</th>\n",
       "      <th>data</th>\n",
       "      <th>apparent_zenith</th>\n",
       "      <th>zenith</th>\n",
       "      <th>apparent_elevation</th>\n",
       "      <th>elevation</th>\n",
       "      <th>azimuth</th>\n",
       "      <th>equation_of_time</th>\n",
       "    </tr>\n",
       "  </thead>\n",
       "  <tbody>\n",
       "    <tr>\n",
       "      <th>0</th>\n",
       "      <td>1411.315013</td>\n",
       "      <td>2018-01-17 14:58:28-02:00</td>\n",
       "      <td>22.576776</td>\n",
       "      <td>22.583463</td>\n",
       "      <td>67.423224</td>\n",
       "      <td>67.416537</td>\n",
       "      <td>282.313586</td>\n",
       "      <td>-10.149740</td>\n",
       "    </tr>\n",
       "    <tr>\n",
       "      <th>1</th>\n",
       "      <td>1411.315010</td>\n",
       "      <td>2018-01-17 14:58:29-02:00</td>\n",
       "      <td>22.580388</td>\n",
       "      <td>22.587077</td>\n",
       "      <td>67.419612</td>\n",
       "      <td>67.412923</td>\n",
       "      <td>282.309777</td>\n",
       "      <td>-10.149744</td>\n",
       "    </tr>\n",
       "    <tr>\n",
       "      <th>2</th>\n",
       "      <td>1411.315008</td>\n",
       "      <td>2018-01-17 14:58:30-02:00</td>\n",
       "      <td>22.584001</td>\n",
       "      <td>22.590690</td>\n",
       "      <td>67.415999</td>\n",
       "      <td>67.409310</td>\n",
       "      <td>282.305969</td>\n",
       "      <td>-10.149748</td>\n",
       "    </tr>\n",
       "    <tr>\n",
       "      <th>3</th>\n",
       "      <td>1411.315006</td>\n",
       "      <td>2018-01-17 14:58:31-02:00</td>\n",
       "      <td>22.587613</td>\n",
       "      <td>22.594304</td>\n",
       "      <td>67.412387</td>\n",
       "      <td>67.405696</td>\n",
       "      <td>282.302162</td>\n",
       "      <td>-10.149751</td>\n",
       "    </tr>\n",
       "    <tr>\n",
       "      <th>4</th>\n",
       "      <td>1411.315003</td>\n",
       "      <td>2018-01-17 14:58:32-02:00</td>\n",
       "      <td>22.591225</td>\n",
       "      <td>22.597917</td>\n",
       "      <td>67.408775</td>\n",
       "      <td>67.402083</td>\n",
       "      <td>282.298356</td>\n",
       "      <td>-10.149755</td>\n",
       "    </tr>\n",
       "    <tr>\n",
       "      <th>...</th>\n",
       "      <td>...</td>\n",
       "      <td>...</td>\n",
       "      <td>...</td>\n",
       "      <td>...</td>\n",
       "      <td>...</td>\n",
       "      <td>...</td>\n",
       "      <td>...</td>\n",
       "      <td>...</td>\n",
       "    </tr>\n",
       "    <tr>\n",
       "      <th>95041596</th>\n",
       "      <td>1410.549978</td>\n",
       "      <td>2021-01-21 14:25:04-03:00</td>\n",
       "      <td>28.433427</td>\n",
       "      <td>28.442141</td>\n",
       "      <td>61.566573</td>\n",
       "      <td>61.557859</td>\n",
       "      <td>279.174542</td>\n",
       "      <td>-11.429835</td>\n",
       "    </tr>\n",
       "    <tr>\n",
       "      <th>95041597</th>\n",
       "      <td>1410.549975</td>\n",
       "      <td>2021-01-21 14:25:05-03:00</td>\n",
       "      <td>28.437077</td>\n",
       "      <td>28.445792</td>\n",
       "      <td>61.562923</td>\n",
       "      <td>61.554208</td>\n",
       "      <td>279.171540</td>\n",
       "      <td>-11.429839</td>\n",
       "    </tr>\n",
       "    <tr>\n",
       "      <th>95041598</th>\n",
       "      <td>1410.549972</td>\n",
       "      <td>2021-01-21 14:25:06-03:00</td>\n",
       "      <td>28.440727</td>\n",
       "      <td>28.449443</td>\n",
       "      <td>61.559273</td>\n",
       "      <td>61.550557</td>\n",
       "      <td>279.168538</td>\n",
       "      <td>-11.429842</td>\n",
       "    </tr>\n",
       "    <tr>\n",
       "      <th>95041599</th>\n",
       "      <td>1410.549969</td>\n",
       "      <td>2021-01-21 14:25:07-03:00</td>\n",
       "      <td>28.444377</td>\n",
       "      <td>28.453095</td>\n",
       "      <td>61.555623</td>\n",
       "      <td>61.546905</td>\n",
       "      <td>279.165537</td>\n",
       "      <td>-11.429845</td>\n",
       "    </tr>\n",
       "    <tr>\n",
       "      <th>95041600</th>\n",
       "      <td>1410.549966</td>\n",
       "      <td>2021-01-21 14:25:08-03:00</td>\n",
       "      <td>28.448027</td>\n",
       "      <td>28.456746</td>\n",
       "      <td>61.551973</td>\n",
       "      <td>61.543254</td>\n",
       "      <td>279.162536</td>\n",
       "      <td>-11.429848</td>\n",
       "    </tr>\n",
       "  </tbody>\n",
       "</table>\n",
       "<p>95041601 rows × 8 columns</p>\n",
       "</div>"
      ],
      "text/plain": [
       "                    0                      data  apparent_zenith     zenith  \\\n",
       "0         1411.315013 2018-01-17 14:58:28-02:00        22.576776  22.583463   \n",
       "1         1411.315010 2018-01-17 14:58:29-02:00        22.580388  22.587077   \n",
       "2         1411.315008 2018-01-17 14:58:30-02:00        22.584001  22.590690   \n",
       "3         1411.315006 2018-01-17 14:58:31-02:00        22.587613  22.594304   \n",
       "4         1411.315003 2018-01-17 14:58:32-02:00        22.591225  22.597917   \n",
       "...               ...                       ...              ...        ...   \n",
       "95041596  1410.549978 2021-01-21 14:25:04-03:00        28.433427  28.442141   \n",
       "95041597  1410.549975 2021-01-21 14:25:05-03:00        28.437077  28.445792   \n",
       "95041598  1410.549972 2021-01-21 14:25:06-03:00        28.440727  28.449443   \n",
       "95041599  1410.549969 2021-01-21 14:25:07-03:00        28.444377  28.453095   \n",
       "95041600  1410.549966 2021-01-21 14:25:08-03:00        28.448027  28.456746   \n",
       "\n",
       "          apparent_elevation  elevation     azimuth  equation_of_time  \n",
       "0                  67.423224  67.416537  282.313586        -10.149740  \n",
       "1                  67.419612  67.412923  282.309777        -10.149744  \n",
       "2                  67.415999  67.409310  282.305969        -10.149748  \n",
       "3                  67.412387  67.405696  282.302162        -10.149751  \n",
       "4                  67.408775  67.402083  282.298356        -10.149755  \n",
       "...                      ...        ...         ...               ...  \n",
       "95041596           61.566573  61.557859  279.174542        -11.429835  \n",
       "95041597           61.562923  61.554208  279.171540        -11.429839  \n",
       "95041598           61.559273  61.550557  279.168538        -11.429842  \n",
       "95041599           61.555623  61.546905  279.165537        -11.429845  \n",
       "95041600           61.551973  61.543254  279.162536        -11.429848  \n",
       "\n",
       "[95041601 rows x 8 columns]"
      ]
     },
     "execution_count": 43,
     "metadata": {},
     "output_type": "execute_result"
    }
   ],
   "source": [
    "extraterrestrial"
   ]
  },
  {
   "cell_type": "code",
   "execution_count": 53,
   "id": "b16ccfc4",
   "metadata": {},
   "outputs": [
    {
     "data": {
      "text/plain": [
       "0                           float64\n",
       "data    datetime64[ns, Brazil/East]\n",
       "dtype: object"
      ]
     },
     "execution_count": 53,
     "metadata": {},
     "output_type": "execute_result"
    }
   ],
   "source": [
    "eth.dtypes"
   ]
  },
  {
   "cell_type": "code",
   "execution_count": 58,
   "id": "fbd836ef",
   "metadata": {},
   "outputs": [
    {
     "data": {
      "text/plain": [
       "(95041601,)"
      ]
     },
     "execution_count": 58,
     "metadata": {},
     "output_type": "execute_result"
    }
   ],
   "source": [
    "eth.shape"
   ]
  },
  {
   "cell_type": "code",
   "execution_count": null,
   "id": "aa1b13ab",
   "metadata": {},
   "outputs": [],
   "source": []
  },
  {
   "cell_type": "code",
   "execution_count": null,
   "id": "4110bd8a",
   "metadata": {},
   "outputs": [],
   "source": []
  },
  {
   "cell_type": "code",
   "execution_count": null,
   "id": "3773f86c",
   "metadata": {},
   "outputs": [],
   "source": []
  },
  {
   "cell_type": "code",
   "execution_count": null,
   "id": "3717d31a",
   "metadata": {},
   "outputs": [],
   "source": []
  },
  {
   "cell_type": "code",
   "execution_count": null,
   "id": "c6bdcd29",
   "metadata": {},
   "outputs": [],
   "source": []
  },
  {
   "cell_type": "code",
   "execution_count": 44,
   "id": "307f43c6",
   "metadata": {},
   "outputs": [],
   "source": [
    "    extraterrestrial['ext'] = extraterrestrial[0]\n"
   ]
  },
  {
   "cell_type": "code",
   "execution_count": 45,
   "id": "f2e6fc83",
   "metadata": {},
   "outputs": [
    {
     "data": {
      "text/html": [
       "<div>\n",
       "<style scoped>\n",
       "    .dataframe tbody tr th:only-of-type {\n",
       "        vertical-align: middle;\n",
       "    }\n",
       "\n",
       "    .dataframe tbody tr th {\n",
       "        vertical-align: top;\n",
       "    }\n",
       "\n",
       "    .dataframe thead th {\n",
       "        text-align: right;\n",
       "    }\n",
       "</style>\n",
       "<table border=\"1\" class=\"dataframe\">\n",
       "  <thead>\n",
       "    <tr style=\"text-align: right;\">\n",
       "      <th></th>\n",
       "      <th>0</th>\n",
       "      <th>data</th>\n",
       "      <th>apparent_zenith</th>\n",
       "      <th>zenith</th>\n",
       "      <th>apparent_elevation</th>\n",
       "      <th>elevation</th>\n",
       "      <th>azimuth</th>\n",
       "      <th>equation_of_time</th>\n",
       "      <th>ext</th>\n",
       "    </tr>\n",
       "  </thead>\n",
       "  <tbody>\n",
       "    <tr>\n",
       "      <th>0</th>\n",
       "      <td>1411.315013</td>\n",
       "      <td>2018-01-17 14:58:28-02:00</td>\n",
       "      <td>22.576776</td>\n",
       "      <td>22.583463</td>\n",
       "      <td>67.423224</td>\n",
       "      <td>67.416537</td>\n",
       "      <td>282.313586</td>\n",
       "      <td>-10.149740</td>\n",
       "      <td>1411.315013</td>\n",
       "    </tr>\n",
       "    <tr>\n",
       "      <th>1</th>\n",
       "      <td>1411.315010</td>\n",
       "      <td>2018-01-17 14:58:29-02:00</td>\n",
       "      <td>22.580388</td>\n",
       "      <td>22.587077</td>\n",
       "      <td>67.419612</td>\n",
       "      <td>67.412923</td>\n",
       "      <td>282.309777</td>\n",
       "      <td>-10.149744</td>\n",
       "      <td>1411.315010</td>\n",
       "    </tr>\n",
       "    <tr>\n",
       "      <th>2</th>\n",
       "      <td>1411.315008</td>\n",
       "      <td>2018-01-17 14:58:30-02:00</td>\n",
       "      <td>22.584001</td>\n",
       "      <td>22.590690</td>\n",
       "      <td>67.415999</td>\n",
       "      <td>67.409310</td>\n",
       "      <td>282.305969</td>\n",
       "      <td>-10.149748</td>\n",
       "      <td>1411.315008</td>\n",
       "    </tr>\n",
       "    <tr>\n",
       "      <th>3</th>\n",
       "      <td>1411.315006</td>\n",
       "      <td>2018-01-17 14:58:31-02:00</td>\n",
       "      <td>22.587613</td>\n",
       "      <td>22.594304</td>\n",
       "      <td>67.412387</td>\n",
       "      <td>67.405696</td>\n",
       "      <td>282.302162</td>\n",
       "      <td>-10.149751</td>\n",
       "      <td>1411.315006</td>\n",
       "    </tr>\n",
       "    <tr>\n",
       "      <th>4</th>\n",
       "      <td>1411.315003</td>\n",
       "      <td>2018-01-17 14:58:32-02:00</td>\n",
       "      <td>22.591225</td>\n",
       "      <td>22.597917</td>\n",
       "      <td>67.408775</td>\n",
       "      <td>67.402083</td>\n",
       "      <td>282.298356</td>\n",
       "      <td>-10.149755</td>\n",
       "      <td>1411.315003</td>\n",
       "    </tr>\n",
       "    <tr>\n",
       "      <th>...</th>\n",
       "      <td>...</td>\n",
       "      <td>...</td>\n",
       "      <td>...</td>\n",
       "      <td>...</td>\n",
       "      <td>...</td>\n",
       "      <td>...</td>\n",
       "      <td>...</td>\n",
       "      <td>...</td>\n",
       "      <td>...</td>\n",
       "    </tr>\n",
       "    <tr>\n",
       "      <th>95041596</th>\n",
       "      <td>1410.549978</td>\n",
       "      <td>2021-01-21 14:25:04-03:00</td>\n",
       "      <td>28.433427</td>\n",
       "      <td>28.442141</td>\n",
       "      <td>61.566573</td>\n",
       "      <td>61.557859</td>\n",
       "      <td>279.174542</td>\n",
       "      <td>-11.429835</td>\n",
       "      <td>1410.549978</td>\n",
       "    </tr>\n",
       "    <tr>\n",
       "      <th>95041597</th>\n",
       "      <td>1410.549975</td>\n",
       "      <td>2021-01-21 14:25:05-03:00</td>\n",
       "      <td>28.437077</td>\n",
       "      <td>28.445792</td>\n",
       "      <td>61.562923</td>\n",
       "      <td>61.554208</td>\n",
       "      <td>279.171540</td>\n",
       "      <td>-11.429839</td>\n",
       "      <td>1410.549975</td>\n",
       "    </tr>\n",
       "    <tr>\n",
       "      <th>95041598</th>\n",
       "      <td>1410.549972</td>\n",
       "      <td>2021-01-21 14:25:06-03:00</td>\n",
       "      <td>28.440727</td>\n",
       "      <td>28.449443</td>\n",
       "      <td>61.559273</td>\n",
       "      <td>61.550557</td>\n",
       "      <td>279.168538</td>\n",
       "      <td>-11.429842</td>\n",
       "      <td>1410.549972</td>\n",
       "    </tr>\n",
       "    <tr>\n",
       "      <th>95041599</th>\n",
       "      <td>1410.549969</td>\n",
       "      <td>2021-01-21 14:25:07-03:00</td>\n",
       "      <td>28.444377</td>\n",
       "      <td>28.453095</td>\n",
       "      <td>61.555623</td>\n",
       "      <td>61.546905</td>\n",
       "      <td>279.165537</td>\n",
       "      <td>-11.429845</td>\n",
       "      <td>1410.549969</td>\n",
       "    </tr>\n",
       "    <tr>\n",
       "      <th>95041600</th>\n",
       "      <td>1410.549966</td>\n",
       "      <td>2021-01-21 14:25:08-03:00</td>\n",
       "      <td>28.448027</td>\n",
       "      <td>28.456746</td>\n",
       "      <td>61.551973</td>\n",
       "      <td>61.543254</td>\n",
       "      <td>279.162536</td>\n",
       "      <td>-11.429848</td>\n",
       "      <td>1410.549966</td>\n",
       "    </tr>\n",
       "  </tbody>\n",
       "</table>\n",
       "<p>95041601 rows × 9 columns</p>\n",
       "</div>"
      ],
      "text/plain": [
       "                    0                      data  apparent_zenith     zenith  \\\n",
       "0         1411.315013 2018-01-17 14:58:28-02:00        22.576776  22.583463   \n",
       "1         1411.315010 2018-01-17 14:58:29-02:00        22.580388  22.587077   \n",
       "2         1411.315008 2018-01-17 14:58:30-02:00        22.584001  22.590690   \n",
       "3         1411.315006 2018-01-17 14:58:31-02:00        22.587613  22.594304   \n",
       "4         1411.315003 2018-01-17 14:58:32-02:00        22.591225  22.597917   \n",
       "...               ...                       ...              ...        ...   \n",
       "95041596  1410.549978 2021-01-21 14:25:04-03:00        28.433427  28.442141   \n",
       "95041597  1410.549975 2021-01-21 14:25:05-03:00        28.437077  28.445792   \n",
       "95041598  1410.549972 2021-01-21 14:25:06-03:00        28.440727  28.449443   \n",
       "95041599  1410.549969 2021-01-21 14:25:07-03:00        28.444377  28.453095   \n",
       "95041600  1410.549966 2021-01-21 14:25:08-03:00        28.448027  28.456746   \n",
       "\n",
       "          apparent_elevation  elevation     azimuth  equation_of_time  \\\n",
       "0                  67.423224  67.416537  282.313586        -10.149740   \n",
       "1                  67.419612  67.412923  282.309777        -10.149744   \n",
       "2                  67.415999  67.409310  282.305969        -10.149748   \n",
       "3                  67.412387  67.405696  282.302162        -10.149751   \n",
       "4                  67.408775  67.402083  282.298356        -10.149755   \n",
       "...                      ...        ...         ...               ...   \n",
       "95041596           61.566573  61.557859  279.174542        -11.429835   \n",
       "95041597           61.562923  61.554208  279.171540        -11.429839   \n",
       "95041598           61.559273  61.550557  279.168538        -11.429842   \n",
       "95041599           61.555623  61.546905  279.165537        -11.429845   \n",
       "95041600           61.551973  61.543254  279.162536        -11.429848   \n",
       "\n",
       "                  ext  \n",
       "0         1411.315013  \n",
       "1         1411.315010  \n",
       "2         1411.315008  \n",
       "3         1411.315006  \n",
       "4         1411.315003  \n",
       "...               ...  \n",
       "95041596  1410.549978  \n",
       "95041597  1410.549975  \n",
       "95041598  1410.549972  \n",
       "95041599  1410.549969  \n",
       "95041600  1410.549966  \n",
       "\n",
       "[95041601 rows x 9 columns]"
      ]
     },
     "execution_count": 45,
     "metadata": {},
     "output_type": "execute_result"
    }
   ],
   "source": [
    "extraterrestrial"
   ]
  },
  {
   "cell_type": "code",
   "execution_count": null,
   "id": "e88c5050",
   "metadata": {},
   "outputs": [],
   "source": []
  },
  {
   "cell_type": "code",
   "execution_count": 1,
   "id": "932cfae6",
   "metadata": {},
   "outputs": [],
   "source": [
    "## pvlib crash\n",
    "import pandas as pd\n",
    "import numpy as np\n",
    "import matplotlib.pyplot as plt\n",
    "import glob\n",
    "import datetime\n",
    "import pytz\n",
    "import pvlib\n",
    "\n",
    "location = pvlib.location.Location(-27.430891, -48.441406, tz = 'Brazil/East',altitude= 2.74, name = 'Florianopolis')  ## check for daylight savings 'Etc/GMT-3' 'America/Sao_Paulo'\n",
    "naive_times = pd.date_range(start='2017-12-17 14:32:40', end='2017-12-20 14:25:08', freq='1s', tz = location.tz)\n",
    "naive_times = pd.DatetimeIndex(naive_times)\n",
    "eth = pvlib.irradiance.get_extra_radiation(naive_times, solar_constant = 1366.1, method = 'nrel').to_frame()\n",
    "solpos = pvlib.solarposition.get_solarposition(naive_times, location.latitude, location.longitude, location.altitude, pressure = 101293, temperature = 25)\n",
    "cosSZA = np.cos(np.deg2rad(solpos.azimuth))\n",
    "PPmin = -4"
   ]
  },
  {
   "cell_type": "code",
   "execution_count": 2,
   "id": "e7ec21eb",
   "metadata": {},
   "outputs": [
    {
     "data": {
      "text/plain": [
       "(258749, 1)"
      ]
     },
     "execution_count": 2,
     "metadata": {},
     "output_type": "execute_result"
    }
   ],
   "source": [
    "eth.shape"
   ]
  },
  {
   "cell_type": "code",
   "execution_count": 3,
   "id": "3ac158cc",
   "metadata": {},
   "outputs": [
    {
     "data": {
      "text/plain": [
       "(258749,)"
      ]
     },
     "execution_count": 3,
     "metadata": {},
     "output_type": "execute_result"
    }
   ],
   "source": [
    "cosSZA.shape"
   ]
  },
  {
   "cell_type": "code",
   "execution_count": 4,
   "id": "a71ca5c7",
   "metadata": {},
   "outputs": [
    {
     "data": {
      "text/html": [
       "<div>\n",
       "<style scoped>\n",
       "    .dataframe tbody tr th:only-of-type {\n",
       "        vertical-align: middle;\n",
       "    }\n",
       "\n",
       "    .dataframe tbody tr th {\n",
       "        vertical-align: top;\n",
       "    }\n",
       "\n",
       "    .dataframe thead th {\n",
       "        text-align: right;\n",
       "    }\n",
       "</style>\n",
       "<table border=\"1\" class=\"dataframe\">\n",
       "  <thead>\n",
       "    <tr style=\"text-align: right;\">\n",
       "      <th></th>\n",
       "      <th>0</th>\n",
       "    </tr>\n",
       "  </thead>\n",
       "  <tbody>\n",
       "    <tr>\n",
       "      <th>2017-12-17 14:32:40-02:00</th>\n",
       "      <td>1410.694623</td>\n",
       "    </tr>\n",
       "    <tr>\n",
       "      <th>2017-12-17 14:32:41-02:00</th>\n",
       "      <td>1410.694626</td>\n",
       "    </tr>\n",
       "    <tr>\n",
       "      <th>2017-12-17 14:32:42-02:00</th>\n",
       "      <td>1410.694629</td>\n",
       "    </tr>\n",
       "    <tr>\n",
       "      <th>2017-12-17 14:32:43-02:00</th>\n",
       "      <td>1410.694632</td>\n",
       "    </tr>\n",
       "    <tr>\n",
       "      <th>2017-12-17 14:32:44-02:00</th>\n",
       "      <td>1410.694635</td>\n",
       "    </tr>\n",
       "    <tr>\n",
       "      <th>...</th>\n",
       "      <td>...</td>\n",
       "    </tr>\n",
       "    <tr>\n",
       "      <th>2017-12-20 14:25:04-02:00</th>\n",
       "      <td>1411.370028</td>\n",
       "    </tr>\n",
       "    <tr>\n",
       "      <th>2017-12-20 14:25:05-02:00</th>\n",
       "      <td>1411.370031</td>\n",
       "    </tr>\n",
       "    <tr>\n",
       "      <th>2017-12-20 14:25:06-02:00</th>\n",
       "      <td>1411.370033</td>\n",
       "    </tr>\n",
       "    <tr>\n",
       "      <th>2017-12-20 14:25:07-02:00</th>\n",
       "      <td>1411.370036</td>\n",
       "    </tr>\n",
       "    <tr>\n",
       "      <th>2017-12-20 14:25:08-02:00</th>\n",
       "      <td>1411.370038</td>\n",
       "    </tr>\n",
       "  </tbody>\n",
       "</table>\n",
       "<p>258749 rows × 1 columns</p>\n",
       "</div>"
      ],
      "text/plain": [
       "                                     0\n",
       "2017-12-17 14:32:40-02:00  1410.694623\n",
       "2017-12-17 14:32:41-02:00  1410.694626\n",
       "2017-12-17 14:32:42-02:00  1410.694629\n",
       "2017-12-17 14:32:43-02:00  1410.694632\n",
       "2017-12-17 14:32:44-02:00  1410.694635\n",
       "...                                ...\n",
       "2017-12-20 14:25:04-02:00  1411.370028\n",
       "2017-12-20 14:25:05-02:00  1411.370031\n",
       "2017-12-20 14:25:06-02:00  1411.370033\n",
       "2017-12-20 14:25:07-02:00  1411.370036\n",
       "2017-12-20 14:25:08-02:00  1411.370038\n",
       "\n",
       "[258749 rows x 1 columns]"
      ]
     },
     "execution_count": 4,
     "metadata": {},
     "output_type": "execute_result"
    }
   ],
   "source": [
    "eth"
   ]
  },
  {
   "cell_type": "code",
   "execution_count": 5,
   "id": "52bf3a5c",
   "metadata": {},
   "outputs": [
    {
     "data": {
      "text/plain": [
       "2017-12-17 14:32:40-02:00    0.133499\n",
       "2017-12-17 14:32:41-02:00    0.133441\n",
       "2017-12-17 14:32:42-02:00    0.133383\n",
       "2017-12-17 14:32:43-02:00    0.133326\n",
       "2017-12-17 14:32:44-02:00    0.133268\n",
       "                               ...   \n",
       "2017-12-20 14:25:04-02:00    0.164310\n",
       "2017-12-20 14:25:05-02:00    0.164243\n",
       "2017-12-20 14:25:06-02:00    0.164176\n",
       "2017-12-20 14:25:07-02:00    0.164109\n",
       "2017-12-20 14:25:08-02:00    0.164042\n",
       "Freq: S, Name: azimuth, Length: 258749, dtype: float64"
      ]
     },
     "execution_count": 5,
     "metadata": {},
     "output_type": "execute_result"
    }
   ],
   "source": [
    "cosSZA"
   ]
  },
  {
   "cell_type": "code",
   "execution_count": 5,
   "id": "b24aad33",
   "metadata": {},
   "outputs": [],
   "source": [
    "x = x + 100"
   ]
  },
  {
   "cell_type": "code",
   "execution_count": 10,
   "id": "8ff6e6f1",
   "metadata": {},
   "outputs": [
    {
     "data": {
      "text/plain": [
       "(258749,)"
      ]
     },
     "execution_count": 10,
     "metadata": {},
     "output_type": "execute_result"
    }
   ],
   "source": [
    "x.shape"
   ]
  },
  {
   "cell_type": "code",
   "execution_count": 12,
   "id": "01194cd2",
   "metadata": {},
   "outputs": [
    {
     "data": {
      "text/plain": [
       "2017-12-17 14:32:40-02:00    5.684342e-14\n",
       "2017-12-17 14:32:41-02:00    3.738232e-07\n",
       "2017-12-17 14:32:42-02:00    7.476457e-07\n",
       "2017-12-17 14:32:43-02:00    1.121468e-06\n",
       "2017-12-17 14:32:44-02:00    1.495291e-06\n",
       "                                 ...     \n",
       "2017-12-20 14:25:04-02:00    9.041280e-02\n",
       "2017-12-20 14:25:05-02:00    9.041312e-02\n",
       "2017-12-20 14:25:06-02:00    9.041345e-02\n",
       "2017-12-20 14:25:07-02:00    9.041377e-02\n",
       "2017-12-20 14:25:08-02:00    9.041410e-02\n",
       "Freq: S, Name: max, Length: 258749, dtype: float64"
      ]
     },
     "execution_count": 12,
     "metadata": {},
     "output_type": "execute_result"
    }
   ],
   "source": [
    "ghiPP['max'] - x[0]"
   ]
  },
  {
   "cell_type": "code",
   "execution_count": 13,
   "id": "aaeef761",
   "metadata": {},
   "outputs": [],
   "source": [
    "ghiPP['min']= PPmin"
   ]
  },
  {
   "cell_type": "code",
   "execution_count": 7,
   "id": "281b745c",
   "metadata": {
    "scrolled": true
   },
   "outputs": [],
   "source": [
    "ghiPP = pd.DataFrame(columns = ['max','min'])\n",
    "ghiPP['max'] = eth[0]*1.5*cosSZA[0]**(1.2) + 100"
   ]
  },
  {
   "cell_type": "code",
   "execution_count": 14,
   "id": "6fb34485",
   "metadata": {},
   "outputs": [
    {
     "data": {
      "text/html": [
       "<div>\n",
       "<style scoped>\n",
       "    .dataframe tbody tr th:only-of-type {\n",
       "        vertical-align: middle;\n",
       "    }\n",
       "\n",
       "    .dataframe tbody tr th {\n",
       "        vertical-align: top;\n",
       "    }\n",
       "\n",
       "    .dataframe thead th {\n",
       "        text-align: right;\n",
       "    }\n",
       "</style>\n",
       "<table border=\"1\" class=\"dataframe\">\n",
       "  <thead>\n",
       "    <tr style=\"text-align: right;\">\n",
       "      <th></th>\n",
       "      <th>max</th>\n",
       "      <th>min</th>\n",
       "    </tr>\n",
       "  </thead>\n",
       "  <tbody>\n",
       "    <tr>\n",
       "      <th>2017-12-17 14:32:40-02:00</th>\n",
       "      <td>288.842050</td>\n",
       "      <td>-4</td>\n",
       "    </tr>\n",
       "    <tr>\n",
       "      <th>2017-12-17 14:32:41-02:00</th>\n",
       "      <td>288.842050</td>\n",
       "      <td>-4</td>\n",
       "    </tr>\n",
       "    <tr>\n",
       "      <th>2017-12-17 14:32:42-02:00</th>\n",
       "      <td>288.842051</td>\n",
       "      <td>-4</td>\n",
       "    </tr>\n",
       "    <tr>\n",
       "      <th>2017-12-17 14:32:43-02:00</th>\n",
       "      <td>288.842051</td>\n",
       "      <td>-4</td>\n",
       "    </tr>\n",
       "    <tr>\n",
       "      <th>2017-12-17 14:32:44-02:00</th>\n",
       "      <td>288.842052</td>\n",
       "      <td>-4</td>\n",
       "    </tr>\n",
       "    <tr>\n",
       "      <th>...</th>\n",
       "      <td>...</td>\n",
       "      <td>...</td>\n",
       "    </tr>\n",
       "    <tr>\n",
       "      <th>2017-12-20 14:25:04-02:00</th>\n",
       "      <td>288.932463</td>\n",
       "      <td>-4</td>\n",
       "    </tr>\n",
       "    <tr>\n",
       "      <th>2017-12-20 14:25:05-02:00</th>\n",
       "      <td>288.932463</td>\n",
       "      <td>-4</td>\n",
       "    </tr>\n",
       "    <tr>\n",
       "      <th>2017-12-20 14:25:06-02:00</th>\n",
       "      <td>288.932464</td>\n",
       "      <td>-4</td>\n",
       "    </tr>\n",
       "    <tr>\n",
       "      <th>2017-12-20 14:25:07-02:00</th>\n",
       "      <td>288.932464</td>\n",
       "      <td>-4</td>\n",
       "    </tr>\n",
       "    <tr>\n",
       "      <th>2017-12-20 14:25:08-02:00</th>\n",
       "      <td>288.932464</td>\n",
       "      <td>-4</td>\n",
       "    </tr>\n",
       "  </tbody>\n",
       "</table>\n",
       "<p>258749 rows × 2 columns</p>\n",
       "</div>"
      ],
      "text/plain": [
       "                                  max  min\n",
       "2017-12-17 14:32:40-02:00  288.842050   -4\n",
       "2017-12-17 14:32:41-02:00  288.842050   -4\n",
       "2017-12-17 14:32:42-02:00  288.842051   -4\n",
       "2017-12-17 14:32:43-02:00  288.842051   -4\n",
       "2017-12-17 14:32:44-02:00  288.842052   -4\n",
       "...                               ...  ...\n",
       "2017-12-20 14:25:04-02:00  288.932463   -4\n",
       "2017-12-20 14:25:05-02:00  288.932463   -4\n",
       "2017-12-20 14:25:06-02:00  288.932464   -4\n",
       "2017-12-20 14:25:07-02:00  288.932464   -4\n",
       "2017-12-20 14:25:08-02:00  288.932464   -4\n",
       "\n",
       "[258749 rows x 2 columns]"
      ]
     },
     "execution_count": 14,
     "metadata": {},
     "output_type": "execute_result"
    }
   ],
   "source": [
    "ghiPP"
   ]
  },
  {
   "cell_type": "code",
   "execution_count": 16,
   "id": "2cb629df",
   "metadata": {},
   "outputs": [
    {
     "data": {
      "text/plain": [
       "DatetimeIndex(['2017-12-17 14:32:40-02:00', '2017-12-17 14:32:41-02:00',\n",
       "               '2017-12-17 14:32:42-02:00', '2017-12-17 14:32:43-02:00',\n",
       "               '2017-12-17 14:32:44-02:00', '2017-12-17 14:32:45-02:00',\n",
       "               '2017-12-17 14:32:46-02:00', '2017-12-17 14:32:47-02:00',\n",
       "               '2017-12-17 14:32:48-02:00', '2017-12-17 14:32:49-02:00',\n",
       "               ...\n",
       "               '2017-12-20 14:24:59-02:00', '2017-12-20 14:25:00-02:00',\n",
       "               '2017-12-20 14:25:01-02:00', '2017-12-20 14:25:02-02:00',\n",
       "               '2017-12-20 14:25:03-02:00', '2017-12-20 14:25:04-02:00',\n",
       "               '2017-12-20 14:25:05-02:00', '2017-12-20 14:25:06-02:00',\n",
       "               '2017-12-20 14:25:07-02:00', '2017-12-20 14:25:08-02:00'],\n",
       "              dtype='datetime64[ns, Brazil/East]', length=258749, freq='S')"
      ]
     },
     "execution_count": 16,
     "metadata": {},
     "output_type": "execute_result"
    }
   ],
   "source": [
    "ghiPP.index"
   ]
  }
 ],
 "metadata": {
  "kernelspec": {
   "display_name": "Python 3",
   "language": "python",
   "name": "python3"
  },
  "language_info": {
   "codemirror_mode": {
    "name": "ipython",
    "version": 3
   },
   "file_extension": ".py",
   "mimetype": "text/x-python",
   "name": "python",
   "nbconvert_exporter": "python",
   "pygments_lexer": "ipython3",
   "version": "3.8.8"
  }
 },
 "nbformat": 4,
 "nbformat_minor": 5
}
