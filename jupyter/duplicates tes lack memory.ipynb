{
 "cells": [
  {
   "cell_type": "code",
   "execution_count": 1,
   "id": "f2898055",
   "metadata": {},
   "outputs": [
    {
     "name": "stderr",
     "output_type": "stream",
     "text": [
      "/Users/nataly/opt/anaconda3/lib/python3.8/site-packages/IPython/core/interactiveshell.py:3165: DtypeWarning: Columns (8,17,18,19,20,21) have mixed types.Specify dtype option on import or set low_memory=False.\n",
      "  has_raised = await self.run_ast_nodes(code_ast.body, cell_name,\n",
      "/Users/nataly/opt/anaconda3/lib/python3.8/site-packages/IPython/core/interactiveshell.py:3165: DtypeWarning: Columns (8,17,18,21) have mixed types.Specify dtype option on import or set low_memory=False.\n",
      "  has_raised = await self.run_ast_nodes(code_ast.body, cell_name,\n",
      "/Users/nataly/opt/anaconda3/lib/python3.8/site-packages/IPython/core/interactiveshell.py:3165: DtypeWarning: Columns (10,19,21) have mixed types.Specify dtype option on import or set low_memory=False.\n",
      "  has_raised = await self.run_ast_nodes(code_ast.body, cell_name,\n"
     ]
    },
    {
     "name": "stdout",
     "output_type": "stream",
     "text": [
      "(88187753, 17)\n",
      "(85057006, 17)\n"
     ]
    }
   ],
   "source": [
    "import pandas as pd\n",
    "import numpy as np\n",
    "import matplotlib.pyplot as plt\n",
    "import glob\n",
    "import datetime\n",
    "import pytz\n",
    "import pvlib\n",
    "#from pvlib.location import Location\n",
    "#from pvlib.solarposition import get_solarposition\n",
    "#from pvlib import irradiance\n",
    "\n",
    "\n",
    "##  1) IMPORT FILE AND SELECT ONLY USEFUL VARIABLES. DEFINE A WORKABLE TIME RECORD STANDARD.\n",
    "##      a) Check if all files for the given year have he same entries.\n",
    "##      b) Compile all files into one single time series.\n",
    "\n",
    "\n",
    "# latitude, longitude, name, altitude, timezone - data retrieved in local time.\n",
    "coordinates = [-27.430891, -48.441406, 'Florianopolis', 2.74, 'Brazil/East']  ## check for daylight savings 'Etc/GMT-3'\n",
    "\n",
    "PATHS = [\"/Users/nataly/opt/AnacondaProjects/SAPIENS/original/2018/CR3000/Sec/*.dat\",\n",
    "         \"/Users/nataly/opt/AnacondaProjects/SAPIENS/original/2019/CR3000/Sec/*.dat\",\n",
    "         \"/Users/nataly/opt/AnacondaProjects/SAPIENS/original/2020/CR3000/Sec/*.dat\",\n",
    "         \"/Users/nataly/opt/AnacondaProjects/SAPIENS/original/2021/CR3000/Sec/*.dat\"]\n",
    "\n",
    "column_names = ['TIMESTAMP',\n",
    "                'GHIP_SI02pt100',\n",
    "                'GHIP_SMP11',\n",
    "                'GHIP_SMP22',\n",
    "                'GHIP_SPN1',\n",
    "                'GHIT_SMP22',\n",
    "                'TGHIP_SI02pt100', \n",
    "                'TGHIP_SI02pt100_dirty',\n",
    "                'TGIP_SMP11_VENT',\n",
    "                'DfHIP_SPN1', \n",
    "                'DfHIRP_SMP11',\n",
    "                'DfHIT_SMP22',\n",
    "                'DIF_GLO_REF_SPN1',\n",
    "                'DNI_SHP1',\n",
    "                'LW_SGR4', \n",
    "                'wind_speed', \n",
    "                'wind_direction']\n",
    "\n",
    "GHI =  ['TIMESTAMP','GHIP_SI02pt100',\n",
    "        'GHIP_SMP11',\n",
    "        'GHIP_SMP22',\n",
    "        'GHIP_SPN1',\n",
    "        'GHIT_SMP22']\n",
    "\n",
    "GTI = ['TIMESTAMP','TGHIP_SI02pt100', \n",
    "       'TGHIP_SI02pt100_dirty',\n",
    "       'TGIP_SMP11_VENT']\n",
    "      \n",
    "DIF = ['TIMESTAMP','DfHIP_SPN1', \n",
    "       'DfHIRP_SMP11',\n",
    "       'DfHIT_SMP22',\n",
    "       'DIF_GLO_REF_SPN1']\n",
    "\n",
    "DNI = ['TIMESTAMP','DNI_SHP1']\n",
    "  \n",
    "WIND = ['TIMESTAMP','wind_speed', \n",
    "        'wind_direction']\n",
    "                \n",
    "#file_duration = pd.DataFrame(index = datafiles , columns = ['Tstart','Tend', 'Istart','Iend'])\n",
    "\n",
    "compdata = pd.DataFrame(columns = column_names)\n",
    "\n",
    "for path in PATHS:\n",
    "    datafiles = glob.glob(path)\n",
    "    datafiles.sort()\n",
    "    for file in datafiles:\n",
    "        df = pd.read_csv(file, usecols=column_names)[column_names]        \n",
    "\n",
    "        df[['GHIP_SI02pt100','GHIP_SMP11','GHIP_SMP22','GHIP_SPN1','GHIT_SMP22',\n",
    "            'TGHIP_SI02pt100','TGHIP_SI02pt100_dirty','TGIP_SMP11_VENT',\n",
    "            'DfHIP_SPN1','DfHIRP_SMP11','DfHIT_SMP22','DIF_GLO_REF_SPN1',\n",
    "            'DNI_SHP1','LW_SGR4', 'wind_speed','wind_direction']] = df[['GHIP_SI02pt100',\n",
    "            'GHIP_SMP11','GHIP_SMP22','GHIP_SPN1','GHIT_SMP22','TGHIP_SI02pt100',\n",
    "            'TGHIP_SI02pt100_dirty','TGIP_SMP11_VENT','DfHIP_SPN1','DfHIRP_SMP11',\n",
    "            'DfHIT_SMP22','DIF_GLO_REF_SPN1','DNI_SHP1','LW_SGR4', 'wind_speed',\n",
    "            'wind_direction']].astype(\"float64\")  \n",
    "        df['TIMESTAMP'] = df['TIMESTAMP'].astype(np.datetime64)\n",
    "                 \n",
    "        df = df.fillna(-9999)\n",
    "        df = df.sort_values(by=['TIMESTAMP'])\n",
    "        df= df.drop_duplicates()\n",
    "        compdata = pd.concat([compdata, df])\n",
    "        # PARA CADA ARQUIVO CHECAR: TIMESTAMP INICIO / FIM\n",
    "        #file_duration.at[path,'Tstart']= df.iloc[0,0]\n",
    "        #file_duration.at[path,'Tend'  ]= df.iloc[-1,0]    \n",
    "        #file_duration.at[path,'Istart']= df.index[0]\n",
    "        #file_duration.at[path,'Iend'  ]= df.index[-1]  \n",
    "\n",
    "print(compdata.shape)\n",
    "compdata = compdata.sort_values(by=['TIMESTAMP'])\n",
    "compdata = compdata.drop_duplicates()\n",
    "compdata = compdata.reset_index(drop=True)\n",
    "print(compdata.shape)\n",
    "\n",
    "dataserie = compdata.set_index('TIMESTAMP')"
   ]
  },
  {
   "cell_type": "code",
   "execution_count": 11,
   "id": "0ce7445b",
   "metadata": {},
   "outputs": [],
   "source": [
    "GHI =  ['TIMESTAMP','GHIP_SI02pt100',\n",
    "        'GHIP_SMP11',\n",
    "        'GHIP_SMP22',\n",
    "        'GHIP_SPN1',\n",
    "        'GHIT_SMP22']\n",
    "\n",
    "GTI = ['TIMESTAMP','TGHIP_SI02pt100', \n",
    "       'TGHIP_SI02pt100_dirty',\n",
    "       'TGIP_SMP11_VENT']\n",
    "      \n",
    "DIF = ['TIMESTAMP','DfHIP_SPN1', \n",
    "       'DfHIRP_SMP11',\n",
    "       'DfHIT_SMP22',\n",
    "       'DIF_GLO_REF_SPN1']\n",
    "\n",
    "DNI = ['TIMESTAMP','DNI_SHP1']\n",
    "  \n",
    "WIND = ['TIMESTAMP','wind_speed', \n",
    "        'wind_direction']"
   ]
  },
  {
   "cell_type": "code",
   "execution_count": 12,
   "id": "d3c4812f",
   "metadata": {},
   "outputs": [],
   "source": [
    "GHIdata  = compdata[GHI]  \n"
   ]
  },
  {
   "cell_type": "code",
   "execution_count": 13,
   "id": "06b7ec10",
   "metadata": {},
   "outputs": [
    {
     "data": {
      "text/plain": [
       "(85057006, 6)"
      ]
     },
     "execution_count": 13,
     "metadata": {},
     "output_type": "execute_result"
    }
   ],
   "source": [
    "GHIdata.shape"
   ]
  },
  {
   "cell_type": "code",
   "execution_count": 14,
   "id": "5f9638fe",
   "metadata": {},
   "outputs": [
    {
     "data": {
      "text/plain": [
       "(84905284, 6)"
      ]
     },
     "execution_count": 14,
     "metadata": {},
     "output_type": "execute_result"
    }
   ],
   "source": [
    "GHIdata = GHIdata.drop_duplicates()\n",
    "GHIdata.shape"
   ]
  },
  {
   "cell_type": "code",
   "execution_count": 2,
   "id": "5acd6041",
   "metadata": {
    "scrolled": true
   },
   "outputs": [
    {
     "ename": "NameError",
     "evalue": "name 'compdata' is not defined",
     "output_type": "error",
     "traceback": [
      "\u001b[0;31m---------------------------------------------------------------------------\u001b[0m",
      "\u001b[0;31mNameError\u001b[0m                                 Traceback (most recent call last)",
      "\u001b[0;32m<ipython-input-2-1d751085f5b0>\u001b[0m in \u001b[0;36m<module>\u001b[0;34m\u001b[0m\n\u001b[0;32m----> 1\u001b[0;31m \u001b[0mGHIdatafull\u001b[0m \u001b[0;34m=\u001b[0m \u001b[0mcompdata\u001b[0m\u001b[0;34m[\u001b[0m\u001b[0mGHI\u001b[0m\u001b[0;34m]\u001b[0m\u001b[0;34m\u001b[0m\u001b[0;34m\u001b[0m\u001b[0m\n\u001b[0m",
      "\u001b[0;31mNameError\u001b[0m: name 'compdata' is not defined"
     ]
    }
   ],
   "source": [
    "GHIdatafull = compdata[GHI] "
   ]
  },
  {
   "cell_type": "code",
   "execution_count": null,
   "id": "0c7ebcbb",
   "metadata": {},
   "outputs": [],
   "source": []
  },
  {
   "cell_type": "code",
   "execution_count": null,
   "id": "cec52172",
   "metadata": {},
   "outputs": [],
   "source": []
  },
  {
   "cell_type": "code",
   "execution_count": null,
   "id": "8fb491c8",
   "metadata": {},
   "outputs": [],
   "source": []
  },
  {
   "cell_type": "code",
   "execution_count": null,
   "id": "6d831859",
   "metadata": {},
   "outputs": [],
   "source": [
    "GHIdup = GHIdatafull[GHIdatafull.duplicated(subset='TIMESTAMP', keep = True)]"
   ]
  },
  {
   "cell_type": "code",
   "execution_count": null,
   "id": "4d969761",
   "metadata": {},
   "outputs": [],
   "source": [
    "GHIdup"
   ]
  },
  {
   "cell_type": "code",
   "execution_count": null,
   "id": "976adc76",
   "metadata": {},
   "outputs": [],
   "source": [
    "GHIdup = GHIdup.sort_values(by=['TIMESTAMP'])\n"
   ]
  },
  {
   "cell_type": "code",
   "execution_count": 26,
   "id": "e14f09c7",
   "metadata": {},
   "outputs": [],
   "source": [
    "GHIdup = GHIdata[GHIdata.duplicated(subset='TIMESTAMP')]"
   ]
  },
  {
   "cell_type": "code",
   "execution_count": 28,
   "id": "b4179183",
   "metadata": {},
   "outputs": [],
   "source": [
    "GHIdup = GHIdup.sort_values(by=['TIMESTAMP'])\n"
   ]
  },
  {
   "cell_type": "code",
   "execution_count": 29,
   "id": "e9527495",
   "metadata": {},
   "outputs": [
    {
     "data": {
      "text/html": [
       "<div>\n",
       "<style scoped>\n",
       "    .dataframe tbody tr th:only-of-type {\n",
       "        vertical-align: middle;\n",
       "    }\n",
       "\n",
       "    .dataframe tbody tr th {\n",
       "        vertical-align: top;\n",
       "    }\n",
       "\n",
       "    .dataframe thead th {\n",
       "        text-align: right;\n",
       "    }\n",
       "</style>\n",
       "<table border=\"1\" class=\"dataframe\">\n",
       "  <thead>\n",
       "    <tr style=\"text-align: right;\">\n",
       "      <th></th>\n",
       "      <th>TIMESTAMP</th>\n",
       "      <th>GHIP_SI02pt100</th>\n",
       "      <th>GHIP_SMP11</th>\n",
       "      <th>GHIP_SMP22</th>\n",
       "      <th>GHIP_SPN1</th>\n",
       "      <th>GHIT_SMP22</th>\n",
       "    </tr>\n",
       "  </thead>\n",
       "  <tbody>\n",
       "    <tr>\n",
       "      <th>3520800</th>\n",
       "      <td>2018-01-23 19:42:52</td>\n",
       "      <td>8.050</td>\n",
       "      <td>5.1</td>\n",
       "      <td>8.1</td>\n",
       "      <td>7.594</td>\n",
       "      <td>7.4</td>\n",
       "    </tr>\n",
       "    <tr>\n",
       "      <th>3520805</th>\n",
       "      <td>2018-01-23 19:42:55</td>\n",
       "      <td>7.877</td>\n",
       "      <td>5.0</td>\n",
       "      <td>7.9</td>\n",
       "      <td>10.730</td>\n",
       "      <td>7.3</td>\n",
       "    </tr>\n",
       "    <tr>\n",
       "      <th>3520807</th>\n",
       "      <td>2018-01-23 19:42:56</td>\n",
       "      <td>7.877</td>\n",
       "      <td>5.0</td>\n",
       "      <td>7.9</td>\n",
       "      <td>11.560</td>\n",
       "      <td>7.2</td>\n",
       "    </tr>\n",
       "    <tr>\n",
       "      <th>3520811</th>\n",
       "      <td>2018-01-23 19:42:58</td>\n",
       "      <td>7.758</td>\n",
       "      <td>4.9</td>\n",
       "      <td>7.8</td>\n",
       "      <td>8.750</td>\n",
       "      <td>7.1</td>\n",
       "    </tr>\n",
       "    <tr>\n",
       "      <th>3520821</th>\n",
       "      <td>2018-01-23 19:43:04</td>\n",
       "      <td>7.462</td>\n",
       "      <td>4.6</td>\n",
       "      <td>7.5</td>\n",
       "      <td>8.750</td>\n",
       "      <td>6.9</td>\n",
       "    </tr>\n",
       "    <tr>\n",
       "      <th>...</th>\n",
       "      <td>...</td>\n",
       "      <td>...</td>\n",
       "      <td>...</td>\n",
       "      <td>...</td>\n",
       "      <td>...</td>\n",
       "      <td>...</td>\n",
       "    </tr>\n",
       "    <tr>\n",
       "      <th>84659511</th>\n",
       "      <td>2021-01-17 00:00:16</td>\n",
       "      <td>0.000</td>\n",
       "      <td>-4.7</td>\n",
       "      <td>0.5</td>\n",
       "      <td>3.013</td>\n",
       "      <td>-1.0</td>\n",
       "    </tr>\n",
       "    <tr>\n",
       "      <th>84659513</th>\n",
       "      <td>2021-01-17 00:00:17</td>\n",
       "      <td>0.000</td>\n",
       "      <td>-4.7</td>\n",
       "      <td>0.5</td>\n",
       "      <td>1.794</td>\n",
       "      <td>-1.0</td>\n",
       "    </tr>\n",
       "    <tr>\n",
       "      <th>84659515</th>\n",
       "      <td>2021-01-17 00:00:18</td>\n",
       "      <td>0.000</td>\n",
       "      <td>-4.7</td>\n",
       "      <td>0.5</td>\n",
       "      <td>2.775</td>\n",
       "      <td>-1.0</td>\n",
       "    </tr>\n",
       "    <tr>\n",
       "      <th>84659517</th>\n",
       "      <td>2021-01-17 00:00:19</td>\n",
       "      <td>0.000</td>\n",
       "      <td>-4.7</td>\n",
       "      <td>0.5</td>\n",
       "      <td>2.939</td>\n",
       "      <td>-1.0</td>\n",
       "    </tr>\n",
       "    <tr>\n",
       "      <th>84659519</th>\n",
       "      <td>2021-01-17 00:00:20</td>\n",
       "      <td>0.000</td>\n",
       "      <td>-4.7</td>\n",
       "      <td>0.5</td>\n",
       "      <td>2.096</td>\n",
       "      <td>-1.0</td>\n",
       "    </tr>\n",
       "  </tbody>\n",
       "</table>\n",
       "<p>27892 rows × 6 columns</p>\n",
       "</div>"
      ],
      "text/plain": [
       "                   TIMESTAMP  GHIP_SI02pt100  GHIP_SMP11  GHIP_SMP22  \\\n",
       "3520800  2018-01-23 19:42:52           8.050         5.1         8.1   \n",
       "3520805  2018-01-23 19:42:55           7.877         5.0         7.9   \n",
       "3520807  2018-01-23 19:42:56           7.877         5.0         7.9   \n",
       "3520811  2018-01-23 19:42:58           7.758         4.9         7.8   \n",
       "3520821  2018-01-23 19:43:04           7.462         4.6         7.5   \n",
       "...                      ...             ...         ...         ...   \n",
       "84659511 2021-01-17 00:00:16           0.000        -4.7         0.5   \n",
       "84659513 2021-01-17 00:00:17           0.000        -4.7         0.5   \n",
       "84659515 2021-01-17 00:00:18           0.000        -4.7         0.5   \n",
       "84659517 2021-01-17 00:00:19           0.000        -4.7         0.5   \n",
       "84659519 2021-01-17 00:00:20           0.000        -4.7         0.5   \n",
       "\n",
       "          GHIP_SPN1  GHIT_SMP22  \n",
       "3520800       7.594         7.4  \n",
       "3520805      10.730         7.3  \n",
       "3520807      11.560         7.2  \n",
       "3520811       8.750         7.1  \n",
       "3520821       8.750         6.9  \n",
       "...             ...         ...  \n",
       "84659511      3.013        -1.0  \n",
       "84659513      1.794        -1.0  \n",
       "84659515      2.775        -1.0  \n",
       "84659517      2.939        -1.0  \n",
       "84659519      2.096        -1.0  \n",
       "\n",
       "[27892 rows x 6 columns]"
      ]
     },
     "execution_count": 29,
     "metadata": {},
     "output_type": "execute_result"
    }
   ],
   "source": [
    "GHIdup"
   ]
  }
 ],
 "metadata": {
  "kernelspec": {
   "display_name": "Python 3",
   "language": "python",
   "name": "python3"
  },
  "language_info": {
   "codemirror_mode": {
    "name": "ipython",
    "version": 3
   },
   "file_extension": ".py",
   "mimetype": "text/x-python",
   "name": "python",
   "nbconvert_exporter": "python",
   "pygments_lexer": "ipython3",
   "version": "3.8.8"
  }
 },
 "nbformat": 4,
 "nbformat_minor": 5
}
