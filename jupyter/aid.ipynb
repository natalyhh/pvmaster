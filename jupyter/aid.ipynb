{
 "cells": [
  {
   "cell_type": "code",
   "execution_count": 1,
   "id": "f1501b24",
   "metadata": {},
   "outputs": [],
   "source": [
    "PATH18 = \"/Users/nataly/opt/AnacondaProjects/SAPIENS/original/2018/CR3000/Sec/*.dat\""
   ]
  },
  {
   "cell_type": "code",
   "execution_count": 2,
   "id": "3945dc01",
   "metadata": {},
   "outputs": [],
   "source": [
    "import pandas as pd\n",
    "import numpy as np\n",
    "import matplotlib.pyplot as plt\n",
    "import glob\n",
    "import pvlib"
   ]
  },
  {
   "cell_type": "code",
   "execution_count": 3,
   "id": "25e033fc",
   "metadata": {},
   "outputs": [
    {
     "data": {
      "text/plain": [
       "'/Users/nataly/opt/AnacondaProjects/SAPIENS/original/2018/CR3000/Sec/*.dat'"
      ]
     },
     "execution_count": 3,
     "metadata": {},
     "output_type": "execute_result"
    }
   ],
   "source": [
    "PATH18"
   ]
  },
  {
   "cell_type": "code",
   "execution_count": 4,
   "id": "c470d15c",
   "metadata": {},
   "outputs": [],
   "source": [
    "file = glob.glob(PATH18)"
   ]
  },
  {
   "cell_type": "code",
   "execution_count": 5,
   "id": "27ecfdaf",
   "metadata": {},
   "outputs": [
    {
     "data": {
      "text/plain": [
       "['/Users/nataly/opt/AnacondaProjects/SAPIENS/original/2018/CR3000/Sec/SAPIENS_CR3000_Second_8.dat',\n",
       " '/Users/nataly/opt/AnacondaProjects/SAPIENS/original/2018/CR3000/Sec/SAPIENS_CR3000_Second_1.dat',\n",
       " '/Users/nataly/opt/AnacondaProjects/SAPIENS/original/2018/CR3000/Sec/SAPIENS_CR3000_Second_3.dat',\n",
       " '/Users/nataly/opt/AnacondaProjects/SAPIENS/original/2018/CR3000/Sec/SAPIENS_CR3000_Second_2.dat',\n",
       " '/Users/nataly/opt/AnacondaProjects/SAPIENS/original/2018/CR3000/Sec/SAPIENS_CR3000_Second_6.dat',\n",
       " '/Users/nataly/opt/AnacondaProjects/SAPIENS/original/2018/CR3000/Sec/SAPIENS_CR3000_Second_7.dat',\n",
       " '/Users/nataly/opt/AnacondaProjects/SAPIENS/original/2018/CR3000/Sec/SAPIENS_CR3000_Second_5.dat',\n",
       " '/Users/nataly/opt/AnacondaProjects/SAPIENS/original/2018/CR3000/Sec/SAPIENS_CR3000_Second_4.dat']"
      ]
     },
     "execution_count": 5,
     "metadata": {},
     "output_type": "execute_result"
    }
   ],
   "source": [
    "file"
   ]
  },
  {
   "cell_type": "code",
   "execution_count": 7,
   "id": "c2d9f7d9",
   "metadata": {},
   "outputs": [],
   "source": [
    "file.sort()"
   ]
  },
  {
   "cell_type": "code",
   "execution_count": 8,
   "id": "ef168e06",
   "metadata": {
    "scrolled": true
   },
   "outputs": [
    {
     "data": {
      "text/plain": [
       "['/Users/nataly/opt/AnacondaProjects/SAPIENS/original/2018/CR3000/Sec/SAPIENS_CR3000_Second_1.dat',\n",
       " '/Users/nataly/opt/AnacondaProjects/SAPIENS/original/2018/CR3000/Sec/SAPIENS_CR3000_Second_2.dat',\n",
       " '/Users/nataly/opt/AnacondaProjects/SAPIENS/original/2018/CR3000/Sec/SAPIENS_CR3000_Second_3.dat',\n",
       " '/Users/nataly/opt/AnacondaProjects/SAPIENS/original/2018/CR3000/Sec/SAPIENS_CR3000_Second_4.dat',\n",
       " '/Users/nataly/opt/AnacondaProjects/SAPIENS/original/2018/CR3000/Sec/SAPIENS_CR3000_Second_5.dat',\n",
       " '/Users/nataly/opt/AnacondaProjects/SAPIENS/original/2018/CR3000/Sec/SAPIENS_CR3000_Second_6.dat',\n",
       " '/Users/nataly/opt/AnacondaProjects/SAPIENS/original/2018/CR3000/Sec/SAPIENS_CR3000_Second_7.dat',\n",
       " '/Users/nataly/opt/AnacondaProjects/SAPIENS/original/2018/CR3000/Sec/SAPIENS_CR3000_Second_8.dat']"
      ]
     },
     "execution_count": 8,
     "metadata": {},
     "output_type": "execute_result"
    }
   ],
   "source": [
    "file"
   ]
  },
  {
   "cell_type": "code",
   "execution_count": 33,
   "id": "ddafa3a8",
   "metadata": {},
   "outputs": [],
   "source": [
    "loc1  = file[0]\n",
    "loc2 = file[1]\n",
    "loc3 = file[2]\n",
    "loc4 = file[3]\n",
    "loc5 = file[4]\n",
    "loc6 = file[5]\n",
    "loc7 = file[6]\n",
    "loc8 = file[7]\n",
    "\n"
   ]
  },
  {
   "cell_type": "code",
   "execution_count": 35,
   "id": "70aabd9f",
   "metadata": {},
   "outputs": [],
   "source": [
    "df1 = pd.read_csv(loc1)\n",
    "df2 = pd.read_csv(loc2)\n",
    "df3 = pd.read_csv(loc3)\n",
    "df4 = pd.read_csv(loc4)\n",
    "df5 = pd.read_csv(loc5)\n",
    "df6 = pd.read_csv(loc6)\n",
    "df7 = pd.read_csv(loc7)\n",
    "df8 = pd.read_csv(loc8)\n"
   ]
  },
  {
   "cell_type": "code",
   "execution_count": 124,
   "id": "1f946974",
   "metadata": {},
   "outputs": [],
   "source": [
    "what1 = df5.columns == df3.columns"
   ]
  },
  {
   "cell_type": "code",
   "execution_count": 125,
   "id": "1b6577c3",
   "metadata": {},
   "outputs": [
    {
     "data": {
      "text/plain": [
       "array([ True,  True,  True,  True,  True,  True,  True,  True,  True,\n",
       "        True,  True,  True,  True,  True,  True,  True,  True,  True,\n",
       "        True,  True,  True,  True,  True])"
      ]
     },
     "execution_count": 125,
     "metadata": {},
     "output_type": "execute_result"
    }
   ],
   "source": [
    "what1"
   ]
  },
  {
   "cell_type": "code",
   "execution_count": 126,
   "id": "befa5a69",
   "metadata": {},
   "outputs": [
    {
     "data": {
      "text/plain": [
       "(23,)"
      ]
     },
     "execution_count": 126,
     "metadata": {},
     "output_type": "execute_result"
    }
   ],
   "source": [
    "what1.shape"
   ]
  },
  {
   "cell_type": "code",
   "execution_count": 127,
   "id": "8824fe58",
   "metadata": {},
   "outputs": [],
   "source": [
    "what2 = df5.columns == df8.columns"
   ]
  },
  {
   "cell_type": "code",
   "execution_count": 129,
   "id": "83cfc3f9",
   "metadata": {},
   "outputs": [
    {
     "data": {
      "text/plain": [
       "(23,)"
      ]
     },
     "execution_count": 129,
     "metadata": {},
     "output_type": "execute_result"
    }
   ],
   "source": [
    "what2.shape"
   ]
  },
  {
   "cell_type": "code",
   "execution_count": 132,
   "id": "15e8bd96",
   "metadata": {},
   "outputs": [
    {
     "ename": "SyntaxError",
     "evalue": "invalid syntax (<ipython-input-132-9a668ff2806f>, line 1)",
     "output_type": "error",
     "traceback": [
      "\u001b[0;36m  File \u001b[0;32m\"<ipython-input-132-9a668ff2806f>\"\u001b[0;36m, line \u001b[0;32m1\u001b[0m\n\u001b[0;31m    testes = pd.DataFrame({\"t1\": what1;\"t2\": what2})\u001b[0m\n\u001b[0m                                      ^\u001b[0m\n\u001b[0;31mSyntaxError\u001b[0m\u001b[0;31m:\u001b[0m invalid syntax\n"
     ]
    }
   ],
   "source": [
    "testes = pd.DataFrame({\"t1\": what1;\"t2\": what2})"
   ]
  },
  {
   "cell_type": "code",
   "execution_count": 133,
   "id": "3eba0db7",
   "metadata": {},
   "outputs": [
    {
     "data": {
      "text/plain": [
       "TIMESTAMP                 object\n",
       "RECORD                     int64\n",
       "DNI_SHP1                 float64\n",
       "LW_SGR4                  float64\n",
       "GHIT_SMP22               float64\n",
       "GHIP_SMP22               float64\n",
       "GHIP_SMP11               float64\n",
       "GHIP_SPN1                float64\n",
       "GHIP_SI02pt100           float64\n",
       "UV                       float64\n",
       "Par                      float64\n",
       "DfHIT_SMP22              float64\n",
       "DfHIRP_SMP11             float64\n",
       "DfHIP_SPN1               float64\n",
       "TGIP_SMP11_VENT          float64\n",
       "TGIP_SMP11_NoVen         float64\n",
       "TGIP_SMP6_NoVen          float64\n",
       "TGHIP_SI02pt100          float64\n",
       "TGHIP_SI02pt100_dirty    float64\n",
       "wind_speed               float64\n",
       "wind_direction             int64\n",
       "DIF_GLO_REF_SPN1         float64\n",
       "ElapsedTimeTudo            int64\n",
       "dtype: object"
      ]
     },
     "execution_count": 133,
     "metadata": {},
     "output_type": "execute_result"
    }
   ],
   "source": [
    "df5.dtypes"
   ]
  },
  {
   "cell_type": "code",
   "execution_count": null,
   "id": "5e51a9d8",
   "metadata": {},
   "outputs": [],
   "source": []
  }
 ],
 "metadata": {
  "kernelspec": {
   "display_name": "Python 3",
   "language": "python",
   "name": "python3"
  },
  "language_info": {
   "codemirror_mode": {
    "name": "ipython",
    "version": 3
   },
   "file_extension": ".py",
   "mimetype": "text/x-python",
   "name": "python",
   "nbconvert_exporter": "python",
   "pygments_lexer": "ipython3",
   "version": "3.8.8"
  }
 },
 "nbformat": 4,
 "nbformat_minor": 5
}
