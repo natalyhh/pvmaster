{
 "cells": [
  {
   "cell_type": "code",
   "execution_count": 22,
   "id": "e1089b8c",
   "metadata": {},
   "outputs": [],
   "source": [
    "\n",
    "\n",
    "from numba.core.extending import get_cython_function_address\n",
    "import pandas as pd\n",
    "import numpy as np\n",
    "import matplotlib.pyplot as plt\n",
    "import glob\n",
    "import datetime\n",
    "import pytz\n",
    "import pvlib  # v 0.7.2\n",
    "\n",
    "BSRN_path = \"/Users/nataly/opt/AnacondaProjects/SAPIENS/BSRNmin/\"\n",
    "figs_path = \"/Users/nataly/opt/AnacondaProjects/SAPIENS/figs/\"\n"
   ]
  },
  {
   "cell_type": "code",
   "execution_count": 2,
   "id": "5feef585",
   "metadata": {},
   "outputs": [],
   "source": [
    "sensors =  ['GHIP_SI02pt100',\n",
    "            'GHIP_SMP11',\n",
    "            'GHIP_SMP22',\n",
    "            'GHIP_SPN1']\n",
    "\n",
    "\n",
    "kt =  ['kt_GHIP_SI02pt100',\n",
    "       'kt_GHIP_SMP11',\n",
    "       'kt_GHIP_SMP22',\n",
    "       'kt_GHIP_SPN1']\n"
   ]
  },
  {
   "cell_type": "code",
   "execution_count": 3,
   "id": "a0a7fb81",
   "metadata": {},
   "outputs": [],
   "source": [
    "years = ['2018', '2019', '2020', '2021']\n",
    "\n",
    "dfghi = pd.DataFrame(columns = sensors)"
   ]
  },
  {
   "cell_type": "code",
   "execution_count": 4,
   "id": "4da311eb",
   "metadata": {},
   "outputs": [],
   "source": [
    "year = years[3]"
   ]
  },
  {
   "cell_type": "code",
   "execution_count": 5,
   "id": "ce6424ab",
   "metadata": {},
   "outputs": [
    {
     "data": {
      "text/plain": [
       "'2021'"
      ]
     },
     "execution_count": 5,
     "metadata": {},
     "output_type": "execute_result"
    }
   ],
   "source": [
    "year"
   ]
  },
  {
   "cell_type": "code",
   "execution_count": 27,
   "id": "f7904c0b",
   "metadata": {},
   "outputs": [],
   "source": [
    "dfghi = pd.read_pickle(BSRN_path + year +'ghiFLAG.pkl')\n",
    "etn   = pd.read_pickle(BSRN_path + year + 'ETH.pkl')"
   ]
  },
  {
   "cell_type": "code",
   "execution_count": 28,
   "id": "fce155b7",
   "metadata": {},
   "outputs": [
    {
     "data": {
      "text/html": [
       "<div>\n",
       "<style scoped>\n",
       "    .dataframe tbody tr th:only-of-type {\n",
       "        vertical-align: middle;\n",
       "    }\n",
       "\n",
       "    .dataframe tbody tr th {\n",
       "        vertical-align: top;\n",
       "    }\n",
       "\n",
       "    .dataframe thead th {\n",
       "        text-align: right;\n",
       "    }\n",
       "</style>\n",
       "<table border=\"1\" class=\"dataframe\">\n",
       "  <thead>\n",
       "    <tr style=\"text-align: right;\">\n",
       "      <th></th>\n",
       "      <th>0</th>\n",
       "    </tr>\n",
       "  </thead>\n",
       "  <tbody>\n",
       "    <tr>\n",
       "      <th>2021-01-01 00:00:00+00:00</th>\n",
       "      <td>1412.999666</td>\n",
       "    </tr>\n",
       "    <tr>\n",
       "      <th>2021-01-01 00:01:00+00:00</th>\n",
       "      <td>1412.999686</td>\n",
       "    </tr>\n",
       "    <tr>\n",
       "      <th>2021-01-01 00:02:00+00:00</th>\n",
       "      <td>1412.999706</td>\n",
       "    </tr>\n",
       "    <tr>\n",
       "      <th>2021-01-01 00:03:00+00:00</th>\n",
       "      <td>1412.999726</td>\n",
       "    </tr>\n",
       "    <tr>\n",
       "      <th>2021-01-01 00:04:00+00:00</th>\n",
       "      <td>1412.999746</td>\n",
       "    </tr>\n",
       "    <tr>\n",
       "      <th>...</th>\n",
       "      <td>...</td>\n",
       "    </tr>\n",
       "    <tr>\n",
       "      <th>2021-01-21 14:21:00+00:00</th>\n",
       "      <td>1410.581281</td>\n",
       "    </tr>\n",
       "    <tr>\n",
       "      <th>2021-01-21 14:22:00+00:00</th>\n",
       "      <td>1410.581111</td>\n",
       "    </tr>\n",
       "    <tr>\n",
       "      <th>2021-01-21 14:23:00+00:00</th>\n",
       "      <td>1410.580942</td>\n",
       "    </tr>\n",
       "    <tr>\n",
       "      <th>2021-01-21 14:24:00+00:00</th>\n",
       "      <td>1410.580773</td>\n",
       "    </tr>\n",
       "    <tr>\n",
       "      <th>2021-01-21 14:25:00+00:00</th>\n",
       "      <td>1410.580603</td>\n",
       "    </tr>\n",
       "  </tbody>\n",
       "</table>\n",
       "<p>29666 rows × 1 columns</p>\n",
       "</div>"
      ],
      "text/plain": [
       "                                     0\n",
       "2021-01-01 00:00:00+00:00  1412.999666\n",
       "2021-01-01 00:01:00+00:00  1412.999686\n",
       "2021-01-01 00:02:00+00:00  1412.999706\n",
       "2021-01-01 00:03:00+00:00  1412.999726\n",
       "2021-01-01 00:04:00+00:00  1412.999746\n",
       "...                                ...\n",
       "2021-01-21 14:21:00+00:00  1410.581281\n",
       "2021-01-21 14:22:00+00:00  1410.581111\n",
       "2021-01-21 14:23:00+00:00  1410.580942\n",
       "2021-01-21 14:24:00+00:00  1410.580773\n",
       "2021-01-21 14:25:00+00:00  1410.580603\n",
       "\n",
       "[29666 rows x 1 columns]"
      ]
     },
     "execution_count": 28,
     "metadata": {},
     "output_type": "execute_result"
    }
   ],
   "source": [
    "etn"
   ]
  },
  {
   "cell_type": "code",
   "execution_count": 9,
   "id": "0a4d4148",
   "metadata": {},
   "outputs": [],
   "source": [
    "location = pvlib.location.Location(-27.430891, -48.441406, tz = 'Etc/GMT', altitude= 2.74, name = 'Florianopolis')  # check for daylight savings 'Etc/GMT-3' 'Brazil/East' 'America/Sao_Paulo'\n"
   ]
  },
  {
   "cell_type": "code",
   "execution_count": 10,
   "id": "a72f6c18",
   "metadata": {},
   "outputs": [],
   "source": [
    "solpos   = pd.read_pickle(BSRN_path + year + 'solpos.pkl')"
   ]
  },
  {
   "cell_type": "code",
   "execution_count": 29,
   "id": "4395fb30",
   "metadata": {},
   "outputs": [
    {
     "data": {
      "text/html": [
       "<div>\n",
       "<style scoped>\n",
       "    .dataframe tbody tr th:only-of-type {\n",
       "        vertical-align: middle;\n",
       "    }\n",
       "\n",
       "    .dataframe tbody tr th {\n",
       "        vertical-align: top;\n",
       "    }\n",
       "\n",
       "    .dataframe thead th {\n",
       "        text-align: right;\n",
       "    }\n",
       "</style>\n",
       "<table border=\"1\" class=\"dataframe\">\n",
       "  <thead>\n",
       "    <tr style=\"text-align: right;\">\n",
       "      <th></th>\n",
       "      <th>apparent_zenith</th>\n",
       "      <th>zenith</th>\n",
       "      <th>apparent_elevation</th>\n",
       "      <th>elevation</th>\n",
       "      <th>azimuth</th>\n",
       "      <th>equation_of_time</th>\n",
       "    </tr>\n",
       "  </thead>\n",
       "  <tbody>\n",
       "    <tr>\n",
       "      <th>2021-01-01 00:00:00+00:00</th>\n",
       "      <td>110.659616</td>\n",
       "      <td>110.659616</td>\n",
       "      <td>-20.659616</td>\n",
       "      <td>-20.659616</td>\n",
       "      <td>228.229741</td>\n",
       "      <td>-3.431294</td>\n",
       "    </tr>\n",
       "    <tr>\n",
       "      <th>2021-01-01 00:01:00+00:00</th>\n",
       "      <td>110.824871</td>\n",
       "      <td>110.824871</td>\n",
       "      <td>-20.824871</td>\n",
       "      <td>-20.824871</td>\n",
       "      <td>228.058606</td>\n",
       "      <td>-3.431621</td>\n",
       "    </tr>\n",
       "    <tr>\n",
       "      <th>2021-01-01 00:02:00+00:00</th>\n",
       "      <td>110.989681</td>\n",
       "      <td>110.989681</td>\n",
       "      <td>-20.989681</td>\n",
       "      <td>-20.989681</td>\n",
       "      <td>227.886795</td>\n",
       "      <td>-3.431948</td>\n",
       "    </tr>\n",
       "    <tr>\n",
       "      <th>2021-01-01 00:03:00+00:00</th>\n",
       "      <td>111.154045</td>\n",
       "      <td>111.154045</td>\n",
       "      <td>-21.154045</td>\n",
       "      <td>-21.154045</td>\n",
       "      <td>227.714303</td>\n",
       "      <td>-3.432275</td>\n",
       "    </tr>\n",
       "    <tr>\n",
       "      <th>2021-01-01 00:04:00+00:00</th>\n",
       "      <td>111.317958</td>\n",
       "      <td>111.317958</td>\n",
       "      <td>-21.317958</td>\n",
       "      <td>-21.317958</td>\n",
       "      <td>227.541129</td>\n",
       "      <td>-3.432601</td>\n",
       "    </tr>\n",
       "    <tr>\n",
       "      <th>...</th>\n",
       "      <td>...</td>\n",
       "      <td>...</td>\n",
       "      <td>...</td>\n",
       "      <td>...</td>\n",
       "      <td>...</td>\n",
       "      <td>...</td>\n",
       "    </tr>\n",
       "    <tr>\n",
       "      <th>2021-01-21 14:21:00+00:00</th>\n",
       "      <td>16.552319</td>\n",
       "      <td>16.557092</td>\n",
       "      <td>73.447681</td>\n",
       "      <td>73.442908</td>\n",
       "      <td>65.863675</td>\n",
       "      <td>-11.394931</td>\n",
       "    </tr>\n",
       "    <tr>\n",
       "      <th>2021-01-21 14:22:00+00:00</th>\n",
       "      <td>16.350336</td>\n",
       "      <td>16.355047</td>\n",
       "      <td>73.649664</td>\n",
       "      <td>73.644953</td>\n",
       "      <td>65.438376</td>\n",
       "      <td>-11.395121</td>\n",
       "    </tr>\n",
       "    <tr>\n",
       "      <th>2021-01-21 14:23:00+00:00</th>\n",
       "      <td>16.149045</td>\n",
       "      <td>16.153695</td>\n",
       "      <td>73.850955</td>\n",
       "      <td>73.846305</td>\n",
       "      <td>65.003818</td>\n",
       "      <td>-11.395311</td>\n",
       "    </tr>\n",
       "    <tr>\n",
       "      <th>2021-01-21 14:24:00+00:00</th>\n",
       "      <td>15.948474</td>\n",
       "      <td>15.953062</td>\n",
       "      <td>74.051526</td>\n",
       "      <td>74.046938</td>\n",
       "      <td>64.559685</td>\n",
       "      <td>-11.395502</td>\n",
       "    </tr>\n",
       "    <tr>\n",
       "      <th>2021-01-21 14:25:00+00:00</th>\n",
       "      <td>15.748650</td>\n",
       "      <td>15.753178</td>\n",
       "      <td>74.251350</td>\n",
       "      <td>74.246822</td>\n",
       "      <td>64.105643</td>\n",
       "      <td>-11.395692</td>\n",
       "    </tr>\n",
       "  </tbody>\n",
       "</table>\n",
       "<p>29666 rows × 6 columns</p>\n",
       "</div>"
      ],
      "text/plain": [
       "                           apparent_zenith      zenith  apparent_elevation  \\\n",
       "2021-01-01 00:00:00+00:00       110.659616  110.659616          -20.659616   \n",
       "2021-01-01 00:01:00+00:00       110.824871  110.824871          -20.824871   \n",
       "2021-01-01 00:02:00+00:00       110.989681  110.989681          -20.989681   \n",
       "2021-01-01 00:03:00+00:00       111.154045  111.154045          -21.154045   \n",
       "2021-01-01 00:04:00+00:00       111.317958  111.317958          -21.317958   \n",
       "...                                    ...         ...                 ...   \n",
       "2021-01-21 14:21:00+00:00        16.552319   16.557092           73.447681   \n",
       "2021-01-21 14:22:00+00:00        16.350336   16.355047           73.649664   \n",
       "2021-01-21 14:23:00+00:00        16.149045   16.153695           73.850955   \n",
       "2021-01-21 14:24:00+00:00        15.948474   15.953062           74.051526   \n",
       "2021-01-21 14:25:00+00:00        15.748650   15.753178           74.251350   \n",
       "\n",
       "                           elevation     azimuth  equation_of_time  \n",
       "2021-01-01 00:00:00+00:00 -20.659616  228.229741         -3.431294  \n",
       "2021-01-01 00:01:00+00:00 -20.824871  228.058606         -3.431621  \n",
       "2021-01-01 00:02:00+00:00 -20.989681  227.886795         -3.431948  \n",
       "2021-01-01 00:03:00+00:00 -21.154045  227.714303         -3.432275  \n",
       "2021-01-01 00:04:00+00:00 -21.317958  227.541129         -3.432601  \n",
       "...                              ...         ...               ...  \n",
       "2021-01-21 14:21:00+00:00  73.442908   65.863675        -11.394931  \n",
       "2021-01-21 14:22:00+00:00  73.644953   65.438376        -11.395121  \n",
       "2021-01-21 14:23:00+00:00  73.846305   65.003818        -11.395311  \n",
       "2021-01-21 14:24:00+00:00  74.046938   64.559685        -11.395502  \n",
       "2021-01-21 14:25:00+00:00  74.246822   64.105643        -11.395692  \n",
       "\n",
       "[29666 rows x 6 columns]"
      ]
     },
     "execution_count": 29,
     "metadata": {},
     "output_type": "execute_result"
    }
   ],
   "source": [
    "solpos"
   ]
  },
  {
   "cell_type": "code",
   "execution_count": 14,
   "id": "fe29bf16",
   "metadata": {},
   "outputs": [],
   "source": [
    "cosSZA = np.cos(np.deg2rad(solpos.zenith)).to_frame()\n"
   ]
  },
  {
   "cell_type": "code",
   "execution_count": 15,
   "id": "27d22436",
   "metadata": {},
   "outputs": [
    {
     "data": {
      "text/html": [
       "<div>\n",
       "<style scoped>\n",
       "    .dataframe tbody tr th:only-of-type {\n",
       "        vertical-align: middle;\n",
       "    }\n",
       "\n",
       "    .dataframe tbody tr th {\n",
       "        vertical-align: top;\n",
       "    }\n",
       "\n",
       "    .dataframe thead th {\n",
       "        text-align: right;\n",
       "    }\n",
       "</style>\n",
       "<table border=\"1\" class=\"dataframe\">\n",
       "  <thead>\n",
       "    <tr style=\"text-align: right;\">\n",
       "      <th></th>\n",
       "      <th>zenith</th>\n",
       "    </tr>\n",
       "  </thead>\n",
       "  <tbody>\n",
       "    <tr>\n",
       "      <th>2021-01-01 00:00:00+00:00</th>\n",
       "      <td>-0.352815</td>\n",
       "    </tr>\n",
       "    <tr>\n",
       "      <th>2021-01-01 00:01:00+00:00</th>\n",
       "      <td>-0.355513</td>\n",
       "    </tr>\n",
       "    <tr>\n",
       "      <th>2021-01-01 00:02:00+00:00</th>\n",
       "      <td>-0.358200</td>\n",
       "    </tr>\n",
       "    <tr>\n",
       "      <th>2021-01-01 00:03:00+00:00</th>\n",
       "      <td>-0.360877</td>\n",
       "    </tr>\n",
       "    <tr>\n",
       "      <th>2021-01-01 00:04:00+00:00</th>\n",
       "      <td>-0.363543</td>\n",
       "    </tr>\n",
       "    <tr>\n",
       "      <th>...</th>\n",
       "      <td>...</td>\n",
       "    </tr>\n",
       "    <tr>\n",
       "      <th>2021-01-21 14:21:00+00:00</th>\n",
       "      <td>0.958536</td>\n",
       "    </tr>\n",
       "    <tr>\n",
       "      <th>2021-01-21 14:22:00+00:00</th>\n",
       "      <td>0.959535</td>\n",
       "    </tr>\n",
       "    <tr>\n",
       "      <th>2021-01-21 14:23:00+00:00</th>\n",
       "      <td>0.960519</td>\n",
       "    </tr>\n",
       "    <tr>\n",
       "      <th>2021-01-21 14:24:00+00:00</th>\n",
       "      <td>0.961487</td>\n",
       "    </tr>\n",
       "    <tr>\n",
       "      <th>2021-01-21 14:25:00+00:00</th>\n",
       "      <td>0.962440</td>\n",
       "    </tr>\n",
       "  </tbody>\n",
       "</table>\n",
       "<p>29666 rows × 1 columns</p>\n",
       "</div>"
      ],
      "text/plain": [
       "                             zenith\n",
       "2021-01-01 00:00:00+00:00 -0.352815\n",
       "2021-01-01 00:01:00+00:00 -0.355513\n",
       "2021-01-01 00:02:00+00:00 -0.358200\n",
       "2021-01-01 00:03:00+00:00 -0.360877\n",
       "2021-01-01 00:04:00+00:00 -0.363543\n",
       "...                             ...\n",
       "2021-01-21 14:21:00+00:00  0.958536\n",
       "2021-01-21 14:22:00+00:00  0.959535\n",
       "2021-01-21 14:23:00+00:00  0.960519\n",
       "2021-01-21 14:24:00+00:00  0.961487\n",
       "2021-01-21 14:25:00+00:00  0.962440\n",
       "\n",
       "[29666 rows x 1 columns]"
      ]
     },
     "execution_count": 15,
     "metadata": {},
     "output_type": "execute_result"
    }
   ],
   "source": [
    "cosSZA"
   ]
  },
  {
   "cell_type": "code",
   "execution_count": 25,
   "id": "ff02cffc",
   "metadata": {},
   "outputs": [],
   "source": []
  },
  {
   "cell_type": "code",
   "execution_count": 30,
   "id": "4e53a31f",
   "metadata": {},
   "outputs": [
    {
     "data": {
      "text/html": [
       "<div>\n",
       "<style scoped>\n",
       "    .dataframe tbody tr th:only-of-type {\n",
       "        vertical-align: middle;\n",
       "    }\n",
       "\n",
       "    .dataframe tbody tr th {\n",
       "        vertical-align: top;\n",
       "    }\n",
       "\n",
       "    .dataframe thead th {\n",
       "        text-align: right;\n",
       "    }\n",
       "</style>\n",
       "<table border=\"1\" class=\"dataframe\">\n",
       "  <thead>\n",
       "    <tr style=\"text-align: right;\">\n",
       "      <th></th>\n",
       "      <th>0</th>\n",
       "    </tr>\n",
       "  </thead>\n",
       "  <tbody>\n",
       "    <tr>\n",
       "      <th>2021-01-01 00:00:00+00:00</th>\n",
       "      <td>1412.999666</td>\n",
       "    </tr>\n",
       "    <tr>\n",
       "      <th>2021-01-01 00:01:00+00:00</th>\n",
       "      <td>1412.999686</td>\n",
       "    </tr>\n",
       "    <tr>\n",
       "      <th>2021-01-01 00:02:00+00:00</th>\n",
       "      <td>1412.999706</td>\n",
       "    </tr>\n",
       "    <tr>\n",
       "      <th>2021-01-01 00:03:00+00:00</th>\n",
       "      <td>1412.999726</td>\n",
       "    </tr>\n",
       "    <tr>\n",
       "      <th>2021-01-01 00:04:00+00:00</th>\n",
       "      <td>1412.999746</td>\n",
       "    </tr>\n",
       "    <tr>\n",
       "      <th>...</th>\n",
       "      <td>...</td>\n",
       "    </tr>\n",
       "    <tr>\n",
       "      <th>2021-01-21 14:21:00+00:00</th>\n",
       "      <td>1410.581281</td>\n",
       "    </tr>\n",
       "    <tr>\n",
       "      <th>2021-01-21 14:22:00+00:00</th>\n",
       "      <td>1410.581111</td>\n",
       "    </tr>\n",
       "    <tr>\n",
       "      <th>2021-01-21 14:23:00+00:00</th>\n",
       "      <td>1410.580942</td>\n",
       "    </tr>\n",
       "    <tr>\n",
       "      <th>2021-01-21 14:24:00+00:00</th>\n",
       "      <td>1410.580773</td>\n",
       "    </tr>\n",
       "    <tr>\n",
       "      <th>2021-01-21 14:25:00+00:00</th>\n",
       "      <td>1410.580603</td>\n",
       "    </tr>\n",
       "  </tbody>\n",
       "</table>\n",
       "<p>29666 rows × 1 columns</p>\n",
       "</div>"
      ],
      "text/plain": [
       "                                     0\n",
       "2021-01-01 00:00:00+00:00  1412.999666\n",
       "2021-01-01 00:01:00+00:00  1412.999686\n",
       "2021-01-01 00:02:00+00:00  1412.999706\n",
       "2021-01-01 00:03:00+00:00  1412.999726\n",
       "2021-01-01 00:04:00+00:00  1412.999746\n",
       "...                                ...\n",
       "2021-01-21 14:21:00+00:00  1410.581281\n",
       "2021-01-21 14:22:00+00:00  1410.581111\n",
       "2021-01-21 14:23:00+00:00  1410.580942\n",
       "2021-01-21 14:24:00+00:00  1410.580773\n",
       "2021-01-21 14:25:00+00:00  1410.580603\n",
       "\n",
       "[29666 rows x 1 columns]"
      ]
     },
     "execution_count": 30,
     "metadata": {},
     "output_type": "execute_result"
    }
   ],
   "source": [
    "etn"
   ]
  },
  {
   "cell_type": "code",
   "execution_count": 37,
   "id": "d021afb6",
   "metadata": {},
   "outputs": [],
   "source": [
    "eth = pd.DataFrame(columns = ['eth'])\n"
   ]
  },
  {
   "cell_type": "code",
   "execution_count": null,
   "id": "4c6ff577",
   "metadata": {},
   "outputs": [],
   "source": []
  },
  {
   "cell_type": "code",
   "execution_count": 38,
   "id": "fcfaa4ac",
   "metadata": {},
   "outputs": [],
   "source": [
    "eth['eth'] = etn[0]*cosSZA.zenith"
   ]
  },
  {
   "cell_type": "code",
   "execution_count": 39,
   "id": "7b994d74",
   "metadata": {},
   "outputs": [
    {
     "data": {
      "text/html": [
       "<div>\n",
       "<style scoped>\n",
       "    .dataframe tbody tr th:only-of-type {\n",
       "        vertical-align: middle;\n",
       "    }\n",
       "\n",
       "    .dataframe tbody tr th {\n",
       "        vertical-align: top;\n",
       "    }\n",
       "\n",
       "    .dataframe thead th {\n",
       "        text-align: right;\n",
       "    }\n",
       "</style>\n",
       "<table border=\"1\" class=\"dataframe\">\n",
       "  <thead>\n",
       "    <tr style=\"text-align: right;\">\n",
       "      <th></th>\n",
       "      <th>eth</th>\n",
       "    </tr>\n",
       "  </thead>\n",
       "  <tbody>\n",
       "    <tr>\n",
       "      <th>2021-01-01 00:00:00+00:00</th>\n",
       "      <td>-498.528086</td>\n",
       "    </tr>\n",
       "    <tr>\n",
       "      <th>2021-01-01 00:01:00+00:00</th>\n",
       "      <td>-502.339351</td>\n",
       "    </tr>\n",
       "    <tr>\n",
       "      <th>2021-01-01 00:02:00+00:00</th>\n",
       "      <td>-506.136223</td>\n",
       "    </tr>\n",
       "    <tr>\n",
       "      <th>2021-01-01 00:03:00+00:00</th>\n",
       "      <td>-509.918630</td>\n",
       "    </tr>\n",
       "    <tr>\n",
       "      <th>2021-01-01 00:04:00+00:00</th>\n",
       "      <td>-513.686501</td>\n",
       "    </tr>\n",
       "    <tr>\n",
       "      <th>...</th>\n",
       "      <td>...</td>\n",
       "    </tr>\n",
       "    <tr>\n",
       "      <th>2021-01-21 14:21:00+00:00</th>\n",
       "      <td>1352.093296</td>\n",
       "    </tr>\n",
       "    <tr>\n",
       "      <th>2021-01-21 14:22:00+00:00</th>\n",
       "      <td>1353.502226</td>\n",
       "    </tr>\n",
       "    <tr>\n",
       "      <th>2021-01-21 14:23:00+00:00</th>\n",
       "      <td>1354.889579</td>\n",
       "    </tr>\n",
       "    <tr>\n",
       "      <th>2021-01-21 14:24:00+00:00</th>\n",
       "      <td>1356.255330</td>\n",
       "    </tr>\n",
       "    <tr>\n",
       "      <th>2021-01-21 14:25:00+00:00</th>\n",
       "      <td>1357.599452</td>\n",
       "    </tr>\n",
       "  </tbody>\n",
       "</table>\n",
       "<p>29666 rows × 1 columns</p>\n",
       "</div>"
      ],
      "text/plain": [
       "                                   eth\n",
       "2021-01-01 00:00:00+00:00  -498.528086\n",
       "2021-01-01 00:01:00+00:00  -502.339351\n",
       "2021-01-01 00:02:00+00:00  -506.136223\n",
       "2021-01-01 00:03:00+00:00  -509.918630\n",
       "2021-01-01 00:04:00+00:00  -513.686501\n",
       "...                                ...\n",
       "2021-01-21 14:21:00+00:00  1352.093296\n",
       "2021-01-21 14:22:00+00:00  1353.502226\n",
       "2021-01-21 14:23:00+00:00  1354.889579\n",
       "2021-01-21 14:24:00+00:00  1356.255330\n",
       "2021-01-21 14:25:00+00:00  1357.599452\n",
       "\n",
       "[29666 rows x 1 columns]"
      ]
     },
     "execution_count": 39,
     "metadata": {},
     "output_type": "execute_result"
    }
   ],
   "source": [
    "eth"
   ]
  },
  {
   "cell_type": "code",
   "execution_count": 34,
   "id": "55ab3dd7",
   "metadata": {},
   "outputs": [
    {
     "data": {
      "text/plain": [
       "[]"
      ]
     },
     "execution_count": 34,
     "metadata": {},
     "output_type": "execute_result"
    }
   ],
   "source": [
    "eth"
   ]
  },
  {
   "cell_type": "code",
   "execution_count": null,
   "id": "ace5ac6c",
   "metadata": {},
   "outputs": [],
   "source": []
  },
  {
   "cell_type": "code",
   "execution_count": 18,
   "id": "099ae92c",
   "metadata": {},
   "outputs": [
    {
     "data": {
      "text/plain": [
       "<AxesSubplot:>"
      ]
     },
     "execution_count": 18,
     "metadata": {},
     "output_type": "execute_result"
    },
    {
     "data": {
      "image/png": "[encoded data removed]",
      "text/plain": [
       "<Figure size 432x288 with 1 Axes>"
      ]
     },
     "metadata": {
      "needs_background": "light"
     },
     "output_type": "display_data"
    }
   ],
   "source": [
    "eth.plot()"
   ]
  },
  {
   "cell_type": "code",
   "execution_count": 19,
   "id": "8848a224",
   "metadata": {},
   "outputs": [
    {
     "data": {
      "text/plain": [
       "<AxesSubplot:>"
      ]
     },
     "execution_count": 19,
     "metadata": {},
     "output_type": "execute_result"
    },
    {
     "data": {
      "image/png": "[encoded data removed]",
      "text/plain": [
       "<Figure size 432x288 with 1 Axes>"
      ]
     },
     "metadata": {
      "needs_background": "light"
     },
     "output_type": "display_data"
    }
   ],
   "source": [
    "etn.plot()"
   ]
  },
  {
   "cell_type": "code",
   "execution_count": 46,
   "id": "83fa73ff",
   "metadata": {},
   "outputs": [],
   "source": [
    "year = years[2]"
   ]
  },
  {
   "cell_type": "code",
   "execution_count": 47,
   "id": "79f6135f",
   "metadata": {},
   "outputs": [
    {
     "data": {
      "text/plain": [
       "'2020'"
      ]
     },
     "execution_count": 47,
     "metadata": {},
     "output_type": "execute_result"
    }
   ],
   "source": [
    "year"
   ]
  },
  {
   "cell_type": "code",
   "execution_count": 48,
   "id": "86f64301",
   "metadata": {
    "scrolled": true
   },
   "outputs": [
    {
     "ename": "ValueError",
     "evalue": "Unable to coerce to Series, length must be 527040: given 29666",
     "output_type": "error",
     "traceback": [
      "\u001b[0;31m---------------------------------------------------------------------------\u001b[0m",
      "\u001b[0;31mValueError\u001b[0m                                Traceback (most recent call last)",
      "\u001b[0;32m<ipython-input-48-42d6769af46b>\u001b[0m in \u001b[0;36m<module>\u001b[0;34m\u001b[0m\n\u001b[1;32m      1\u001b[0m \u001b[0mdfghi\u001b[0m \u001b[0;34m=\u001b[0m \u001b[0mpd\u001b[0m\u001b[0;34m.\u001b[0m\u001b[0mread_pickle\u001b[0m\u001b[0;34m(\u001b[0m\u001b[0mBSRN_path\u001b[0m \u001b[0;34m+\u001b[0m \u001b[0myear\u001b[0m \u001b[0;34m+\u001b[0m\u001b[0;34m'ghiFLAG.pkl'\u001b[0m\u001b[0;34m)\u001b[0m\u001b[0;34m\u001b[0m\u001b[0;34m\u001b[0m\u001b[0m\n\u001b[1;32m      2\u001b[0m \u001b[0mdfghi\u001b[0m\u001b[0;34m[\u001b[0m\u001b[0mkt\u001b[0m\u001b[0;34m]\u001b[0m \u001b[0;34m=\u001b[0m \u001b[0mdfghi\u001b[0m\u001b[0;34m[\u001b[0m\u001b[0msensors\u001b[0m\u001b[0;34m]\u001b[0m\u001b[0;34m\u001b[0m\u001b[0;34m\u001b[0m\u001b[0m\n\u001b[0;32m----> 3\u001b[0;31m \u001b[0mdfghi\u001b[0m\u001b[0;34m[\u001b[0m\u001b[0mkt\u001b[0m\u001b[0;34m]\u001b[0m \u001b[0;34m=\u001b[0m \u001b[0mdfghi\u001b[0m\u001b[0;34m[\u001b[0m\u001b[0mkt\u001b[0m\u001b[0;34m]\u001b[0m\u001b[0;34m.\u001b[0m\u001b[0mdiv\u001b[0m\u001b[0;34m(\u001b[0m\u001b[0meth\u001b[0m\u001b[0;34m.\u001b[0m\u001b[0meth\u001b[0m\u001b[0;34m.\u001b[0m\u001b[0mvalues\u001b[0m\u001b[0;34m,\u001b[0m \u001b[0maxis\u001b[0m\u001b[0;34m=\u001b[0m\u001b[0;36m0\u001b[0m\u001b[0;34m)\u001b[0m\u001b[0;34m\u001b[0m\u001b[0;34m\u001b[0m\u001b[0m\n\u001b[0m\u001b[1;32m      4\u001b[0m \u001b[0;34m\u001b[0m\u001b[0m\n\u001b[1;32m      5\u001b[0m \u001b[0;32mfor\u001b[0m \u001b[0msensor\u001b[0m \u001b[0;32min\u001b[0m \u001b[0msensors\u001b[0m\u001b[0;34m:\u001b[0m\u001b[0;34m\u001b[0m\u001b[0;34m\u001b[0m\u001b[0m\n",
      "\u001b[0;32m~/opt/anaconda3/lib/python3.8/site-packages/pandas/core/ops/__init__.py\u001b[0m in \u001b[0;36mf\u001b[0;34m(self, other, axis, level, fill_value)\u001b[0m\n\u001b[1;32m    413\u001b[0m         \u001b[0maxis\u001b[0m \u001b[0;34m=\u001b[0m \u001b[0mself\u001b[0m\u001b[0;34m.\u001b[0m\u001b[0m_get_axis_number\u001b[0m\u001b[0;34m(\u001b[0m\u001b[0maxis\u001b[0m\u001b[0;34m)\u001b[0m \u001b[0;32mif\u001b[0m \u001b[0maxis\u001b[0m \u001b[0;32mis\u001b[0m \u001b[0;32mnot\u001b[0m \u001b[0;32mNone\u001b[0m \u001b[0;32melse\u001b[0m \u001b[0;36m1\u001b[0m\u001b[0;34m\u001b[0m\u001b[0;34m\u001b[0m\u001b[0m\n\u001b[1;32m    414\u001b[0m \u001b[0;34m\u001b[0m\u001b[0m\n\u001b[0;32m--> 415\u001b[0;31m         \u001b[0mself\u001b[0m\u001b[0;34m,\u001b[0m \u001b[0mother\u001b[0m \u001b[0;34m=\u001b[0m \u001b[0malign_method_FRAME\u001b[0m\u001b[0;34m(\u001b[0m\u001b[0mself\u001b[0m\u001b[0;34m,\u001b[0m \u001b[0mother\u001b[0m\u001b[0;34m,\u001b[0m \u001b[0maxis\u001b[0m\u001b[0;34m,\u001b[0m \u001b[0mflex\u001b[0m\u001b[0;34m=\u001b[0m\u001b[0;32mTrue\u001b[0m\u001b[0;34m,\u001b[0m \u001b[0mlevel\u001b[0m\u001b[0;34m=\u001b[0m\u001b[0mlevel\u001b[0m\u001b[0;34m)\u001b[0m\u001b[0;34m\u001b[0m\u001b[0;34m\u001b[0m\u001b[0m\n\u001b[0m\u001b[1;32m    416\u001b[0m \u001b[0;34m\u001b[0m\u001b[0m\n\u001b[1;32m    417\u001b[0m         \u001b[0;32mif\u001b[0m \u001b[0misinstance\u001b[0m\u001b[0;34m(\u001b[0m\u001b[0mother\u001b[0m\u001b[0;34m,\u001b[0m \u001b[0mABCDataFrame\u001b[0m\u001b[0;34m)\u001b[0m\u001b[0;34m:\u001b[0m\u001b[0;34m\u001b[0m\u001b[0;34m\u001b[0m\u001b[0m\n",
      "\u001b[0;32m~/opt/anaconda3/lib/python3.8/site-packages/pandas/core/ops/__init__.py\u001b[0m in \u001b[0;36malign_method_FRAME\u001b[0;34m(left, right, axis, flex, level)\u001b[0m\n\u001b[1;32m    226\u001b[0m \u001b[0;34m\u001b[0m\u001b[0m\n\u001b[1;32m    227\u001b[0m         \u001b[0;32mif\u001b[0m \u001b[0mright\u001b[0m\u001b[0;34m.\u001b[0m\u001b[0mndim\u001b[0m \u001b[0;34m==\u001b[0m \u001b[0;36m1\u001b[0m\u001b[0;34m:\u001b[0m\u001b[0;34m\u001b[0m\u001b[0;34m\u001b[0m\u001b[0m\n\u001b[0;32m--> 228\u001b[0;31m             \u001b[0mright\u001b[0m \u001b[0;34m=\u001b[0m \u001b[0mto_series\u001b[0m\u001b[0;34m(\u001b[0m\u001b[0mright\u001b[0m\u001b[0;34m)\u001b[0m\u001b[0;34m\u001b[0m\u001b[0;34m\u001b[0m\u001b[0m\n\u001b[0m\u001b[1;32m    229\u001b[0m \u001b[0;34m\u001b[0m\u001b[0m\n\u001b[1;32m    230\u001b[0m         \u001b[0;32melif\u001b[0m \u001b[0mright\u001b[0m\u001b[0;34m.\u001b[0m\u001b[0mndim\u001b[0m \u001b[0;34m==\u001b[0m \u001b[0;36m2\u001b[0m\u001b[0;34m:\u001b[0m\u001b[0;34m\u001b[0m\u001b[0;34m\u001b[0m\u001b[0m\n",
      "\u001b[0;32m~/opt/anaconda3/lib/python3.8/site-packages/pandas/core/ops/__init__.py\u001b[0m in \u001b[0;36mto_series\u001b[0;34m(right)\u001b[0m\n\u001b[1;32m    211\u001b[0m         \u001b[0;32mif\u001b[0m \u001b[0maxis\u001b[0m \u001b[0;32mis\u001b[0m \u001b[0;32mnot\u001b[0m \u001b[0;32mNone\u001b[0m \u001b[0;32mand\u001b[0m \u001b[0mleft\u001b[0m\u001b[0;34m.\u001b[0m\u001b[0m_get_axis_name\u001b[0m\u001b[0;34m(\u001b[0m\u001b[0maxis\u001b[0m\u001b[0;34m)\u001b[0m \u001b[0;34m==\u001b[0m \u001b[0;34m\"index\"\u001b[0m\u001b[0;34m:\u001b[0m\u001b[0;34m\u001b[0m\u001b[0;34m\u001b[0m\u001b[0m\n\u001b[1;32m    212\u001b[0m             \u001b[0;32mif\u001b[0m \u001b[0mlen\u001b[0m\u001b[0;34m(\u001b[0m\u001b[0mleft\u001b[0m\u001b[0;34m.\u001b[0m\u001b[0mindex\u001b[0m\u001b[0;34m)\u001b[0m \u001b[0;34m!=\u001b[0m \u001b[0mlen\u001b[0m\u001b[0;34m(\u001b[0m\u001b[0mright\u001b[0m\u001b[0;34m)\u001b[0m\u001b[0;34m:\u001b[0m\u001b[0;34m\u001b[0m\u001b[0;34m\u001b[0m\u001b[0m\n\u001b[0;32m--> 213\u001b[0;31m                 raise ValueError(\n\u001b[0m\u001b[1;32m    214\u001b[0m                     \u001b[0mmsg\u001b[0m\u001b[0;34m.\u001b[0m\u001b[0mformat\u001b[0m\u001b[0;34m(\u001b[0m\u001b[0mreq_len\u001b[0m\u001b[0;34m=\u001b[0m\u001b[0mlen\u001b[0m\u001b[0;34m(\u001b[0m\u001b[0mleft\u001b[0m\u001b[0;34m.\u001b[0m\u001b[0mindex\u001b[0m\u001b[0;34m)\u001b[0m\u001b[0;34m,\u001b[0m \u001b[0mgiven_len\u001b[0m\u001b[0;34m=\u001b[0m\u001b[0mlen\u001b[0m\u001b[0;34m(\u001b[0m\u001b[0mright\u001b[0m\u001b[0;34m)\u001b[0m\u001b[0;34m)\u001b[0m\u001b[0;34m\u001b[0m\u001b[0;34m\u001b[0m\u001b[0m\n\u001b[1;32m    215\u001b[0m                 )\n",
      "\u001b[0;31mValueError\u001b[0m: Unable to coerce to Series, length must be 527040: given 29666"
     ]
    }
   ],
   "source": [
    "    dfghi = pd.read_pickle(BSRN_path + year +'ghiFLAG.pkl')\n",
    "    dfghi[kt] = dfghi[sensors]\n",
    "    dfghi[kt] = dfghi[kt].div(eth.eth.values, axis=0)\n",
    "\n",
    "    for sensor in sensors:\n",
    "       print(sensor)\n",
    "       dfGHI = pd.DataFrame(columns = ['ghi', 'flag', 'kt','delta', 'isstart', 'isend'])\n",
    "       oie = pd.DataFrame(columns = ['ghi', 'flag', 'kt','delta', 'isstart', 'isend'])\n",
    "\n",
    "       dfGHI['ghi']  = dfghi[sensor]\n",
    "       dfGHI['flag'] = dfghi['F_'+ sensor]\n",
    "       dfGHI['kt']   = dfghi['kt_'+ sensor]\n",
    "       #dfGHI   = dfGHI[(dfGHI.flag == 2) | (dfGHI.flag == 0)]\n",
    "       dfGHI   = dfGHI[(dfGHI.flag == 0)]\n",
    "\n",
    "       oie  = dfGHI[(dfGHI['kt']>1) & (dfGHI['kt']<2) ]   \n",
    "       \n",
    "       dfstat = oie.describe()\n",
    "       dfstat.to_csv(BSRN_path + year + sensor + '_statsC1min.csv')\n",
    "\n",
    "       print(dfstat)\n",
    "       ghihist = oie.ghi.hist()\n",
    "       gfigname = figs_path + year + 'GHI_OIEmin_'+ sensor +'.jpeg'\n",
    "       fig = ghihist.get_figure()\n",
    "       fig.savefig(gfigname)\n",
    "       fig.clf()\n",
    "       khist  = oie.kt.hist()\n",
    "       kfigname = figs_path + year + 'Kt_OIEmin_' + sensor + '.jpeg'\n",
    "       fig = khist.get_figure()\n",
    "       fig.savefig(kfigname)\n",
    "       fig.clf()\n",
    "\n",
    "       \n",
    "       oie.loc[:,'delta'] = oie.index.to_series().diff()/np.timedelta64(1,\"m\")  #FOR SECONDS MUST CHANGE HERE\n",
    "       oie.iloc[0,3] = 1.1\n",
    "       oie.loc[:,'isstart'] = (oie.delta > 1 )\n",
    "       oie.loc[:,'isend'] = oie.isstart.shift(-1)\n",
    "       oie.iloc[-1,5] = True\n",
    "\n",
    "       \n",
    "       # Table with all OIE - Criteria 1\n",
    "       \n",
    "       eventsC1 = pd.DataFrame(columns = ['start', 'end', 'duration', 'ibe', 'min', 'max', 'avg'])     ### WILL NEED KT  TOO IN THIS SUMMARY!!!\n",
    "       eventsC1['start']    = oie.loc[oie.isstart == True].index\n",
    "       eventsC1['end']      = oie.loc[oie.isend == True].index\n",
    "       eventsC1['duration'] = eventsC1.end  - eventsC1.start\n",
    "       eventsC1['ibe']      = eventsC1.start - eventsC1.start.shift(+1)\n",
    "       df1 = eventsC1.loc[:,'start': 'end']\n",
    "       df2 = pd.DataFrame(columns = ['ghi'])\n",
    "       df2['ghi']  = oie['ghi']\n",
    "       df1['list'] = df1.apply(lambda x : pd.date_range(start =x['start'],end=x['end'],freq='min').tolist(),axis=1)  ###  FOR SECONDS MUST CHANGE HERE\n",
    "       df1 = df1['list'].apply(pd.Series).stack().to_frame().rename(columns={0:'Date'})\n",
    "       df1['value'] = df1.Date.map(df2.ghi)\n",
    "       avg = df1.groupby(level=0).mean()\n",
    "       min = df1.groupby(level=0).min()\n",
    "       max = df1.groupby(level=0).max()\n",
    "       eventsC1['avg'] = avg['value']\n",
    "       eventsC1['min'] = min['value']\n",
    "       eventsC1['max'] = max['value']\n",
    "       eventsC1.to_csv(BSRN_path + year + sensor + '_OIEC1min2.csv')\n",
    "\n",
    "       eventsC1 = {}\n",
    "       df1 = {}\n",
    "       df2 = {}\n",
    "       \n",
    "       "
   ]
  },
  {
   "cell_type": "code",
   "execution_count": null,
   "id": "ca9d5aa8",
   "metadata": {},
   "outputs": [],
   "source": []
  },
  {
   "cell_type": "code",
   "execution_count": 55,
   "id": "8f8a165b",
   "metadata": {},
   "outputs": [],
   "source": [
    "sensor = sensors[1]"
   ]
  },
  {
   "cell_type": "code",
   "execution_count": 56,
   "id": "9287a61b",
   "metadata": {},
   "outputs": [],
   "source": [
    "    dfghi = pd.read_pickle(BSRN_path + year +'ghiFLAG.pkl')\n",
    "    etn   = pd.read_pickle(BSRN_path + year + 'ETH.pkl')\n",
    "    solpos   = pd.read_pickle(BSRN_path + year + 'solpos.pkl')\n",
    "    cosSZA = np.cos(np.deg2rad(solpos.zenith)).to_frame()\n",
    "    \n",
    "    eth = pd.DataFrame(columns = ['eth'])\n",
    "    eth['eth'] = etn[0]*cosSZA.zenith\n",
    "    dfghi[kt] = dfghi[sensors]\n",
    "    dfghi[kt] = dfghi[kt].div(eth.eth.values, axis=0)\n",
    "   \n",
    "    dfGHI = pd.DataFrame(columns = ['ghi', 'flag', 'kt','delta', 'isstart', 'isend'])\n",
    "    oie = pd.DataFrame(columns = ['ghi', 'flag', 'kt','delta', 'isstart', 'isend'])\n",
    "\n",
    "    dfGHI['ghi']  = dfghi[sensor]\n",
    "    dfGHI['flag'] = dfghi['F_'+ sensor]\n",
    "    dfGHI['kt']   = dfghi['kt_'+ sensor]\n",
    "    dfGHI   = dfGHI[(dfGHI.flag == 2) | (dfGHI.flag == 0)]\n",
    "\n",
    "    oie  = dfGHI[dfGHI['kt']>1]   \n",
    "       \n",
    "    "
   ]
  },
  {
   "cell_type": "code",
   "execution_count": 61,
   "id": "c769f11e",
   "metadata": {},
   "outputs": [
    {
     "data": {
      "text/html": [
       "<div>\n",
       "<style scoped>\n",
       "    .dataframe tbody tr th:only-of-type {\n",
       "        vertical-align: middle;\n",
       "    }\n",
       "\n",
       "    .dataframe tbody tr th {\n",
       "        vertical-align: top;\n",
       "    }\n",
       "\n",
       "    .dataframe thead th {\n",
       "        text-align: right;\n",
       "    }\n",
       "</style>\n",
       "<table border=\"1\" class=\"dataframe\">\n",
       "  <thead>\n",
       "    <tr style=\"text-align: right;\">\n",
       "      <th></th>\n",
       "      <th>ghi</th>\n",
       "      <th>flag</th>\n",
       "      <th>kt</th>\n",
       "      <th>delta</th>\n",
       "      <th>isstart</th>\n",
       "      <th>isend</th>\n",
       "    </tr>\n",
       "  </thead>\n",
       "  <tbody>\n",
       "    <tr>\n",
       "      <th>2020-07-10 10:08:00+00:00</th>\n",
       "      <td>4.695</td>\n",
       "      <td>0</td>\n",
       "      <td>345.362084</td>\n",
       "      <td>NaN</td>\n",
       "      <td>NaN</td>\n",
       "      <td>NaN</td>\n",
       "    </tr>\n",
       "  </tbody>\n",
       "</table>\n",
       "</div>"
      ],
      "text/plain": [
       "                             ghi  flag          kt delta isstart isend\n",
       "2020-07-10 10:08:00+00:00  4.695     0  345.362084   NaN     NaN   NaN"
      ]
     },
     "execution_count": 61,
     "metadata": {},
     "output_type": "execute_result"
    }
   ],
   "source": [
    "oie[oie['kt']==oie['kt'].max()]"
   ]
  },
  {
   "cell_type": "code",
   "execution_count": 69,
   "id": "2ddb342a",
   "metadata": {},
   "outputs": [
    {
     "data": {
      "text/plain": [
       "2020-07-10 10:08:00+00:00    4.695000\n",
       "2020-07-10 10:09:00+00:00    5.073333\n",
       "2020-07-12 10:08:00+00:00    3.750000\n",
       "Name: ghi, dtype: float64"
      ]
     },
     "execution_count": 69,
     "metadata": {},
     "output_type": "execute_result"
    }
   ],
   "source": [
    "oie.loc['2020-07-10':'2020-07-']\n"
   ]
  },
  {
   "cell_type": "code",
   "execution_count": 72,
   "id": "f2de118b",
   "metadata": {},
   "outputs": [
    {
     "data": {
      "text/plain": [
       "<AxesSubplot:>"
      ]
     },
     "execution_count": 72,
     "metadata": {},
     "output_type": "execute_result"
    },
    {
     "data": {
      "image/png": "[encoded data removed]",
      "text/plain": [
       "<Figure size 432x288 with 1 Axes>"
      ]
     },
     "metadata": {
      "needs_background": "light"
     },
     "output_type": "display_data"
    }
   ],
   "source": [
    "dfGHI.ghi.loc['2020-07-10 10:05:00+00:00':'2020-07-10 10:10:00+00:00'].plot()"
   ]
  },
  {
   "cell_type": "code",
   "execution_count": 74,
   "id": "d80a02ee",
   "metadata": {},
   "outputs": [
    {
     "data": {
      "text/plain": [
       "<AxesSubplot:>"
      ]
     },
     "execution_count": 74,
     "metadata": {},
     "output_type": "execute_result"
    },
    {
     "data": {
      "image/png": "[encoded data removed]",
      "text/plain": [
       "<Figure size 432x288 with 1 Axes>"
      ]
     },
     "metadata": {
      "needs_background": "light"
     },
     "output_type": "display_data"
    }
   ],
   "source": [
    "eth.eth.loc['2020-07-10 10:08:00+00:00':'2020-07-10 10:10:00+00:00']"
   ]
  },
  {
   "cell_type": "code",
   "execution_count": 75,
   "id": "f88d683c",
   "metadata": {},
   "outputs": [
    {
     "data": {
      "text/plain": [
       "eth    0.013594\n",
       "Name: 2020-07-10 10:08:00+00:00, dtype: float64"
      ]
     },
     "execution_count": 75,
     "metadata": {},
     "output_type": "execute_result"
    }
   ],
   "source": [
    "eth.loc['2020-07-10 10:08:00+00:00']"
   ]
  },
  {
   "cell_type": "code",
   "execution_count": 76,
   "id": "87e58c66",
   "metadata": {},
   "outputs": [
    {
     "data": {
      "text/plain": [
       "ghi             4.695\n",
       "flag                0\n",
       "kt         345.362084\n",
       "delta             NaN\n",
       "isstart           NaN\n",
       "isend             NaN\n",
       "Name: 2020-07-10 10:08:00+00:00, dtype: object"
      ]
     },
     "execution_count": 76,
     "metadata": {},
     "output_type": "execute_result"
    }
   ],
   "source": [
    "dfGHI.loc['2020-07-10 10:08:00+00:00']"
   ]
  },
  {
   "cell_type": "code",
   "execution_count": 77,
   "id": "fa64da50",
   "metadata": {},
   "outputs": [],
   "source": [
    "sensor = sensors[2]"
   ]
  },
  {
   "cell_type": "code",
   "execution_count": 78,
   "id": "edb877ec",
   "metadata": {},
   "outputs": [
    {
     "data": {
      "text/plain": [
       "'GHIP_SMP22'"
      ]
     },
     "execution_count": 78,
     "metadata": {},
     "output_type": "execute_result"
    }
   ],
   "source": [
    "sensor"
   ]
  },
  {
   "cell_type": "code",
   "execution_count": 80,
   "id": "c7ffc1cc",
   "metadata": {},
   "outputs": [],
   "source": [
    "    dfGHI = pd.DataFrame(columns = ['ghi', 'flag', 'kt','delta', 'isstart', 'isend'])\n",
    "    oie = pd.DataFrame(columns = ['ghi', 'flag', 'kt','delta', 'isstart', 'isend'])\n",
    "\n",
    "    dfGHI['ghi']  = dfghi[sensor]\n",
    "    dfGHI['flag'] = dfghi['F_'+ sensor]\n",
    "    dfGHI['kt']   = dfghi['kt_'+ sensor]\n",
    "    dfGHI   = dfGHI[(dfGHI.flag == 2) | (dfGHI.flag == 0)]\n",
    "\n",
    "    oie  = dfGHI[dfGHI['kt']>1]   \n",
    "       "
   ]
  },
  {
   "cell_type": "code",
   "execution_count": 82,
   "id": "70da2e87",
   "metadata": {},
   "outputs": [
    {
     "data": {
      "text/html": [
       "<div>\n",
       "<style scoped>\n",
       "    .dataframe tbody tr th:only-of-type {\n",
       "        vertical-align: middle;\n",
       "    }\n",
       "\n",
       "    .dataframe tbody tr th {\n",
       "        vertical-align: top;\n",
       "    }\n",
       "\n",
       "    .dataframe thead th {\n",
       "        text-align: right;\n",
       "    }\n",
       "</style>\n",
       "<table border=\"1\" class=\"dataframe\">\n",
       "  <thead>\n",
       "    <tr style=\"text-align: right;\">\n",
       "      <th></th>\n",
       "      <th>ghi</th>\n",
       "      <th>flag</th>\n",
       "      <th>kt</th>\n",
       "      <th>delta</th>\n",
       "      <th>isstart</th>\n",
       "      <th>isend</th>\n",
       "    </tr>\n",
       "  </thead>\n",
       "  <tbody>\n",
       "    <tr>\n",
       "      <th>2020-07-04 20:28:00+00:00</th>\n",
       "      <td>7.20678</td>\n",
       "      <td>0</td>\n",
       "      <td>3357.426173</td>\n",
       "      <td>NaN</td>\n",
       "      <td>NaN</td>\n",
       "      <td>NaN</td>\n",
       "    </tr>\n",
       "  </tbody>\n",
       "</table>\n",
       "</div>"
      ],
      "text/plain": [
       "                               ghi  flag           kt delta isstart isend\n",
       "2020-07-04 20:28:00+00:00  7.20678     0  3357.426173   NaN     NaN   NaN"
      ]
     },
     "execution_count": 82,
     "metadata": {},
     "output_type": "execute_result"
    }
   ],
   "source": [
    "oie[oie['kt']==oie['kt'].max()]"
   ]
  },
  {
   "cell_type": "code",
   "execution_count": 83,
   "id": "ad847e80",
   "metadata": {},
   "outputs": [
    {
     "data": {
      "text/plain": [
       "ghi            7.20678\n",
       "flag                 0\n",
       "kt         3357.426173\n",
       "delta              NaN\n",
       "isstart            NaN\n",
       "isend              NaN\n",
       "Name: 2020-07-04 20:28:00+00:00, dtype: object"
      ]
     },
     "execution_count": 83,
     "metadata": {},
     "output_type": "execute_result"
    }
   ],
   "source": [
    "dfGHI.loc['2020-07-04 20:28:00+00:00']"
   ]
  },
  {
   "cell_type": "code",
   "execution_count": 84,
   "id": "ea77167b",
   "metadata": {},
   "outputs": [
    {
     "data": {
      "text/plain": [
       "eth    0.002147\n",
       "Name: 2020-07-04 20:28:00+00:00, dtype: float64"
      ]
     },
     "execution_count": 84,
     "metadata": {},
     "output_type": "execute_result"
    }
   ],
   "source": [
    "eth.loc['2020-07-04 20:28:00+00:00']"
   ]
  },
  {
   "cell_type": "code",
   "execution_count": 93,
   "id": "c359d8f1",
   "metadata": {},
   "outputs": [
    {
     "data": {
      "text/plain": [
       "<AxesSubplot:>"
      ]
     },
     "execution_count": 93,
     "metadata": {},
     "output_type": "execute_result"
    },
    {
     "data": {
      "image/png": "[encoded data removed]",
      "text/plain": [
       "<Figure size 432x288 with 1 Axes>"
      ]
     },
     "metadata": {
      "needs_background": "light"
     },
     "output_type": "display_data"
    }
   ],
   "source": [
    "dfGHI.ghi.loc['2020-08-04 18:00:00+00:00':'2020-08-04 21:00:00+00:00'].plot()\n",
    "eth.eth.loc['2020-08-04 18:00:00+00:00':'2020-08-04 21:00:00+00:00'].plot()"
   ]
  },
  {
   "cell_type": "code",
   "execution_count": 94,
   "id": "bfc64673",
   "metadata": {},
   "outputs": [
    {
     "data": {
      "text/html": [
       "<div>\n",
       "<style scoped>\n",
       "    .dataframe tbody tr th:only-of-type {\n",
       "        vertical-align: middle;\n",
       "    }\n",
       "\n",
       "    .dataframe tbody tr th {\n",
       "        vertical-align: top;\n",
       "    }\n",
       "\n",
       "    .dataframe thead th {\n",
       "        text-align: right;\n",
       "    }\n",
       "</style>\n",
       "<table border=\"1\" class=\"dataframe\">\n",
       "  <thead>\n",
       "    <tr style=\"text-align: right;\">\n",
       "      <th></th>\n",
       "      <th>ghi</th>\n",
       "      <th>flag</th>\n",
       "      <th>kt</th>\n",
       "      <th>delta</th>\n",
       "      <th>isstart</th>\n",
       "      <th>isend</th>\n",
       "    </tr>\n",
       "  </thead>\n",
       "  <tbody>\n",
       "    <tr>\n",
       "      <th>2020-01-01 12:40:00+00:00</th>\n",
       "      <td>1264.583333</td>\n",
       "      <td>0</td>\n",
       "      <td>1.101550</td>\n",
       "      <td>NaN</td>\n",
       "      <td>NaN</td>\n",
       "      <td>NaN</td>\n",
       "    </tr>\n",
       "    <tr>\n",
       "      <th>2020-01-01 12:41:00+00:00</th>\n",
       "      <td>1218.783333</td>\n",
       "      <td>0</td>\n",
       "      <td>1.058723</td>\n",
       "      <td>NaN</td>\n",
       "      <td>NaN</td>\n",
       "      <td>NaN</td>\n",
       "    </tr>\n",
       "    <tr>\n",
       "      <th>2020-01-01 13:10:00+00:00</th>\n",
       "      <td>1238.616667</td>\n",
       "      <td>0</td>\n",
       "      <td>1.002353</td>\n",
       "      <td>NaN</td>\n",
       "      <td>NaN</td>\n",
       "      <td>NaN</td>\n",
       "    </tr>\n",
       "    <tr>\n",
       "      <th>2020-01-01 13:19:00+00:00</th>\n",
       "      <td>1278.383333</td>\n",
       "      <td>0</td>\n",
       "      <td>1.015549</td>\n",
       "      <td>NaN</td>\n",
       "      <td>NaN</td>\n",
       "      <td>NaN</td>\n",
       "    </tr>\n",
       "    <tr>\n",
       "      <th>2020-01-02 08:27:00+00:00</th>\n",
       "      <td>5.908333</td>\n",
       "      <td>0</td>\n",
       "      <td>4.324063</td>\n",
       "      <td>NaN</td>\n",
       "      <td>NaN</td>\n",
       "      <td>NaN</td>\n",
       "    </tr>\n",
       "    <tr>\n",
       "      <th>...</th>\n",
       "      <td>...</td>\n",
       "      <td>...</td>\n",
       "      <td>...</td>\n",
       "      <td>...</td>\n",
       "      <td>...</td>\n",
       "      <td>...</td>\n",
       "    </tr>\n",
       "    <tr>\n",
       "      <th>2020-12-31 08:27:00+00:00</th>\n",
       "      <td>14.191667</td>\n",
       "      <td>0</td>\n",
       "      <td>2.551299</td>\n",
       "      <td>NaN</td>\n",
       "      <td>NaN</td>\n",
       "      <td>NaN</td>\n",
       "    </tr>\n",
       "    <tr>\n",
       "      <th>2020-12-31 08:28:00+00:00</th>\n",
       "      <td>16.248333</td>\n",
       "      <td>0</td>\n",
       "      <td>1.550570</td>\n",
       "      <td>NaN</td>\n",
       "      <td>NaN</td>\n",
       "      <td>NaN</td>\n",
       "    </tr>\n",
       "    <tr>\n",
       "      <th>2020-12-31 08:29:00+00:00</th>\n",
       "      <td>18.913333</td>\n",
       "      <td>0</td>\n",
       "      <td>1.228138</td>\n",
       "      <td>NaN</td>\n",
       "      <td>NaN</td>\n",
       "      <td>NaN</td>\n",
       "    </tr>\n",
       "    <tr>\n",
       "      <th>2020-12-31 08:30:00+00:00</th>\n",
       "      <td>21.295000</td>\n",
       "      <td>0</td>\n",
       "      <td>1.047691</td>\n",
       "      <td>NaN</td>\n",
       "      <td>NaN</td>\n",
       "      <td>NaN</td>\n",
       "    </tr>\n",
       "    <tr>\n",
       "      <th>2020-12-31 22:08:00+00:00</th>\n",
       "      <td>1.653333</td>\n",
       "      <td>0</td>\n",
       "      <td>4.431076</td>\n",
       "      <td>NaN</td>\n",
       "      <td>NaN</td>\n",
       "      <td>NaN</td>\n",
       "    </tr>\n",
       "  </tbody>\n",
       "</table>\n",
       "<p>873 rows × 6 columns</p>\n",
       "</div>"
      ],
      "text/plain": [
       "                                   ghi  flag        kt delta isstart isend\n",
       "2020-01-01 12:40:00+00:00  1264.583333     0  1.101550   NaN     NaN   NaN\n",
       "2020-01-01 12:41:00+00:00  1218.783333     0  1.058723   NaN     NaN   NaN\n",
       "2020-01-01 13:10:00+00:00  1238.616667     0  1.002353   NaN     NaN   NaN\n",
       "2020-01-01 13:19:00+00:00  1278.383333     0  1.015549   NaN     NaN   NaN\n",
       "2020-01-02 08:27:00+00:00     5.908333     0  4.324063   NaN     NaN   NaN\n",
       "...                                ...   ...       ...   ...     ...   ...\n",
       "2020-12-31 08:27:00+00:00    14.191667     0  2.551299   NaN     NaN   NaN\n",
       "2020-12-31 08:28:00+00:00    16.248333     0  1.550570   NaN     NaN   NaN\n",
       "2020-12-31 08:29:00+00:00    18.913333     0  1.228138   NaN     NaN   NaN\n",
       "2020-12-31 08:30:00+00:00    21.295000     0  1.047691   NaN     NaN   NaN\n",
       "2020-12-31 22:08:00+00:00     1.653333     0  4.431076   NaN     NaN   NaN\n",
       "\n",
       "[873 rows x 6 columns]"
      ]
     },
     "execution_count": 94,
     "metadata": {},
     "output_type": "execute_result"
    }
   ],
   "source": [
    "oie"
   ]
  },
  {
   "cell_type": "code",
   "execution_count": 97,
   "id": "2357dddd",
   "metadata": {},
   "outputs": [
    {
     "data": {
      "text/plain": [
       "<AxesSubplot:>"
      ]
     },
     "execution_count": 97,
     "metadata": {},
     "output_type": "execute_result"
    },
    {
     "data": {
      "image/png": "[encoded data removed]",
      "text/plain": [
       "<Figure size 432x288 with 1 Axes>"
      ]
     },
     "metadata": {
      "needs_background": "light"
     },
     "output_type": "display_data"
    }
   ],
   "source": [
    "oie.ghi.groupby(oie.index.month).count().plot(kind=\"bar\")\n"
   ]
  },
  {
   "cell_type": "code",
   "execution_count": 98,
   "id": "82c58697",
   "metadata": {},
   "outputs": [
    {
     "data": {
      "text/plain": [
       "1      96\n",
       "4     142\n",
       "5      63\n",
       "6      57\n",
       "7      66\n",
       "8      72\n",
       "9      39\n",
       "10     73\n",
       "11    145\n",
       "12    120\n",
       "Name: ghi, dtype: int64"
      ]
     },
     "execution_count": 98,
     "metadata": {},
     "output_type": "execute_result"
    }
   ],
   "source": [
    "oie"
   ]
  },
  {
   "cell_type": "code",
   "execution_count": 99,
   "id": "11d29e01",
   "metadata": {
    "scrolled": true
   },
   "outputs": [
    {
     "data": {
      "image/png": "[encoded data removed]",
      "text/plain": [
       "<Figure size 432x288 with 1 Axes>"
      ]
     },
     "metadata": {
      "needs_background": "light"
     },
     "output_type": "display_data"
    }
   ],
   "source": [
    "scat = oie.plot.scatter(x = 'ghi', y = 'kt') "
   ]
  },
  {
   "cell_type": "code",
   "execution_count": 101,
   "id": "8bf0c0fa",
   "metadata": {},
   "outputs": [
    {
     "data": {
      "text/plain": [
       "3357.426172624975"
      ]
     },
     "execution_count": 101,
     "metadata": {},
     "output_type": "execute_result"
    }
   ],
   "source": [
    "oie.kt.max()"
   ]
  },
  {
   "cell_type": "code",
   "execution_count": 103,
   "id": "bff36577",
   "metadata": {
    "scrolled": true
   },
   "outputs": [
    {
     "name": "stderr",
     "output_type": "stream",
     "text": [
      "/Users/nataly/opt/anaconda3/lib/python3.8/site-packages/pandas/core/indexing.py:1676: SettingWithCopyWarning: \n",
      "A value is trying to be set on a copy of a slice from a DataFrame.\n",
      "Try using .loc[row_indexer,col_indexer] = value instead\n",
      "\n",
      "See the caveats in the documentation: https://pandas.pydata.org/pandas-docs/stable/user_guide/indexing.html#returning-a-view-versus-a-copy\n",
      "  self._setitem_single_column(ilocs[0], value, pi)\n",
      "/Users/nataly/opt/anaconda3/lib/python3.8/site-packages/pandas/core/indexing.py:1720: SettingWithCopyWarning: \n",
      "A value is trying to be set on a copy of a slice from a DataFrame.\n",
      "Try using .loc[row_indexer,col_indexer] = value instead\n",
      "\n",
      "See the caveats in the documentation: https://pandas.pydata.org/pandas-docs/stable/user_guide/indexing.html#returning-a-view-versus-a-copy\n",
      "  self._setitem_single_column(loc, value, pi)\n",
      "/Users/nataly/opt/anaconda3/lib/python3.8/site-packages/pandas/core/indexing.py:1676: SettingWithCopyWarning: \n",
      "A value is trying to be set on a copy of a slice from a DataFrame.\n",
      "Try using .loc[row_indexer,col_indexer] = value instead\n",
      "\n",
      "See the caveats in the documentation: https://pandas.pydata.org/pandas-docs/stable/user_guide/indexing.html#returning-a-view-versus-a-copy\n",
      "  self._setitem_single_column(ilocs[0], value, pi)\n",
      "/Users/nataly/opt/anaconda3/lib/python3.8/site-packages/pandas/core/indexing.py:1720: SettingWithCopyWarning: \n",
      "A value is trying to be set on a copy of a slice from a DataFrame.\n",
      "Try using .loc[row_indexer,col_indexer] = value instead\n",
      "\n",
      "See the caveats in the documentation: https://pandas.pydata.org/pandas-docs/stable/user_guide/indexing.html#returning-a-view-versus-a-copy\n",
      "  self._setitem_single_column(loc, value, pi)\n"
     ]
    },
    {
     "ename": "AttributeError",
     "evalue": "'function' object has no attribute 'groupby'",
     "output_type": "error",
     "traceback": [
      "\u001b[0;31m---------------------------------------------------------------------------\u001b[0m",
      "\u001b[0;31mAttributeError\u001b[0m                            Traceback (most recent call last)",
      "\u001b[0;32m<ipython-input-103-3dd2cab1b152>\u001b[0m in \u001b[0;36m<module>\u001b[0;34m\u001b[0m\n\u001b[1;32m     26\u001b[0m \u001b[0meventsC1\u001b[0m\u001b[0;34m.\u001b[0m\u001b[0mto_csv\u001b[0m\u001b[0;34m(\u001b[0m\u001b[0mBSRN_path\u001b[0m \u001b[0;34m+\u001b[0m \u001b[0myear\u001b[0m \u001b[0;34m+\u001b[0m \u001b[0msensor\u001b[0m \u001b[0;34m+\u001b[0m \u001b[0;34m'_OIEC1min2.csv'\u001b[0m\u001b[0;34m)\u001b[0m\u001b[0;34m\u001b[0m\u001b[0;34m\u001b[0m\u001b[0m\n\u001b[1;32m     27\u001b[0m \u001b[0;34m\u001b[0m\u001b[0m\n\u001b[0;32m---> 28\u001b[0;31m \u001b[0mdurhist\u001b[0m \u001b[0;34m=\u001b[0m \u001b[0meventsC1\u001b[0m\u001b[0;34m.\u001b[0m\u001b[0mmax\u001b[0m\u001b[0;34m.\u001b[0m\u001b[0mgroupby\u001b[0m\u001b[0;34m(\u001b[0m\u001b[0moie\u001b[0m\u001b[0;34m.\u001b[0m\u001b[0mduration\u001b[0m\u001b[0;34m.\u001b[0m\u001b[0mminutes\u001b[0m\u001b[0;34m)\u001b[0m\u001b[0;34m.\u001b[0m\u001b[0mcount\u001b[0m\u001b[0;34m(\u001b[0m\u001b[0;34m)\u001b[0m\u001b[0;34m.\u001b[0m\u001b[0mplot\u001b[0m\u001b[0;34m(\u001b[0m\u001b[0mkind\u001b[0m\u001b[0;34m=\u001b[0m\u001b[0;34m\"bar\"\u001b[0m\u001b[0;34m)\u001b[0m\u001b[0;34m\u001b[0m\u001b[0;34m\u001b[0m\u001b[0m\n\u001b[0m\u001b[1;32m     29\u001b[0m \u001b[0mplt\u001b[0m\u001b[0;34m.\u001b[0m\u001b[0mylabel\u001b[0m\u001b[0;34m(\u001b[0m\u001b[0;34m'OIE'\u001b[0m\u001b[0;34m)\u001b[0m\u001b[0;34m\u001b[0m\u001b[0;34m\u001b[0m\u001b[0m\n\u001b[1;32m     30\u001b[0m \u001b[0mplt\u001b[0m\u001b[0;34m.\u001b[0m\u001b[0mxlabel\u001b[0m\u001b[0;34m(\u001b[0m\u001b[0myear\u001b[0m\u001b[0;34m)\u001b[0m\u001b[0;34m\u001b[0m\u001b[0;34m\u001b[0m\u001b[0m\n",
      "\u001b[0;31mAttributeError\u001b[0m: 'function' object has no attribute 'groupby'"
     ]
    }
   ],
   "source": [
    "       oie.loc[:,'delta'] = oie.index.to_series().diff()/np.timedelta64(1,\"m\")  #FOR SECONDS MUST CHANGE HERE\n",
    "       oie.iloc[0,3] = 1.1\n",
    "       oie.loc[:,'isstart'] = (oie.delta > 1 )\n",
    "       oie.loc[:,'isend'] = oie.isstart.shift(-1)\n",
    "       oie.iloc[-1,5] = True\n",
    "\n",
    "\n",
    "\n",
    "       eventsC1 = pd.DataFrame(columns = ['start', 'end', 'duration', 'ibe', 'min', 'max', 'avg'])     ### WILL NEED KT  TOO IN THIS SUMMARY!!!\n",
    "       eventsC1['start']    = oie.loc[oie.isstart == True].index\n",
    "       eventsC1['end']      = oie.loc[oie.isend == True].index\n",
    "       eventsC1['duration'] = eventsC1.end  - eventsC1.start\n",
    "       eventsC1['ibe']      = eventsC1.start - eventsC1.start.shift(+1)\n",
    "       df1 = eventsC1.loc[:,'start': 'end']\n",
    "       df2 = pd.DataFrame(columns = ['ghi'])\n",
    "       df2['ghi']  = oie['ghi']\n",
    "       df1['list'] = df1.apply(lambda x : pd.date_range(start =x['start'],end=x['end'],freq='min').tolist(),axis=1)  ###  FOR SECONDS MUST CHANGE HERE\n",
    "       df1 = df1['list'].apply(pd.Series).stack().to_frame().rename(columns={0:'Date'})\n",
    "       df1['value'] = df1.Date.map(df2.ghi)\n",
    "       avg = df1.groupby(level=0).mean()\n",
    "       min = df1.groupby(level=0).min()\n",
    "       max = df1.groupby(level=0).max()\n",
    "       eventsC1['avg'] = avg['value']\n",
    "       eventsC1['min'] = min['value']\n",
    "       eventsC1['max'] = max['value']\n",
    "       eventsC1.to_csv(BSRN_path + year + sensor + '_OIEC1min2.csv')\n",
    "\n",
    "       durhist = eventsC1.max.groupby(oie.duration.minutes).count().plot(kind=\"bar\")\n",
    "       plt.ylabel('OIE')\n",
    "       plt.xlabel(year)\n",
    "       dfigname = figs_path + year + 'durationhist'+ sensor +'.jpeg'"
   ]
  },
  {
   "cell_type": "code",
   "execution_count": 104,
   "id": "b4794e88",
   "metadata": {},
   "outputs": [
    {
     "data": {
      "text/html": [
       "<div>\n",
       "<style scoped>\n",
       "    .dataframe tbody tr th:only-of-type {\n",
       "        vertical-align: middle;\n",
       "    }\n",
       "\n",
       "    .dataframe tbody tr th {\n",
       "        vertical-align: top;\n",
       "    }\n",
       "\n",
       "    .dataframe thead th {\n",
       "        text-align: right;\n",
       "    }\n",
       "</style>\n",
       "<table border=\"1\" class=\"dataframe\">\n",
       "  <thead>\n",
       "    <tr style=\"text-align: right;\">\n",
       "      <th></th>\n",
       "      <th>start</th>\n",
       "      <th>end</th>\n",
       "      <th>duration</th>\n",
       "      <th>ibe</th>\n",
       "      <th>min</th>\n",
       "      <th>max</th>\n",
       "      <th>avg</th>\n",
       "    </tr>\n",
       "  </thead>\n",
       "  <tbody>\n",
       "    <tr>\n",
       "      <th>0</th>\n",
       "      <td>2020-01-01 12:40:00+00:00</td>\n",
       "      <td>2020-01-01 12:41:00+00:00</td>\n",
       "      <td>0 days 00:01:00</td>\n",
       "      <td>NaT</td>\n",
       "      <td>1218.783333</td>\n",
       "      <td>1264.583333</td>\n",
       "      <td>1241.683333</td>\n",
       "    </tr>\n",
       "    <tr>\n",
       "      <th>1</th>\n",
       "      <td>2020-01-01 13:10:00+00:00</td>\n",
       "      <td>2020-01-01 13:10:00+00:00</td>\n",
       "      <td>0 days 00:00:00</td>\n",
       "      <td>0 days 00:30:00</td>\n",
       "      <td>1238.616667</td>\n",
       "      <td>1238.616667</td>\n",
       "      <td>1238.616667</td>\n",
       "    </tr>\n",
       "    <tr>\n",
       "      <th>2</th>\n",
       "      <td>2020-01-01 13:19:00+00:00</td>\n",
       "      <td>2020-01-01 13:19:00+00:00</td>\n",
       "      <td>0 days 00:00:00</td>\n",
       "      <td>0 days 00:09:00</td>\n",
       "      <td>1278.383333</td>\n",
       "      <td>1278.383333</td>\n",
       "      <td>1278.383333</td>\n",
       "    </tr>\n",
       "    <tr>\n",
       "      <th>3</th>\n",
       "      <td>2020-01-02 08:27:00+00:00</td>\n",
       "      <td>2020-01-02 08:27:00+00:00</td>\n",
       "      <td>0 days 00:00:00</td>\n",
       "      <td>0 days 19:08:00</td>\n",
       "      <td>5.908333</td>\n",
       "      <td>5.908333</td>\n",
       "      <td>5.908333</td>\n",
       "    </tr>\n",
       "    <tr>\n",
       "      <th>4</th>\n",
       "      <td>2020-01-02 22:07:00+00:00</td>\n",
       "      <td>2020-01-02 22:08:00+00:00</td>\n",
       "      <td>0 days 00:01:00</td>\n",
       "      <td>0 days 13:40:00</td>\n",
       "      <td>7.293220</td>\n",
       "      <td>7.855000</td>\n",
       "      <td>7.574110</td>\n",
       "    </tr>\n",
       "    <tr>\n",
       "      <th>...</th>\n",
       "      <td>...</td>\n",
       "      <td>...</td>\n",
       "      <td>...</td>\n",
       "      <td>...</td>\n",
       "      <td>...</td>\n",
       "      <td>...</td>\n",
       "      <td>...</td>\n",
       "    </tr>\n",
       "    <tr>\n",
       "      <th>564</th>\n",
       "      <td>2020-12-29 12:51:00+00:00</td>\n",
       "      <td>2020-12-29 12:51:00+00:00</td>\n",
       "      <td>0 days 00:00:00</td>\n",
       "      <td>0 days 04:26:00</td>\n",
       "      <td>1215.150000</td>\n",
       "      <td>1215.150000</td>\n",
       "      <td>1215.150000</td>\n",
       "    </tr>\n",
       "    <tr>\n",
       "      <th>565</th>\n",
       "      <td>2020-12-30 08:26:00+00:00</td>\n",
       "      <td>2020-12-30 08:27:00+00:00</td>\n",
       "      <td>0 days 00:01:00</td>\n",
       "      <td>0 days 19:35:00</td>\n",
       "      <td>8.291667</td>\n",
       "      <td>8.983333</td>\n",
       "      <td>8.637500</td>\n",
       "    </tr>\n",
       "    <tr>\n",
       "      <th>566</th>\n",
       "      <td>2020-12-30 22:07:00+00:00</td>\n",
       "      <td>2020-12-30 22:07:00+00:00</td>\n",
       "      <td>0 days 00:00:00</td>\n",
       "      <td>0 days 13:41:00</td>\n",
       "      <td>4.236667</td>\n",
       "      <td>4.236667</td>\n",
       "      <td>4.236667</td>\n",
       "    </tr>\n",
       "    <tr>\n",
       "      <th>567</th>\n",
       "      <td>2020-12-31 08:26:00+00:00</td>\n",
       "      <td>2020-12-31 08:30:00+00:00</td>\n",
       "      <td>0 days 00:04:00</td>\n",
       "      <td>0 days 10:19:00</td>\n",
       "      <td>12.913333</td>\n",
       "      <td>21.295000</td>\n",
       "      <td>16.712333</td>\n",
       "    </tr>\n",
       "    <tr>\n",
       "      <th>568</th>\n",
       "      <td>2020-12-31 22:08:00+00:00</td>\n",
       "      <td>2020-12-31 22:08:00+00:00</td>\n",
       "      <td>0 days 00:00:00</td>\n",
       "      <td>0 days 13:42:00</td>\n",
       "      <td>1.653333</td>\n",
       "      <td>1.653333</td>\n",
       "      <td>1.653333</td>\n",
       "    </tr>\n",
       "  </tbody>\n",
       "</table>\n",
       "<p>569 rows × 7 columns</p>\n",
       "</div>"
      ],
      "text/plain": [
       "                        start                       end        duration  \\\n",
       "0   2020-01-01 12:40:00+00:00 2020-01-01 12:41:00+00:00 0 days 00:01:00   \n",
       "1   2020-01-01 13:10:00+00:00 2020-01-01 13:10:00+00:00 0 days 00:00:00   \n",
       "2   2020-01-01 13:19:00+00:00 2020-01-01 13:19:00+00:00 0 days 00:00:00   \n",
       "3   2020-01-02 08:27:00+00:00 2020-01-02 08:27:00+00:00 0 days 00:00:00   \n",
       "4   2020-01-02 22:07:00+00:00 2020-01-02 22:08:00+00:00 0 days 00:01:00   \n",
       "..                        ...                       ...             ...   \n",
       "564 2020-12-29 12:51:00+00:00 2020-12-29 12:51:00+00:00 0 days 00:00:00   \n",
       "565 2020-12-30 08:26:00+00:00 2020-12-30 08:27:00+00:00 0 days 00:01:00   \n",
       "566 2020-12-30 22:07:00+00:00 2020-12-30 22:07:00+00:00 0 days 00:00:00   \n",
       "567 2020-12-31 08:26:00+00:00 2020-12-31 08:30:00+00:00 0 days 00:04:00   \n",
       "568 2020-12-31 22:08:00+00:00 2020-12-31 22:08:00+00:00 0 days 00:00:00   \n",
       "\n",
       "                ibe          min          max          avg  \n",
       "0               NaT  1218.783333  1264.583333  1241.683333  \n",
       "1   0 days 00:30:00  1238.616667  1238.616667  1238.616667  \n",
       "2   0 days 00:09:00  1278.383333  1278.383333  1278.383333  \n",
       "3   0 days 19:08:00     5.908333     5.908333     5.908333  \n",
       "4   0 days 13:40:00     7.293220     7.855000     7.574110  \n",
       "..              ...          ...          ...          ...  \n",
       "564 0 days 04:26:00  1215.150000  1215.150000  1215.150000  \n",
       "565 0 days 19:35:00     8.291667     8.983333     8.637500  \n",
       "566 0 days 13:41:00     4.236667     4.236667     4.236667  \n",
       "567 0 days 10:19:00    12.913333    21.295000    16.712333  \n",
       "568 0 days 13:42:00     1.653333     1.653333     1.653333  \n",
       "\n",
       "[569 rows x 7 columns]"
      ]
     },
     "execution_count": 104,
     "metadata": {},
     "output_type": "execute_result"
    }
   ],
   "source": [
    "eventsC1"
   ]
  },
  {
   "cell_type": "code",
   "execution_count": 111,
   "id": "1032eb5f",
   "metadata": {},
   "outputs": [
    {
     "data": {
      "text/plain": [
       "duration\n",
       "0 days 00:00:00    344\n",
       "0 days 00:01:00    178\n",
       "0 days 00:02:00     29\n",
       "0 days 00:03:00      8\n",
       "0 days 00:04:00      6\n",
       "0 days 00:05:00      4\n",
       "Name: max, dtype: int64"
      ]
     },
     "execution_count": 111,
     "metadata": {},
     "output_type": "execute_result"
    }
   ],
   "source": [
    "eventsC1['max'].groupby(eventsC1.duration).count()"
   ]
  },
  {
   "cell_type": "code",
   "execution_count": 108,
   "id": "a394b3e9",
   "metadata": {
    "scrolled": true
   },
   "outputs": [
    {
     "data": {
      "text/plain": [
       "start       datetime64[ns, Etc/GMT]\n",
       "end         datetime64[ns, Etc/GMT]\n",
       "duration            timedelta64[ns]\n",
       "ibe                 timedelta64[ns]\n",
       "min                         float64\n",
       "max                         float64\n",
       "avg                         float64\n",
       "dtype: object"
      ]
     },
     "execution_count": 108,
     "metadata": {},
     "output_type": "execute_result"
    }
   ],
   "source": [
    "eventsC1.dtypes"
   ]
  },
  {
   "cell_type": "code",
   "execution_count": 126,
   "id": "e7a9dbb2",
   "metadata": {},
   "outputs": [
    {
     "data": {
      "text/plain": [
       "duration\n",
       "0    344\n",
       "1    178\n",
       "2     29\n",
       "3      8\n",
       "4      6\n",
       "5      4\n",
       "Name: duration, dtype: int64"
      ]
     },
     "execution_count": 126,
     "metadata": {},
     "output_type": "execute_result"
    }
   ],
   "source": [
    "eventsC1['duration'].groupby(eventsC1.duration).count()"
   ]
  },
  {
   "cell_type": "code",
   "execution_count": 128,
   "id": "3bc6fb5f",
   "metadata": {},
   "outputs": [
    {
     "data": {
      "text/plain": [
       "duration\n",
       "0    AxesSubplot(0.125,0.125;0.775x0.755)\n",
       "1    AxesSubplot(0.125,0.125;0.775x0.755)\n",
       "2    AxesSubplot(0.125,0.125;0.775x0.755)\n",
       "3    AxesSubplot(0.125,0.125;0.775x0.755)\n",
       "4    AxesSubplot(0.125,0.125;0.775x0.755)\n",
       "5    AxesSubplot(0.125,0.125;0.775x0.755)\n",
       "Name: duration, dtype: object"
      ]
     },
     "execution_count": 128,
     "metadata": {},
     "output_type": "execute_result"
    },
    {
     "data": {
      "image/png": "[encoded data removed]",
      "text/plain": [
       "<Figure size 432x288 with 1 Axes>"
      ]
     },
     "metadata": {
      "needs_background": "light"
     },
     "output_type": "display_data"
    }
   ],
   "source": [
    "eventsC1['duration'].groupby(eventsC1.duration).hist()"
   ]
  },
  {
   "cell_type": "code",
   "execution_count": null,
   "id": "d268bb2c",
   "metadata": {},
   "outputs": [],
   "source": []
  },
  {
   "cell_type": "code",
   "execution_count": 129,
   "id": "1209713c",
   "metadata": {},
   "outputs": [
    {
     "data": {
      "text/plain": [
       "<AxesSubplot:>"
      ]
     },
     "execution_count": 129,
     "metadata": {},
     "output_type": "execute_result"
    },
    {
     "data": {
      "image/png": "[encoded data removed]",
      "text/plain": [
       "<Figure size 432x288 with 1 Axes>"
      ]
     },
     "metadata": {
      "needs_background": "light"
     },
     "output_type": "display_data"
    }
   ],
   "source": [
    "eventsC1['duration'].hist()"
   ]
  },
  {
   "cell_type": "code",
   "execution_count": 125,
   "id": "ae2c02d8",
   "metadata": {},
   "outputs": [
    {
     "data": {
      "image/png": "[encoded data removed]",
      "text/plain": [
       "<Figure size 432x288 with 1 Axes>"
      ]
     },
     "metadata": {
      "needs_background": "light"
     },
     "output_type": "display_data"
    }
   ],
   "source": [
    "scat = eventsC1.plot.scatter(x = 'max', y = 'duration') "
   ]
  },
  {
   "cell_type": "code",
   "execution_count": 118,
   "id": "f90b3a99",
   "metadata": {},
   "outputs": [
    {
     "ename": "AttributeError",
     "evalue": "'TimedeltaProperties' object has no attribute 'minutes'",
     "output_type": "error",
     "traceback": [
      "\u001b[0;31m---------------------------------------------------------------------------\u001b[0m",
      "\u001b[0;31mAttributeError\u001b[0m                            Traceback (most recent call last)",
      "\u001b[0;32m<ipython-input-118-353a24e6a556>\u001b[0m in \u001b[0;36m<module>\u001b[0;34m\u001b[0m\n\u001b[0;32m----> 1\u001b[0;31m \u001b[0meventsC1\u001b[0m\u001b[0;34m[\u001b[0m\u001b[0;34m'duration'\u001b[0m\u001b[0;34m]\u001b[0m\u001b[0;34m.\u001b[0m\u001b[0mdt\u001b[0m\u001b[0;34m.\u001b[0m\u001b[0mminutes\u001b[0m\u001b[0;34m\u001b[0m\u001b[0;34m\u001b[0m\u001b[0m\n\u001b[0m",
      "\u001b[0;31mAttributeError\u001b[0m: 'TimedeltaProperties' object has no attribute 'minutes'"
     ]
    }
   ],
   "source": [
    "eventsC1['duration'].dt.minutes\n"
   ]
  },
  {
   "cell_type": "code",
   "execution_count": 123,
   "id": "3b61c9b3",
   "metadata": {},
   "outputs": [],
   "source": [
    "eventsC1['duration']  =(eventsC1['duration'] / np.timedelta64(1, 'm')).astype(int)"
   ]
  },
  {
   "cell_type": "code",
   "execution_count": 130,
   "id": "a5842b39",
   "metadata": {
    "scrolled": true
   },
   "outputs": [
    {
     "data": {
      "text/html": [
       "<div>\n",
       "<style scoped>\n",
       "    .dataframe tbody tr th:only-of-type {\n",
       "        vertical-align: middle;\n",
       "    }\n",
       "\n",
       "    .dataframe tbody tr th {\n",
       "        vertical-align: top;\n",
       "    }\n",
       "\n",
       "    .dataframe thead th {\n",
       "        text-align: right;\n",
       "    }\n",
       "</style>\n",
       "<table border=\"1\" class=\"dataframe\">\n",
       "  <thead>\n",
       "    <tr style=\"text-align: right;\">\n",
       "      <th></th>\n",
       "      <th>start</th>\n",
       "      <th>end</th>\n",
       "      <th>duration</th>\n",
       "      <th>ibe</th>\n",
       "      <th>min</th>\n",
       "      <th>max</th>\n",
       "      <th>avg</th>\n",
       "    </tr>\n",
       "  </thead>\n",
       "  <tbody>\n",
       "    <tr>\n",
       "      <th>0</th>\n",
       "      <td>2020-01-01 12:40:00+00:00</td>\n",
       "      <td>2020-01-01 12:41:00+00:00</td>\n",
       "      <td>1</td>\n",
       "      <td>NaT</td>\n",
       "      <td>1218.783333</td>\n",
       "      <td>1264.583333</td>\n",
       "      <td>1241.683333</td>\n",
       "    </tr>\n",
       "    <tr>\n",
       "      <th>1</th>\n",
       "      <td>2020-01-01 13:10:00+00:00</td>\n",
       "      <td>2020-01-01 13:10:00+00:00</td>\n",
       "      <td>0</td>\n",
       "      <td>0 days 00:30:00</td>\n",
       "      <td>1238.616667</td>\n",
       "      <td>1238.616667</td>\n",
       "      <td>1238.616667</td>\n",
       "    </tr>\n",
       "    <tr>\n",
       "      <th>2</th>\n",
       "      <td>2020-01-01 13:19:00+00:00</td>\n",
       "      <td>2020-01-01 13:19:00+00:00</td>\n",
       "      <td>0</td>\n",
       "      <td>0 days 00:09:00</td>\n",
       "      <td>1278.383333</td>\n",
       "      <td>1278.383333</td>\n",
       "      <td>1278.383333</td>\n",
       "    </tr>\n",
       "    <tr>\n",
       "      <th>3</th>\n",
       "      <td>2020-01-02 08:27:00+00:00</td>\n",
       "      <td>2020-01-02 08:27:00+00:00</td>\n",
       "      <td>0</td>\n",
       "      <td>0 days 19:08:00</td>\n",
       "      <td>5.908333</td>\n",
       "      <td>5.908333</td>\n",
       "      <td>5.908333</td>\n",
       "    </tr>\n",
       "    <tr>\n",
       "      <th>4</th>\n",
       "      <td>2020-01-02 22:07:00+00:00</td>\n",
       "      <td>2020-01-02 22:08:00+00:00</td>\n",
       "      <td>1</td>\n",
       "      <td>0 days 13:40:00</td>\n",
       "      <td>7.293220</td>\n",
       "      <td>7.855000</td>\n",
       "      <td>7.574110</td>\n",
       "    </tr>\n",
       "    <tr>\n",
       "      <th>...</th>\n",
       "      <td>...</td>\n",
       "      <td>...</td>\n",
       "      <td>...</td>\n",
       "      <td>...</td>\n",
       "      <td>...</td>\n",
       "      <td>...</td>\n",
       "      <td>...</td>\n",
       "    </tr>\n",
       "    <tr>\n",
       "      <th>564</th>\n",
       "      <td>2020-12-29 12:51:00+00:00</td>\n",
       "      <td>2020-12-29 12:51:00+00:00</td>\n",
       "      <td>0</td>\n",
       "      <td>0 days 04:26:00</td>\n",
       "      <td>1215.150000</td>\n",
       "      <td>1215.150000</td>\n",
       "      <td>1215.150000</td>\n",
       "    </tr>\n",
       "    <tr>\n",
       "      <th>565</th>\n",
       "      <td>2020-12-30 08:26:00+00:00</td>\n",
       "      <td>2020-12-30 08:27:00+00:00</td>\n",
       "      <td>1</td>\n",
       "      <td>0 days 19:35:00</td>\n",
       "      <td>8.291667</td>\n",
       "      <td>8.983333</td>\n",
       "      <td>8.637500</td>\n",
       "    </tr>\n",
       "    <tr>\n",
       "      <th>566</th>\n",
       "      <td>2020-12-30 22:07:00+00:00</td>\n",
       "      <td>2020-12-30 22:07:00+00:00</td>\n",
       "      <td>0</td>\n",
       "      <td>0 days 13:41:00</td>\n",
       "      <td>4.236667</td>\n",
       "      <td>4.236667</td>\n",
       "      <td>4.236667</td>\n",
       "    </tr>\n",
       "    <tr>\n",
       "      <th>567</th>\n",
       "      <td>2020-12-31 08:26:00+00:00</td>\n",
       "      <td>2020-12-31 08:30:00+00:00</td>\n",
       "      <td>4</td>\n",
       "      <td>0 days 10:19:00</td>\n",
       "      <td>12.913333</td>\n",
       "      <td>21.295000</td>\n",
       "      <td>16.712333</td>\n",
       "    </tr>\n",
       "    <tr>\n",
       "      <th>568</th>\n",
       "      <td>2020-12-31 22:08:00+00:00</td>\n",
       "      <td>2020-12-31 22:08:00+00:00</td>\n",
       "      <td>0</td>\n",
       "      <td>0 days 13:42:00</td>\n",
       "      <td>1.653333</td>\n",
       "      <td>1.653333</td>\n",
       "      <td>1.653333</td>\n",
       "    </tr>\n",
       "  </tbody>\n",
       "</table>\n",
       "<p>569 rows × 7 columns</p>\n",
       "</div>"
      ],
      "text/plain": [
       "                        start                       end  duration  \\\n",
       "0   2020-01-01 12:40:00+00:00 2020-01-01 12:41:00+00:00         1   \n",
       "1   2020-01-01 13:10:00+00:00 2020-01-01 13:10:00+00:00         0   \n",
       "2   2020-01-01 13:19:00+00:00 2020-01-01 13:19:00+00:00         0   \n",
       "3   2020-01-02 08:27:00+00:00 2020-01-02 08:27:00+00:00         0   \n",
       "4   2020-01-02 22:07:00+00:00 2020-01-02 22:08:00+00:00         1   \n",
       "..                        ...                       ...       ...   \n",
       "564 2020-12-29 12:51:00+00:00 2020-12-29 12:51:00+00:00         0   \n",
       "565 2020-12-30 08:26:00+00:00 2020-12-30 08:27:00+00:00         1   \n",
       "566 2020-12-30 22:07:00+00:00 2020-12-30 22:07:00+00:00         0   \n",
       "567 2020-12-31 08:26:00+00:00 2020-12-31 08:30:00+00:00         4   \n",
       "568 2020-12-31 22:08:00+00:00 2020-12-31 22:08:00+00:00         0   \n",
       "\n",
       "                ibe          min          max          avg  \n",
       "0               NaT  1218.783333  1264.583333  1241.683333  \n",
       "1   0 days 00:30:00  1238.616667  1238.616667  1238.616667  \n",
       "2   0 days 00:09:00  1278.383333  1278.383333  1278.383333  \n",
       "3   0 days 19:08:00     5.908333     5.908333     5.908333  \n",
       "4   0 days 13:40:00     7.293220     7.855000     7.574110  \n",
       "..              ...          ...          ...          ...  \n",
       "564 0 days 04:26:00  1215.150000  1215.150000  1215.150000  \n",
       "565 0 days 19:35:00     8.291667     8.983333     8.637500  \n",
       "566 0 days 13:41:00     4.236667     4.236667     4.236667  \n",
       "567 0 days 10:19:00    12.913333    21.295000    16.712333  \n",
       "568 0 days 13:42:00     1.653333     1.653333     1.653333  \n",
       "\n",
       "[569 rows x 7 columns]"
      ]
     },
     "execution_count": 130,
     "metadata": {},
     "output_type": "execute_result"
    }
   ],
   "source": [
    "eventsC1"
   ]
  },
  {
   "cell_type": "code",
   "execution_count": 159,
   "id": "46f67f55",
   "metadata": {},
   "outputs": [],
   "source": [
    "eventsC1 = eventsC1.set_index('start')\n"
   ]
  },
  {
   "cell_type": "code",
   "execution_count": 167,
   "id": "ce8e8642",
   "metadata": {},
   "outputs": [
    {
     "data": {
      "text/html": [
       "<div>\n",
       "<style scoped>\n",
       "    .dataframe tbody tr th:only-of-type {\n",
       "        vertical-align: middle;\n",
       "    }\n",
       "\n",
       "    .dataframe tbody tr th {\n",
       "        vertical-align: top;\n",
       "    }\n",
       "\n",
       "    .dataframe thead th {\n",
       "        text-align: right;\n",
       "    }\n",
       "</style>\n",
       "<table border=\"1\" class=\"dataframe\">\n",
       "  <thead>\n",
       "    <tr style=\"text-align: right;\">\n",
       "      <th></th>\n",
       "      <th>end</th>\n",
       "      <th>duration</th>\n",
       "      <th>ibe</th>\n",
       "      <th>min</th>\n",
       "      <th>max</th>\n",
       "      <th>avg</th>\n",
       "    </tr>\n",
       "    <tr>\n",
       "      <th>start</th>\n",
       "      <th></th>\n",
       "      <th></th>\n",
       "      <th></th>\n",
       "      <th></th>\n",
       "      <th></th>\n",
       "      <th></th>\n",
       "    </tr>\n",
       "  </thead>\n",
       "  <tbody>\n",
       "    <tr>\n",
       "      <th>2020-01-01 12:40:00+00:00</th>\n",
       "      <td>2020-01-01 12:41:00+00:00</td>\n",
       "      <td>1</td>\n",
       "      <td>NaT</td>\n",
       "      <td>1218.783333</td>\n",
       "      <td>1264.583333</td>\n",
       "      <td>1241.683333</td>\n",
       "    </tr>\n",
       "    <tr>\n",
       "      <th>2020-01-01 13:10:00+00:00</th>\n",
       "      <td>2020-01-01 13:10:00+00:00</td>\n",
       "      <td>0</td>\n",
       "      <td>0 days 00:30:00</td>\n",
       "      <td>1238.616667</td>\n",
       "      <td>1238.616667</td>\n",
       "      <td>1238.616667</td>\n",
       "    </tr>\n",
       "    <tr>\n",
       "      <th>2020-01-01 13:19:00+00:00</th>\n",
       "      <td>2020-01-01 13:19:00+00:00</td>\n",
       "      <td>0</td>\n",
       "      <td>0 days 00:09:00</td>\n",
       "      <td>1278.383333</td>\n",
       "      <td>1278.383333</td>\n",
       "      <td>1278.383333</td>\n",
       "    </tr>\n",
       "    <tr>\n",
       "      <th>2020-01-02 08:27:00+00:00</th>\n",
       "      <td>2020-01-02 08:27:00+00:00</td>\n",
       "      <td>0</td>\n",
       "      <td>0 days 19:08:00</td>\n",
       "      <td>5.908333</td>\n",
       "      <td>5.908333</td>\n",
       "      <td>5.908333</td>\n",
       "    </tr>\n",
       "    <tr>\n",
       "      <th>2020-01-02 22:07:00+00:00</th>\n",
       "      <td>2020-01-02 22:08:00+00:00</td>\n",
       "      <td>1</td>\n",
       "      <td>0 days 13:40:00</td>\n",
       "      <td>7.293220</td>\n",
       "      <td>7.855000</td>\n",
       "      <td>7.574110</td>\n",
       "    </tr>\n",
       "    <tr>\n",
       "      <th>2020-01-03 08:28:00+00:00</th>\n",
       "      <td>2020-01-03 08:28:00+00:00</td>\n",
       "      <td>0</td>\n",
       "      <td>0 days 10:21:00</td>\n",
       "      <td>7.048333</td>\n",
       "      <td>7.048333</td>\n",
       "      <td>7.048333</td>\n",
       "    </tr>\n",
       "    <tr>\n",
       "      <th>2020-01-03 18:09:00+00:00</th>\n",
       "      <td>2020-01-03 18:10:00+00:00</td>\n",
       "      <td>1</td>\n",
       "      <td>0 days 09:41:00</td>\n",
       "      <td>1132.816667</td>\n",
       "      <td>1194.183333</td>\n",
       "      <td>1163.500000</td>\n",
       "    </tr>\n",
       "    <tr>\n",
       "      <th>2020-01-03 22:08:00+00:00</th>\n",
       "      <td>2020-01-03 22:08:00+00:00</td>\n",
       "      <td>0</td>\n",
       "      <td>0 days 03:59:00</td>\n",
       "      <td>3.671667</td>\n",
       "      <td>3.671667</td>\n",
       "      <td>3.671667</td>\n",
       "    </tr>\n",
       "    <tr>\n",
       "      <th>2020-01-04 08:29:00+00:00</th>\n",
       "      <td>2020-01-04 08:31:00+00:00</td>\n",
       "      <td>2</td>\n",
       "      <td>0 days 10:21:00</td>\n",
       "      <td>15.171667</td>\n",
       "      <td>16.533333</td>\n",
       "      <td>15.922778</td>\n",
       "    </tr>\n",
       "    <tr>\n",
       "      <th>2020-01-04 20:54:00+00:00</th>\n",
       "      <td>2020-01-04 20:57:00+00:00</td>\n",
       "      <td>3</td>\n",
       "      <td>0 days 12:25:00</td>\n",
       "      <td>368.385000</td>\n",
       "      <td>412.995000</td>\n",
       "      <td>392.784153</td>\n",
       "    </tr>\n",
       "    <tr>\n",
       "      <th>2020-01-05 08:29:00+00:00</th>\n",
       "      <td>2020-01-05 08:30:00+00:00</td>\n",
       "      <td>1</td>\n",
       "      <td>0 days 11:35:00</td>\n",
       "      <td>5.995000</td>\n",
       "      <td>6.405000</td>\n",
       "      <td>6.200000</td>\n",
       "    </tr>\n",
       "    <tr>\n",
       "      <th>2020-01-05 13:56:00+00:00</th>\n",
       "      <td>2020-01-05 13:57:00+00:00</td>\n",
       "      <td>1</td>\n",
       "      <td>0 days 05:27:00</td>\n",
       "      <td>1422.783333</td>\n",
       "      <td>1437.983333</td>\n",
       "      <td>1430.383333</td>\n",
       "    </tr>\n",
       "    <tr>\n",
       "      <th>2020-01-06 08:30:00+00:00</th>\n",
       "      <td>2020-01-06 08:31:00+00:00</td>\n",
       "      <td>1</td>\n",
       "      <td>0 days 18:34:00</td>\n",
       "      <td>7.889831</td>\n",
       "      <td>8.526667</td>\n",
       "      <td>8.208249</td>\n",
       "    </tr>\n",
       "    <tr>\n",
       "      <th>2020-01-06 22:08:00+00:00</th>\n",
       "      <td>2020-01-06 22:09:00+00:00</td>\n",
       "      <td>1</td>\n",
       "      <td>0 days 13:38:00</td>\n",
       "      <td>5.838983</td>\n",
       "      <td>6.493333</td>\n",
       "      <td>6.166158</td>\n",
       "    </tr>\n",
       "    <tr>\n",
       "      <th>2020-01-07 08:31:00+00:00</th>\n",
       "      <td>2020-01-07 08:36:00+00:00</td>\n",
       "      <td>5</td>\n",
       "      <td>0 days 10:23:00</td>\n",
       "      <td>19.841667</td>\n",
       "      <td>30.018333</td>\n",
       "      <td>24.962900</td>\n",
       "    </tr>\n",
       "    <tr>\n",
       "      <th>2020-01-07 14:05:00+00:00</th>\n",
       "      <td>2020-01-07 14:05:00+00:00</td>\n",
       "      <td>0</td>\n",
       "      <td>0 days 05:34:00</td>\n",
       "      <td>1348.333333</td>\n",
       "      <td>1348.333333</td>\n",
       "      <td>1348.333333</td>\n",
       "    </tr>\n",
       "    <tr>\n",
       "      <th>2020-01-07 14:45:00+00:00</th>\n",
       "      <td>2020-01-07 14:45:00+00:00</td>\n",
       "      <td>0</td>\n",
       "      <td>0 days 00:40:00</td>\n",
       "      <td>1436.350000</td>\n",
       "      <td>1436.350000</td>\n",
       "      <td>1436.350000</td>\n",
       "    </tr>\n",
       "    <tr>\n",
       "      <th>2020-01-07 15:22:00+00:00</th>\n",
       "      <td>2020-01-07 15:26:00+00:00</td>\n",
       "      <td>4</td>\n",
       "      <td>0 days 00:37:00</td>\n",
       "      <td>1415.150000</td>\n",
       "      <td>1453.550000</td>\n",
       "      <td>1434.896667</td>\n",
       "    </tr>\n",
       "    <tr>\n",
       "      <th>2020-01-07 15:28:00+00:00</th>\n",
       "      <td>2020-01-07 15:30:00+00:00</td>\n",
       "      <td>2</td>\n",
       "      <td>0 days 00:06:00</td>\n",
       "      <td>1457.983051</td>\n",
       "      <td>1505.900000</td>\n",
       "      <td>1487.366573</td>\n",
       "    </tr>\n",
       "    <tr>\n",
       "      <th>2020-01-07 18:43:00+00:00</th>\n",
       "      <td>2020-01-07 18:43:00+00:00</td>\n",
       "      <td>0</td>\n",
       "      <td>0 days 03:15:00</td>\n",
       "      <td>1056.066667</td>\n",
       "      <td>1056.066667</td>\n",
       "      <td>1056.066667</td>\n",
       "    </tr>\n",
       "  </tbody>\n",
       "</table>\n",
       "</div>"
      ],
      "text/plain": [
       "                                                end  duration             ibe  \\\n",
       "start                                                                           \n",
       "2020-01-01 12:40:00+00:00 2020-01-01 12:41:00+00:00         1             NaT   \n",
       "2020-01-01 13:10:00+00:00 2020-01-01 13:10:00+00:00         0 0 days 00:30:00   \n",
       "2020-01-01 13:19:00+00:00 2020-01-01 13:19:00+00:00         0 0 days 00:09:00   \n",
       "2020-01-02 08:27:00+00:00 2020-01-02 08:27:00+00:00         0 0 days 19:08:00   \n",
       "2020-01-02 22:07:00+00:00 2020-01-02 22:08:00+00:00         1 0 days 13:40:00   \n",
       "2020-01-03 08:28:00+00:00 2020-01-03 08:28:00+00:00         0 0 days 10:21:00   \n",
       "2020-01-03 18:09:00+00:00 2020-01-03 18:10:00+00:00         1 0 days 09:41:00   \n",
       "2020-01-03 22:08:00+00:00 2020-01-03 22:08:00+00:00         0 0 days 03:59:00   \n",
       "2020-01-04 08:29:00+00:00 2020-01-04 08:31:00+00:00         2 0 days 10:21:00   \n",
       "2020-01-04 20:54:00+00:00 2020-01-04 20:57:00+00:00         3 0 days 12:25:00   \n",
       "2020-01-05 08:29:00+00:00 2020-01-05 08:30:00+00:00         1 0 days 11:35:00   \n",
       "2020-01-05 13:56:00+00:00 2020-01-05 13:57:00+00:00         1 0 days 05:27:00   \n",
       "2020-01-06 08:30:00+00:00 2020-01-06 08:31:00+00:00         1 0 days 18:34:00   \n",
       "2020-01-06 22:08:00+00:00 2020-01-06 22:09:00+00:00         1 0 days 13:38:00   \n",
       "2020-01-07 08:31:00+00:00 2020-01-07 08:36:00+00:00         5 0 days 10:23:00   \n",
       "2020-01-07 14:05:00+00:00 2020-01-07 14:05:00+00:00         0 0 days 05:34:00   \n",
       "2020-01-07 14:45:00+00:00 2020-01-07 14:45:00+00:00         0 0 days 00:40:00   \n",
       "2020-01-07 15:22:00+00:00 2020-01-07 15:26:00+00:00         4 0 days 00:37:00   \n",
       "2020-01-07 15:28:00+00:00 2020-01-07 15:30:00+00:00         2 0 days 00:06:00   \n",
       "2020-01-07 18:43:00+00:00 2020-01-07 18:43:00+00:00         0 0 days 03:15:00   \n",
       "\n",
       "                                   min          max          avg  \n",
       "start                                                             \n",
       "2020-01-01 12:40:00+00:00  1218.783333  1264.583333  1241.683333  \n",
       "2020-01-01 13:10:00+00:00  1238.616667  1238.616667  1238.616667  \n",
       "2020-01-01 13:19:00+00:00  1278.383333  1278.383333  1278.383333  \n",
       "2020-01-02 08:27:00+00:00     5.908333     5.908333     5.908333  \n",
       "2020-01-02 22:07:00+00:00     7.293220     7.855000     7.574110  \n",
       "2020-01-03 08:28:00+00:00     7.048333     7.048333     7.048333  \n",
       "2020-01-03 18:09:00+00:00  1132.816667  1194.183333  1163.500000  \n",
       "2020-01-03 22:08:00+00:00     3.671667     3.671667     3.671667  \n",
       "2020-01-04 08:29:00+00:00    15.171667    16.533333    15.922778  \n",
       "2020-01-04 20:54:00+00:00   368.385000   412.995000   392.784153  \n",
       "2020-01-05 08:29:00+00:00     5.995000     6.405000     6.200000  \n",
       "2020-01-05 13:56:00+00:00  1422.783333  1437.983333  1430.383333  \n",
       "2020-01-06 08:30:00+00:00     7.889831     8.526667     8.208249  \n",
       "2020-01-06 22:08:00+00:00     5.838983     6.493333     6.166158  \n",
       "2020-01-07 08:31:00+00:00    19.841667    30.018333    24.962900  \n",
       "2020-01-07 14:05:00+00:00  1348.333333  1348.333333  1348.333333  \n",
       "2020-01-07 14:45:00+00:00  1436.350000  1436.350000  1436.350000  \n",
       "2020-01-07 15:22:00+00:00  1415.150000  1453.550000  1434.896667  \n",
       "2020-01-07 15:28:00+00:00  1457.983051  1505.900000  1487.366573  \n",
       "2020-01-07 18:43:00+00:00  1056.066667  1056.066667  1056.066667  "
      ]
     },
     "execution_count": 167,
     "metadata": {},
     "output_type": "execute_result"
    }
   ],
   "source": [
    "eventsC1.head(20)"
   ]
  },
  {
   "cell_type": "code",
   "execution_count": 174,
   "id": "f47f15e9",
   "metadata": {},
   "outputs": [
    {
     "data": {
      "text/plain": [
       "start\n",
       "2020-01-01 12:40:00+00:00    1\n",
       "2020-01-01 13:10:00+00:00    0\n",
       "2020-01-01 13:19:00+00:00    0\n",
       "2020-01-02 08:27:00+00:00    0\n",
       "2020-01-02 22:07:00+00:00    1\n",
       "                            ..\n",
       "2020-01-21 14:30:00+00:00    0\n",
       "2020-01-21 14:44:00+00:00    0\n",
       "2020-01-21 16:55:00+00:00    0\n",
       "2020-01-21 22:08:00+00:00    0\n",
       "2020-01-23 08:43:00+00:00    0\n",
       "Name: duration, Length: 61, dtype: int64"
      ]
     },
     "execution_count": 174,
     "metadata": {},
     "output_type": "execute_result"
    }
   ],
   "source": [
    "# Import data\n",
    "x1 = eventsC1.loc['2020-01', 'duration']\n",
    "x2 = eventsC1.loc['2020-02', 'duration']\n",
    "x3 = eventsC1.loc['2020-03', 'duration']\n",
    "x4 = eventsC1.loc['2020-04', 'duration']\n",
    "x5 = eventsC1.loc['2020-05', 'duration']\n",
    "x6 = eventsC1.loc['2020-06', 'duration']\n",
    "x7 = eventsC1.loc['2020-07', 'duration']\n",
    "x8 = eventsC1.loc['2020-08', 'duration']\n",
    "x9 = eventsC1.loc['2020-09', 'duration']\n",
    "x10 = eventsC1.loc['2020-10', 'duration']\n",
    "x11 = eventsC1.loc['2020-11', 'duration']\n",
    "x12 = eventsC1.loc['2020-12', 'duration']\n",
    "\n",
    "x1"
   ]
  },
  {
   "cell_type": "code",
   "execution_count": 171,
   "id": "21ce6a60",
   "metadata": {},
   "outputs": [],
   "source": [
    "x1 = eventsC1.loc['2020-01',:]\n",
    "\n"
   ]
  },
  {
   "cell_type": "code",
   "execution_count": 172,
   "id": "49bb755f",
   "metadata": {},
   "outputs": [
    {
     "data": {
      "text/html": [
       "<div>\n",
       "<style scoped>\n",
       "    .dataframe tbody tr th:only-of-type {\n",
       "        vertical-align: middle;\n",
       "    }\n",
       "\n",
       "    .dataframe tbody tr th {\n",
       "        vertical-align: top;\n",
       "    }\n",
       "\n",
       "    .dataframe thead th {\n",
       "        text-align: right;\n",
       "    }\n",
       "</style>\n",
       "<table border=\"1\" class=\"dataframe\">\n",
       "  <thead>\n",
       "    <tr style=\"text-align: right;\">\n",
       "      <th></th>\n",
       "      <th>end</th>\n",
       "      <th>duration</th>\n",
       "      <th>ibe</th>\n",
       "      <th>min</th>\n",
       "      <th>max</th>\n",
       "      <th>avg</th>\n",
       "    </tr>\n",
       "    <tr>\n",
       "      <th>start</th>\n",
       "      <th></th>\n",
       "      <th></th>\n",
       "      <th></th>\n",
       "      <th></th>\n",
       "      <th></th>\n",
       "      <th></th>\n",
       "    </tr>\n",
       "  </thead>\n",
       "  <tbody>\n",
       "    <tr>\n",
       "      <th>2020-01-01 12:40:00+00:00</th>\n",
       "      <td>2020-01-01 12:41:00+00:00</td>\n",
       "      <td>1</td>\n",
       "      <td>NaT</td>\n",
       "      <td>1218.783333</td>\n",
       "      <td>1264.583333</td>\n",
       "      <td>1241.683333</td>\n",
       "    </tr>\n",
       "    <tr>\n",
       "      <th>2020-01-01 13:10:00+00:00</th>\n",
       "      <td>2020-01-01 13:10:00+00:00</td>\n",
       "      <td>0</td>\n",
       "      <td>0 days 00:30:00</td>\n",
       "      <td>1238.616667</td>\n",
       "      <td>1238.616667</td>\n",
       "      <td>1238.616667</td>\n",
       "    </tr>\n",
       "    <tr>\n",
       "      <th>2020-01-01 13:19:00+00:00</th>\n",
       "      <td>2020-01-01 13:19:00+00:00</td>\n",
       "      <td>0</td>\n",
       "      <td>0 days 00:09:00</td>\n",
       "      <td>1278.383333</td>\n",
       "      <td>1278.383333</td>\n",
       "      <td>1278.383333</td>\n",
       "    </tr>\n",
       "    <tr>\n",
       "      <th>2020-01-02 08:27:00+00:00</th>\n",
       "      <td>2020-01-02 08:27:00+00:00</td>\n",
       "      <td>0</td>\n",
       "      <td>0 days 19:08:00</td>\n",
       "      <td>5.908333</td>\n",
       "      <td>5.908333</td>\n",
       "      <td>5.908333</td>\n",
       "    </tr>\n",
       "    <tr>\n",
       "      <th>2020-01-02 22:07:00+00:00</th>\n",
       "      <td>2020-01-02 22:08:00+00:00</td>\n",
       "      <td>1</td>\n",
       "      <td>0 days 13:40:00</td>\n",
       "      <td>7.293220</td>\n",
       "      <td>7.855000</td>\n",
       "      <td>7.574110</td>\n",
       "    </tr>\n",
       "    <tr>\n",
       "      <th>...</th>\n",
       "      <td>...</td>\n",
       "      <td>...</td>\n",
       "      <td>...</td>\n",
       "      <td>...</td>\n",
       "      <td>...</td>\n",
       "      <td>...</td>\n",
       "    </tr>\n",
       "    <tr>\n",
       "      <th>2020-01-21 14:30:00+00:00</th>\n",
       "      <td>2020-01-21 14:30:00+00:00</td>\n",
       "      <td>0</td>\n",
       "      <td>0 days 00:07:00</td>\n",
       "      <td>1444.338983</td>\n",
       "      <td>1444.338983</td>\n",
       "      <td>1444.338983</td>\n",
       "    </tr>\n",
       "    <tr>\n",
       "      <th>2020-01-21 14:44:00+00:00</th>\n",
       "      <td>2020-01-21 14:44:00+00:00</td>\n",
       "      <td>0</td>\n",
       "      <td>0 days 00:14:00</td>\n",
       "      <td>1403.152542</td>\n",
       "      <td>1403.152542</td>\n",
       "      <td>1403.152542</td>\n",
       "    </tr>\n",
       "    <tr>\n",
       "      <th>2020-01-21 16:55:00+00:00</th>\n",
       "      <td>2020-01-21 16:55:00+00:00</td>\n",
       "      <td>0</td>\n",
       "      <td>0 days 02:11:00</td>\n",
       "      <td>1326.881356</td>\n",
       "      <td>1326.881356</td>\n",
       "      <td>1326.881356</td>\n",
       "    </tr>\n",
       "    <tr>\n",
       "      <th>2020-01-21 22:08:00+00:00</th>\n",
       "      <td>2020-01-21 22:08:00+00:00</td>\n",
       "      <td>0</td>\n",
       "      <td>0 days 05:13:00</td>\n",
       "      <td>3.232203</td>\n",
       "      <td>3.232203</td>\n",
       "      <td>3.232203</td>\n",
       "    </tr>\n",
       "    <tr>\n",
       "      <th>2020-01-23 08:43:00+00:00</th>\n",
       "      <td>2020-01-23 08:43:00+00:00</td>\n",
       "      <td>0</td>\n",
       "      <td>1 days 10:35:00</td>\n",
       "      <td>3.096610</td>\n",
       "      <td>3.096610</td>\n",
       "      <td>3.096610</td>\n",
       "    </tr>\n",
       "  </tbody>\n",
       "</table>\n",
       "<p>61 rows × 6 columns</p>\n",
       "</div>"
      ],
      "text/plain": [
       "                                                end  duration             ibe  \\\n",
       "start                                                                           \n",
       "2020-01-01 12:40:00+00:00 2020-01-01 12:41:00+00:00         1             NaT   \n",
       "2020-01-01 13:10:00+00:00 2020-01-01 13:10:00+00:00         0 0 days 00:30:00   \n",
       "2020-01-01 13:19:00+00:00 2020-01-01 13:19:00+00:00         0 0 days 00:09:00   \n",
       "2020-01-02 08:27:00+00:00 2020-01-02 08:27:00+00:00         0 0 days 19:08:00   \n",
       "2020-01-02 22:07:00+00:00 2020-01-02 22:08:00+00:00         1 0 days 13:40:00   \n",
       "...                                             ...       ...             ...   \n",
       "2020-01-21 14:30:00+00:00 2020-01-21 14:30:00+00:00         0 0 days 00:07:00   \n",
       "2020-01-21 14:44:00+00:00 2020-01-21 14:44:00+00:00         0 0 days 00:14:00   \n",
       "2020-01-21 16:55:00+00:00 2020-01-21 16:55:00+00:00         0 0 days 02:11:00   \n",
       "2020-01-21 22:08:00+00:00 2020-01-21 22:08:00+00:00         0 0 days 05:13:00   \n",
       "2020-01-23 08:43:00+00:00 2020-01-23 08:43:00+00:00         0 1 days 10:35:00   \n",
       "\n",
       "                                   min          max          avg  \n",
       "start                                                             \n",
       "2020-01-01 12:40:00+00:00  1218.783333  1264.583333  1241.683333  \n",
       "2020-01-01 13:10:00+00:00  1238.616667  1238.616667  1238.616667  \n",
       "2020-01-01 13:19:00+00:00  1278.383333  1278.383333  1278.383333  \n",
       "2020-01-02 08:27:00+00:00     5.908333     5.908333     5.908333  \n",
       "2020-01-02 22:07:00+00:00     7.293220     7.855000     7.574110  \n",
       "...                                ...          ...          ...  \n",
       "2020-01-21 14:30:00+00:00  1444.338983  1444.338983  1444.338983  \n",
       "2020-01-21 14:44:00+00:00  1403.152542  1403.152542  1403.152542  \n",
       "2020-01-21 16:55:00+00:00  1326.881356  1326.881356  1326.881356  \n",
       "2020-01-21 22:08:00+00:00     3.232203     3.232203     3.232203  \n",
       "2020-01-23 08:43:00+00:00     3.096610     3.096610     3.096610  \n",
       "\n",
       "[61 rows x 6 columns]"
      ]
     },
     "execution_count": 172,
     "metadata": {},
     "output_type": "execute_result"
    }
   ],
   "source": [
    "x1"
   ]
  },
  {
   "cell_type": "code",
   "execution_count": 195,
   "id": "7446aab1",
   "metadata": {},
   "outputs": [
    {
     "data": {
      "text/plain": [
       "(array([54.,  0., 15.,  0.,  0.,  6.,  0.,  2.,  0.,  2.]),\n",
       " array([0. , 0.4, 0.8, 1.2, 1.6, 2. , 2.4, 2.8, 3.2, 3.6, 4. ]),\n",
       " <BarContainer object of 10 artists>)"
      ]
     },
     "execution_count": 195,
     "metadata": {},
     "output_type": "execute_result"
    },
    {
     "data": {
      "image/png": "[encoded data removed]",
      "text/plain": [
       "<Figure size 720x720 with 12 Axes>"
      ]
     },
     "metadata": {
      "needs_background": "light"
     },
     "output_type": "display_data"
    }
   ],
   "source": [
    "import seaborn as sns \n",
    "# plot\n",
    "fig, ((ax0, ax1, ax2), (ax3, ax4, ax5), (ax6, ax7, ax8),(ax9, ax10, ax11)) = plt.subplots(4, 3, figsize =(10,10))\n",
    "\n",
    "ax0.hist(x1)\n",
    "ax1.hist(x2)\n",
    "ax2.hist(x3)\n",
    "ax3.hist(x4)\n",
    "ax4.hist(x5)\n",
    "ax5.hist(x6)\n",
    "ax6.hist(x7)\n",
    "ax7.hist(x8)\n",
    "ax8.hist(x9)\n",
    "ax9.hist(x10)\n",
    "ax10.hist(x11)\n",
    "ax11.hist(x12)"
   ]
  },
  {
   "cell_type": "code",
   "execution_count": 184,
   "id": "4dad441b",
   "metadata": {},
   "outputs": [
    {
     "data": {
      "text/plain": [
       "(array([40.,  0., 14.,  0.,  3.,  0.,  2.,  0.,  1.,  1.]),\n",
       " array([0. , 0.5, 1. , 1.5, 2. , 2.5, 3. , 3.5, 4. , 4.5, 5. ]),\n",
       " <BarContainer object of 10 artists>)"
      ]
     },
     "execution_count": 184,
     "metadata": {},
     "output_type": "execute_result"
    },
    {
     "data": {
      "image/png": "[encoded data removed]",
      "text/plain": [
       "<Figure size 432x288 with 1 Axes>"
      ]
     },
     "metadata": {
      "needs_background": "light"
     },
     "output_type": "display_data"
    }
   ],
   "source": [
    "plt.hist(x1)\n"
   ]
  },
  {
   "cell_type": "code",
   "execution_count": 187,
   "id": "6edc1dfe",
   "metadata": {},
   "outputs": [
    {
     "data": {
      "text/plain": [
       "(array([54.,  0., 15.,  0.,  0.,  6.,  0.,  2.,  0.,  2.]),\n",
       " array([0. , 0.4, 0.8, 1.2, 1.6, 2. , 2.4, 2.8, 3.2, 3.6, 4. ]),\n",
       " <BarContainer object of 10 artists>)"
      ]
     },
     "execution_count": 187,
     "metadata": {},
     "output_type": "execute_result"
    },
    {
     "data": {
      "image/png": "[encoded data removed]",
      "text/plain": [
       "<Figure size 432x288 with 1 Axes>"
      ]
     },
     "metadata": {
      "needs_background": "light"
     },
     "output_type": "display_data"
    }
   ],
   "source": [
    "plt.hist(x1)\n",
    "plt.hist(x2)\n",
    "plt.hist(x3)\n",
    "plt.hist(x4)\n",
    "plt.hist(x5)\n",
    "plt.hist(x6)\n",
    "plt.hist(x7)\n",
    "plt.hist(x8)\n",
    "plt.hist(x9)\n",
    "plt.hist(x10)\n",
    "plt.hist(x11)\n",
    "plt.hist(x12)"
   ]
  },
  {
   "cell_type": "code",
   "execution_count": 188,
   "id": "a19af2d5",
   "metadata": {},
   "outputs": [],
   "source": [
    "y1 = eventsC1.loc['2020-01', 'avg']\n",
    "y2 = eventsC1.loc['2020-02', 'avg']\n",
    "y3 = eventsC1.loc['2020-03', 'avg']\n",
    "y4 = eventsC1.loc['2020-04', 'avg']\n",
    "y5 = eventsC1.loc['2020-05', 'avg']\n",
    "y6 = eventsC1.loc['2020-06', 'avg']\n",
    "y7 = eventsC1.loc['2020-07', 'avg']\n",
    "y8 = eventsC1.loc['2020-08', 'avg']\n",
    "y9 = eventsC1.loc['2020-09', 'avg']\n",
    "y10 = eventsC1.loc['2020-10', 'avg']\n",
    "y11 = eventsC1.loc['2020-11', 'avg']\n",
    "y12 = eventsC1.loc['2020-12', 'avg']"
   ]
  },
  {
   "cell_type": "code",
   "execution_count": 189,
   "id": "e5f84d4e",
   "metadata": {},
   "outputs": [
    {
     "data": {
      "text/plain": [
       "(array([32.,  0.,  0.,  0.,  1.,  0.,  3., 11., 12., 20.]),\n",
       " array([-1.22666667e+00,  1.48880167e+02,  2.98987000e+02,  4.49093833e+02,\n",
       "         5.99200667e+02,  7.49307500e+02,  8.99414333e+02,  1.04952117e+03,\n",
       "         1.19962800e+03,  1.34973483e+03,  1.49984167e+03]),\n",
       " <BarContainer object of 10 artists>)"
      ]
     },
     "execution_count": 189,
     "metadata": {},
     "output_type": "execute_result"
    },
    {
     "data": {
      "image/png": "[encoded data removed]",
      "text/plain": [
       "<Figure size 432x288 with 1 Axes>"
      ]
     },
     "metadata": {
      "needs_background": "light"
     },
     "output_type": "display_data"
    }
   ],
   "source": [
    "plt.hist(y1)\n",
    "plt.hist(y2)\n",
    "plt.hist(y3)\n",
    "plt.hist(y4)\n",
    "plt.hist(y5)\n",
    "plt.hist(y6)\n",
    "plt.hist(y7)\n",
    "plt.hist(y8)\n",
    "plt.hist(y9)\n",
    "plt.hist(y10)\n",
    "plt.hist(y11)\n",
    "plt.hist(y12)"
   ]
  },
  {
   "cell_type": "code",
   "execution_count": 196,
   "id": "596362fe",
   "metadata": {},
   "outputs": [
    {
     "data": {
      "text/plain": [
       "(array([32.,  0.,  0.,  0.,  1.,  0.,  3., 11., 12., 20.]),\n",
       " array([-1.22666667e+00,  1.48880167e+02,  2.98987000e+02,  4.49093833e+02,\n",
       "         5.99200667e+02,  7.49307500e+02,  8.99414333e+02,  1.04952117e+03,\n",
       "         1.19962800e+03,  1.34973483e+03,  1.49984167e+03]),\n",
       " <BarContainer object of 10 artists>)"
      ]
     },
     "execution_count": 196,
     "metadata": {},
     "output_type": "execute_result"
    },
    {
     "data": {
      "image/png": "[encoded data removed]",
      "text/plain": [
       "<Figure size 720x720 with 12 Axes>"
      ]
     },
     "metadata": {
      "needs_background": "light"
     },
     "output_type": "display_data"
    }
   ],
   "source": [
    "fig, ((ax0, ax1, ax2), (ax3, ax4, ax5), (ax6, ax7, ax8),(ax9, ax10, ax11)) = plt.subplots(4, 3, figsize =(10,10))\n",
    "\n",
    "ax0.hist(y1)\n",
    "ax1.hist(y2)\n",
    "ax2.hist(y3)\n",
    "ax3.hist(y4)\n",
    "ax4.hist(y5)\n",
    "ax5.hist(y6)\n",
    "ax6.hist(y7)\n",
    "ax7.hist(y8)\n",
    "ax8.hist(y9)\n",
    "ax9.hist(y10)\n",
    "ax10.hist(y11)\n",
    "ax11.hist(y12)"
   ]
  },
  {
   "cell_type": "code",
   "execution_count": 139,
   "id": "2b5f57d5",
   "metadata": {},
   "outputs": [
    {
     "data": {
      "text/html": [
       "<div>\n",
       "<style scoped>\n",
       "    .dataframe tbody tr th:only-of-type {\n",
       "        vertical-align: middle;\n",
       "    }\n",
       "\n",
       "    .dataframe tbody tr th {\n",
       "        vertical-align: top;\n",
       "    }\n",
       "\n",
       "    .dataframe thead th {\n",
       "        text-align: right;\n",
       "    }\n",
       "</style>\n",
       "<table border=\"1\" class=\"dataframe\">\n",
       "  <thead>\n",
       "    <tr style=\"text-align: right;\">\n",
       "      <th></th>\n",
       "      <th>duration</th>\n",
       "    </tr>\n",
       "  </thead>\n",
       "  <tbody>\n",
       "  </tbody>\n",
       "</table>\n",
       "</div>"
      ],
      "text/plain": [
       "Empty DataFrame\n",
       "Columns: [duration]\n",
       "Index: []"
      ]
     },
     "execution_count": 139,
     "metadata": {},
     "output_type": "execute_result"
    }
   ],
   "source": [
    "x1"
   ]
  }
 ],
 "metadata": {
  "kernelspec": {
   "display_name": "Python 3",
   "language": "python",
   "name": "python3"
  },
  "language_info": {
   "codemirror_mode": {
    "name": "ipython",
    "version": 3
   },
   "file_extension": ".py",
   "mimetype": "text/x-python",
   "name": "python",
   "nbconvert_exporter": "python",
   "pygments_lexer": "ipython3",
   "version": "3.8.8"
  }
 },
 "nbformat": 4,
 "nbformat_minor": 5
}
