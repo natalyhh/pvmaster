{
 "cells": [
  {
   "cell_type": "code",
   "execution_count": 1,
   "id": "5825031c",
   "metadata": {},
   "outputs": [],
   "source": [
    "from numba.core.extending import get_cython_function_address\n",
    "import pandas as pd\n",
    "import numpy as np\n",
    "import matplotlib.pyplot as plt\n",
    "import glob\n",
    "import datetime\n",
    "import pytz\n",
    "import pvlib"
   ]
  },
  {
   "cell_type": "code",
   "execution_count": 10,
   "id": "346bd878",
   "metadata": {},
   "outputs": [],
   "source": [
    "months = ['2018-01', '2018-02', '2018-03', '2018-04', '2018-05', '2018-06', '2018-07', '2018-08', '2018-09', '2018-10', '2018-11', '2018-12',\n",
    "          '2019-01', '2019-02', '2019-03', '2019-04', '2019-05', '2019-06', '2019-07', '2019-08', '2019-09', '2019-10', '2019-11', '2019-12',\n",
    "          '2020-01', '2020-02', '2020-03', '2020-04', '2020-05', '2020-06', '2020-07', '2020-08', '2020-09', '2020-10', '2020-11', '2020-12',\n",
    "          '2021-01']\n",
    "\n",
    "years = ['2018', '2019', '2020', '2021']\n",
    "\n",
    "main_path = \"/Users/nataly/opt/AnacondaProjects/SAPIENS/CLEAN/\"  \n"
   ]
  },
  {
   "cell_type": "code",
   "execution_count": 3,
   "id": "110bddd7",
   "metadata": {},
   "outputs": [],
   "source": [
    "ghiFLAG = pd.DataFrame(columns = ['PPmax', 'PPmin', 'ERmax', 'ERmin',\n",
    "                                 'F_GHIP_SI02pt100', 'F_GHIP_SMP11', 'F_GHIP_SMP22', \n",
    "                                 'F_GHIP_SPN1', 'F_GHIT_SMP22'])\n",
    "\n",
    "difFLAG = pd.DataFrame(columns = ['PPmax', 'PPmin', 'ERmax', 'ERmin'\n",
    "                                  'F_DfHIP_SPN1', 'F_DfHIRP_SMP11', 'F_DfHIT_SMP22',\n",
    "                                  'DIF_GLO_REF_SPN1'])  \n",
    "\n",
    "dniFLAG = pd.DataFrame(columns = ['PPmax', 'PPmin', 'ERmax', 'ERmin', 'F_DNI_SHP1'])"
   ]
  },
  {
   "cell_type": "code",
   "execution_count": 4,
   "id": "be1b4c76",
   "metadata": {},
   "outputs": [],
   "source": [
    "location = pvlib.location.Location(-27.430891, -48.441406, tz = 'Brazil/East',altitude= 2.74, name = 'Florianopolis')  # check for daylight savings 'Etc/GMT-3' 'America/Sao_Paulo'\n",
    "\n",
    "missing = pd.DataFrame(columns= ['days'], index = years) # count data record missing in a year, for each year.\n",
    "\n",
    "PPmin = -4  # minimum physically possible limit\n",
    "ERmin = -2  # minimum extremely rare limit\n"
   ]
  },
  {
   "cell_type": "code",
   "execution_count": 8,
   "id": "f3d5a412",
   "metadata": {},
   "outputs": [],
   "source": [
    "year = years[3]"
   ]
  },
  {
   "cell_type": "code",
   "execution_count": 11,
   "id": "82fe7987",
   "metadata": {},
   "outputs": [],
   "source": [
    "dfghi = pd.read_pickle(main_path+year+'GHI.pkl')"
   ]
  },
  {
   "cell_type": "code",
   "execution_count": 12,
   "id": "56b254da",
   "metadata": {},
   "outputs": [
    {
     "data": {
      "text/html": [
       "<div>\n",
       "<style scoped>\n",
       "    .dataframe tbody tr th:only-of-type {\n",
       "        vertical-align: middle;\n",
       "    }\n",
       "\n",
       "    .dataframe tbody tr th {\n",
       "        vertical-align: top;\n",
       "    }\n",
       "\n",
       "    .dataframe thead th {\n",
       "        text-align: right;\n",
       "    }\n",
       "</style>\n",
       "<table border=\"1\" class=\"dataframe\">\n",
       "  <thead>\n",
       "    <tr style=\"text-align: right;\">\n",
       "      <th></th>\n",
       "      <th>GHIP_SI02pt100</th>\n",
       "      <th>GHIP_SMP11</th>\n",
       "      <th>GHIP_SMP22</th>\n",
       "      <th>GHIP_SPN1</th>\n",
       "      <th>GHIT_SMP22</th>\n",
       "    </tr>\n",
       "    <tr>\n",
       "      <th>TIMESTAMP</th>\n",
       "      <th></th>\n",
       "      <th></th>\n",
       "      <th></th>\n",
       "      <th></th>\n",
       "      <th></th>\n",
       "    </tr>\n",
       "  </thead>\n",
       "  <tbody>\n",
       "    <tr>\n",
       "      <th>2021-01-01 00:00:00</th>\n",
       "      <td>0.0</td>\n",
       "      <td>-4.8</td>\n",
       "      <td>0.6</td>\n",
       "      <td>2.284</td>\n",
       "      <td>-1.0</td>\n",
       "    </tr>\n",
       "    <tr>\n",
       "      <th>2021-01-01 00:00:01</th>\n",
       "      <td>0.0</td>\n",
       "      <td>-4.8</td>\n",
       "      <td>0.6</td>\n",
       "      <td>2.260</td>\n",
       "      <td>-1.0</td>\n",
       "    </tr>\n",
       "    <tr>\n",
       "      <th>2021-01-01 00:00:02</th>\n",
       "      <td>0.0</td>\n",
       "      <td>-4.8</td>\n",
       "      <td>0.6</td>\n",
       "      <td>2.775</td>\n",
       "      <td>-1.0</td>\n",
       "    </tr>\n",
       "    <tr>\n",
       "      <th>2021-01-01 00:00:05</th>\n",
       "      <td>0.0</td>\n",
       "      <td>-4.8</td>\n",
       "      <td>0.6</td>\n",
       "      <td>3.692</td>\n",
       "      <td>-1.0</td>\n",
       "    </tr>\n",
       "    <tr>\n",
       "      <th>2021-01-01 00:00:06</th>\n",
       "      <td>0.0</td>\n",
       "      <td>-4.8</td>\n",
       "      <td>0.6</td>\n",
       "      <td>3.077</td>\n",
       "      <td>-1.0</td>\n",
       "    </tr>\n",
       "    <tr>\n",
       "      <th>...</th>\n",
       "      <td>...</td>\n",
       "      <td>...</td>\n",
       "      <td>...</td>\n",
       "      <td>...</td>\n",
       "      <td>...</td>\n",
       "    </tr>\n",
       "    <tr>\n",
       "      <th>2021-01-21 14:25:04</th>\n",
       "      <td>180.1</td>\n",
       "      <td>166.1</td>\n",
       "      <td>171.9</td>\n",
       "      <td>177.000</td>\n",
       "      <td>142.0</td>\n",
       "    </tr>\n",
       "    <tr>\n",
       "      <th>2021-01-21 14:25:05</th>\n",
       "      <td>180.0</td>\n",
       "      <td>166.0</td>\n",
       "      <td>171.8</td>\n",
       "      <td>176.900</td>\n",
       "      <td>142.0</td>\n",
       "    </tr>\n",
       "    <tr>\n",
       "      <th>2021-01-21 14:25:06</th>\n",
       "      <td>179.9</td>\n",
       "      <td>165.9</td>\n",
       "      <td>171.6</td>\n",
       "      <td>176.400</td>\n",
       "      <td>142.0</td>\n",
       "    </tr>\n",
       "    <tr>\n",
       "      <th>2021-01-21 14:25:07</th>\n",
       "      <td>179.7</td>\n",
       "      <td>165.8</td>\n",
       "      <td>171.5</td>\n",
       "      <td>177.300</td>\n",
       "      <td>142.0</td>\n",
       "    </tr>\n",
       "    <tr>\n",
       "      <th>2021-01-21 14:25:08</th>\n",
       "      <td>179.6</td>\n",
       "      <td>165.7</td>\n",
       "      <td>171.4</td>\n",
       "      <td>174.400</td>\n",
       "      <td>142.0</td>\n",
       "    </tr>\n",
       "  </tbody>\n",
       "</table>\n",
       "<p>1779925 rows × 5 columns</p>\n",
       "</div>"
      ],
      "text/plain": [
       "                     GHIP_SI02pt100  GHIP_SMP11  GHIP_SMP22  GHIP_SPN1  \\\n",
       "TIMESTAMP                                                                \n",
       "2021-01-01 00:00:00             0.0        -4.8         0.6      2.284   \n",
       "2021-01-01 00:00:01             0.0        -4.8         0.6      2.260   \n",
       "2021-01-01 00:00:02             0.0        -4.8         0.6      2.775   \n",
       "2021-01-01 00:00:05             0.0        -4.8         0.6      3.692   \n",
       "2021-01-01 00:00:06             0.0        -4.8         0.6      3.077   \n",
       "...                             ...         ...         ...        ...   \n",
       "2021-01-21 14:25:04           180.1       166.1       171.9    177.000   \n",
       "2021-01-21 14:25:05           180.0       166.0       171.8    176.900   \n",
       "2021-01-21 14:25:06           179.9       165.9       171.6    176.400   \n",
       "2021-01-21 14:25:07           179.7       165.8       171.5    177.300   \n",
       "2021-01-21 14:25:08           179.6       165.7       171.4    174.400   \n",
       "\n",
       "                     GHIT_SMP22  \n",
       "TIMESTAMP                        \n",
       "2021-01-01 00:00:00        -1.0  \n",
       "2021-01-01 00:00:01        -1.0  \n",
       "2021-01-01 00:00:02        -1.0  \n",
       "2021-01-01 00:00:05        -1.0  \n",
       "2021-01-01 00:00:06        -1.0  \n",
       "...                         ...  \n",
       "2021-01-21 14:25:04       142.0  \n",
       "2021-01-21 14:25:05       142.0  \n",
       "2021-01-21 14:25:06       142.0  \n",
       "2021-01-21 14:25:07       142.0  \n",
       "2021-01-21 14:25:08       142.0  \n",
       "\n",
       "[1779925 rows x 5 columns]"
      ]
     },
     "execution_count": 12,
     "metadata": {},
     "output_type": "execute_result"
    }
   ],
   "source": [
    "dfghi"
   ]
  },
  {
   "cell_type": "code",
   "execution_count": 13,
   "id": "4c5d47ee",
   "metadata": {},
   "outputs": [],
   "source": [
    "    dfghi.index = dfghi.index.tz_localize(location.tz)"
   ]
  },
  {
   "cell_type": "code",
   "execution_count": 14,
   "id": "6bc29c7a",
   "metadata": {},
   "outputs": [],
   "source": [
    "naive_times = pd.date_range(start = dfghi.index.min(), end = dfghi.index.max(), freq='1s', tz = location.tz)\n",
    "naive_times = pd.DatetimeIndex(naive_times)   # PROBLEM: WILL HAVE TO DEAL WITH MISSING VALUES\n",
    "\n",
    "missing.loc[year] = (len(naive_times) - len(dfghi.index))/3600/24"
   ]
  },
  {
   "cell_type": "code",
   "execution_count": 15,
   "id": "077461db",
   "metadata": {},
   "outputs": [
    {
     "data": {
      "text/html": [
       "<div>\n",
       "<style scoped>\n",
       "    .dataframe tbody tr th:only-of-type {\n",
       "        vertical-align: middle;\n",
       "    }\n",
       "\n",
       "    .dataframe tbody tr th {\n",
       "        vertical-align: top;\n",
       "    }\n",
       "\n",
       "    .dataframe thead th {\n",
       "        text-align: right;\n",
       "    }\n",
       "</style>\n",
       "<table border=\"1\" class=\"dataframe\">\n",
       "  <thead>\n",
       "    <tr style=\"text-align: right;\">\n",
       "      <th></th>\n",
       "      <th>days</th>\n",
       "    </tr>\n",
       "  </thead>\n",
       "  <tbody>\n",
       "    <tr>\n",
       "      <th>2018</th>\n",
       "      <td>NaN</td>\n",
       "    </tr>\n",
       "    <tr>\n",
       "      <th>2019</th>\n",
       "      <td>NaN</td>\n",
       "    </tr>\n",
       "    <tr>\n",
       "      <th>2020</th>\n",
       "      <td>NaN</td>\n",
       "    </tr>\n",
       "    <tr>\n",
       "      <th>2021</th>\n",
       "      <td>-0.000185</td>\n",
       "    </tr>\n",
       "  </tbody>\n",
       "</table>\n",
       "</div>"
      ],
      "text/plain": [
       "          days\n",
       "2018       NaN\n",
       "2019       NaN\n",
       "2020       NaN\n",
       "2021 -0.000185"
      ]
     },
     "execution_count": 15,
     "metadata": {},
     "output_type": "execute_result"
    }
   ],
   "source": [
    "missing"
   ]
  },
  {
   "cell_type": "code",
   "execution_count": 16,
   "id": "f75894f2",
   "metadata": {},
   "outputs": [],
   "source": [
    "    eth = pvlib.irradiance.get_extra_radiation(naive_times, solar_constant = 1366.1, method = 'nrel').to_frame()\n",
    "    solpos = pvlib.solarposition.get_solarposition(naive_times, location.latitude, location.longitude, location.altitude, pressure = 101293, temperature = 25)\n",
    "\n",
    "    #cosSZA = pd.DataFrame(index = naive_times, columns=['caz'])\n",
    "    cosSZA = np.cos(np.deg2rad(solpos.azimuth)).to_frame()"
   ]
  },
  {
   "cell_type": "code",
   "execution_count": 17,
   "id": "11812d00",
   "metadata": {},
   "outputs": [],
   "source": [
    "    ghiFLAG['PPmax'] = eth[0]*1.5*(cosSZA.azimuth**(1.2)) + 100\n",
    "    ghiFLAG['PPmin'] = PPmin\n",
    "    ghiFLAG['ERmax'] = eth[0]*1.2*(cosSZA.azimuth**(1.2)) + 50\n",
    "    ghiFLAG['ERmin'] = ERmin"
   ]
  },
  {
   "cell_type": "code",
   "execution_count": 18,
   "id": "e51885d4",
   "metadata": {},
   "outputs": [],
   "source": [
    "    ghiFLAG = pd.merge(ghiFLAG, dfghi, left_index = True, right_index = True, how='outer')  # index by naive times. how = 'inner': index by recorded times.\n"
   ]
  },
  {
   "cell_type": "code",
   "execution_count": 19,
   "id": "6c60eebd",
   "metadata": {},
   "outputs": [
    {
     "data": {
      "text/html": [
       "<div>\n",
       "<style scoped>\n",
       "    .dataframe tbody tr th:only-of-type {\n",
       "        vertical-align: middle;\n",
       "    }\n",
       "\n",
       "    .dataframe tbody tr th {\n",
       "        vertical-align: top;\n",
       "    }\n",
       "\n",
       "    .dataframe thead th {\n",
       "        text-align: right;\n",
       "    }\n",
       "</style>\n",
       "<table border=\"1\" class=\"dataframe\">\n",
       "  <thead>\n",
       "    <tr style=\"text-align: right;\">\n",
       "      <th></th>\n",
       "      <th>PPmax</th>\n",
       "      <th>PPmin</th>\n",
       "      <th>ERmax</th>\n",
       "      <th>ERmin</th>\n",
       "      <th>F_GHIP_SI02pt100</th>\n",
       "      <th>F_GHIP_SMP11</th>\n",
       "      <th>F_GHIP_SMP22</th>\n",
       "      <th>F_GHIP_SPN1</th>\n",
       "      <th>F_GHIT_SMP22</th>\n",
       "      <th>GHIP_SI02pt100</th>\n",
       "      <th>GHIP_SMP11</th>\n",
       "      <th>GHIP_SMP22</th>\n",
       "      <th>GHIP_SPN1</th>\n",
       "      <th>GHIT_SMP22</th>\n",
       "    </tr>\n",
       "  </thead>\n",
       "  <tbody>\n",
       "    <tr>\n",
       "      <th>2021-01-01 00:00:00-03:00</th>\n",
       "      <td>NaN</td>\n",
       "      <td>-4</td>\n",
       "      <td>NaN</td>\n",
       "      <td>-2</td>\n",
       "      <td>NaN</td>\n",
       "      <td>NaN</td>\n",
       "      <td>NaN</td>\n",
       "      <td>NaN</td>\n",
       "      <td>NaN</td>\n",
       "      <td>0.0</td>\n",
       "      <td>-4.8</td>\n",
       "      <td>0.6</td>\n",
       "      <td>2.284</td>\n",
       "      <td>-1.0</td>\n",
       "    </tr>\n",
       "    <tr>\n",
       "      <th>2021-01-01 00:00:01-03:00</th>\n",
       "      <td>NaN</td>\n",
       "      <td>-4</td>\n",
       "      <td>NaN</td>\n",
       "      <td>-2</td>\n",
       "      <td>NaN</td>\n",
       "      <td>NaN</td>\n",
       "      <td>NaN</td>\n",
       "      <td>NaN</td>\n",
       "      <td>NaN</td>\n",
       "      <td>0.0</td>\n",
       "      <td>-4.8</td>\n",
       "      <td>0.6</td>\n",
       "      <td>2.260</td>\n",
       "      <td>-1.0</td>\n",
       "    </tr>\n",
       "    <tr>\n",
       "      <th>2021-01-01 00:00:02-03:00</th>\n",
       "      <td>NaN</td>\n",
       "      <td>-4</td>\n",
       "      <td>NaN</td>\n",
       "      <td>-2</td>\n",
       "      <td>NaN</td>\n",
       "      <td>NaN</td>\n",
       "      <td>NaN</td>\n",
       "      <td>NaN</td>\n",
       "      <td>NaN</td>\n",
       "      <td>0.0</td>\n",
       "      <td>-4.8</td>\n",
       "      <td>0.6</td>\n",
       "      <td>2.775</td>\n",
       "      <td>-1.0</td>\n",
       "    </tr>\n",
       "    <tr>\n",
       "      <th>2021-01-01 00:00:03-03:00</th>\n",
       "      <td>NaN</td>\n",
       "      <td>-4</td>\n",
       "      <td>NaN</td>\n",
       "      <td>-2</td>\n",
       "      <td>NaN</td>\n",
       "      <td>NaN</td>\n",
       "      <td>NaN</td>\n",
       "      <td>NaN</td>\n",
       "      <td>NaN</td>\n",
       "      <td>NaN</td>\n",
       "      <td>NaN</td>\n",
       "      <td>NaN</td>\n",
       "      <td>NaN</td>\n",
       "      <td>NaN</td>\n",
       "    </tr>\n",
       "    <tr>\n",
       "      <th>2021-01-01 00:00:04-03:00</th>\n",
       "      <td>NaN</td>\n",
       "      <td>-4</td>\n",
       "      <td>NaN</td>\n",
       "      <td>-2</td>\n",
       "      <td>NaN</td>\n",
       "      <td>NaN</td>\n",
       "      <td>NaN</td>\n",
       "      <td>NaN</td>\n",
       "      <td>NaN</td>\n",
       "      <td>NaN</td>\n",
       "      <td>NaN</td>\n",
       "      <td>NaN</td>\n",
       "      <td>NaN</td>\n",
       "      <td>NaN</td>\n",
       "    </tr>\n",
       "    <tr>\n",
       "      <th>...</th>\n",
       "      <td>...</td>\n",
       "      <td>...</td>\n",
       "      <td>...</td>\n",
       "      <td>...</td>\n",
       "      <td>...</td>\n",
       "      <td>...</td>\n",
       "      <td>...</td>\n",
       "      <td>...</td>\n",
       "      <td>...</td>\n",
       "      <td>...</td>\n",
       "      <td>...</td>\n",
       "      <td>...</td>\n",
       "      <td>...</td>\n",
       "      <td>...</td>\n",
       "    </tr>\n",
       "    <tr>\n",
       "      <th>2021-01-21 14:25:04-03:00</th>\n",
       "      <td>333.671023</td>\n",
       "      <td>-4</td>\n",
       "      <td>236.936818</td>\n",
       "      <td>-2</td>\n",
       "      <td>NaN</td>\n",
       "      <td>NaN</td>\n",
       "      <td>NaN</td>\n",
       "      <td>NaN</td>\n",
       "      <td>NaN</td>\n",
       "      <td>180.1</td>\n",
       "      <td>166.1</td>\n",
       "      <td>171.9</td>\n",
       "      <td>177.000</td>\n",
       "      <td>142.0</td>\n",
       "    </tr>\n",
       "    <tr>\n",
       "      <th>2021-01-21 14:25:05-03:00</th>\n",
       "      <td>333.580050</td>\n",
       "      <td>-4</td>\n",
       "      <td>236.864040</td>\n",
       "      <td>-2</td>\n",
       "      <td>NaN</td>\n",
       "      <td>NaN</td>\n",
       "      <td>NaN</td>\n",
       "      <td>NaN</td>\n",
       "      <td>NaN</td>\n",
       "      <td>180.0</td>\n",
       "      <td>166.0</td>\n",
       "      <td>171.8</td>\n",
       "      <td>176.900</td>\n",
       "      <td>142.0</td>\n",
       "    </tr>\n",
       "    <tr>\n",
       "      <th>2021-01-21 14:25:06-03:00</th>\n",
       "      <td>333.489101</td>\n",
       "      <td>-4</td>\n",
       "      <td>236.791281</td>\n",
       "      <td>-2</td>\n",
       "      <td>NaN</td>\n",
       "      <td>NaN</td>\n",
       "      <td>NaN</td>\n",
       "      <td>NaN</td>\n",
       "      <td>NaN</td>\n",
       "      <td>179.9</td>\n",
       "      <td>165.9</td>\n",
       "      <td>171.6</td>\n",
       "      <td>176.400</td>\n",
       "      <td>142.0</td>\n",
       "    </tr>\n",
       "    <tr>\n",
       "      <th>2021-01-21 14:25:07-03:00</th>\n",
       "      <td>333.398174</td>\n",
       "      <td>-4</td>\n",
       "      <td>236.718539</td>\n",
       "      <td>-2</td>\n",
       "      <td>NaN</td>\n",
       "      <td>NaN</td>\n",
       "      <td>NaN</td>\n",
       "      <td>NaN</td>\n",
       "      <td>NaN</td>\n",
       "      <td>179.7</td>\n",
       "      <td>165.8</td>\n",
       "      <td>171.5</td>\n",
       "      <td>177.300</td>\n",
       "      <td>142.0</td>\n",
       "    </tr>\n",
       "    <tr>\n",
       "      <th>2021-01-21 14:25:08-03:00</th>\n",
       "      <td>333.307267</td>\n",
       "      <td>-4</td>\n",
       "      <td>236.645813</td>\n",
       "      <td>-2</td>\n",
       "      <td>NaN</td>\n",
       "      <td>NaN</td>\n",
       "      <td>NaN</td>\n",
       "      <td>NaN</td>\n",
       "      <td>NaN</td>\n",
       "      <td>179.6</td>\n",
       "      <td>165.7</td>\n",
       "      <td>171.4</td>\n",
       "      <td>174.400</td>\n",
       "      <td>142.0</td>\n",
       "    </tr>\n",
       "  </tbody>\n",
       "</table>\n",
       "<p>1779929 rows × 14 columns</p>\n",
       "</div>"
      ],
      "text/plain": [
       "                                PPmax  PPmin       ERmax  ERmin  \\\n",
       "2021-01-01 00:00:00-03:00         NaN     -4         NaN     -2   \n",
       "2021-01-01 00:00:01-03:00         NaN     -4         NaN     -2   \n",
       "2021-01-01 00:00:02-03:00         NaN     -4         NaN     -2   \n",
       "2021-01-01 00:00:03-03:00         NaN     -4         NaN     -2   \n",
       "2021-01-01 00:00:04-03:00         NaN     -4         NaN     -2   \n",
       "...                               ...    ...         ...    ...   \n",
       "2021-01-21 14:25:04-03:00  333.671023     -4  236.936818     -2   \n",
       "2021-01-21 14:25:05-03:00  333.580050     -4  236.864040     -2   \n",
       "2021-01-21 14:25:06-03:00  333.489101     -4  236.791281     -2   \n",
       "2021-01-21 14:25:07-03:00  333.398174     -4  236.718539     -2   \n",
       "2021-01-21 14:25:08-03:00  333.307267     -4  236.645813     -2   \n",
       "\n",
       "                          F_GHIP_SI02pt100 F_GHIP_SMP11 F_GHIP_SMP22  \\\n",
       "2021-01-01 00:00:00-03:00              NaN          NaN          NaN   \n",
       "2021-01-01 00:00:01-03:00              NaN          NaN          NaN   \n",
       "2021-01-01 00:00:02-03:00              NaN          NaN          NaN   \n",
       "2021-01-01 00:00:03-03:00              NaN          NaN          NaN   \n",
       "2021-01-01 00:00:04-03:00              NaN          NaN          NaN   \n",
       "...                                    ...          ...          ...   \n",
       "2021-01-21 14:25:04-03:00              NaN          NaN          NaN   \n",
       "2021-01-21 14:25:05-03:00              NaN          NaN          NaN   \n",
       "2021-01-21 14:25:06-03:00              NaN          NaN          NaN   \n",
       "2021-01-21 14:25:07-03:00              NaN          NaN          NaN   \n",
       "2021-01-21 14:25:08-03:00              NaN          NaN          NaN   \n",
       "\n",
       "                          F_GHIP_SPN1 F_GHIT_SMP22  GHIP_SI02pt100  \\\n",
       "2021-01-01 00:00:00-03:00         NaN          NaN             0.0   \n",
       "2021-01-01 00:00:01-03:00         NaN          NaN             0.0   \n",
       "2021-01-01 00:00:02-03:00         NaN          NaN             0.0   \n",
       "2021-01-01 00:00:03-03:00         NaN          NaN             NaN   \n",
       "2021-01-01 00:00:04-03:00         NaN          NaN             NaN   \n",
       "...                               ...          ...             ...   \n",
       "2021-01-21 14:25:04-03:00         NaN          NaN           180.1   \n",
       "2021-01-21 14:25:05-03:00         NaN          NaN           180.0   \n",
       "2021-01-21 14:25:06-03:00         NaN          NaN           179.9   \n",
       "2021-01-21 14:25:07-03:00         NaN          NaN           179.7   \n",
       "2021-01-21 14:25:08-03:00         NaN          NaN           179.6   \n",
       "\n",
       "                           GHIP_SMP11  GHIP_SMP22  GHIP_SPN1  GHIT_SMP22  \n",
       "2021-01-01 00:00:00-03:00        -4.8         0.6      2.284        -1.0  \n",
       "2021-01-01 00:00:01-03:00        -4.8         0.6      2.260        -1.0  \n",
       "2021-01-01 00:00:02-03:00        -4.8         0.6      2.775        -1.0  \n",
       "2021-01-01 00:00:03-03:00         NaN         NaN        NaN         NaN  \n",
       "2021-01-01 00:00:04-03:00         NaN         NaN        NaN         NaN  \n",
       "...                               ...         ...        ...         ...  \n",
       "2021-01-21 14:25:04-03:00       166.1       171.9    177.000       142.0  \n",
       "2021-01-21 14:25:05-03:00       166.0       171.8    176.900       142.0  \n",
       "2021-01-21 14:25:06-03:00       165.9       171.6    176.400       142.0  \n",
       "2021-01-21 14:25:07-03:00       165.8       171.5    177.300       142.0  \n",
       "2021-01-21 14:25:08-03:00       165.7       171.4    174.400       142.0  \n",
       "\n",
       "[1779929 rows x 14 columns]"
      ]
     },
     "execution_count": 19,
     "metadata": {},
     "output_type": "execute_result"
    }
   ],
   "source": [
    "ghiFLAG"
   ]
  },
  {
   "cell_type": "code",
   "execution_count": 73,
   "id": "60dd2991",
   "metadata": {},
   "outputs": [
    {
     "name": "stderr",
     "output_type": "stream",
     "text": [
      "<ipython-input-73-d78b93731df1>:3: FutureWarning: Automatic reindexing on DataFrame vs Series comparisons is deprecated and will raise ValueError in a future version.  Do `left, right = left.align(right, axis=1, copy=False)` before e.g. `left == right`\n",
      "  ghiFLAG[['GHIP_SI02pt100','GHIT_SMP22']] < ghiFLAG['PPmin'],\n"
     ]
    },
    {
     "ename": "TypeError",
     "evalue": "'<' not supported between instances of 'Timestamp' and 'str'",
     "output_type": "error",
     "traceback": [
      "\u001b[0;31m---------------------------------------------------------------------------\u001b[0m",
      "\u001b[0;31mTypeError\u001b[0m                                 Traceback (most recent call last)",
      "\u001b[0;32m<ipython-input-73-d78b93731df1>\u001b[0m in \u001b[0;36m<module>\u001b[0;34m\u001b[0m\n\u001b[1;32m      1\u001b[0m conditions = [ ghiFLAG[['GHIP_SI02pt100','GHIT_SMP22']].isna(), \n\u001b[1;32m      2\u001b[0m                    \u001b[0mghiFLAG\u001b[0m\u001b[0;34m[\u001b[0m\u001b[0;34m[\u001b[0m\u001b[0;34m'GHIP_SI02pt100'\u001b[0m\u001b[0;34m,\u001b[0m\u001b[0;34m'GHIT_SMP22'\u001b[0m\u001b[0;34m]\u001b[0m\u001b[0;34m]\u001b[0m\u001b[0;34m==\u001b[0m \u001b[0;34m-\u001b[0m\u001b[0;36m9999\u001b[0m\u001b[0;34m,\u001b[0m\u001b[0;34m\u001b[0m\u001b[0;34m\u001b[0m\u001b[0m\n\u001b[0;32m----> 3\u001b[0;31m                    \u001b[0mghiFLAG\u001b[0m\u001b[0;34m[\u001b[0m\u001b[0;34m[\u001b[0m\u001b[0;34m'GHIP_SI02pt100'\u001b[0m\u001b[0;34m,\u001b[0m\u001b[0;34m'GHIT_SMP22'\u001b[0m\u001b[0;34m]\u001b[0m\u001b[0;34m]\u001b[0m \u001b[0;34m<\u001b[0m \u001b[0mghiFLAG\u001b[0m\u001b[0;34m[\u001b[0m\u001b[0;34m'PPmin'\u001b[0m\u001b[0;34m]\u001b[0m\u001b[0;34m,\u001b[0m\u001b[0;34m\u001b[0m\u001b[0;34m\u001b[0m\u001b[0m\n\u001b[0m\u001b[1;32m      4\u001b[0m                   \u001b[0;34m(\u001b[0m\u001b[0mghiFLAG\u001b[0m\u001b[0;34m[\u001b[0m\u001b[0;34m[\u001b[0m\u001b[0;34m'GHIP_SI02pt100'\u001b[0m\u001b[0;34m,\u001b[0m\u001b[0;34m'GHIT_SMP22'\u001b[0m\u001b[0;34m]\u001b[0m\u001b[0;34m]\u001b[0m \u001b[0;34m>\u001b[0m \u001b[0mghiFLAG\u001b[0m\u001b[0;34m[\u001b[0m\u001b[0;34m'PPmin'\u001b[0m\u001b[0;34m]\u001b[0m\u001b[0;34m)\u001b[0m \u001b[0;34m&\u001b[0m \u001b[0;34m(\u001b[0m\u001b[0mghiFLAG\u001b[0m\u001b[0;34m[\u001b[0m\u001b[0;34m[\u001b[0m\u001b[0;34m'GHIP_SI02pt100'\u001b[0m\u001b[0;34m,\u001b[0m\u001b[0;34m'GHIT_SMP22'\u001b[0m\u001b[0;34m]\u001b[0m\u001b[0;34m]\u001b[0m\u001b[0;34m<\u001b[0m \u001b[0mghiFLAG\u001b[0m\u001b[0;34m[\u001b[0m\u001b[0;34m'ERmin'\u001b[0m\u001b[0;34m]\u001b[0m\u001b[0;34m)\u001b[0m\u001b[0;34m,\u001b[0m\u001b[0;34m\u001b[0m\u001b[0;34m\u001b[0m\u001b[0m\n\u001b[1;32m      5\u001b[0m                   \u001b[0;34m(\u001b[0m\u001b[0mghiFLAG\u001b[0m\u001b[0;34m[\u001b[0m\u001b[0;34m[\u001b[0m\u001b[0;34m'GHIP_SI02pt100'\u001b[0m\u001b[0;34m,\u001b[0m\u001b[0;34m'GHIT_SMP22'\u001b[0m\u001b[0;34m]\u001b[0m\u001b[0;34m]\u001b[0m \u001b[0;34m>\u001b[0m \u001b[0mghiFLAG\u001b[0m\u001b[0;34m[\u001b[0m\u001b[0;34m'ERmax'\u001b[0m\u001b[0;34m]\u001b[0m\u001b[0;34m)\u001b[0m \u001b[0;34m&\u001b[0m \u001b[0;34m(\u001b[0m\u001b[0mghiFLAG\u001b[0m\u001b[0;34m[\u001b[0m\u001b[0;34m[\u001b[0m\u001b[0;34m'GHIP_SI02pt100'\u001b[0m\u001b[0;34m,\u001b[0m\u001b[0;34m'GHIT_SMP22'\u001b[0m\u001b[0;34m]\u001b[0m\u001b[0;34m]\u001b[0m\u001b[0;34m<\u001b[0m \u001b[0mghiFLAG\u001b[0m\u001b[0;34m[\u001b[0m\u001b[0;34m'PPmax'\u001b[0m\u001b[0;34m]\u001b[0m\u001b[0;34m)\u001b[0m\u001b[0;34m,\u001b[0m\u001b[0;34m\u001b[0m\u001b[0;34m\u001b[0m\u001b[0m\n",
      "\u001b[0;32m~/opt/anaconda3/lib/python3.8/site-packages/pandas/core/ops/common.py\u001b[0m in \u001b[0;36mnew_method\u001b[0;34m(self, other)\u001b[0m\n\u001b[1;32m     63\u001b[0m         \u001b[0mother\u001b[0m \u001b[0;34m=\u001b[0m \u001b[0mitem_from_zerodim\u001b[0m\u001b[0;34m(\u001b[0m\u001b[0mother\u001b[0m\u001b[0;34m)\u001b[0m\u001b[0;34m\u001b[0m\u001b[0;34m\u001b[0m\u001b[0m\n\u001b[1;32m     64\u001b[0m \u001b[0;34m\u001b[0m\u001b[0m\n\u001b[0;32m---> 65\u001b[0;31m         \u001b[0;32mreturn\u001b[0m \u001b[0mmethod\u001b[0m\u001b[0;34m(\u001b[0m\u001b[0mself\u001b[0m\u001b[0;34m,\u001b[0m \u001b[0mother\u001b[0m\u001b[0;34m)\u001b[0m\u001b[0;34m\u001b[0m\u001b[0;34m\u001b[0m\u001b[0m\n\u001b[0m\u001b[1;32m     66\u001b[0m \u001b[0;34m\u001b[0m\u001b[0m\n\u001b[1;32m     67\u001b[0m     \u001b[0;32mreturn\u001b[0m \u001b[0mnew_method\u001b[0m\u001b[0;34m\u001b[0m\u001b[0;34m\u001b[0m\u001b[0m\n",
      "\u001b[0;32m~/opt/anaconda3/lib/python3.8/site-packages/pandas/core/arraylike.py\u001b[0m in \u001b[0;36m__lt__\u001b[0;34m(self, other)\u001b[0m\n\u001b[1;32m     35\u001b[0m     \u001b[0;34m@\u001b[0m\u001b[0munpack_zerodim_and_defer\u001b[0m\u001b[0;34m(\u001b[0m\u001b[0;34m\"__lt__\"\u001b[0m\u001b[0;34m)\u001b[0m\u001b[0;34m\u001b[0m\u001b[0;34m\u001b[0m\u001b[0m\n\u001b[1;32m     36\u001b[0m     \u001b[0;32mdef\u001b[0m \u001b[0m__lt__\u001b[0m\u001b[0;34m(\u001b[0m\u001b[0mself\u001b[0m\u001b[0;34m,\u001b[0m \u001b[0mother\u001b[0m\u001b[0;34m)\u001b[0m\u001b[0;34m:\u001b[0m\u001b[0;34m\u001b[0m\u001b[0;34m\u001b[0m\u001b[0m\n\u001b[0;32m---> 37\u001b[0;31m         \u001b[0;32mreturn\u001b[0m \u001b[0mself\u001b[0m\u001b[0;34m.\u001b[0m\u001b[0m_cmp_method\u001b[0m\u001b[0;34m(\u001b[0m\u001b[0mother\u001b[0m\u001b[0;34m,\u001b[0m \u001b[0moperator\u001b[0m\u001b[0;34m.\u001b[0m\u001b[0mlt\u001b[0m\u001b[0;34m)\u001b[0m\u001b[0;34m\u001b[0m\u001b[0;34m\u001b[0m\u001b[0m\n\u001b[0m\u001b[1;32m     38\u001b[0m \u001b[0;34m\u001b[0m\u001b[0m\n\u001b[1;32m     39\u001b[0m     \u001b[0;34m@\u001b[0m\u001b[0munpack_zerodim_and_defer\u001b[0m\u001b[0;34m(\u001b[0m\u001b[0;34m\"__le__\"\u001b[0m\u001b[0;34m)\u001b[0m\u001b[0;34m\u001b[0m\u001b[0;34m\u001b[0m\u001b[0m\n",
      "\u001b[0;32m~/opt/anaconda3/lib/python3.8/site-packages/pandas/core/frame.py\u001b[0m in \u001b[0;36m_cmp_method\u001b[0;34m(self, other, op)\u001b[0m\n\u001b[1;32m   5966\u001b[0m         \u001b[0maxis\u001b[0m \u001b[0;34m=\u001b[0m \u001b[0;36m1\u001b[0m  \u001b[0;31m# only relevant for Series other case\u001b[0m\u001b[0;34m\u001b[0m\u001b[0;34m\u001b[0m\u001b[0m\n\u001b[1;32m   5967\u001b[0m \u001b[0;34m\u001b[0m\u001b[0m\n\u001b[0;32m-> 5968\u001b[0;31m         \u001b[0mself\u001b[0m\u001b[0;34m,\u001b[0m \u001b[0mother\u001b[0m \u001b[0;34m=\u001b[0m \u001b[0mops\u001b[0m\u001b[0;34m.\u001b[0m\u001b[0malign_method_FRAME\u001b[0m\u001b[0;34m(\u001b[0m\u001b[0mself\u001b[0m\u001b[0;34m,\u001b[0m \u001b[0mother\u001b[0m\u001b[0;34m,\u001b[0m \u001b[0maxis\u001b[0m\u001b[0;34m,\u001b[0m \u001b[0mflex\u001b[0m\u001b[0;34m=\u001b[0m\u001b[0;32mFalse\u001b[0m\u001b[0;34m,\u001b[0m \u001b[0mlevel\u001b[0m\u001b[0;34m=\u001b[0m\u001b[0;32mNone\u001b[0m\u001b[0;34m)\u001b[0m\u001b[0;34m\u001b[0m\u001b[0;34m\u001b[0m\u001b[0m\n\u001b[0m\u001b[1;32m   5969\u001b[0m \u001b[0;34m\u001b[0m\u001b[0m\n\u001b[1;32m   5970\u001b[0m         \u001b[0;31m# See GH#4537 for discussion of scalar op behavior\u001b[0m\u001b[0;34m\u001b[0m\u001b[0;34m\u001b[0m\u001b[0;34m\u001b[0m\u001b[0m\n",
      "\u001b[0;32m~/opt/anaconda3/lib/python3.8/site-packages/pandas/core/ops/__init__.py\u001b[0m in \u001b[0;36malign_method_FRAME\u001b[0;34m(left, right, axis, flex, level)\u001b[0m\n\u001b[1;32m    285\u001b[0m                 )\n\u001b[1;32m    286\u001b[0m \u001b[0;34m\u001b[0m\u001b[0m\n\u001b[0;32m--> 287\u001b[0;31m         left, right = left.align(\n\u001b[0m\u001b[1;32m    288\u001b[0m             \u001b[0mright\u001b[0m\u001b[0;34m,\u001b[0m \u001b[0mjoin\u001b[0m\u001b[0;34m=\u001b[0m\u001b[0;34m\"outer\"\u001b[0m\u001b[0;34m,\u001b[0m \u001b[0maxis\u001b[0m\u001b[0;34m=\u001b[0m\u001b[0maxis\u001b[0m\u001b[0;34m,\u001b[0m \u001b[0mlevel\u001b[0m\u001b[0;34m=\u001b[0m\u001b[0mlevel\u001b[0m\u001b[0;34m,\u001b[0m \u001b[0mcopy\u001b[0m\u001b[0;34m=\u001b[0m\u001b[0;32mFalse\u001b[0m\u001b[0;34m\u001b[0m\u001b[0;34m\u001b[0m\u001b[0m\n\u001b[1;32m    289\u001b[0m         )\n",
      "\u001b[0;32m~/opt/anaconda3/lib/python3.8/site-packages/pandas/core/frame.py\u001b[0m in \u001b[0;36malign\u001b[0;34m(self, other, join, axis, level, copy, fill_value, method, limit, fill_axis, broadcast_axis)\u001b[0m\n\u001b[1;32m   4100\u001b[0m         \u001b[0mbroadcast_axis\u001b[0m\u001b[0;34m=\u001b[0m\u001b[0;32mNone\u001b[0m\u001b[0;34m,\u001b[0m\u001b[0;34m\u001b[0m\u001b[0;34m\u001b[0m\u001b[0m\n\u001b[1;32m   4101\u001b[0m     ) -> DataFrame:\n\u001b[0;32m-> 4102\u001b[0;31m         return super().align(\n\u001b[0m\u001b[1;32m   4103\u001b[0m             \u001b[0mother\u001b[0m\u001b[0;34m,\u001b[0m\u001b[0;34m\u001b[0m\u001b[0;34m\u001b[0m\u001b[0m\n\u001b[1;32m   4104\u001b[0m             \u001b[0mjoin\u001b[0m\u001b[0;34m=\u001b[0m\u001b[0mjoin\u001b[0m\u001b[0;34m,\u001b[0m\u001b[0;34m\u001b[0m\u001b[0;34m\u001b[0m\u001b[0m\n",
      "\u001b[0;32m~/opt/anaconda3/lib/python3.8/site-packages/pandas/core/generic.py\u001b[0m in \u001b[0;36malign\u001b[0;34m(self, other, join, axis, level, copy, fill_value, method, limit, fill_axis, broadcast_axis)\u001b[0m\n\u001b[1;32m   8823\u001b[0m             )\n\u001b[1;32m   8824\u001b[0m         \u001b[0;32melif\u001b[0m \u001b[0misinstance\u001b[0m\u001b[0;34m(\u001b[0m\u001b[0mother\u001b[0m\u001b[0;34m,\u001b[0m \u001b[0mABCSeries\u001b[0m\u001b[0;34m)\u001b[0m\u001b[0;34m:\u001b[0m\u001b[0;34m\u001b[0m\u001b[0;34m\u001b[0m\u001b[0m\n\u001b[0;32m-> 8825\u001b[0;31m             return self._align_series(\n\u001b[0m\u001b[1;32m   8826\u001b[0m                 \u001b[0mother\u001b[0m\u001b[0;34m,\u001b[0m\u001b[0;34m\u001b[0m\u001b[0;34m\u001b[0m\u001b[0m\n\u001b[1;32m   8827\u001b[0m                 \u001b[0mjoin\u001b[0m\u001b[0;34m=\u001b[0m\u001b[0mjoin\u001b[0m\u001b[0;34m,\u001b[0m\u001b[0;34m\u001b[0m\u001b[0;34m\u001b[0m\u001b[0m\n",
      "\u001b[0;32m~/opt/anaconda3/lib/python3.8/site-packages/pandas/core/generic.py\u001b[0m in \u001b[0;36m_align_series\u001b[0;34m(self, other, join, axis, level, copy, fill_value, method, limit, fill_axis)\u001b[0m\n\u001b[1;32m   8957\u001b[0m                 \u001b[0mlidx\u001b[0m\u001b[0;34m,\u001b[0m \u001b[0mridx\u001b[0m \u001b[0;34m=\u001b[0m \u001b[0;32mNone\u001b[0m\u001b[0;34m,\u001b[0m \u001b[0;32mNone\u001b[0m\u001b[0;34m\u001b[0m\u001b[0;34m\u001b[0m\u001b[0m\n\u001b[1;32m   8958\u001b[0m                 \u001b[0;32mif\u001b[0m \u001b[0;32mnot\u001b[0m \u001b[0mself\u001b[0m\u001b[0;34m.\u001b[0m\u001b[0mcolumns\u001b[0m\u001b[0;34m.\u001b[0m\u001b[0mequals\u001b[0m\u001b[0;34m(\u001b[0m\u001b[0mother\u001b[0m\u001b[0;34m.\u001b[0m\u001b[0mindex\u001b[0m\u001b[0;34m)\u001b[0m\u001b[0;34m:\u001b[0m\u001b[0;34m\u001b[0m\u001b[0;34m\u001b[0m\u001b[0m\n\u001b[0;32m-> 8959\u001b[0;31m                     join_index, lidx, ridx = self.columns.join(\n\u001b[0m\u001b[1;32m   8960\u001b[0m                         \u001b[0mother\u001b[0m\u001b[0;34m.\u001b[0m\u001b[0mindex\u001b[0m\u001b[0;34m,\u001b[0m \u001b[0mhow\u001b[0m\u001b[0;34m=\u001b[0m\u001b[0mjoin\u001b[0m\u001b[0;34m,\u001b[0m \u001b[0mlevel\u001b[0m\u001b[0;34m=\u001b[0m\u001b[0mlevel\u001b[0m\u001b[0;34m,\u001b[0m \u001b[0mreturn_indexers\u001b[0m\u001b[0;34m=\u001b[0m\u001b[0;32mTrue\u001b[0m\u001b[0;34m\u001b[0m\u001b[0;34m\u001b[0m\u001b[0m\n\u001b[1;32m   8961\u001b[0m                     )\n",
      "\u001b[0;32m~/opt/anaconda3/lib/python3.8/site-packages/pandas/core/indexes/base.py\u001b[0m in \u001b[0;36mjoin\u001b[0;34m(self, other, how, level, return_indexers, sort)\u001b[0m\n\u001b[1;32m   3656\u001b[0m         \u001b[0;32mif\u001b[0m \u001b[0mself\u001b[0m\u001b[0;34m.\u001b[0m\u001b[0m_join_precedence\u001b[0m \u001b[0;34m<\u001b[0m \u001b[0mother\u001b[0m\u001b[0;34m.\u001b[0m\u001b[0m_join_precedence\u001b[0m\u001b[0;34m:\u001b[0m\u001b[0;34m\u001b[0m\u001b[0;34m\u001b[0m\u001b[0m\n\u001b[1;32m   3657\u001b[0m             \u001b[0mhow\u001b[0m \u001b[0;34m=\u001b[0m \u001b[0;34m{\u001b[0m\u001b[0;34m\"right\"\u001b[0m\u001b[0;34m:\u001b[0m \u001b[0;34m\"left\"\u001b[0m\u001b[0;34m,\u001b[0m \u001b[0;34m\"left\"\u001b[0m\u001b[0;34m:\u001b[0m \u001b[0;34m\"right\"\u001b[0m\u001b[0;34m}\u001b[0m\u001b[0;34m.\u001b[0m\u001b[0mget\u001b[0m\u001b[0;34m(\u001b[0m\u001b[0mhow\u001b[0m\u001b[0;34m,\u001b[0m \u001b[0mhow\u001b[0m\u001b[0;34m)\u001b[0m\u001b[0;34m\u001b[0m\u001b[0;34m\u001b[0m\u001b[0m\n\u001b[0;32m-> 3658\u001b[0;31m             result = other.join(\n\u001b[0m\u001b[1;32m   3659\u001b[0m                 \u001b[0mself\u001b[0m\u001b[0;34m,\u001b[0m \u001b[0mhow\u001b[0m\u001b[0;34m=\u001b[0m\u001b[0mhow\u001b[0m\u001b[0;34m,\u001b[0m \u001b[0mlevel\u001b[0m\u001b[0;34m=\u001b[0m\u001b[0mlevel\u001b[0m\u001b[0;34m,\u001b[0m \u001b[0mreturn_indexers\u001b[0m\u001b[0;34m=\u001b[0m\u001b[0mreturn_indexers\u001b[0m\u001b[0;34m\u001b[0m\u001b[0;34m\u001b[0m\u001b[0m\n\u001b[1;32m   3660\u001b[0m             )\n",
      "\u001b[0;32m~/opt/anaconda3/lib/python3.8/site-packages/pandas/core/indexes/datetimelike.py\u001b[0m in \u001b[0;36mjoin\u001b[0;34m(self, other, how, level, return_indexers, sort)\u001b[0m\n\u001b[1;32m    892\u001b[0m \u001b[0;34m\u001b[0m\u001b[0m\n\u001b[1;32m    893\u001b[0m         \u001b[0mthis\u001b[0m\u001b[0;34m,\u001b[0m \u001b[0mother\u001b[0m \u001b[0;34m=\u001b[0m \u001b[0mself\u001b[0m\u001b[0;34m.\u001b[0m\u001b[0m_maybe_utc_convert\u001b[0m\u001b[0;34m(\u001b[0m\u001b[0mother\u001b[0m\u001b[0;34m)\u001b[0m\u001b[0;34m\u001b[0m\u001b[0;34m\u001b[0m\u001b[0m\n\u001b[0;32m--> 894\u001b[0;31m         return Index.join(\n\u001b[0m\u001b[1;32m    895\u001b[0m             \u001b[0mthis\u001b[0m\u001b[0;34m,\u001b[0m\u001b[0;34m\u001b[0m\u001b[0;34m\u001b[0m\u001b[0m\n\u001b[1;32m    896\u001b[0m             \u001b[0mother\u001b[0m\u001b[0;34m,\u001b[0m\u001b[0;34m\u001b[0m\u001b[0;34m\u001b[0m\u001b[0m\n",
      "\u001b[0;32m~/opt/anaconda3/lib/python3.8/site-packages/pandas/core/indexes/base.py\u001b[0m in \u001b[0;36mjoin\u001b[0;34m(self, other, how, level, return_indexers, sort)\u001b[0m\n\u001b[1;32m   3667\u001b[0m             \u001b[0mthis\u001b[0m \u001b[0;34m=\u001b[0m \u001b[0mself\u001b[0m\u001b[0;34m.\u001b[0m\u001b[0mastype\u001b[0m\u001b[0;34m(\u001b[0m\u001b[0;34m\"O\"\u001b[0m\u001b[0;34m)\u001b[0m\u001b[0;34m\u001b[0m\u001b[0;34m\u001b[0m\u001b[0m\n\u001b[1;32m   3668\u001b[0m             \u001b[0mother\u001b[0m \u001b[0;34m=\u001b[0m \u001b[0mother\u001b[0m\u001b[0;34m.\u001b[0m\u001b[0mastype\u001b[0m\u001b[0;34m(\u001b[0m\u001b[0;34m\"O\"\u001b[0m\u001b[0;34m)\u001b[0m\u001b[0;34m\u001b[0m\u001b[0;34m\u001b[0m\u001b[0m\n\u001b[0;32m-> 3669\u001b[0;31m             \u001b[0;32mreturn\u001b[0m \u001b[0mthis\u001b[0m\u001b[0;34m.\u001b[0m\u001b[0mjoin\u001b[0m\u001b[0;34m(\u001b[0m\u001b[0mother\u001b[0m\u001b[0;34m,\u001b[0m \u001b[0mhow\u001b[0m\u001b[0;34m=\u001b[0m\u001b[0mhow\u001b[0m\u001b[0;34m,\u001b[0m \u001b[0mreturn_indexers\u001b[0m\u001b[0;34m=\u001b[0m\u001b[0mreturn_indexers\u001b[0m\u001b[0;34m)\u001b[0m\u001b[0;34m\u001b[0m\u001b[0;34m\u001b[0m\u001b[0m\n\u001b[0m\u001b[1;32m   3670\u001b[0m \u001b[0;34m\u001b[0m\u001b[0m\n\u001b[1;32m   3671\u001b[0m         \u001b[0m_validate_join_method\u001b[0m\u001b[0;34m(\u001b[0m\u001b[0mhow\u001b[0m\u001b[0;34m)\u001b[0m\u001b[0;34m\u001b[0m\u001b[0;34m\u001b[0m\u001b[0m\n",
      "\u001b[0;32m~/opt/anaconda3/lib/python3.8/site-packages/pandas/core/indexes/base.py\u001b[0m in \u001b[0;36mjoin\u001b[0;34m(self, other, how, level, return_indexers, sort)\u001b[0m\n\u001b[1;32m   3677\u001b[0m         \u001b[0;32melif\u001b[0m \u001b[0;32mnot\u001b[0m \u001b[0mself\u001b[0m\u001b[0;34m.\u001b[0m\u001b[0mis_unique\u001b[0m \u001b[0;32mor\u001b[0m \u001b[0;32mnot\u001b[0m \u001b[0mother\u001b[0m\u001b[0;34m.\u001b[0m\u001b[0mis_unique\u001b[0m\u001b[0;34m:\u001b[0m\u001b[0;34m\u001b[0m\u001b[0;34m\u001b[0m\u001b[0m\n\u001b[1;32m   3678\u001b[0m             \u001b[0;32mif\u001b[0m \u001b[0mself\u001b[0m\u001b[0;34m.\u001b[0m\u001b[0mis_monotonic\u001b[0m \u001b[0;32mand\u001b[0m \u001b[0mother\u001b[0m\u001b[0;34m.\u001b[0m\u001b[0mis_monotonic\u001b[0m\u001b[0;34m:\u001b[0m\u001b[0;34m\u001b[0m\u001b[0;34m\u001b[0m\u001b[0m\n\u001b[0;32m-> 3679\u001b[0;31m                 return self._join_monotonic(\n\u001b[0m\u001b[1;32m   3680\u001b[0m                     \u001b[0mother\u001b[0m\u001b[0;34m,\u001b[0m \u001b[0mhow\u001b[0m\u001b[0;34m=\u001b[0m\u001b[0mhow\u001b[0m\u001b[0;34m,\u001b[0m \u001b[0mreturn_indexers\u001b[0m\u001b[0;34m=\u001b[0m\u001b[0mreturn_indexers\u001b[0m\u001b[0;34m\u001b[0m\u001b[0;34m\u001b[0m\u001b[0m\n\u001b[1;32m   3681\u001b[0m                 )\n",
      "\u001b[0;32m~/opt/anaconda3/lib/python3.8/site-packages/pandas/core/indexes/base.py\u001b[0m in \u001b[0;36m_join_monotonic\u001b[0;34m(self, other, how, return_indexers)\u001b[0m\n\u001b[1;32m   4012\u001b[0m                 \u001b[0mjoin_index\u001b[0m\u001b[0;34m,\u001b[0m \u001b[0mlidx\u001b[0m\u001b[0;34m,\u001b[0m \u001b[0mridx\u001b[0m \u001b[0;34m=\u001b[0m \u001b[0mself\u001b[0m\u001b[0;34m.\u001b[0m\u001b[0m_inner_indexer\u001b[0m\u001b[0;34m(\u001b[0m\u001b[0msv\u001b[0m\u001b[0;34m,\u001b[0m \u001b[0mov\u001b[0m\u001b[0;34m)\u001b[0m\u001b[0;34m\u001b[0m\u001b[0;34m\u001b[0m\u001b[0m\n\u001b[1;32m   4013\u001b[0m             \u001b[0;32melif\u001b[0m \u001b[0mhow\u001b[0m \u001b[0;34m==\u001b[0m \u001b[0;34m\"outer\"\u001b[0m\u001b[0;34m:\u001b[0m\u001b[0;34m\u001b[0m\u001b[0;34m\u001b[0m\u001b[0m\n\u001b[0;32m-> 4014\u001b[0;31m                 \u001b[0mjoin_index\u001b[0m\u001b[0;34m,\u001b[0m \u001b[0mlidx\u001b[0m\u001b[0;34m,\u001b[0m \u001b[0mridx\u001b[0m \u001b[0;34m=\u001b[0m \u001b[0mself\u001b[0m\u001b[0;34m.\u001b[0m\u001b[0m_outer_indexer\u001b[0m\u001b[0;34m(\u001b[0m\u001b[0msv\u001b[0m\u001b[0;34m,\u001b[0m \u001b[0mov\u001b[0m\u001b[0;34m)\u001b[0m\u001b[0;34m\u001b[0m\u001b[0;34m\u001b[0m\u001b[0m\n\u001b[0m\u001b[1;32m   4015\u001b[0m             \u001b[0mjoin_index\u001b[0m \u001b[0;34m=\u001b[0m \u001b[0mself\u001b[0m\u001b[0;34m.\u001b[0m\u001b[0m_wrap_joined_index\u001b[0m\u001b[0;34m(\u001b[0m\u001b[0mjoin_index\u001b[0m\u001b[0;34m,\u001b[0m \u001b[0mother\u001b[0m\u001b[0;34m)\u001b[0m\u001b[0;34m\u001b[0m\u001b[0;34m\u001b[0m\u001b[0m\n\u001b[1;32m   4016\u001b[0m \u001b[0;34m\u001b[0m\u001b[0m\n",
      "\u001b[0;32m~/opt/anaconda3/lib/python3.8/site-packages/pandas/core/indexes/base.py\u001b[0m in \u001b[0;36m_outer_indexer\u001b[0;34m(self, left, right)\u001b[0m\n\u001b[1;32m    217\u001b[0m \u001b[0;34m\u001b[0m\u001b[0m\n\u001b[1;32m    218\u001b[0m     \u001b[0;32mdef\u001b[0m \u001b[0m_outer_indexer\u001b[0m\u001b[0;34m(\u001b[0m\u001b[0mself\u001b[0m\u001b[0;34m,\u001b[0m \u001b[0mleft\u001b[0m\u001b[0;34m,\u001b[0m \u001b[0mright\u001b[0m\u001b[0;34m)\u001b[0m\u001b[0;34m:\u001b[0m\u001b[0;34m\u001b[0m\u001b[0;34m\u001b[0m\u001b[0m\n\u001b[0;32m--> 219\u001b[0;31m         \u001b[0;32mreturn\u001b[0m \u001b[0mlibjoin\u001b[0m\u001b[0;34m.\u001b[0m\u001b[0mouter_join_indexer\u001b[0m\u001b[0;34m(\u001b[0m\u001b[0mleft\u001b[0m\u001b[0;34m,\u001b[0m \u001b[0mright\u001b[0m\u001b[0;34m)\u001b[0m\u001b[0;34m\u001b[0m\u001b[0;34m\u001b[0m\u001b[0m\n\u001b[0m\u001b[1;32m    220\u001b[0m \u001b[0;34m\u001b[0m\u001b[0m\n\u001b[1;32m    221\u001b[0m     \u001b[0m_typ\u001b[0m \u001b[0;34m=\u001b[0m \u001b[0;34m\"index\"\u001b[0m\u001b[0;34m\u001b[0m\u001b[0;34m\u001b[0m\u001b[0m\n",
      "\u001b[0;32mpandas/_libs/join.pyx\u001b[0m in \u001b[0;36mpandas._libs.join.outer_join_indexer\u001b[0;34m()\u001b[0m\n",
      "\u001b[0;31mTypeError\u001b[0m: '<' not supported between instances of 'Timestamp' and 'str'"
     ]
    }
   ],
   "source": [
    " conditions = [ ghiFLAG[['GHIP_SI02pt100','GHIT_SMP22']].isna(), \n",
    "                    ghiFLAG[['GHIP_SI02pt100','GHIT_SMP22']]== -9999, \n",
    "                    ghiFLAG[['GHIP_SI02pt100','GHIT_SMP22']] < ghiFLAG['PPmin'],\n",
    "                   (ghiFLAG[['GHIP_SI02pt100','GHIT_SMP22']] > ghiFLAG['PPmin']) & (ghiFLAG[['GHIP_SI02pt100','GHIT_SMP22']]< ghiFLAG['ERmin']),\n",
    "                   (ghiFLAG[['GHIP_SI02pt100','GHIT_SMP22']] > ghiFLAG['ERmax']) & (ghiFLAG[['GHIP_SI02pt100','GHIT_SMP22']]< ghiFLAG['PPmax']),\n",
    "                    ghiFLAG[['GHIP_SI02pt100','GHIT_SMP22']] > ghiFLAG['PPmax']]"
   ]
  },
  {
   "cell_type": "code",
   "execution_count": 45,
   "id": "ffcd952f",
   "metadata": {},
   "outputs": [],
   "source": [
    " flags = [-1,\n",
    "          -1, \n",
    "           3,\n",
    "           1,\n",
    "           2,\n",
    "           4]"
   ]
  },
  {
   "cell_type": "code",
   "execution_count": 46,
   "id": "80f93602",
   "metadata": {},
   "outputs": [],
   "source": [
    "    ghiFLAG['F_GHIP_SI02pt100':] = np.select(conditions, flags, 0)"
   ]
  },
  {
   "cell_type": "code",
   "execution_count": 49,
   "id": "22dc9039",
   "metadata": {},
   "outputs": [
    {
     "data": {
      "image/png": "[encoded data removed]",
      "text/plain": [
       "<Figure size 432x288 with 1 Axes>"
      ]
     },
     "metadata": {
      "needs_background": "light"
     },
     "output_type": "display_data"
    }
   ],
   "source": [
    "howmany = ghiFLAG['F_GHIP_SI02pt100'].hist(bins = [-1,0,1,2,3,4])"
   ]
  },
  {
   "cell_type": "code",
   "execution_count": 43,
   "id": "6b9324e7",
   "metadata": {},
   "outputs": [
    {
     "data": {
      "text/plain": [
       "2021-01-01 00:00:00-03:00    False\n",
       "2021-01-01 00:00:01-03:00    False\n",
       "2021-01-01 00:00:02-03:00    False\n",
       "2021-01-01 00:00:03-03:00     True\n",
       "2021-01-01 00:00:04-03:00     True\n",
       "                             ...  \n",
       "2021-01-21 14:25:04-03:00    False\n",
       "2021-01-21 14:25:05-03:00    False\n",
       "2021-01-21 14:25:06-03:00    False\n",
       "2021-01-21 14:25:07-03:00    False\n",
       "2021-01-21 14:25:08-03:00    False\n",
       "Name: GHIP_SI02pt100, Length: 1779929, dtype: bool"
      ]
     },
     "execution_count": 43,
     "metadata": {},
     "output_type": "execute_result"
    }
   ],
   "source": [
    "ghiFLAG['GHIP_SI02pt100'].isna()"
   ]
  },
  {
   "cell_type": "code",
   "execution_count": 48,
   "id": "9bcf3c3b",
   "metadata": {},
   "outputs": [
    {
     "data": {
      "text/plain": [
       "2021-01-01 00:00:00-03:00    0\n",
       "2021-01-01 00:00:01-03:00    0\n",
       "2021-01-01 00:00:02-03:00    0\n",
       "2021-01-01 00:00:03-03:00   -1\n",
       "2021-01-01 00:00:04-03:00   -1\n",
       "2021-01-01 00:00:05-03:00    0\n",
       "2021-01-01 00:00:06-03:00    0\n",
       "2021-01-01 00:00:07-03:00    0\n",
       "2021-01-01 00:00:08-03:00    0\n",
       "2021-01-01 00:00:09-03:00    0\n",
       "Name: F_GHIP_SI02pt100, dtype: int64"
      ]
     },
     "execution_count": 48,
     "metadata": {},
     "output_type": "execute_result"
    }
   ],
   "source": [
    "ghiFLAG['F_GHIP_SI02pt100'].head(10)"
   ]
  },
  {
   "cell_type": "code",
   "execution_count": 51,
   "id": "3a56672c",
   "metadata": {},
   "outputs": [
    {
     "data": {
      "text/plain": [
       " 0    1610221\n",
       " 4     126191\n",
       " 2      43513\n",
       "-1          4\n",
       "Name: F_GHIP_SI02pt100, dtype: int64"
      ]
     },
     "execution_count": 51,
     "metadata": {},
     "output_type": "execute_result"
    }
   ],
   "source": [
    "ghiFLAG['F_GHIP_SI02pt100'].value_counts()"
   ]
  },
  {
   "cell_type": "code",
   "execution_count": 58,
   "id": "5105d107",
   "metadata": {},
   "outputs": [
    {
     "data": {
      "text/plain": [
       "<AxesSubplot:>"
      ]
     },
     "execution_count": 58,
     "metadata": {},
     "output_type": "execute_result"
    },
    {
     "data": {
      "image/png": "[encoded data removed]",
      "text/plain": [
       "<Figure size 432x288 with 1 Axes>"
      ]
     },
     "metadata": {
      "needs_background": "light"
     },
     "output_type": "display_data"
    }
   ],
   "source": [
    " ghiFLAG['PPmax'].loc['2021-01-02'].plot()"
   ]
  },
  {
   "cell_type": "code",
   "execution_count": 59,
   "id": "852200d9",
   "metadata": {
    "scrolled": true
   },
   "outputs": [
    {
     "data": {
      "text/plain": [
       "<AxesSubplot:>"
      ]
     },
     "execution_count": 59,
     "metadata": {},
     "output_type": "execute_result"
    },
    {
     "data": {
      "image/png": "[encoded data removed]",
      "text/plain": [
       "<Figure size 432x288 with 1 Axes>"
      ]
     },
     "metadata": {
      "needs_background": "light"
     },
     "output_type": "display_data"
    }
   ],
   "source": [
    " ghiFLAG['PPmax'].loc['2021-01-02 11:00:00-03:00':'2021-01-02 14:00:00-03:00'].plot()\n"
   ]
  },
  {
   "cell_type": "code",
   "execution_count": 62,
   "id": "e9a355c6",
   "metadata": {},
   "outputs": [
    {
     "data": {
      "text/plain": [
       "<AxesSubplot:>"
      ]
     },
     "execution_count": 62,
     "metadata": {},
     "output_type": "execute_result"
    },
    {
     "data": {
      "image/png": "[encoded data removed]",
      "text/plain": [
       "<Figure size 432x288 with 1 Axes>"
      ]
     },
     "metadata": {
      "needs_background": "light"
     },
     "output_type": "display_data"
    }
   ],
   "source": [
    " ghiFLAG['ERmax'].loc['2021-01-02 11:00:00-03:00':'2021-01-02 14:00:00-03:00'].plot()\n"
   ]
  },
  {
   "cell_type": "code",
   "execution_count": null,
   "id": "f0473c00",
   "metadata": {},
   "outputs": [],
   "source": []
  },
  {
   "cell_type": "code",
   "execution_count": null,
   "id": "34486a0f",
   "metadata": {},
   "outputs": [],
   "source": []
  },
  {
   "cell_type": "code",
   "execution_count": 67,
   "id": "e4c29bdf",
   "metadata": {},
   "outputs": [
    {
     "data": {
      "text/plain": [
       "<AxesSubplot:>"
      ]
     },
     "execution_count": 67,
     "metadata": {},
     "output_type": "execute_result"
    },
    {
     "data": {
      "image/png": "[encoded data removed]",
      "text/plain": [
       "<Figure size 432x288 with 1 Axes>"
      ]
     },
     "metadata": {
      "needs_background": "light"
     },
     "output_type": "display_data"
    }
   ],
   "source": [
    "ghiFLAG['GHIP_SI02pt100'].loc['2021-01-03 06:00:00-03:00':'2021-01-03 21:00:00-03:00'].plot()"
   ]
  },
  {
   "cell_type": "code",
   "execution_count": 61,
   "id": "8116fefe",
   "metadata": {},
   "outputs": [
    {
     "data": {
      "text/plain": [
       "<AxesSubplot:>"
      ]
     },
     "execution_count": 61,
     "metadata": {},
     "output_type": "execute_result"
    },
    {
     "data": {
      "image/png": "[encoded data removed]",
      "text/plain": [
       "<Figure size 432x288 with 1 Axes>"
      ]
     },
     "metadata": {
      "needs_background": "light"
     },
     "output_type": "display_data"
    }
   ],
   "source": [
    "ghiFLAG['F_GHIP_SI02pt100'].loc['2021-01-02 11:00:00-03:00':'2021-01-02 14:00:00-03:00'].plot()"
   ]
  },
  {
   "cell_type": "code",
   "execution_count": 72,
   "id": "1f2d366a",
   "metadata": {},
   "outputs": [
    {
     "data": {
      "text/html": [
       "<div>\n",
       "<style scoped>\n",
       "    .dataframe tbody tr th:only-of-type {\n",
       "        vertical-align: middle;\n",
       "    }\n",
       "\n",
       "    .dataframe tbody tr th {\n",
       "        vertical-align: top;\n",
       "    }\n",
       "\n",
       "    .dataframe thead th {\n",
       "        text-align: right;\n",
       "    }\n",
       "</style>\n",
       "<table border=\"1\" class=\"dataframe\">\n",
       "  <thead>\n",
       "    <tr style=\"text-align: right;\">\n",
       "      <th></th>\n",
       "      <th>GHIP_SI02pt100</th>\n",
       "      <th>GHIT_SMP22</th>\n",
       "    </tr>\n",
       "  </thead>\n",
       "  <tbody>\n",
       "    <tr>\n",
       "      <th>2021-01-01 00:00:00-03:00</th>\n",
       "      <td>0.0</td>\n",
       "      <td>-1.0</td>\n",
       "    </tr>\n",
       "    <tr>\n",
       "      <th>2021-01-01 00:00:01-03:00</th>\n",
       "      <td>0.0</td>\n",
       "      <td>-1.0</td>\n",
       "    </tr>\n",
       "    <tr>\n",
       "      <th>2021-01-01 00:00:02-03:00</th>\n",
       "      <td>0.0</td>\n",
       "      <td>-1.0</td>\n",
       "    </tr>\n",
       "    <tr>\n",
       "      <th>2021-01-01 00:00:03-03:00</th>\n",
       "      <td>NaN</td>\n",
       "      <td>NaN</td>\n",
       "    </tr>\n",
       "    <tr>\n",
       "      <th>2021-01-01 00:00:04-03:00</th>\n",
       "      <td>NaN</td>\n",
       "      <td>NaN</td>\n",
       "    </tr>\n",
       "    <tr>\n",
       "      <th>...</th>\n",
       "      <td>...</td>\n",
       "      <td>...</td>\n",
       "    </tr>\n",
       "    <tr>\n",
       "      <th>2021-01-21 14:25:04-03:00</th>\n",
       "      <td>180.1</td>\n",
       "      <td>142.0</td>\n",
       "    </tr>\n",
       "    <tr>\n",
       "      <th>2021-01-21 14:25:05-03:00</th>\n",
       "      <td>180.0</td>\n",
       "      <td>142.0</td>\n",
       "    </tr>\n",
       "    <tr>\n",
       "      <th>2021-01-21 14:25:06-03:00</th>\n",
       "      <td>179.9</td>\n",
       "      <td>142.0</td>\n",
       "    </tr>\n",
       "    <tr>\n",
       "      <th>2021-01-21 14:25:07-03:00</th>\n",
       "      <td>179.7</td>\n",
       "      <td>142.0</td>\n",
       "    </tr>\n",
       "    <tr>\n",
       "      <th>2021-01-21 14:25:08-03:00</th>\n",
       "      <td>179.6</td>\n",
       "      <td>142.0</td>\n",
       "    </tr>\n",
       "  </tbody>\n",
       "</table>\n",
       "<p>1779929 rows × 2 columns</p>\n",
       "</div>"
      ],
      "text/plain": [
       "                           GHIP_SI02pt100  GHIT_SMP22\n",
       "2021-01-01 00:00:00-03:00             0.0        -1.0\n",
       "2021-01-01 00:00:01-03:00             0.0        -1.0\n",
       "2021-01-01 00:00:02-03:00             0.0        -1.0\n",
       "2021-01-01 00:00:03-03:00             NaN         NaN\n",
       "2021-01-01 00:00:04-03:00             NaN         NaN\n",
       "...                                   ...         ...\n",
       "2021-01-21 14:25:04-03:00           180.1       142.0\n",
       "2021-01-21 14:25:05-03:00           180.0       142.0\n",
       "2021-01-21 14:25:06-03:00           179.9       142.0\n",
       "2021-01-21 14:25:07-03:00           179.7       142.0\n",
       "2021-01-21 14:25:08-03:00           179.6       142.0\n",
       "\n",
       "[1779929 rows x 2 columns]"
      ]
     },
     "execution_count": 72,
     "metadata": {},
     "output_type": "execute_result"
    }
   ],
   "source": [
    "ghiFLAG[['GHIP_SI02pt100','GHIT_SMP22']]"
   ]
  },
  {
   "cell_type": "code",
   "execution_count": 74,
   "id": "a747264b",
   "metadata": {},
   "outputs": [],
   "source": [
    "ghi =  ['GHIP_SI02pt100',\n",
    "        'GHIP_SMP11',\n",
    "        'GHIP_SMP22',\n",
    "        'GHIP_SPN1',\n",
    "        'GHIT_SMP22']"
   ]
  },
  {
   "cell_type": "code",
   "execution_count": 76,
   "id": "2b300f74",
   "metadata": {},
   "outputs": [],
   "source": [
    "            flagcolumn = 'F_'+ ghi[1]\n"
   ]
  },
  {
   "cell_type": "code",
   "execution_count": 77,
   "id": "f6a0c185",
   "metadata": {},
   "outputs": [
    {
     "data": {
      "text/plain": [
       "'F_GHIP_SMP11'"
      ]
     },
     "execution_count": 77,
     "metadata": {},
     "output_type": "execute_result"
    }
   ],
   "source": [
    "flagcolumn"
   ]
  },
  {
   "cell_type": "code",
   "execution_count": 78,
   "id": "c74f13d9",
   "metadata": {},
   "outputs": [],
   "source": [
    " for column in ghi:\n",
    "            conditions = [ ghiFLAG[column].isna(), \n",
    "            ghiFLAG[column]== -9999, \n",
    "            ghiFLAG[column] < ghiFLAG['PPmin'],\n",
    "            (ghiFLAG[column] > ghiFLAG['PPmin']) & (ghiFLAG[column]< ghiFLAG['ERmin']),\n",
    "            (ghiFLAG[column] > ghiFLAG['ERmax']) & (ghiFLAG[column]< ghiFLAG['PPmax']),\n",
    "            ghiFLAG[column] > ghiFLAG['PPmax']]\n",
    "\n",
    "            flagcolumn = 'F_'+column\n",
    "\n",
    "            ghiFLAG[flagcolumn] = np.select(conditions, flags, 0)"
   ]
  },
  {
   "cell_type": "code",
   "execution_count": 79,
   "id": "8cc85e09",
   "metadata": {
    "scrolled": true
   },
   "outputs": [
    {
     "data": {
      "text/html": [
       "<div>\n",
       "<style scoped>\n",
       "    .dataframe tbody tr th:only-of-type {\n",
       "        vertical-align: middle;\n",
       "    }\n",
       "\n",
       "    .dataframe tbody tr th {\n",
       "        vertical-align: top;\n",
       "    }\n",
       "\n",
       "    .dataframe thead th {\n",
       "        text-align: right;\n",
       "    }\n",
       "</style>\n",
       "<table border=\"1\" class=\"dataframe\">\n",
       "  <thead>\n",
       "    <tr style=\"text-align: right;\">\n",
       "      <th></th>\n",
       "      <th>PPmax</th>\n",
       "      <th>PPmin</th>\n",
       "      <th>ERmax</th>\n",
       "      <th>ERmin</th>\n",
       "      <th>F_GHIP_SI02pt100</th>\n",
       "      <th>F_GHIP_SMP11</th>\n",
       "      <th>F_GHIP_SMP22</th>\n",
       "      <th>F_GHIP_SPN1</th>\n",
       "      <th>F_GHIT_SMP22</th>\n",
       "      <th>GHIP_SI02pt100</th>\n",
       "      <th>GHIP_SMP11</th>\n",
       "      <th>GHIP_SMP22</th>\n",
       "      <th>GHIP_SPN1</th>\n",
       "      <th>GHIT_SMP22</th>\n",
       "    </tr>\n",
       "  </thead>\n",
       "  <tbody>\n",
       "    <tr>\n",
       "      <th>2021-01-01 00:00:00-03:00</th>\n",
       "      <td>NaN</td>\n",
       "      <td>-4</td>\n",
       "      <td>NaN</td>\n",
       "      <td>-2</td>\n",
       "      <td>0</td>\n",
       "      <td>3</td>\n",
       "      <td>0</td>\n",
       "      <td>0</td>\n",
       "      <td>0</td>\n",
       "      <td>0.0</td>\n",
       "      <td>-4.8</td>\n",
       "      <td>0.6</td>\n",
       "      <td>2.284</td>\n",
       "      <td>-1.0</td>\n",
       "    </tr>\n",
       "    <tr>\n",
       "      <th>2021-01-01 00:00:01-03:00</th>\n",
       "      <td>NaN</td>\n",
       "      <td>-4</td>\n",
       "      <td>NaN</td>\n",
       "      <td>-2</td>\n",
       "      <td>0</td>\n",
       "      <td>3</td>\n",
       "      <td>0</td>\n",
       "      <td>0</td>\n",
       "      <td>0</td>\n",
       "      <td>0.0</td>\n",
       "      <td>-4.8</td>\n",
       "      <td>0.6</td>\n",
       "      <td>2.260</td>\n",
       "      <td>-1.0</td>\n",
       "    </tr>\n",
       "    <tr>\n",
       "      <th>2021-01-01 00:00:02-03:00</th>\n",
       "      <td>NaN</td>\n",
       "      <td>-4</td>\n",
       "      <td>NaN</td>\n",
       "      <td>-2</td>\n",
       "      <td>0</td>\n",
       "      <td>3</td>\n",
       "      <td>0</td>\n",
       "      <td>0</td>\n",
       "      <td>0</td>\n",
       "      <td>0.0</td>\n",
       "      <td>-4.8</td>\n",
       "      <td>0.6</td>\n",
       "      <td>2.775</td>\n",
       "      <td>-1.0</td>\n",
       "    </tr>\n",
       "    <tr>\n",
       "      <th>2021-01-01 00:00:03-03:00</th>\n",
       "      <td>NaN</td>\n",
       "      <td>-4</td>\n",
       "      <td>NaN</td>\n",
       "      <td>-2</td>\n",
       "      <td>-1</td>\n",
       "      <td>-1</td>\n",
       "      <td>-1</td>\n",
       "      <td>-1</td>\n",
       "      <td>-1</td>\n",
       "      <td>NaN</td>\n",
       "      <td>NaN</td>\n",
       "      <td>NaN</td>\n",
       "      <td>NaN</td>\n",
       "      <td>NaN</td>\n",
       "    </tr>\n",
       "    <tr>\n",
       "      <th>2021-01-01 00:00:04-03:00</th>\n",
       "      <td>NaN</td>\n",
       "      <td>-4</td>\n",
       "      <td>NaN</td>\n",
       "      <td>-2</td>\n",
       "      <td>-1</td>\n",
       "      <td>-1</td>\n",
       "      <td>-1</td>\n",
       "      <td>-1</td>\n",
       "      <td>-1</td>\n",
       "      <td>NaN</td>\n",
       "      <td>NaN</td>\n",
       "      <td>NaN</td>\n",
       "      <td>NaN</td>\n",
       "      <td>NaN</td>\n",
       "    </tr>\n",
       "    <tr>\n",
       "      <th>...</th>\n",
       "      <td>...</td>\n",
       "      <td>...</td>\n",
       "      <td>...</td>\n",
       "      <td>...</td>\n",
       "      <td>...</td>\n",
       "      <td>...</td>\n",
       "      <td>...</td>\n",
       "      <td>...</td>\n",
       "      <td>...</td>\n",
       "      <td>...</td>\n",
       "      <td>...</td>\n",
       "      <td>...</td>\n",
       "      <td>...</td>\n",
       "      <td>...</td>\n",
       "    </tr>\n",
       "    <tr>\n",
       "      <th>2021-01-21 14:25:04-03:00</th>\n",
       "      <td>333.671023</td>\n",
       "      <td>-4</td>\n",
       "      <td>236.936818</td>\n",
       "      <td>-2</td>\n",
       "      <td>0</td>\n",
       "      <td>0</td>\n",
       "      <td>0</td>\n",
       "      <td>0</td>\n",
       "      <td>0</td>\n",
       "      <td>180.1</td>\n",
       "      <td>166.1</td>\n",
       "      <td>171.9</td>\n",
       "      <td>177.000</td>\n",
       "      <td>142.0</td>\n",
       "    </tr>\n",
       "    <tr>\n",
       "      <th>2021-01-21 14:25:05-03:00</th>\n",
       "      <td>333.580050</td>\n",
       "      <td>-4</td>\n",
       "      <td>236.864040</td>\n",
       "      <td>-2</td>\n",
       "      <td>0</td>\n",
       "      <td>0</td>\n",
       "      <td>0</td>\n",
       "      <td>0</td>\n",
       "      <td>0</td>\n",
       "      <td>180.0</td>\n",
       "      <td>166.0</td>\n",
       "      <td>171.8</td>\n",
       "      <td>176.900</td>\n",
       "      <td>142.0</td>\n",
       "    </tr>\n",
       "    <tr>\n",
       "      <th>2021-01-21 14:25:06-03:00</th>\n",
       "      <td>333.489101</td>\n",
       "      <td>-4</td>\n",
       "      <td>236.791281</td>\n",
       "      <td>-2</td>\n",
       "      <td>0</td>\n",
       "      <td>0</td>\n",
       "      <td>0</td>\n",
       "      <td>0</td>\n",
       "      <td>0</td>\n",
       "      <td>179.9</td>\n",
       "      <td>165.9</td>\n",
       "      <td>171.6</td>\n",
       "      <td>176.400</td>\n",
       "      <td>142.0</td>\n",
       "    </tr>\n",
       "    <tr>\n",
       "      <th>2021-01-21 14:25:07-03:00</th>\n",
       "      <td>333.398174</td>\n",
       "      <td>-4</td>\n",
       "      <td>236.718539</td>\n",
       "      <td>-2</td>\n",
       "      <td>0</td>\n",
       "      <td>0</td>\n",
       "      <td>0</td>\n",
       "      <td>0</td>\n",
       "      <td>0</td>\n",
       "      <td>179.7</td>\n",
       "      <td>165.8</td>\n",
       "      <td>171.5</td>\n",
       "      <td>177.300</td>\n",
       "      <td>142.0</td>\n",
       "    </tr>\n",
       "    <tr>\n",
       "      <th>2021-01-21 14:25:08-03:00</th>\n",
       "      <td>333.307267</td>\n",
       "      <td>-4</td>\n",
       "      <td>236.645813</td>\n",
       "      <td>-2</td>\n",
       "      <td>0</td>\n",
       "      <td>0</td>\n",
       "      <td>0</td>\n",
       "      <td>0</td>\n",
       "      <td>0</td>\n",
       "      <td>179.6</td>\n",
       "      <td>165.7</td>\n",
       "      <td>171.4</td>\n",
       "      <td>174.400</td>\n",
       "      <td>142.0</td>\n",
       "    </tr>\n",
       "  </tbody>\n",
       "</table>\n",
       "<p>1779929 rows × 14 columns</p>\n",
       "</div>"
      ],
      "text/plain": [
       "                                PPmax  PPmin       ERmax  ERmin  \\\n",
       "2021-01-01 00:00:00-03:00         NaN     -4         NaN     -2   \n",
       "2021-01-01 00:00:01-03:00         NaN     -4         NaN     -2   \n",
       "2021-01-01 00:00:02-03:00         NaN     -4         NaN     -2   \n",
       "2021-01-01 00:00:03-03:00         NaN     -4         NaN     -2   \n",
       "2021-01-01 00:00:04-03:00         NaN     -4         NaN     -2   \n",
       "...                               ...    ...         ...    ...   \n",
       "2021-01-21 14:25:04-03:00  333.671023     -4  236.936818     -2   \n",
       "2021-01-21 14:25:05-03:00  333.580050     -4  236.864040     -2   \n",
       "2021-01-21 14:25:06-03:00  333.489101     -4  236.791281     -2   \n",
       "2021-01-21 14:25:07-03:00  333.398174     -4  236.718539     -2   \n",
       "2021-01-21 14:25:08-03:00  333.307267     -4  236.645813     -2   \n",
       "\n",
       "                           F_GHIP_SI02pt100  F_GHIP_SMP11  F_GHIP_SMP22  \\\n",
       "2021-01-01 00:00:00-03:00                 0             3             0   \n",
       "2021-01-01 00:00:01-03:00                 0             3             0   \n",
       "2021-01-01 00:00:02-03:00                 0             3             0   \n",
       "2021-01-01 00:00:03-03:00                -1            -1            -1   \n",
       "2021-01-01 00:00:04-03:00                -1            -1            -1   \n",
       "...                                     ...           ...           ...   \n",
       "2021-01-21 14:25:04-03:00                 0             0             0   \n",
       "2021-01-21 14:25:05-03:00                 0             0             0   \n",
       "2021-01-21 14:25:06-03:00                 0             0             0   \n",
       "2021-01-21 14:25:07-03:00                 0             0             0   \n",
       "2021-01-21 14:25:08-03:00                 0             0             0   \n",
       "\n",
       "                           F_GHIP_SPN1  F_GHIT_SMP22  GHIP_SI02pt100  \\\n",
       "2021-01-01 00:00:00-03:00            0             0             0.0   \n",
       "2021-01-01 00:00:01-03:00            0             0             0.0   \n",
       "2021-01-01 00:00:02-03:00            0             0             0.0   \n",
       "2021-01-01 00:00:03-03:00           -1            -1             NaN   \n",
       "2021-01-01 00:00:04-03:00           -1            -1             NaN   \n",
       "...                                ...           ...             ...   \n",
       "2021-01-21 14:25:04-03:00            0             0           180.1   \n",
       "2021-01-21 14:25:05-03:00            0             0           180.0   \n",
       "2021-01-21 14:25:06-03:00            0             0           179.9   \n",
       "2021-01-21 14:25:07-03:00            0             0           179.7   \n",
       "2021-01-21 14:25:08-03:00            0             0           179.6   \n",
       "\n",
       "                           GHIP_SMP11  GHIP_SMP22  GHIP_SPN1  GHIT_SMP22  \n",
       "2021-01-01 00:00:00-03:00        -4.8         0.6      2.284        -1.0  \n",
       "2021-01-01 00:00:01-03:00        -4.8         0.6      2.260        -1.0  \n",
       "2021-01-01 00:00:02-03:00        -4.8         0.6      2.775        -1.0  \n",
       "2021-01-01 00:00:03-03:00         NaN         NaN        NaN         NaN  \n",
       "2021-01-01 00:00:04-03:00         NaN         NaN        NaN         NaN  \n",
       "...                               ...         ...        ...         ...  \n",
       "2021-01-21 14:25:04-03:00       166.1       171.9    177.000       142.0  \n",
       "2021-01-21 14:25:05-03:00       166.0       171.8    176.900       142.0  \n",
       "2021-01-21 14:25:06-03:00       165.9       171.6    176.400       142.0  \n",
       "2021-01-21 14:25:07-03:00       165.8       171.5    177.300       142.0  \n",
       "2021-01-21 14:25:08-03:00       165.7       171.4    174.400       142.0  \n",
       "\n",
       "[1779929 rows x 14 columns]"
      ]
     },
     "execution_count": 79,
     "metadata": {},
     "output_type": "execute_result"
    }
   ],
   "source": [
    "ghiFLAG"
   ]
  },
  {
   "cell_type": "code",
   "execution_count": 80,
   "id": "d5418a61",
   "metadata": {},
   "outputs": [
    {
     "data": {
      "text/plain": [
       " 0    1610221\n",
       " 4     126191\n",
       " 2      43513\n",
       "-1          4\n",
       "Name: F_GHIP_SI02pt100, dtype: int64"
      ]
     },
     "execution_count": 80,
     "metadata": {},
     "output_type": "execute_result"
    }
   ],
   "source": [
    "ghiFLAG['F_GHIP_SI02pt100'].value_counts()"
   ]
  },
  {
   "cell_type": "code",
   "execution_count": 81,
   "id": "02fe9830",
   "metadata": {},
   "outputs": [
    {
     "data": {
      "text/plain": [
       " 0    842541\n",
       " 3    638487\n",
       " 1    129640\n",
       " 4    129262\n",
       " 2     39995\n",
       "-1         4\n",
       "Name: F_GHIP_SMP11, dtype: int64"
      ]
     },
     "execution_count": 81,
     "metadata": {},
     "output_type": "execute_result"
    }
   ],
   "source": [
    "ghiFLAG['F_GHIP_SMP11'].value_counts()"
   ]
  },
  {
   "cell_type": "code",
   "execution_count": 82,
   "id": "86611e93",
   "metadata": {},
   "outputs": [
    {
     "data": {
      "text/plain": [
       " 0    842541\n",
       " 3    638487\n",
       " 1    129640\n",
       " 4    129262\n",
       " 2     39995\n",
       "-1         4\n",
       "Name: F_GHIP_SMP11, dtype: int64"
      ]
     },
     "execution_count": 82,
     "metadata": {},
     "output_type": "execute_result"
    }
   ],
   "source": [
    "ghiFLAG['F_GHIP_SMP11'].value_counts()"
   ]
  },
  {
   "cell_type": "code",
   "execution_count": 83,
   "id": "7015575f",
   "metadata": {},
   "outputs": [
    {
     "data": {
      "text/plain": [
       " 0    1606396\n",
       " 4     130866\n",
       " 2      42663\n",
       "-1          4\n",
       "Name: F_GHIP_SMP22, dtype: int64"
      ]
     },
     "execution_count": 83,
     "metadata": {},
     "output_type": "execute_result"
    }
   ],
   "source": [
    " ghiFLAG['F_GHIP_SMP22'].value_counts()"
   ]
  },
  {
   "cell_type": "code",
   "execution_count": 92,
   "id": "f88e492f",
   "metadata": {},
   "outputs": [],
   "source": [
    "b= ghiFLAG['F_GHIP_SPN1'].value_counts()"
   ]
  },
  {
   "cell_type": "code",
   "execution_count": 87,
   "id": "366f65dd",
   "metadata": {},
   "outputs": [],
   "source": [
    "a = ghiFLAG['F_GHIT_SMP22'].value_counts()"
   ]
  },
  {
   "cell_type": "code",
   "execution_count": 88,
   "id": "68728cc3",
   "metadata": {},
   "outputs": [
    {
     "data": {
      "text/plain": [
       " 0    1594507\n",
       " 4      54617\n",
       " 1      54427\n",
       " 2      41080\n",
       " 3      35294\n",
       "-1          4\n",
       "Name: F_GHIT_SMP22, dtype: int64"
      ]
     },
     "execution_count": 88,
     "metadata": {},
     "output_type": "execute_result"
    }
   ],
   "source": [
    "a"
   ]
  },
  {
   "cell_type": "code",
   "execution_count": 90,
   "id": "f925cf24",
   "metadata": {},
   "outputs": [],
   "source": [
    "ghiflagcount['GHIT_SMP22'] = a"
   ]
  },
  {
   "cell_type": "code",
   "execution_count": 93,
   "id": "337da7f9",
   "metadata": {},
   "outputs": [],
   "source": [
    "ghiflagcount['GHIP_SPN1']= b"
   ]
  },
  {
   "cell_type": "code",
   "execution_count": null,
   "id": "3699e270",
   "metadata": {},
   "outputs": [],
   "source": []
  },
  {
   "cell_type": "code",
   "execution_count": null,
   "id": "9c4e3e26",
   "metadata": {},
   "outputs": [],
   "source": []
  },
  {
   "cell_type": "code",
   "execution_count": null,
   "id": "567a89d5",
   "metadata": {},
   "outputs": [],
   "source": []
  },
  {
   "cell_type": "code",
   "execution_count": 85,
   "id": "3e0a52ba",
   "metadata": {},
   "outputs": [
    {
     "data": {
      "text/plain": [
       " 0    1594507\n",
       " 4      54617\n",
       " 1      54427\n",
       " 2      41080\n",
       " 3      35294\n",
       "-1          4\n",
       "Name: F_GHIT_SMP22, dtype: int64"
      ]
     },
     "execution_count": 85,
     "metadata": {},
     "output_type": "execute_result"
    }
   ],
   "source": [
    "ghiFLAG['F_GHIT_SMP22'].value_counts()"
   ]
  },
  {
   "cell_type": "code",
   "execution_count": 85,
   "id": "11fb3742",
   "metadata": {},
   "outputs": [
    {
     "data": {
      "text/plain": [
       " 0    1594507\n",
       " 4      54617\n",
       " 1      54427\n",
       " 2      41080\n",
       " 3      35294\n",
       "-1          4\n",
       "Name: F_GHIT_SMP22, dtype: int64"
      ]
     },
     "execution_count": 85,
     "metadata": {},
     "output_type": "execute_result"
    }
   ],
   "source": [
    "ghiFLAG['F_GHIT_SMP22'].value_counts()"
   ]
  },
  {
   "cell_type": "code",
   "execution_count": 85,
   "id": "dedfa542",
   "metadata": {},
   "outputs": [
    {
     "data": {
      "text/plain": [
       " 0    1594507\n",
       " 4      54617\n",
       " 1      54427\n",
       " 2      41080\n",
       " 3      35294\n",
       "-1          4\n",
       "Name: F_GHIT_SMP22, dtype: int64"
      ]
     },
     "execution_count": 85,
     "metadata": {},
     "output_type": "execute_result"
    }
   ],
   "source": [
    "ghiFLAG['F_GHIT_SMP22'].value_counts()"
   ]
  },
  {
   "cell_type": "code",
   "execution_count": 95,
   "id": "0c9f2a06",
   "metadata": {},
   "outputs": [
    {
     "data": {
      "text/plain": [
       "GHIP_SI02pt100     object\n",
       "GHIP_SMP11         object\n",
       "GHIP_SMP22         object\n",
       "GHIP_SPN1         float64\n",
       "GHIT_SMP22          int64\n",
       "dtype: object"
      ]
     },
     "execution_count": 95,
     "metadata": {},
     "output_type": "execute_result"
    }
   ],
   "source": [
    "ghiflagcount.dtypes\n"
   ]
  },
  {
   "cell_type": "code",
   "execution_count": 96,
   "id": "46d73950",
   "metadata": {},
   "outputs": [
    {
     "data": {
      "text/plain": [
       "PPmax               float64\n",
       "PPmin                 int64\n",
       "ERmax               float64\n",
       "ERmin                 int64\n",
       "F_GHIP_SI02pt100      int64\n",
       "F_GHIP_SMP11          int64\n",
       "F_GHIP_SMP22          int64\n",
       "F_GHIP_SPN1           int64\n",
       "F_GHIT_SMP22          int64\n",
       "GHIP_SI02pt100      float64\n",
       "GHIP_SMP11          float64\n",
       "GHIP_SMP22          float64\n",
       "GHIP_SPN1           float64\n",
       "GHIT_SMP22          float64\n",
       "dtype: object"
      ]
     },
     "execution_count": 96,
     "metadata": {},
     "output_type": "execute_result"
    }
   ],
   "source": [
    "ghiFLAG.dtypes"
   ]
  },
  {
   "cell_type": "code",
   "execution_count": null,
   "id": "4a9aa46c",
   "metadata": {},
   "outputs": [],
   "source": []
  },
  {
   "cell_type": "code",
   "execution_count": null,
   "id": "dad1f268",
   "metadata": {},
   "outputs": [],
   "source": []
  },
  {
   "cell_type": "code",
   "execution_count": 86,
   "id": "ba294ef9",
   "metadata": {},
   "outputs": [],
   "source": [
    "ghiflagcount = pd.DataFrame(columns= [ghi], index = [-1, 0, 1, 2, 3, 4]) \n"
   ]
  },
  {
   "cell_type": "code",
   "execution_count": null,
   "id": "a04ee3d8",
   "metadata": {},
   "outputs": [],
   "source": []
  },
  {
   "cell_type": "code",
   "execution_count": null,
   "id": "6d2d4380",
   "metadata": {},
   "outputs": [],
   "source": []
  },
  {
   "cell_type": "code",
   "execution_count": null,
   "id": "3d4aa621",
   "metadata": {},
   "outputs": [],
   "source": []
  },
  {
   "cell_type": "code",
   "execution_count": null,
   "id": "a2bc252e",
   "metadata": {},
   "outputs": [],
   "source": []
  },
  {
   "cell_type": "code",
   "execution_count": null,
   "id": "b7738b7b",
   "metadata": {},
   "outputs": [],
   "source": []
  },
  {
   "cell_type": "code",
   "execution_count": null,
   "id": "ba9b5ddd",
   "metadata": {},
   "outputs": [],
   "source": []
  },
  {
   "cell_type": "code",
   "execution_count": null,
   "id": "e3b8db86",
   "metadata": {},
   "outputs": [],
   "source": []
  },
  {
   "cell_type": "code",
   "execution_count": null,
   "id": "91009e7e",
   "metadata": {},
   "outputs": [],
   "source": []
  },
  {
   "cell_type": "code",
   "execution_count": null,
   "id": "82a83dbc",
   "metadata": {},
   "outputs": [],
   "source": []
  },
  {
   "cell_type": "code",
   "execution_count": null,
   "id": "e3faeb02",
   "metadata": {},
   "outputs": [],
   "source": []
  },
  {
   "cell_type": "code",
   "execution_count": null,
   "id": "f689dabc",
   "metadata": {},
   "outputs": [],
   "source": []
  }
 ],
 "metadata": {
  "kernelspec": {
   "display_name": "Python 3",
   "language": "python",
   "name": "python3"
  },
  "language_info": {
   "codemirror_mode": {
    "name": "ipython",
    "version": 3
   },
   "file_extension": ".py",
   "mimetype": "text/x-python",
   "name": "python",
   "nbconvert_exporter": "python",
   "pygments_lexer": "ipython3",
   "version": "3.8.8"
  }
 },
 "nbformat": 4,
 "nbformat_minor": 5
}
